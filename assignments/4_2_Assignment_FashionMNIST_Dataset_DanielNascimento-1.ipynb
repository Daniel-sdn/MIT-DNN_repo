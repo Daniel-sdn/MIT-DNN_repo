{
  "nbformat": 4,
  "nbformat_minor": 0,
  "metadata": {
    "colab": {
      "provenance": []
    },
    "kernelspec": {
      "name": "python3",
      "display_name": "Python 3"
    },
    "accelerator": "GPU",
    "widgets": {
      "application/vnd.jupyter.widget-state+json": {
        "3a0b504978fc4de288d291baecb37022": {
          "model_module": "@jupyter-widgets/controls",
          "model_name": "HBoxModel",
          "model_module_version": "1.5.0",
          "state": {
            "_dom_classes": [],
            "_model_module": "@jupyter-widgets/controls",
            "_model_module_version": "1.5.0",
            "_model_name": "HBoxModel",
            "_view_count": null,
            "_view_module": "@jupyter-widgets/controls",
            "_view_module_version": "1.5.0",
            "_view_name": "HBoxView",
            "box_style": "",
            "children": [
              "IPY_MODEL_ec0b76cc56cf4711a0650b21ad6f701e",
              "IPY_MODEL_b0727c1a2b564048be21264130ad8254",
              "IPY_MODEL_891c46179a4143aebfedfca49e92bf66"
            ],
            "layout": "IPY_MODEL_a6f435a20b4b404bb7d91e0ae178472f"
          }
        },
        "ec0b76cc56cf4711a0650b21ad6f701e": {
          "model_module": "@jupyter-widgets/controls",
          "model_name": "HTMLModel",
          "model_module_version": "1.5.0",
          "state": {
            "_dom_classes": [],
            "_model_module": "@jupyter-widgets/controls",
            "_model_module_version": "1.5.0",
            "_model_name": "HTMLModel",
            "_view_count": null,
            "_view_module": "@jupyter-widgets/controls",
            "_view_module_version": "1.5.0",
            "_view_name": "HTMLView",
            "description": "",
            "description_tooltip": null,
            "layout": "IPY_MODEL_dcf38331e76145d5835d3c5d928cbfa1",
            "placeholder": "​",
            "style": "IPY_MODEL_7cd5478cf869420098799c93eb4f397a",
            "value": "100%"
          }
        },
        "b0727c1a2b564048be21264130ad8254": {
          "model_module": "@jupyter-widgets/controls",
          "model_name": "FloatProgressModel",
          "model_module_version": "1.5.0",
          "state": {
            "_dom_classes": [],
            "_model_module": "@jupyter-widgets/controls",
            "_model_module_version": "1.5.0",
            "_model_name": "FloatProgressModel",
            "_view_count": null,
            "_view_module": "@jupyter-widgets/controls",
            "_view_module_version": "1.5.0",
            "_view_name": "ProgressView",
            "bar_style": "success",
            "description": "",
            "description_tooltip": null,
            "layout": "IPY_MODEL_32be8b3843ed4aba8ce837f6715b8c4a",
            "max": 26421880,
            "min": 0,
            "orientation": "horizontal",
            "style": "IPY_MODEL_504c0e738e84455288f1b682e096d2c9",
            "value": 26421880
          }
        },
        "891c46179a4143aebfedfca49e92bf66": {
          "model_module": "@jupyter-widgets/controls",
          "model_name": "HTMLModel",
          "model_module_version": "1.5.0",
          "state": {
            "_dom_classes": [],
            "_model_module": "@jupyter-widgets/controls",
            "_model_module_version": "1.5.0",
            "_model_name": "HTMLModel",
            "_view_count": null,
            "_view_module": "@jupyter-widgets/controls",
            "_view_module_version": "1.5.0",
            "_view_name": "HTMLView",
            "description": "",
            "description_tooltip": null,
            "layout": "IPY_MODEL_c66f25f976d14baf9bb08d83648af4eb",
            "placeholder": "​",
            "style": "IPY_MODEL_0d3dcf26515b43fa82616dd2ea26652e",
            "value": " 26421880/26421880 [00:02&lt;00:00, 18124249.30it/s]"
          }
        },
        "a6f435a20b4b404bb7d91e0ae178472f": {
          "model_module": "@jupyter-widgets/base",
          "model_name": "LayoutModel",
          "model_module_version": "1.2.0",
          "state": {
            "_model_module": "@jupyter-widgets/base",
            "_model_module_version": "1.2.0",
            "_model_name": "LayoutModel",
            "_view_count": null,
            "_view_module": "@jupyter-widgets/base",
            "_view_module_version": "1.2.0",
            "_view_name": "LayoutView",
            "align_content": null,
            "align_items": null,
            "align_self": null,
            "border": null,
            "bottom": null,
            "display": null,
            "flex": null,
            "flex_flow": null,
            "grid_area": null,
            "grid_auto_columns": null,
            "grid_auto_flow": null,
            "grid_auto_rows": null,
            "grid_column": null,
            "grid_gap": null,
            "grid_row": null,
            "grid_template_areas": null,
            "grid_template_columns": null,
            "grid_template_rows": null,
            "height": null,
            "justify_content": null,
            "justify_items": null,
            "left": null,
            "margin": null,
            "max_height": null,
            "max_width": null,
            "min_height": null,
            "min_width": null,
            "object_fit": null,
            "object_position": null,
            "order": null,
            "overflow": null,
            "overflow_x": null,
            "overflow_y": null,
            "padding": null,
            "right": null,
            "top": null,
            "visibility": null,
            "width": null
          }
        },
        "dcf38331e76145d5835d3c5d928cbfa1": {
          "model_module": "@jupyter-widgets/base",
          "model_name": "LayoutModel",
          "model_module_version": "1.2.0",
          "state": {
            "_model_module": "@jupyter-widgets/base",
            "_model_module_version": "1.2.0",
            "_model_name": "LayoutModel",
            "_view_count": null,
            "_view_module": "@jupyter-widgets/base",
            "_view_module_version": "1.2.0",
            "_view_name": "LayoutView",
            "align_content": null,
            "align_items": null,
            "align_self": null,
            "border": null,
            "bottom": null,
            "display": null,
            "flex": null,
            "flex_flow": null,
            "grid_area": null,
            "grid_auto_columns": null,
            "grid_auto_flow": null,
            "grid_auto_rows": null,
            "grid_column": null,
            "grid_gap": null,
            "grid_row": null,
            "grid_template_areas": null,
            "grid_template_columns": null,
            "grid_template_rows": null,
            "height": null,
            "justify_content": null,
            "justify_items": null,
            "left": null,
            "margin": null,
            "max_height": null,
            "max_width": null,
            "min_height": null,
            "min_width": null,
            "object_fit": null,
            "object_position": null,
            "order": null,
            "overflow": null,
            "overflow_x": null,
            "overflow_y": null,
            "padding": null,
            "right": null,
            "top": null,
            "visibility": null,
            "width": null
          }
        },
        "7cd5478cf869420098799c93eb4f397a": {
          "model_module": "@jupyter-widgets/controls",
          "model_name": "DescriptionStyleModel",
          "model_module_version": "1.5.0",
          "state": {
            "_model_module": "@jupyter-widgets/controls",
            "_model_module_version": "1.5.0",
            "_model_name": "DescriptionStyleModel",
            "_view_count": null,
            "_view_module": "@jupyter-widgets/base",
            "_view_module_version": "1.2.0",
            "_view_name": "StyleView",
            "description_width": ""
          }
        },
        "32be8b3843ed4aba8ce837f6715b8c4a": {
          "model_module": "@jupyter-widgets/base",
          "model_name": "LayoutModel",
          "model_module_version": "1.2.0",
          "state": {
            "_model_module": "@jupyter-widgets/base",
            "_model_module_version": "1.2.0",
            "_model_name": "LayoutModel",
            "_view_count": null,
            "_view_module": "@jupyter-widgets/base",
            "_view_module_version": "1.2.0",
            "_view_name": "LayoutView",
            "align_content": null,
            "align_items": null,
            "align_self": null,
            "border": null,
            "bottom": null,
            "display": null,
            "flex": null,
            "flex_flow": null,
            "grid_area": null,
            "grid_auto_columns": null,
            "grid_auto_flow": null,
            "grid_auto_rows": null,
            "grid_column": null,
            "grid_gap": null,
            "grid_row": null,
            "grid_template_areas": null,
            "grid_template_columns": null,
            "grid_template_rows": null,
            "height": null,
            "justify_content": null,
            "justify_items": null,
            "left": null,
            "margin": null,
            "max_height": null,
            "max_width": null,
            "min_height": null,
            "min_width": null,
            "object_fit": null,
            "object_position": null,
            "order": null,
            "overflow": null,
            "overflow_x": null,
            "overflow_y": null,
            "padding": null,
            "right": null,
            "top": null,
            "visibility": null,
            "width": null
          }
        },
        "504c0e738e84455288f1b682e096d2c9": {
          "model_module": "@jupyter-widgets/controls",
          "model_name": "ProgressStyleModel",
          "model_module_version": "1.5.0",
          "state": {
            "_model_module": "@jupyter-widgets/controls",
            "_model_module_version": "1.5.0",
            "_model_name": "ProgressStyleModel",
            "_view_count": null,
            "_view_module": "@jupyter-widgets/base",
            "_view_module_version": "1.2.0",
            "_view_name": "StyleView",
            "bar_color": null,
            "description_width": ""
          }
        },
        "c66f25f976d14baf9bb08d83648af4eb": {
          "model_module": "@jupyter-widgets/base",
          "model_name": "LayoutModel",
          "model_module_version": "1.2.0",
          "state": {
            "_model_module": "@jupyter-widgets/base",
            "_model_module_version": "1.2.0",
            "_model_name": "LayoutModel",
            "_view_count": null,
            "_view_module": "@jupyter-widgets/base",
            "_view_module_version": "1.2.0",
            "_view_name": "LayoutView",
            "align_content": null,
            "align_items": null,
            "align_self": null,
            "border": null,
            "bottom": null,
            "display": null,
            "flex": null,
            "flex_flow": null,
            "grid_area": null,
            "grid_auto_columns": null,
            "grid_auto_flow": null,
            "grid_auto_rows": null,
            "grid_column": null,
            "grid_gap": null,
            "grid_row": null,
            "grid_template_areas": null,
            "grid_template_columns": null,
            "grid_template_rows": null,
            "height": null,
            "justify_content": null,
            "justify_items": null,
            "left": null,
            "margin": null,
            "max_height": null,
            "max_width": null,
            "min_height": null,
            "min_width": null,
            "object_fit": null,
            "object_position": null,
            "order": null,
            "overflow": null,
            "overflow_x": null,
            "overflow_y": null,
            "padding": null,
            "right": null,
            "top": null,
            "visibility": null,
            "width": null
          }
        },
        "0d3dcf26515b43fa82616dd2ea26652e": {
          "model_module": "@jupyter-widgets/controls",
          "model_name": "DescriptionStyleModel",
          "model_module_version": "1.5.0",
          "state": {
            "_model_module": "@jupyter-widgets/controls",
            "_model_module_version": "1.5.0",
            "_model_name": "DescriptionStyleModel",
            "_view_count": null,
            "_view_module": "@jupyter-widgets/base",
            "_view_module_version": "1.2.0",
            "_view_name": "StyleView",
            "description_width": ""
          }
        },
        "6ffd133af86f4a6eb0b1a945c0ef94f0": {
          "model_module": "@jupyter-widgets/controls",
          "model_name": "HBoxModel",
          "model_module_version": "1.5.0",
          "state": {
            "_dom_classes": [],
            "_model_module": "@jupyter-widgets/controls",
            "_model_module_version": "1.5.0",
            "_model_name": "HBoxModel",
            "_view_count": null,
            "_view_module": "@jupyter-widgets/controls",
            "_view_module_version": "1.5.0",
            "_view_name": "HBoxView",
            "box_style": "",
            "children": [
              "IPY_MODEL_9838a32428c44a718af222d58247ae29",
              "IPY_MODEL_d3058c65276a412c810b3d9cb65342dc",
              "IPY_MODEL_b0737d57ac774b3daf3400624cbdbdc0"
            ],
            "layout": "IPY_MODEL_37bedd499c4647a3a1fba2d926aaeea7"
          }
        },
        "9838a32428c44a718af222d58247ae29": {
          "model_module": "@jupyter-widgets/controls",
          "model_name": "HTMLModel",
          "model_module_version": "1.5.0",
          "state": {
            "_dom_classes": [],
            "_model_module": "@jupyter-widgets/controls",
            "_model_module_version": "1.5.0",
            "_model_name": "HTMLModel",
            "_view_count": null,
            "_view_module": "@jupyter-widgets/controls",
            "_view_module_version": "1.5.0",
            "_view_name": "HTMLView",
            "description": "",
            "description_tooltip": null,
            "layout": "IPY_MODEL_0e1e014e0f9b402da1cd716ec822b190",
            "placeholder": "​",
            "style": "IPY_MODEL_1d10de51a557451b8467c4d9a67dc8f3",
            "value": "100%"
          }
        },
        "d3058c65276a412c810b3d9cb65342dc": {
          "model_module": "@jupyter-widgets/controls",
          "model_name": "FloatProgressModel",
          "model_module_version": "1.5.0",
          "state": {
            "_dom_classes": [],
            "_model_module": "@jupyter-widgets/controls",
            "_model_module_version": "1.5.0",
            "_model_name": "FloatProgressModel",
            "_view_count": null,
            "_view_module": "@jupyter-widgets/controls",
            "_view_module_version": "1.5.0",
            "_view_name": "ProgressView",
            "bar_style": "success",
            "description": "",
            "description_tooltip": null,
            "layout": "IPY_MODEL_835768a31d754b4c9c746d909bea6021",
            "max": 29515,
            "min": 0,
            "orientation": "horizontal",
            "style": "IPY_MODEL_0c4b8ff35f194000b256248036fe5f70",
            "value": 29515
          }
        },
        "b0737d57ac774b3daf3400624cbdbdc0": {
          "model_module": "@jupyter-widgets/controls",
          "model_name": "HTMLModel",
          "model_module_version": "1.5.0",
          "state": {
            "_dom_classes": [],
            "_model_module": "@jupyter-widgets/controls",
            "_model_module_version": "1.5.0",
            "_model_name": "HTMLModel",
            "_view_count": null,
            "_view_module": "@jupyter-widgets/controls",
            "_view_module_version": "1.5.0",
            "_view_name": "HTMLView",
            "description": "",
            "description_tooltip": null,
            "layout": "IPY_MODEL_68309cf738bf409583d6b46b07470a5c",
            "placeholder": "​",
            "style": "IPY_MODEL_9ef6b67ac41d499291e39503a14b46df",
            "value": " 29515/29515 [00:00&lt;00:00, 202516.81it/s]"
          }
        },
        "37bedd499c4647a3a1fba2d926aaeea7": {
          "model_module": "@jupyter-widgets/base",
          "model_name": "LayoutModel",
          "model_module_version": "1.2.0",
          "state": {
            "_model_module": "@jupyter-widgets/base",
            "_model_module_version": "1.2.0",
            "_model_name": "LayoutModel",
            "_view_count": null,
            "_view_module": "@jupyter-widgets/base",
            "_view_module_version": "1.2.0",
            "_view_name": "LayoutView",
            "align_content": null,
            "align_items": null,
            "align_self": null,
            "border": null,
            "bottom": null,
            "display": null,
            "flex": null,
            "flex_flow": null,
            "grid_area": null,
            "grid_auto_columns": null,
            "grid_auto_flow": null,
            "grid_auto_rows": null,
            "grid_column": null,
            "grid_gap": null,
            "grid_row": null,
            "grid_template_areas": null,
            "grid_template_columns": null,
            "grid_template_rows": null,
            "height": null,
            "justify_content": null,
            "justify_items": null,
            "left": null,
            "margin": null,
            "max_height": null,
            "max_width": null,
            "min_height": null,
            "min_width": null,
            "object_fit": null,
            "object_position": null,
            "order": null,
            "overflow": null,
            "overflow_x": null,
            "overflow_y": null,
            "padding": null,
            "right": null,
            "top": null,
            "visibility": null,
            "width": null
          }
        },
        "0e1e014e0f9b402da1cd716ec822b190": {
          "model_module": "@jupyter-widgets/base",
          "model_name": "LayoutModel",
          "model_module_version": "1.2.0",
          "state": {
            "_model_module": "@jupyter-widgets/base",
            "_model_module_version": "1.2.0",
            "_model_name": "LayoutModel",
            "_view_count": null,
            "_view_module": "@jupyter-widgets/base",
            "_view_module_version": "1.2.0",
            "_view_name": "LayoutView",
            "align_content": null,
            "align_items": null,
            "align_self": null,
            "border": null,
            "bottom": null,
            "display": null,
            "flex": null,
            "flex_flow": null,
            "grid_area": null,
            "grid_auto_columns": null,
            "grid_auto_flow": null,
            "grid_auto_rows": null,
            "grid_column": null,
            "grid_gap": null,
            "grid_row": null,
            "grid_template_areas": null,
            "grid_template_columns": null,
            "grid_template_rows": null,
            "height": null,
            "justify_content": null,
            "justify_items": null,
            "left": null,
            "margin": null,
            "max_height": null,
            "max_width": null,
            "min_height": null,
            "min_width": null,
            "object_fit": null,
            "object_position": null,
            "order": null,
            "overflow": null,
            "overflow_x": null,
            "overflow_y": null,
            "padding": null,
            "right": null,
            "top": null,
            "visibility": null,
            "width": null
          }
        },
        "1d10de51a557451b8467c4d9a67dc8f3": {
          "model_module": "@jupyter-widgets/controls",
          "model_name": "DescriptionStyleModel",
          "model_module_version": "1.5.0",
          "state": {
            "_model_module": "@jupyter-widgets/controls",
            "_model_module_version": "1.5.0",
            "_model_name": "DescriptionStyleModel",
            "_view_count": null,
            "_view_module": "@jupyter-widgets/base",
            "_view_module_version": "1.2.0",
            "_view_name": "StyleView",
            "description_width": ""
          }
        },
        "835768a31d754b4c9c746d909bea6021": {
          "model_module": "@jupyter-widgets/base",
          "model_name": "LayoutModel",
          "model_module_version": "1.2.0",
          "state": {
            "_model_module": "@jupyter-widgets/base",
            "_model_module_version": "1.2.0",
            "_model_name": "LayoutModel",
            "_view_count": null,
            "_view_module": "@jupyter-widgets/base",
            "_view_module_version": "1.2.0",
            "_view_name": "LayoutView",
            "align_content": null,
            "align_items": null,
            "align_self": null,
            "border": null,
            "bottom": null,
            "display": null,
            "flex": null,
            "flex_flow": null,
            "grid_area": null,
            "grid_auto_columns": null,
            "grid_auto_flow": null,
            "grid_auto_rows": null,
            "grid_column": null,
            "grid_gap": null,
            "grid_row": null,
            "grid_template_areas": null,
            "grid_template_columns": null,
            "grid_template_rows": null,
            "height": null,
            "justify_content": null,
            "justify_items": null,
            "left": null,
            "margin": null,
            "max_height": null,
            "max_width": null,
            "min_height": null,
            "min_width": null,
            "object_fit": null,
            "object_position": null,
            "order": null,
            "overflow": null,
            "overflow_x": null,
            "overflow_y": null,
            "padding": null,
            "right": null,
            "top": null,
            "visibility": null,
            "width": null
          }
        },
        "0c4b8ff35f194000b256248036fe5f70": {
          "model_module": "@jupyter-widgets/controls",
          "model_name": "ProgressStyleModel",
          "model_module_version": "1.5.0",
          "state": {
            "_model_module": "@jupyter-widgets/controls",
            "_model_module_version": "1.5.0",
            "_model_name": "ProgressStyleModel",
            "_view_count": null,
            "_view_module": "@jupyter-widgets/base",
            "_view_module_version": "1.2.0",
            "_view_name": "StyleView",
            "bar_color": null,
            "description_width": ""
          }
        },
        "68309cf738bf409583d6b46b07470a5c": {
          "model_module": "@jupyter-widgets/base",
          "model_name": "LayoutModel",
          "model_module_version": "1.2.0",
          "state": {
            "_model_module": "@jupyter-widgets/base",
            "_model_module_version": "1.2.0",
            "_model_name": "LayoutModel",
            "_view_count": null,
            "_view_module": "@jupyter-widgets/base",
            "_view_module_version": "1.2.0",
            "_view_name": "LayoutView",
            "align_content": null,
            "align_items": null,
            "align_self": null,
            "border": null,
            "bottom": null,
            "display": null,
            "flex": null,
            "flex_flow": null,
            "grid_area": null,
            "grid_auto_columns": null,
            "grid_auto_flow": null,
            "grid_auto_rows": null,
            "grid_column": null,
            "grid_gap": null,
            "grid_row": null,
            "grid_template_areas": null,
            "grid_template_columns": null,
            "grid_template_rows": null,
            "height": null,
            "justify_content": null,
            "justify_items": null,
            "left": null,
            "margin": null,
            "max_height": null,
            "max_width": null,
            "min_height": null,
            "min_width": null,
            "object_fit": null,
            "object_position": null,
            "order": null,
            "overflow": null,
            "overflow_x": null,
            "overflow_y": null,
            "padding": null,
            "right": null,
            "top": null,
            "visibility": null,
            "width": null
          }
        },
        "9ef6b67ac41d499291e39503a14b46df": {
          "model_module": "@jupyter-widgets/controls",
          "model_name": "DescriptionStyleModel",
          "model_module_version": "1.5.0",
          "state": {
            "_model_module": "@jupyter-widgets/controls",
            "_model_module_version": "1.5.0",
            "_model_name": "DescriptionStyleModel",
            "_view_count": null,
            "_view_module": "@jupyter-widgets/base",
            "_view_module_version": "1.2.0",
            "_view_name": "StyleView",
            "description_width": ""
          }
        },
        "99149a2a333a447088ba1d7bd73f5e66": {
          "model_module": "@jupyter-widgets/controls",
          "model_name": "HBoxModel",
          "model_module_version": "1.5.0",
          "state": {
            "_dom_classes": [],
            "_model_module": "@jupyter-widgets/controls",
            "_model_module_version": "1.5.0",
            "_model_name": "HBoxModel",
            "_view_count": null,
            "_view_module": "@jupyter-widgets/controls",
            "_view_module_version": "1.5.0",
            "_view_name": "HBoxView",
            "box_style": "",
            "children": [
              "IPY_MODEL_84ad017562924790b763ca71e44d6e98",
              "IPY_MODEL_1e9cf26f3b3042809af15d6054e3229c",
              "IPY_MODEL_df6f3f2de9504ba7b23be428fb490d33"
            ],
            "layout": "IPY_MODEL_4b6a033608fe44efa61e65ae333f2b97"
          }
        },
        "84ad017562924790b763ca71e44d6e98": {
          "model_module": "@jupyter-widgets/controls",
          "model_name": "HTMLModel",
          "model_module_version": "1.5.0",
          "state": {
            "_dom_classes": [],
            "_model_module": "@jupyter-widgets/controls",
            "_model_module_version": "1.5.0",
            "_model_name": "HTMLModel",
            "_view_count": null,
            "_view_module": "@jupyter-widgets/controls",
            "_view_module_version": "1.5.0",
            "_view_name": "HTMLView",
            "description": "",
            "description_tooltip": null,
            "layout": "IPY_MODEL_556e17cf3bfa480d9c1b89da0616c4d2",
            "placeholder": "​",
            "style": "IPY_MODEL_cc038d1981b34b838a1ca44f668c9ec8",
            "value": "100%"
          }
        },
        "1e9cf26f3b3042809af15d6054e3229c": {
          "model_module": "@jupyter-widgets/controls",
          "model_name": "FloatProgressModel",
          "model_module_version": "1.5.0",
          "state": {
            "_dom_classes": [],
            "_model_module": "@jupyter-widgets/controls",
            "_model_module_version": "1.5.0",
            "_model_name": "FloatProgressModel",
            "_view_count": null,
            "_view_module": "@jupyter-widgets/controls",
            "_view_module_version": "1.5.0",
            "_view_name": "ProgressView",
            "bar_style": "success",
            "description": "",
            "description_tooltip": null,
            "layout": "IPY_MODEL_49e46a606f304d32b2ddf102e19bf5e0",
            "max": 4422102,
            "min": 0,
            "orientation": "horizontal",
            "style": "IPY_MODEL_b5364f888b2844ce88b0653b5a1fde42",
            "value": 4422102
          }
        },
        "df6f3f2de9504ba7b23be428fb490d33": {
          "model_module": "@jupyter-widgets/controls",
          "model_name": "HTMLModel",
          "model_module_version": "1.5.0",
          "state": {
            "_dom_classes": [],
            "_model_module": "@jupyter-widgets/controls",
            "_model_module_version": "1.5.0",
            "_model_name": "HTMLModel",
            "_view_count": null,
            "_view_module": "@jupyter-widgets/controls",
            "_view_module_version": "1.5.0",
            "_view_name": "HTMLView",
            "description": "",
            "description_tooltip": null,
            "layout": "IPY_MODEL_b435eb650c754ad281e657ec296ee753",
            "placeholder": "​",
            "style": "IPY_MODEL_22ae1fa8899c47f29a09c2fec59655ad",
            "value": " 4422102/4422102 [00:01&lt;00:00, 4677474.65it/s]"
          }
        },
        "4b6a033608fe44efa61e65ae333f2b97": {
          "model_module": "@jupyter-widgets/base",
          "model_name": "LayoutModel",
          "model_module_version": "1.2.0",
          "state": {
            "_model_module": "@jupyter-widgets/base",
            "_model_module_version": "1.2.0",
            "_model_name": "LayoutModel",
            "_view_count": null,
            "_view_module": "@jupyter-widgets/base",
            "_view_module_version": "1.2.0",
            "_view_name": "LayoutView",
            "align_content": null,
            "align_items": null,
            "align_self": null,
            "border": null,
            "bottom": null,
            "display": null,
            "flex": null,
            "flex_flow": null,
            "grid_area": null,
            "grid_auto_columns": null,
            "grid_auto_flow": null,
            "grid_auto_rows": null,
            "grid_column": null,
            "grid_gap": null,
            "grid_row": null,
            "grid_template_areas": null,
            "grid_template_columns": null,
            "grid_template_rows": null,
            "height": null,
            "justify_content": null,
            "justify_items": null,
            "left": null,
            "margin": null,
            "max_height": null,
            "max_width": null,
            "min_height": null,
            "min_width": null,
            "object_fit": null,
            "object_position": null,
            "order": null,
            "overflow": null,
            "overflow_x": null,
            "overflow_y": null,
            "padding": null,
            "right": null,
            "top": null,
            "visibility": null,
            "width": null
          }
        },
        "556e17cf3bfa480d9c1b89da0616c4d2": {
          "model_module": "@jupyter-widgets/base",
          "model_name": "LayoutModel",
          "model_module_version": "1.2.0",
          "state": {
            "_model_module": "@jupyter-widgets/base",
            "_model_module_version": "1.2.0",
            "_model_name": "LayoutModel",
            "_view_count": null,
            "_view_module": "@jupyter-widgets/base",
            "_view_module_version": "1.2.0",
            "_view_name": "LayoutView",
            "align_content": null,
            "align_items": null,
            "align_self": null,
            "border": null,
            "bottom": null,
            "display": null,
            "flex": null,
            "flex_flow": null,
            "grid_area": null,
            "grid_auto_columns": null,
            "grid_auto_flow": null,
            "grid_auto_rows": null,
            "grid_column": null,
            "grid_gap": null,
            "grid_row": null,
            "grid_template_areas": null,
            "grid_template_columns": null,
            "grid_template_rows": null,
            "height": null,
            "justify_content": null,
            "justify_items": null,
            "left": null,
            "margin": null,
            "max_height": null,
            "max_width": null,
            "min_height": null,
            "min_width": null,
            "object_fit": null,
            "object_position": null,
            "order": null,
            "overflow": null,
            "overflow_x": null,
            "overflow_y": null,
            "padding": null,
            "right": null,
            "top": null,
            "visibility": null,
            "width": null
          }
        },
        "cc038d1981b34b838a1ca44f668c9ec8": {
          "model_module": "@jupyter-widgets/controls",
          "model_name": "DescriptionStyleModel",
          "model_module_version": "1.5.0",
          "state": {
            "_model_module": "@jupyter-widgets/controls",
            "_model_module_version": "1.5.0",
            "_model_name": "DescriptionStyleModel",
            "_view_count": null,
            "_view_module": "@jupyter-widgets/base",
            "_view_module_version": "1.2.0",
            "_view_name": "StyleView",
            "description_width": ""
          }
        },
        "49e46a606f304d32b2ddf102e19bf5e0": {
          "model_module": "@jupyter-widgets/base",
          "model_name": "LayoutModel",
          "model_module_version": "1.2.0",
          "state": {
            "_model_module": "@jupyter-widgets/base",
            "_model_module_version": "1.2.0",
            "_model_name": "LayoutModel",
            "_view_count": null,
            "_view_module": "@jupyter-widgets/base",
            "_view_module_version": "1.2.0",
            "_view_name": "LayoutView",
            "align_content": null,
            "align_items": null,
            "align_self": null,
            "border": null,
            "bottom": null,
            "display": null,
            "flex": null,
            "flex_flow": null,
            "grid_area": null,
            "grid_auto_columns": null,
            "grid_auto_flow": null,
            "grid_auto_rows": null,
            "grid_column": null,
            "grid_gap": null,
            "grid_row": null,
            "grid_template_areas": null,
            "grid_template_columns": null,
            "grid_template_rows": null,
            "height": null,
            "justify_content": null,
            "justify_items": null,
            "left": null,
            "margin": null,
            "max_height": null,
            "max_width": null,
            "min_height": null,
            "min_width": null,
            "object_fit": null,
            "object_position": null,
            "order": null,
            "overflow": null,
            "overflow_x": null,
            "overflow_y": null,
            "padding": null,
            "right": null,
            "top": null,
            "visibility": null,
            "width": null
          }
        },
        "b5364f888b2844ce88b0653b5a1fde42": {
          "model_module": "@jupyter-widgets/controls",
          "model_name": "ProgressStyleModel",
          "model_module_version": "1.5.0",
          "state": {
            "_model_module": "@jupyter-widgets/controls",
            "_model_module_version": "1.5.0",
            "_model_name": "ProgressStyleModel",
            "_view_count": null,
            "_view_module": "@jupyter-widgets/base",
            "_view_module_version": "1.2.0",
            "_view_name": "StyleView",
            "bar_color": null,
            "description_width": ""
          }
        },
        "b435eb650c754ad281e657ec296ee753": {
          "model_module": "@jupyter-widgets/base",
          "model_name": "LayoutModel",
          "model_module_version": "1.2.0",
          "state": {
            "_model_module": "@jupyter-widgets/base",
            "_model_module_version": "1.2.0",
            "_model_name": "LayoutModel",
            "_view_count": null,
            "_view_module": "@jupyter-widgets/base",
            "_view_module_version": "1.2.0",
            "_view_name": "LayoutView",
            "align_content": null,
            "align_items": null,
            "align_self": null,
            "border": null,
            "bottom": null,
            "display": null,
            "flex": null,
            "flex_flow": null,
            "grid_area": null,
            "grid_auto_columns": null,
            "grid_auto_flow": null,
            "grid_auto_rows": null,
            "grid_column": null,
            "grid_gap": null,
            "grid_row": null,
            "grid_template_areas": null,
            "grid_template_columns": null,
            "grid_template_rows": null,
            "height": null,
            "justify_content": null,
            "justify_items": null,
            "left": null,
            "margin": null,
            "max_height": null,
            "max_width": null,
            "min_height": null,
            "min_width": null,
            "object_fit": null,
            "object_position": null,
            "order": null,
            "overflow": null,
            "overflow_x": null,
            "overflow_y": null,
            "padding": null,
            "right": null,
            "top": null,
            "visibility": null,
            "width": null
          }
        },
        "22ae1fa8899c47f29a09c2fec59655ad": {
          "model_module": "@jupyter-widgets/controls",
          "model_name": "DescriptionStyleModel",
          "model_module_version": "1.5.0",
          "state": {
            "_model_module": "@jupyter-widgets/controls",
            "_model_module_version": "1.5.0",
            "_model_name": "DescriptionStyleModel",
            "_view_count": null,
            "_view_module": "@jupyter-widgets/base",
            "_view_module_version": "1.2.0",
            "_view_name": "StyleView",
            "description_width": ""
          }
        },
        "dd17f143bd09490aba689d103e172877": {
          "model_module": "@jupyter-widgets/controls",
          "model_name": "HBoxModel",
          "model_module_version": "1.5.0",
          "state": {
            "_dom_classes": [],
            "_model_module": "@jupyter-widgets/controls",
            "_model_module_version": "1.5.0",
            "_model_name": "HBoxModel",
            "_view_count": null,
            "_view_module": "@jupyter-widgets/controls",
            "_view_module_version": "1.5.0",
            "_view_name": "HBoxView",
            "box_style": "",
            "children": [
              "IPY_MODEL_f1d2e63599d3422dbe839a54843994eb",
              "IPY_MODEL_32d421f3cb704d3fa091b89e8361caa0",
              "IPY_MODEL_d624ff3e479042f796b6324c3767e190"
            ],
            "layout": "IPY_MODEL_f3d4a67530364929812abc92691088c9"
          }
        },
        "f1d2e63599d3422dbe839a54843994eb": {
          "model_module": "@jupyter-widgets/controls",
          "model_name": "HTMLModel",
          "model_module_version": "1.5.0",
          "state": {
            "_dom_classes": [],
            "_model_module": "@jupyter-widgets/controls",
            "_model_module_version": "1.5.0",
            "_model_name": "HTMLModel",
            "_view_count": null,
            "_view_module": "@jupyter-widgets/controls",
            "_view_module_version": "1.5.0",
            "_view_name": "HTMLView",
            "description": "",
            "description_tooltip": null,
            "layout": "IPY_MODEL_8d41faaec400433093411f5015d0636c",
            "placeholder": "​",
            "style": "IPY_MODEL_a445e70bf7eb4d5899e2f515071e6288",
            "value": "100%"
          }
        },
        "32d421f3cb704d3fa091b89e8361caa0": {
          "model_module": "@jupyter-widgets/controls",
          "model_name": "FloatProgressModel",
          "model_module_version": "1.5.0",
          "state": {
            "_dom_classes": [],
            "_model_module": "@jupyter-widgets/controls",
            "_model_module_version": "1.5.0",
            "_model_name": "FloatProgressModel",
            "_view_count": null,
            "_view_module": "@jupyter-widgets/controls",
            "_view_module_version": "1.5.0",
            "_view_name": "ProgressView",
            "bar_style": "success",
            "description": "",
            "description_tooltip": null,
            "layout": "IPY_MODEL_48eb6b5e810c4e6e955a9a901b38918e",
            "max": 5148,
            "min": 0,
            "orientation": "horizontal",
            "style": "IPY_MODEL_b22908652bda438ea58f77f9fd34d9c5",
            "value": 5148
          }
        },
        "d624ff3e479042f796b6324c3767e190": {
          "model_module": "@jupyter-widgets/controls",
          "model_name": "HTMLModel",
          "model_module_version": "1.5.0",
          "state": {
            "_dom_classes": [],
            "_model_module": "@jupyter-widgets/controls",
            "_model_module_version": "1.5.0",
            "_model_name": "HTMLModel",
            "_view_count": null,
            "_view_module": "@jupyter-widgets/controls",
            "_view_module_version": "1.5.0",
            "_view_name": "HTMLView",
            "description": "",
            "description_tooltip": null,
            "layout": "IPY_MODEL_0f4d0322118c4cdd87c2d559396e8f6f",
            "placeholder": "​",
            "style": "IPY_MODEL_6686c8aa771149c6b443912fb154beb1",
            "value": " 5148/5148 [00:00&lt;00:00, 85471.66it/s]"
          }
        },
        "f3d4a67530364929812abc92691088c9": {
          "model_module": "@jupyter-widgets/base",
          "model_name": "LayoutModel",
          "model_module_version": "1.2.0",
          "state": {
            "_model_module": "@jupyter-widgets/base",
            "_model_module_version": "1.2.0",
            "_model_name": "LayoutModel",
            "_view_count": null,
            "_view_module": "@jupyter-widgets/base",
            "_view_module_version": "1.2.0",
            "_view_name": "LayoutView",
            "align_content": null,
            "align_items": null,
            "align_self": null,
            "border": null,
            "bottom": null,
            "display": null,
            "flex": null,
            "flex_flow": null,
            "grid_area": null,
            "grid_auto_columns": null,
            "grid_auto_flow": null,
            "grid_auto_rows": null,
            "grid_column": null,
            "grid_gap": null,
            "grid_row": null,
            "grid_template_areas": null,
            "grid_template_columns": null,
            "grid_template_rows": null,
            "height": null,
            "justify_content": null,
            "justify_items": null,
            "left": null,
            "margin": null,
            "max_height": null,
            "max_width": null,
            "min_height": null,
            "min_width": null,
            "object_fit": null,
            "object_position": null,
            "order": null,
            "overflow": null,
            "overflow_x": null,
            "overflow_y": null,
            "padding": null,
            "right": null,
            "top": null,
            "visibility": null,
            "width": null
          }
        },
        "8d41faaec400433093411f5015d0636c": {
          "model_module": "@jupyter-widgets/base",
          "model_name": "LayoutModel",
          "model_module_version": "1.2.0",
          "state": {
            "_model_module": "@jupyter-widgets/base",
            "_model_module_version": "1.2.0",
            "_model_name": "LayoutModel",
            "_view_count": null,
            "_view_module": "@jupyter-widgets/base",
            "_view_module_version": "1.2.0",
            "_view_name": "LayoutView",
            "align_content": null,
            "align_items": null,
            "align_self": null,
            "border": null,
            "bottom": null,
            "display": null,
            "flex": null,
            "flex_flow": null,
            "grid_area": null,
            "grid_auto_columns": null,
            "grid_auto_flow": null,
            "grid_auto_rows": null,
            "grid_column": null,
            "grid_gap": null,
            "grid_row": null,
            "grid_template_areas": null,
            "grid_template_columns": null,
            "grid_template_rows": null,
            "height": null,
            "justify_content": null,
            "justify_items": null,
            "left": null,
            "margin": null,
            "max_height": null,
            "max_width": null,
            "min_height": null,
            "min_width": null,
            "object_fit": null,
            "object_position": null,
            "order": null,
            "overflow": null,
            "overflow_x": null,
            "overflow_y": null,
            "padding": null,
            "right": null,
            "top": null,
            "visibility": null,
            "width": null
          }
        },
        "a445e70bf7eb4d5899e2f515071e6288": {
          "model_module": "@jupyter-widgets/controls",
          "model_name": "DescriptionStyleModel",
          "model_module_version": "1.5.0",
          "state": {
            "_model_module": "@jupyter-widgets/controls",
            "_model_module_version": "1.5.0",
            "_model_name": "DescriptionStyleModel",
            "_view_count": null,
            "_view_module": "@jupyter-widgets/base",
            "_view_module_version": "1.2.0",
            "_view_name": "StyleView",
            "description_width": ""
          }
        },
        "48eb6b5e810c4e6e955a9a901b38918e": {
          "model_module": "@jupyter-widgets/base",
          "model_name": "LayoutModel",
          "model_module_version": "1.2.0",
          "state": {
            "_model_module": "@jupyter-widgets/base",
            "_model_module_version": "1.2.0",
            "_model_name": "LayoutModel",
            "_view_count": null,
            "_view_module": "@jupyter-widgets/base",
            "_view_module_version": "1.2.0",
            "_view_name": "LayoutView",
            "align_content": null,
            "align_items": null,
            "align_self": null,
            "border": null,
            "bottom": null,
            "display": null,
            "flex": null,
            "flex_flow": null,
            "grid_area": null,
            "grid_auto_columns": null,
            "grid_auto_flow": null,
            "grid_auto_rows": null,
            "grid_column": null,
            "grid_gap": null,
            "grid_row": null,
            "grid_template_areas": null,
            "grid_template_columns": null,
            "grid_template_rows": null,
            "height": null,
            "justify_content": null,
            "justify_items": null,
            "left": null,
            "margin": null,
            "max_height": null,
            "max_width": null,
            "min_height": null,
            "min_width": null,
            "object_fit": null,
            "object_position": null,
            "order": null,
            "overflow": null,
            "overflow_x": null,
            "overflow_y": null,
            "padding": null,
            "right": null,
            "top": null,
            "visibility": null,
            "width": null
          }
        },
        "b22908652bda438ea58f77f9fd34d9c5": {
          "model_module": "@jupyter-widgets/controls",
          "model_name": "ProgressStyleModel",
          "model_module_version": "1.5.0",
          "state": {
            "_model_module": "@jupyter-widgets/controls",
            "_model_module_version": "1.5.0",
            "_model_name": "ProgressStyleModel",
            "_view_count": null,
            "_view_module": "@jupyter-widgets/base",
            "_view_module_version": "1.2.0",
            "_view_name": "StyleView",
            "bar_color": null,
            "description_width": ""
          }
        },
        "0f4d0322118c4cdd87c2d559396e8f6f": {
          "model_module": "@jupyter-widgets/base",
          "model_name": "LayoutModel",
          "model_module_version": "1.2.0",
          "state": {
            "_model_module": "@jupyter-widgets/base",
            "_model_module_version": "1.2.0",
            "_model_name": "LayoutModel",
            "_view_count": null,
            "_view_module": "@jupyter-widgets/base",
            "_view_module_version": "1.2.0",
            "_view_name": "LayoutView",
            "align_content": null,
            "align_items": null,
            "align_self": null,
            "border": null,
            "bottom": null,
            "display": null,
            "flex": null,
            "flex_flow": null,
            "grid_area": null,
            "grid_auto_columns": null,
            "grid_auto_flow": null,
            "grid_auto_rows": null,
            "grid_column": null,
            "grid_gap": null,
            "grid_row": null,
            "grid_template_areas": null,
            "grid_template_columns": null,
            "grid_template_rows": null,
            "height": null,
            "justify_content": null,
            "justify_items": null,
            "left": null,
            "margin": null,
            "max_height": null,
            "max_width": null,
            "min_height": null,
            "min_width": null,
            "object_fit": null,
            "object_position": null,
            "order": null,
            "overflow": null,
            "overflow_x": null,
            "overflow_y": null,
            "padding": null,
            "right": null,
            "top": null,
            "visibility": null,
            "width": null
          }
        },
        "6686c8aa771149c6b443912fb154beb1": {
          "model_module": "@jupyter-widgets/controls",
          "model_name": "DescriptionStyleModel",
          "model_module_version": "1.5.0",
          "state": {
            "_model_module": "@jupyter-widgets/controls",
            "_model_module_version": "1.5.0",
            "_model_name": "DescriptionStyleModel",
            "_view_count": null,
            "_view_module": "@jupyter-widgets/base",
            "_view_module_version": "1.2.0",
            "_view_name": "StyleView",
            "description_width": ""
          }
        }
      }
    }
  },
  "cells": [
    {
      "cell_type": "markdown",
      "source": [
        "![image.png](data:image/png;base64,iVBORw0KGgoAAAANSUhEUgAADUcAAACyCAYAAADbe5+yAAAAAXNSR0IArs4c6QAAAARnQU1BAACxjwv8YQUAAAAJcEhZcwAAFiUAABYlAUlSJPAAAP+lSURBVHhe7L0JoGVHVa+/7jz2PHenk04nISQhJCGEMCSAzMqgooIKKuJz+OtzHp/PAZ++QXw8xCcios8BQRAiIoRARIYwhCGBzJ100vN853ke/vXVub+b6p19zj3n3HNvd2B9YbH3rl21atWqqr336b3q7rr5gDmO4ziO4ziO4ziO4ziO4ziO4ziO4ziO4ziO4ziO4ziO4ziO4ziO4zzJqF/YOo7jOI7jOI7jOI7jOI7jOI7jOI7jOI7jOI7jOI7jOI7jOI7jOI7jPKnwxVGO4ziO4ziO4ziO4ziO4ziO4ziO4ziO4ziO4ziO4ziO4ziO4ziO4zwp8cVRjuM4juM4juM4juM4juM4juM4juM4juM4juM4juM4juM4juM4juM8KfHFUY7jOI7jOI7jOI7jOI7jOI7jOI7jOI7jOI7jOI7jOI7jOI7jOI7jPCnxxVGO4ziO4ziO4ziO4ziO4ziO4ziO4ziO4ziO4ziO4ziO4ziO4ziO4zwpqZsPsHP77bfbvffeGxMdx3Ecx3Ecx3Ecx3Ecx3Ecx3Ecx3Ecx3Ecx3Ecx3Ecx3Ecx3Ecx3HOJ172spfZNddcs3BU4KzFURMTE3bllVfGE47jOI7jOI7jOI7jOI7jOI7jOI7jOI7jOI7jOI7jOI7jOI7jOI7jOOcDd9xxh11//fVLL456wQteEE84juM4juM4juM4juM4juM4juM4juM4juM4juM4juM4juM4juM4juOcD9xyyy25i6PqF7aO4ziO4ziO4ziO4ziO4ziO4ziO4ziO4ziO4ziO4ziO4ziO4ziO4zhPKnxxlOM4juM4juM4juM4juM4juM4juM4juM4juM4juM4juM4juM4juM4T0p8cZTjOI7jOI7jOI7jOI7jOI7jOI7jOI7jOI7jOI7jOI7jOI7jOI7jOE9KfHGU4ziO4ziO4ziO4ziO4ziO4ziO4ziO4ziO4ziO4ziO4ziO4ziO4zhPSnxxlOM4juM4juM4juM4juM4juM4juM4juM4juM4juM4juM4juM4juM4T0p8cZTjOI7jOI7jOI7jOI7jOI7jOI7jOI7jOI7jOI7jOI7jOI7jOI7jOE9KfHGU4ziO4ziO4ziO4ziO4ziO4ziO4ziO4ziO4ziO4ziO4ziO4ziO4zhPSnxxlOM4juM4juM4juM4juM4juM4juM4juM4juM4juM4juM4juM4juM4T0p8cZTjOI7jOI7jOI7jOI7jOI7jOI7jOI7jOI7jOI7jOI7jOI7jOI7jOE9KfHGU4ziO4ziO4ziO4ziO4ziO4ziO4ziO4ziO4ziO4ziO4ziO4ziO4zhPSnxxlOM4juM4juM4juM4juM4juM4juM4juM4juM4juM4juM4juM4juM4T0rq5gPs3H777TYxMWEveMEL4olKWLdu3cKe4ziO4ziO4ziO4ziO4ziOc74wODi4sOc4juM4juM4juM4juM4juM4juM4juM4T25uueUWu/766+2aa65ZSClQk8VR09PTtqDmCdTV1S0KzM3N5eblfGNjo9XX19vs7GzMh8BSuoE8xfKB8qmM8i9VrhTVlhNLlee8fFApDQ0N0ZfydyW2VpKXOqiLvmtqarKRkZElbSZfc3OzzczM2OTkZNxHz/j4+EKO6qBf0Z3273LBLtpGmxiX6NRYSqEt8jXk1Z2myUfSlZc/r55iYGd7e3v05dTUlI2Oji6ceRy1BWSvoP48GwS2UH4pm6Qj1actZVW+mB7qWLNmTTw/MDCQq0dkj0Wx9BT5Cx9w3aNvgXopL1t1nPpqKcqpH4rlo05Rrq5iqA20lz4XahNb5m9nZ6d1dHTY8PBwTGceMY7wDcgm8qf2AfmzaaXIy6t2yqZiY035UshHfuA8wjinTfTxUtB+5g3laHPa1+xzf+vt7V30S2tra/QV5UA2sWUckZ/rGltEY2sppKdaqikvv+HDjRs32ubNm+O14+TJk4vXu1J683yfzV+qfCkol6efvtqwYUPsD8YrfU2f4HON31pA3Wn96keOsYN68trG2OAaxr2Q+YNtlOF6hg72EXQXI9VLPnSsX79+UQ/3ylLtlG2aB0C/Un9ab1pPXluAMb927droX3QUyyfUPvLJjmJl2trabOvWrdbT0xP9tRzy6mhpaYn9MTY2Fu0v5bO88uon+Qx/IlxLkXLamEepvGld7KuebJn0mHzkp5/o76lw3env64ttrpVd5bJcHeWWr4WtcD76p9p6NHYYt9yf0KP7Pvt5eilDusouRSW2oVN6s/uAnSDbpDs9TtOKkT2XlzdNY7+YPl27ip0XS51firzy8ks693XNWm59WbL6VHexeiqpvxY6KgHbuU+hP/VZFtXPMwTXSu4LCKj9IjuH2Kp8Xl7qB575dE9IKeVfziHoQSiv56+UvLIpnF8qj6A+nqO4B584caLscnlUWjYvf7E0+U3+0dzQ/Xw5douldJRTB3bxrMGzWldX11llKrGxWF7GovqL5yWeLclbie48qi1fqtxybYI8HeXqrab+5di83PYWK78cvYxHPVvrd3zK93//98ffFI7jOI7jOI7jOI7jOI7jOI7jOI7jOI7zrcCKLo46duzYE17iK5BFgS2cRxTMonTBMUEfvNAnuEgBTuTNBgmRV6J05c3mwwaQLdn8ecE12eNilJtPlFuP0tmm9hXLn4W2EqhFe+W7YmXz0sutB/1aWEDfEYh85syZ3KAuUBr5CMqgjwn0piw6+Cu2pOVBXZDVqz5lS7sJTFJaMRukaynIy3hkgQV2afGWxlQKc0dBcaC6UxvYR8ijfs3aomO1Jy2fkk0nIJqFDfRHX1/fE/4iMLrwO+dpS7oIJLULUptUD2mMqby2Z5G+VG+qR5IeC8bBzp07Yz2HDh06y1eQbvPS0m1KNk2BZvgEf9G35MEWbcnDFn/l6c7qTMk7V26afMK5UnVAsfKCfcYw/kz7nO0M8zRs5XMCqY4fPx7nL3OSxQqMo2wdjHX6BlIb03ohLZc9lwc2UTe2ljvOQPlTWxirzIdyvmpIP3PdYIuPUj9hT3+4RsXrWhgHyst8Y8v4wb/Uq3nFdUB2UJ503dMQ0jguB+kph0ryCvmZ7fbt223Pnj1xLuzbty/2czr3UkhTn9J+9mmb/JYtU0xHOSjoGL9RhvroWwJRGaP4nGs0NhAImLcwtBJkF/rwi64DtA3hmDzYg2RhYdS2bdviQq3+/v7FgNmjR48ulteYLUbqG+pmjnK9IqCbfkEv7SzWP6RjG/Vu2bIljjfutfQRUDflVDbVka1b/obu7u6iYzf1F1uNdcCeLLRp06ZN0Vc8Q3IdzubLa1sl0Bcs+sNuguDz2ivy0tRPtA2wmTlP27RATVKMcusS8qPmFf5Gf1om3Wd+MMYQ9jlHW4eGhmqyOGq55UtRaX3Zc5XWl0clNiy3vlLjJIV6KqmLcaIxyvxj7GgOItK3XPuF6spuIbUlrS8vTaS25e2nxyLdh+yxSMuLYnkBv6XzrVTePMrNn5dPvuM6A3oWycu7XLuyx7SbtHLHKBSzIS+9WN4s5eZLwWdcl9niM435LErjeYH7IvdQ7jt5eZlHup6iU88fGsfqK4R85KdertfkU7+l+ThGsugegx720YGuvL7IKy+y+kvl5Rqxa9euONYee+yxiurKSy9VV5Zy9XKMyD9s8RG20yeaH6VYyq68OrMspQPbGH88azAO+B2lMsXKlpOufdrMv5nwDMjzH4uvaDvns3qK6c2jkryQzV/M93l6K61LpOXK1bHUmMgjq7sSe8vNS75K9FbTDsE1bvfu3fHZOu8PD3ziE5+wZz7zmQtHjuM4juM4juM4juM4juM4juM4juM4jvPkZtUWRymIRUI6L/jZKk8e5CUgny0BnUpTOekgDaRL5wTnlQdbIM2bitKy5KXloXyqD0qVzZ4rllfpbNVuHS8FbSY4J/UdFCubl15OPaC6CNyh79gnOD21OUVplGPRAkFZBPCSn8UGjL9iX6bI9rtQO9kiBIMXy1splCcIiyATAuMUXK0xnoLtCmIG8kmyx8ojm1OyaSqfJU0nKIvgdfqAgHyC4NMAdvoFX2M3dSvQD1J7pDOvftLQo7FVDiqLfupTudR2IF1C/7FQhzJaTCD7BOUl6XF2PyWbRl34i+B8LQKSjeRlS9+zr6BISPVkdabknSs3Tb6AbNuzFCufQjsQBVwCbdIYYPzs2LEjBvYR1Ede5jQ+wTfUIb8AaQ8++GDcB9KVJ0tqX955MRvayUIt8mh+pWVT0vR0LuIrznBEGwgk5DpTql7BuJaf0MMcwVcKRBxjIUTwF+eosyHkaw4+Yl5JKAvYR1mNG807wBZEfaF+0H7a35Qt5oM8KskLskX7LCRh7jEHjxw5EhfgRJ+W0Es5fAdZ+1PydCxlL7rQz1hkK38i+Bt7mcPkw5/yM+NzqS8rlUJ2yTfolXCOdHSrvdl2YC9ziS2B14Cd7NPP6JHuYmR1kh8/cy/iXslY435EW/O+iER57KNeFj1yT0gXB6EvraPYPpCXOvE392stykohj2xky3n5JpsX8I36j33dt/BPStaWSsAOAoqx/dSpU1F3KX1559CR9hf7zA/g2qAxqbbmkZdeyg75ESGf7FYZ2cIcYEEU12/AFmxi7KdlVK4ciuWtREe5VFNX9lwt7MrTsZTeauutpBx5S+VnHEh0rHsY5RgDukZBKX2Ma5HqE+n5VIf2yat6VC6tLy2TXg/yzueRns/LW6p8uXWAbE99Vinllsnmo27Vz5ym79LfFFmqsS0lr34oVl8x8uwoZlu5NlfaNmznPsI1U89Wpdqh30z4mK+CUgZUL/oY8+hkn+dB9HFefmJLfZpv6NJ8k540v8hLoy6Ea3ra79KTkpcGabr2i+UFniXwAc8F+jJquVRiVx7F8mbTOUbwlwQ/4XO29LOuc8Uo165S+crRwfMMvzd4jkn/HaNY2XLro638luE5hr7iOZLxoTFE3jR/Kb1ZKsmbonLFyuelV1sXLFVflkrGcpZK66oEdFait9L8grnBeGTM8IcBeC7MwuKoG264YeHIcRzHcRzHcRzHcRzHcRzHcRznyY3eI6bvFZXO+xYdQ/b9i47Z6h1tNo/jOI5z/lNscVTxTxdUCDcTAoW44bAFbhzZYKFSoIO82aA+6ZR+SHXrPEEkyoPo5qW8qS21uKFRB8FMClhmS9BVemOtBsoj6K9El9oNaudKIfsQ6mGrALOlwDYtgNPCI9IIRJP91VCLPs0ifeqTUnUona3GnLYSztFGjWeJfFlJfwNjnq+JEGROUDRB5swfgW7GKFtsUZAfyM5yUF61sRzStmTbnLZVPkptUXCg6pQA5VJ/pZJNLwa68AWiAP00f17ZStp+PiHf4ZcU0uoW/MU4Uh/QP5zjGMr1RV5aSrEycV6EeqlHfVeMPB3Kzzn0zIUt7WAMpXOhFNig/NiQBsWitz7sc6y6+IoUAWcsFmEREcJiMoIXpQOfUhYd5EXY5zx6uFdw3yCgksU0LNRjq0UjnKcvVK/qrhWpPvaxS1+b0VdolkI68vqlVqA72378iL+53uEjfKW+lv80ltJy1aDrEGMEXeiV5OnHDsYB6djBuKLv6WfGRDX24AP06mtU6KOPGC9s8YGQTaqHreYypOdENn96nrq5t+Bz7tfZcaH8uq7LX5Rjm4U8WtTD4i7aJH/WEuzB39idZ0c50AaJwJepvamv8pB/JGlalmy67KZ+0qmTMaVrBfd22ocPCXBn/uremdrs1Bb1Uyq1Bp0aZ3mSPc+8ZDyQTv9r7Cif5gP5lFdCuoR8COUk6TyQqA6EaxPzAmGfMaj7aXouKypfSnf2vMhLK0XanjxKnVtN5Hv8U27bziXy27n0H37CX5oXkLUlTWdMMT51nDeOOCZfqkf7mm/MF+linGusirQs6FxaX6pTdUpPmq8U2TzZeoX0cV7Pl9w7zlfUDmyWT9jK1+n16lxC3+namy5CXy6MMRZ4syCbZyWe/bjfyw8IFOvvlYL6JKvBatd1PlGNPcwHxox+jzqO4ziO4ziO4ziO4ziO4ziO43yrwLsT3qHxrlNx2sRhETNLDFJbWyFmu76h0Wbn5m18cspGxsZtYHjU+geHowyG/eHRcRudmLTpmVmrqyferDXG4aAPXcScoY93LtR3rt9HOo7jONXT8JYAOwcOHIgv0ffs2RNPVAJBG9wMFMCgoI1KAkQUXEI5Ao3SgADpkX6dowz1slUaedPAkUrtyJLakUK9utnqpshNljZgj+peLtRfjv3yQTF7aw31EJgE1E3bCaqn78qxlzwKzKQcx+hTwGSWYu1K09Gh8VAr0M/DDtu0bRyndafBcaXGnOxTfy0HyjP+CJSmbgKjCZpX3dSBf+VXbJRtkjxK2aV2V2I7dZJfbc7uSwB7aRN/eVtfc8r6U/sqwzbPn+n5vLail/7gIZd6CDoT0kk58q0m1C3bi/VROUgHSKfaom1DaCPjmwd8xgk+57pGvfQBfsmCn/iaEqR1iLw0kZ6Tb9mSjr+hVPkUlWGb7Sf5jfGk+bsUlJEe5goLQrg2MUakRz98VCdb8jP/8AtCWfzGOXyqMpDq1TWDvNJFPspQH+MS0Q+utG7IbislLYdehLYgXM+xTdfmPCifzjv5r1ZgB/olWf3yO/7DN/iJY8B+zqe+LRfyZvNLB6I2o19k280x/YjQ35QhyJVnpWzePLL1p9Amxg56GCfMV+qh7Vnd+ITz6VzGFsizQ23MoraiD6gf5A/GjvqIvGzz9JOH5yWEe5W+sIBexpr6b7lgF76hHgJE0a30SpFPEGxli79BbYW89uaR2pDug+rBT2xVH8dcC7hO05/4mzYxnhD20/HorD7qu1JSKp/6vBwhr67ZiK41pDNmEOljm6cb0rErYRylc5h9rh1KT/d1XnklIruv4zT9XKD2p6S+W21kD1v6kW3e9XylSP2x3DrRda58yHMAdWtMirzxz7zhHsH9OXvf4TxofqW6NNdIZy5QNltfuaT2YDt6ivW7bCqHpWzBfu6N6GTBzZMR2ki/qn8k1aJ+qAY9azAeuB8vF+xAJ8+M3O95huG3WfobNUu1tn8rspxxAOebLyu1h7HDv6Ow8LHYmHnDG95gu3btWjhyHMdxHMdxHMdxHMdxHMdxHMc5P+E9Ce9Rif8ipqi1rc0a4/tBs9HxcesdGLKevn47091rp7p67GRXt5080x32u627t996+wcLC6KGWBQ1sigD4bg/lh2wMz2U7bbT3X0LZQZintHxibjAqrm5EIvWGmzQu3xY7jspx3Ecp7bs27fPdu7cadu3b19IKVCTxVEKcEWqDRJSwJHKpzcU0oC0VBTwlNYtqcYGdGkryYN6CYRhtTA3QQVKseXGrCAnAmWqsaMYxXRhj6SYzbWGtlIf7aTtBPDkBZkVg7ZgKw8x7FOWfcgLDivWrjSdMrKrVn5AD/3JVgHpSmcfoZ8JQGGrc0jWDh2nadWCDvzFwijazMIo5iH9oboJkKFvSMM+zQuE/Syyayn7OC9ZCtWX1yepHs4jBIAzlgjqIcgMn2JrantWRJ49aR06FiqLH+ljgvXlF/yGPXl+Wkny7Eztr4SsDgUR0qbZpJ20nSA8YBwRVIXf6YPUv4KxpMVRQjZWYqf6lDL4ulLSMZXXT7Jd82Ap28jPtYdxNxj8wFZzXsJcQx9jRuNGY0U6dD1gPOmaID+rDPmVT3lZ4MA+NnAOXeSjrO4t8UfXgmAH6ZxX++TLpdqqvEJ14EfazP0NPdikNmRRXSD/Y3MtQJ9spA7Vg/7Ubo7xF/mxH/+yT378w758uVxUN7plg/SmNgH1cg4bBH2GrUg5oDNPAP2MFdpGu7luUhd1qm7yks557q+kpzpkex7kyZ6nLo1hjVHypf1TytfkaQvXdhb4MMa4vmiRFdcc5kC5vlkK7MJO2q9FtkLtz1IsXaTnNV+y14dqQG9W0I+/2HI/xD+0hXPMSd0fqZ9+rRXo/3am2vZTLr0uFIPzEuXPHrPNSjoe0n1tGYuMP11f2Nd1QPs61j5zIm+LqFyeFCPvXLH8avO5JLUBP5bTxnKopm0qgx1cY9UXy7WlXFJ7V6vOWiP/sVU/yq8iHdv4mecc7o26D6VobpFPkMZcA90Dy+mnYudlHzqpS/oqZan6Ic3DvUT3XH3lMvXT+URqW9oG9hH8huhcmme1wJ9axMT9ebnwLMdve54Z+V2vL0Iuhfx0vvblalGrMXA++bFcW7hG8eyLMHaKPVP74ijHcRzHcRzHcRzHcRzHcRzHcc5HeCeimCTelSlGZnxiMi5y6urutRNnuu346TNxEdPwyKiNjU/Y5BR/mHx579gpx/vaqekZm5ictFG+ODUU6uzps96+fhscGon1YA+2tQfbeM+r9zjn4j2l4ziO8zjFFkdVHpGeAxd5bjLV3mi4WRDcwjYtr30FPIHqAqWl5aqpP0U6S8HNmEAYAliwLYXypBN0RZuWC/rU/jzbOCdZLWRT2hccKyizHMhHsA/Cgw3woKEgsUrR+EPfcsdAFvTRvtT/qoOtxr36QQKyK+3HWsAY27BhQxyHBMBoYRRQD2NUAWP4ROdAtuexlH1qL1JKjyDPUjo5n/oH3YylrB81XiSMFwn1yB7pkkg/ovOCeggQxJ88wCq/6l1pUlvS/eWQ+kKkvon7QeoW2so4QdSntF19XA6V2k0daV3L9XUxOxkXmhvsq848ZBPBjfwl/f6+vrjP2EBYiICwr0UpwPWKcUOgKYs+2HLM/EMngbcszkAnAY4ETtJe5i0L0pjD3CsYf+TnPPay+IEyvb29ccsx9lA3+egv6qEs9aJr48aNcYsN6Oe6Sj7qo49K9ZPOaT5gd/xBF/SUUw6K+bZS0ININ/v0jdqRRf02MDAQrwuax/SBFjDXCurSOMKW1LcSYHzgR7bYAPgUf1KmFqjdfWGsMmb4hwHGE/Xp+o8wZsgLsg/S/Tyy59FBG7BfzzfssyWv/ILkwXjsDOXwSbowii3la+UXQJ/moOoph6V8AuikDWnbJcsFHbqm0I/MaeYz9eB7+prrAfvyd62pRTueTKi96Rahf1NRerFzIj1PvyH0aSqMzWya8rGVzqxk+1t1MB6Z5xLuI4x7rucS8iCMm+xcTfUqPZWVgjada/Ah1NqWSvQpr7YrNbdXE9pSa5+WAn/hN825bN2pP9lnLpQi7ZN0vlJWc4r68kjrLqcfsZd8qZRLOXmzebi/8MzJcwPo/Gr2V6VgG5L6hz7U/V3PPJrPqwU28WzD2ODau1xoB89x6OQ5id8PauNS/YNflGepvLWiVvWgR3O3VB+uVrvOR8ppO75j7DBmlrrGOY7jOI7jOI7jOI7jOI7jOI7jnC/wjoN3mIp1m7c66x8csv0Hj9i9D+23hw8ctmMnT1vvwKCNT0w84f3nSsOCqaGR0fh1qgOHj9n9Dz9qDz5ywM709MWvS2EzwjtDx3Ec5/yiJl+OIii5GnjRz02OYAhe5nMDwwYFeHAuDZIgXYF9CkoiX1YqodJy5NNfCcbuYpCPQBnas1xSGxFB/QqmhNV6AKA+hPoQHlLoP4J4KkH9THn2CeZAD32b9Vva7hSlp2MCn6TjZjlglwLjsEnBJtSr8ZlNl02kYRO+Il+xNlQK+lgQwV+WJgCfgGnGmvyJvQjHpGMH+5Ji6Fw5dtIutbVUfuVbqj+om3zMLcYDC0mydUgHeeVbCWnaZpHvJaoLAbbUi8/wJ+cpI32SSpD+bD2l0lOyx9WS6pEfGK9ztDHsk0aQ5Lp166JPWWzBDw4t0smDMZX9clS54Ef8CrKnFHl+J0W263xePnQj9C1wfSGf0gX20F6+FjUUrmEaAxLlZYuP0EN+BaCn8wubGEdcx1hAwlhmvlIHedGtcugjr+4nyose+Yit6sTvLIpAB8Ix6bpWUjflqRtd9CM2oJ8+1r2CetUuhHK6ZqILIZ2yQF2yJ4X80oXUEuqTfkjrgrz6sBvfkld9ThldC+WnakEH+iTyiexiC7o2gcaB+pB+Zo7l2V8t1KXxQL+zqEbjiPppN+fykM3FUFsFdTFW0KtjzqdzALLtow8I+AWeE7L2YDP+QUD1Vusn+Z3xgG8qQXVLRPYYP2AfbRfV2otexi39x4KozZs3xzTsj1+yCz5j7qd1rSRqq9qb7p+vyEZdK7KS5kHS64u2Is0nAcqoHFvmmbaIrrES5VcZ6YF0rLCPMJ8QjSsdM4eVzhZkA/kYJ2mePIqlQ6lzK438kvpmNVG98kEtbZGupXTqvMaK+nK1SG2r9Vgo1e5aIt/xrIPvNBckWZir3I/1bCXUF+oP8iHoo18Q3e/yKOXL9BjdqgObpXspitWbRfmy+bku8WzIPZLF9+l5tft8JWsf+5onuuaq32tJKZ/wbMOzBnlYzCR7KoXyjIMtW7bEvunp6Yn3/uw9n3ySpSg333JZbj30G8+A/LsGgh+g2Dxbqr5a9v9y27baMB71G55nxmK+8C9HOY7jOI7jOI7jOI7jOI7jOI5zruEdDO+FiO1qaW2NcYC9fQN29ORpOx6kb2AofsGJ2MZy4I0Or3XqkfB/zY0N1tocpKnemhrmzGYnrW5uyprq58JxnTU11ltjw+MxqHVRQ3mQf3pmJn65qru333r7+YOHM/FrUvzBaN4Bk6eW760cx3Gc0hT7clRNFkexkKESuMkpcBDY8kIfsEHBCLpZEGwi0c1D53SMDkRlkVKUkycPymArQayyvxgE5dIe2bgcZGu6xQ4F6FYbkFMN1Ev9CuQikAc7COSpBPUf5dFJ0DgPPqRlg6fV7ixKVwARxwqSqhXYhj6C6NJ6EGzFD1n/K6iHMUJZ5V0u6CMQiwBq9BJApQAYzmErIh+mwUXl1i+fFkNtkcgXWVRfsfNC+dhqoQhBZroWCNqXCudkA+1MrxPZ/pANlFN/pOUZvwRnMWfRRT6dQ5YLdVVCpfnzUBvTfYSH9NCo6AfayfxjcRTjRXMQPzCu8iBftYuj6Be82bDQf6Uo5ndKaQyQp9iPIfRrgRDjifsUbUJoH8I1i3RkNOxPLSzOEOkYYIygU3bFukN7GKf4BOEawTFjSNcF/Mz9Aju0qJbzsoVy5EM/vsdm3V+ivxbqE2m9CuxVeySkI+TFZq4J0s04V3Csrhe6j1AG3dhHmoKHCbRL7UCn5hH5a4nqof1AHRJI7ciCLdgK+JA2oIctbaIty0F2YENqp/qKOthyjH8AP2MLiw35cU+5tG9qRdpPjDX6mb5ljKvd8imkPl0K5UM37WNcINSntiB5UCcBv2yZZ4zPbF7GJnqlK6USOwX6aD8L95kntSK1A9/Sx0u1fynQiS9ZEMV1mLHKdVhfjMPH+CZFPqnUL9WQ1rHa9WbrY8s4yp7LS8uKyqfHoLL0JfsI+xL6A0nPS1I99D/9pLGgfbbZ/VR0zdA2FcoI1ZXaqnuA8mdJyz8ZoG2S1UJ1ZX21EjbktU1p9CfjDDsYC6vZd6lNK1Gv9GfbXivkP2BuMBc0nyCvXvJxb6a9um+ST6K5z3Ue3Tyraa4V85Hq0fm8eiFbD1vZW0v/5+ni3ojw3Jj9zS57tT1fwT7ahrCP39jquqh219KXxXwif/Jcwxippk50o2Pr1q1xvPG7nmcAjd9KUP2pvcVsrzXUg5TrA/LybKx/nOQPvvD1WxZI8UzE+bznH1GsXbXsd1GsrvMNrmmMJf3OLYYvjnIcx3Ecx3Ecx3Ecx3Ecx3Ec51zB+zzeEfE+iP3B4RE7ebrbjh4/ZX2DQzY1NR1jCkvBoqaWRrOO1jpb2zJn69vmbGP7jG1qn7Nta+bDdtI2tI7buqYxa57ptamBY9Z/cp9N9R+yhskua5nutY65AWud6raO+T7b0DRu7fPD1jo3aK31U9ZsLKIirrGOF0XxS1al4F3v6Ni49fQN2ECMny/EALW1FT4UUc17P8dxHKcyzovFUdzYFLyCEGyAsE/QMDeENPiIrfaLwTkJSJ90I7WGgClu1rQli+rEboJb8oJ9awF1I+jmRrtaqA/VN+zjC9pMe6sBHQR04CuQ/9J2FetHpZMfOEbQWaxMpaCLPtdiB1A92Jj2MVvysOW8xmItQA++ZmEUAVQEfusvVVOPAvk4JvAt9Z/sLoel7E3P0061HXQuTSctT6fyYJvaQFAPW7Ur1QPSJb9mt6k+9vGB0lI9oDLAVsFY+I5zefWvFrJrOaAjq4d2zYd2aZ/zjCm+6kIwFYFo9AFbjvPAP0stjsr6DF/SF9SneqttYdqu2D9x72yog3awQAJ7h8J4Yp4iLICaCu1TMCNtJR0bg8JYPtUf0wOk6bqStk/2RFsW8itoHaHdHKfXD91DdO0kXfnZZx5zjjHJtZF6Ia03C+UQXZNoF0L7437Yso8dspl68BELMzT3uBezpU5sALVD5YDzanOtkL60Hm2xCZEPiyFfyo+0R9dw0mh/Ncgm2ZNtO/voxkbqUhp1s1hJ1yJsoj/SsrWC9tHHbGm3gr+xq1h9as9SkI+2AboZG+jUYqdUv3TiB4JdGVs8J/KMkGdH88IYl+15yPdZyYN5g33cI4u1u1JUl7bqZ/oVgXLrUlkWKXI/xz+0m+sRAevc/0r5ImUpX5yvpHZnZanzEuXTNhV8rK2EMSbB/2zT8whlUjS26Qsk3affs+npNruPSKdI94uRtgm72de4ozx15KFyT0ZWw+60jmL9sBJ2pDrZR+hbxmP6nLBalOOHWqH2LgfpyNOlY807kc2Hv7kXM590D1MeXR8QIG/efS5Ltg4olobIBnRqLq8k1MnCE54LuB9zj8mSZ+/5SOorbNaxrukcS2pFnm94tpM/ee6sFGzl/s9vMGznS9A8A9TiGpDaez72K2Of558dO3bEZyHdk0nn+Y3nTOaF5l4eee2qZZ+nnI8+TNFYwof4rNR49MVRjuM4juM4juM4juM4juM4juOsNrzD4F0GMjM7az19/XbwyAnr7u2zsYmJkl+Iamqot/YWs3WtZjvWmm3pnLaNrZO2tmXKOptnrKV+2prqZ0O+kHl+xup4TxjqGBsbte6uLuvv77U6m7M1HWtsTecaa21psabGQvwYS5/q60Ldc1NWbzPWNDdhzfNj1jI3ZC0z/dY2O2it80Pxi1P1dYX3vPN1xT/WwBekhoZHrKe/3yYmp2J7Ozva4znefTmO4zgrQ7HFUY9/RmAF4YW9gh7YRxRkoCAGtgSFKTAsG9hUCvKRnxsJ5dmiX3Wypc5akQ1eoy6JkC1pvlqhetTm1UI+BbVLtlRrB3oI4gAeCtinzwg2Kod0jKgP5Jdyx89SoAdRWwV1EHyiethSN8J4ox3ZMssB3xPYRtAQQdSDg4PRBurgHIFE2EDAm/pDNtUStVfI3+n8JQ+iPkmRTZqrSGoj9qdBPdKR1cOx/Kxri/Y5J7vQhU4Jx5xTncqLPQSo4V9dL9iqbslqsRJ10k70qV2gttIv7KtPyiU7HrLwI0a+Rn/8wRCPqkN2a4yF/4vHKYwBghY5z0KDmYV5GiXYQvs0/hb1LJA9lu2ksU8bNN7S/kn3BfkZc1r0QAAl9rBIhDQF/aGPcYcwl7FNwW3MawIIt23bFv+yOu0if5a0brWB9lE/uvgy1lC4ZrBgBOH6gT2yiQU76OA6zBdsFKzI4ikWuLDFvmzdqquWaEyCdKsfRNbXKfiPNtFO2kWwJQtmNL9LlS2X1Me6D9BX+Az9tIE0fE8f4D/y4r+GkKcYebaRpnTtp/nSY/zEV6oUrMs9gy8SMG5Sv2bJ6i12jA7ahF8ZK7Q3D/LhcwRbsCnbh4L5qTlVKbJPKOAdnxerrxo0DgW+BerC7tRXpaCdzKcLL7wwbhmr+IegaOYkfmWcyPZsvecbanex9mfPLyUqk4U0/IzEORQE39PfEuafhHMaUxJ8KcG/+DkV3RO0L6Gv02PlyergGEnryNaZTSuF2izfaKypvnJ0gMo/2VhJm6W73H5YCVukF9H41PhYLVaiXeVQbb0qp636T3ML4Vw2Xxb5metGmp9rBmn0h+Y+cw2K9UtaPi9Pej6FOkDXDrVFUilLlaU+2gY8f54rivmjGtRWtrpOp31Yq3pEarvuQfQddRfzeyl4huK5Hl18MYrnVvTVguxYqLUvSrFUXfQNz+K0Xc/kqW85rz/cwP38fGE1fVgp2Ma/nXE90fOp4ziO4ziO4ziO4ziO4ziO4zjOuYb3acQqEX/Gm6vDx0/YfQ/ttyPHT8U/8F3sDVtTY71taK+zyzabPXXrtF28ftJ2rJm2juYpa26YNV618uaG92H19cSFNHAQhPevMzYyPGzHjx+3/r4e4wNQne0FG9rb2qy5qfAHw4XeqelNEEeksXAqLpqaGbOWydO2dvKQrZt81DZOPWZr6gasuZ5304UyWWZn56y3f8D2PXrQHgoyNTMb6+d9zvn8zslxHOdbjRX5cpQCHLiZpEKagjUI/pAQFMI5BR0uh1R/vFll7JBtnKsW7OWGJbsRoboVkM5+raAe6gS1czXBfwoEUmAmxwT30HcE9VaD9BAAg9/k1zTYKPVxFs5hE1vZyBa0XQ7oQ9LxiV3syw/UL0nHWa3AJwS5EyyEHQr6pw75jrrTQD6Oq6Eau9VPbOUb7FRa6h9E+RDlIZiNscQ+AWKwlC0qD/I5/k9FOsibtQPhPOfY4mN8yeIVzkm/dKRblVsJpL8WSE/aFvwCbPE544rFO0D7CZxkLuZBet6Xo/LslY/DSasPY5iFUctBfkFoT2xRRicLT2gP44kFGcWCQPPszYN6Fq+7QSglG0Ql44C8zA/mKr5kniAca/5qXFIvIhvoG/pLX8ah/ziXbYvsy6YDaZShDl2/qB9fadELgt84jx+pl/q57/GDDf9ig9I1z0rVWw5qS1550jRuywFdug5RFtuxl/bIx+SphNQ2+VBCenrvEbFNIa0z/OCnXvKxQA+7svVLt0jrg6XOC2xQkCT9iF30F+mytxRZnZRD1NeU19ggL+MmhTz8AwfCOa4t5C8GehlXjDvmwHJgfiC0u9pnklLIN/Sd+lvjKQ/y0z7mK/cXFh5yzD2G+xzzDjs1huRfjY3sGDkXYFcthLZpH9Lj9LzGGVsJxxJQmdRPqeBD+bHcY+0jWYql51FuvlLQNm1pM3MNGGtILer4dkb+rYRqyiyF+pcxDhqHq0W2TefjuMJG+Sm1N2ur8nFd5hy+LAb5eB7gvsO1WPczldU1XXUoLYvsydpSDNkoO4FnAShXRwplyi3HMwH3ZO6xet7PQ/atNMupI20z+1ld+Ja0SvxTCeiWP/XvPZXUw3znWYAF0oyz/v7++MyyEraC/LMcn1dKXl2k0XbmHn/0AWE/D5VnfiLlslI+PN/h+qXnaPxVyg/+5SjHcRzHcRzHcRzHcRzHcRzHcVYa3u0qrm16ZsaOnThtR46ftOGRsUKcXwZeDTU31tnGdrOd68y2d87Y+la+BjVXiNGrD6XqHo/zgIaFRVHzc4V3gnVB8+TEuA0PDdqJE8dtZmrS2lrbrDPYsaZzrTU3NYUyj79zpgy2pO+1YlrynkXn2C6em5+1xtkRa53ps7b5EWuwmdDgZpuvq89tG+3v7R+0oeHRYE9LjLeDvPfPjuM4TnWs2pejuMEp0Ev7wM2JC3sqCjzSTaRWF350ZesD2SXb0htcuSiog+AiBbUS2KR6CJIh6IjzBM4oQKcWyObFG+4qQr20HdRvIJ8quKsa0EdgEXXgW/yIXvxXDpQjP4K/2WKfFhos11cqr37U2EI/5xDSEOomn/LWAnRpAQv7BFTLX7QXn1E3Yw+7QHbJ9kqopgyoPvliKVE92tIe/Kc+k5COCO2rXIrOSZfmO37S2ADqZ8wi+I15jF8JKOILPconPRKOJTqv/fMd/IVvsVftA7ULn+Ar8rG/XNTHqm+5C6ME+hb7nq32A9TDX3rgBxZ/ZSIvQIxjCbqQPDhPG846H9I0PknHXyx8kQ/LJbWBMahgNu4dWjBBoCRbHTPnsUcBcARW8lfX+cvq7HON4Fy0qYgtaTp1A2m0SfOAelnwzFdsFLCpcuyTj2PmE9dorksKcuTLTCwA4Ucu9nBt0twrZRfIH6XywFLnU2gXfqUd+BGwD1v11+qXA/1BHYAu2a/xoLSJ4Dd8i784xi/ZutNjla0GyrEQEX9TJ33JYlruV4wbgnHpn6X6Q8gW2kQZ7KfNGiv4kXZJF1uOqQv/4HfGOOWKgT50U8dyoG7NgaWCQ6sl1Um75Bu2EiANW5gHzAv8Tr8zf/SlKD0r6jqDoF91rIT9qZ3lisg7lye0XeMllTRN14RUVFZ6QP7AR6kwZpB0X/d0RGmppGXZSrf8nB5n5VyAD/AL44h9teNc2/VkR2OrGpZTNot0sWXc05+My3PF+Tae5Be2Wb8XszWdF9kyWcjHvYprkZ5V8H/eNUR2pOTZVYo0P/rU56nNKwltpc5KF/KsJJX4rxSaN+o/+kzPnnl9VwsYM1ybuadXMm+xh+dmnguA5zOeV1Zy7qf9vRK+KAZt5R6mOcbzop5D+d2C/0qh+18lrHT70L+aPiwH/KzfF4x/x3Ecx3Ecx3Ecx3Ecx3Ecx3GccwXvURTfOjc/b0dPnLYHHjlgXb19NjP7xJjw+vo6W9tqduEGs0s2zti2jmlra5i2+rp5lMU8ep+q92nUUV9XiC2dmZ6Oi6JYljQ2Omw9XV124vhxmwvnOlrbbOP69dbZscYam4hJqQ+Fg76opaAnhXTSVB8CyscxcY+N9Yp/DOenR6154rR1jjwcvyzVMT9gjXVPbCdlR8bG7NHDx2z/wcM2PTMX/xAj78Mcx3GclWN5kagL8FJeARDa1w0jDS7iRoXoBiLIT1qtA0Oy9SNAfdUEzNA+AjsoSyCLgo4JIkfY1zHB7OhW/uVC3Qg+UjtWE/Wr+lDQRqVXC/1EsBYBRgruAAJi0A3ZMSM0ztjiZ/mIgGMEvVrEVC2UVXl8j53oTccVdWo8IVmWUz8BRQT04w/GlYK+FWwEskG2Lqe+5aL6075LRWSP5TfakuZHOCf/Qp6Pi0FelcdnEsYK6fiNYCL6lDmtc/KpoDzpbGVLnpyv4Efak7WXtuic9pFKSctIH0R/1cAvslf28UMqhXNcP/ihRX+OhbmSjqUsSpMP8iAP51NIS8cGf1kiHQ/LBb1cY5jnLCxBWEShBRXd3d3W29sbF6ZQLwtdCDJkwQ+LpdKFUrKrGLFvgshHEoEdXHO4hgJzhHsci410r8M2bMXn6OKapOBH7CEAFJs6w49fftzRR9iGMNeyNhazF7s0fiuBcizkkc3YqQVS1f7YlC1ssYc2AGmyMW0XdeJHXVsQ2s95STGK5UnTUwHmG3VQL2OVsULb6SvqpT/4x4h0jKhsitLJIz+pjXGOhX4HdMkH9D/H+IYxSz7I0y+kc7nITtqselcK2qc66Fe1j/rxAWOLMYavSUvnDmMhba/8jGT9UMpvWVI9EnySSt65NC1PyEMblJ/9rOADxlOalqcb8J3mkIQ+k+DXrKTpaV5EOrJ602PtIynF0s8V8lPqZ+AaTFvPJ1uf7JwPflRfA+P02510/LMVGveay8XgHPMkWz5F6Wy5ZvG8xDzj2sI8Y5u9hqiPBGWlp5Q9eVBO8xpboVIdQjYsBfbr9yLPQ6Wo1pZqKbcNSyG76TddL7kv6f5cq3oAXYwd1VWuz+gHno95BqUfeJbXb/paUKqNaR219odAJ2Mb3+j3GM+DPAtt2bIl/ibQc/dScxnIozlSLivRrvMd2oyv8ZV+rzmO4ziO4ziO4ziO4ziO4ziO46w2ihVqbGyKi6EeePgxO9XVHd+/Zmmsr7PNnXV22aZp271u0tY0TVlDXFT0ePyGhNhA3hvpHVfh3e18/KLU/DzvkwrxWKdPnrSeni5rbKi3NR0dtnbtOmsKNjU21lt9yM1/+srU4++qFt4tsQmiOrIU8vK+r3BuPpRnAdbjeuatYWbUWseP27qx/bbeeq3Jpp+gi7x8QerhA4fs0LGT0T5i/vLqdBzHcZZPw1sC7Bw4cCDekPbs2RNPVAKBHQoc0k1EwrFuEsUggIK8K/lCP2uHbpjpja3UzYZz+kICAS2IAqkQgshJY5u2n5u/gkCQLKo/lSzYKR3USTuK5V0JqIf6sUNBY0qnffiEB41KA1hSaBN1cNNXGwloYj+rl/qz/akgb+VXHu2D+rtS5H/6VwsFpFf1oJd8UMt+oV4WFxBMRf0EmzPGSMfv1IU98lkq1VKO/WpzMfALNlYC7aH/CeSnraB2UJckTau0nakehD6TAFvGEoHs9DW+1vhTm8mT6oBi2/MB2aLxyryiDbSHrRassNCFLdB2xlQe+KSrq2vh6ImgN+urpSinH1NdMX+mDO0q/NBqjPbTh3l60SEpdgwqS70p2fMcyzbSdL4U5MlKHkqn3+gP5rruM7SPey/zhXSg7dynCJLTvUc6VE/aHs4j6GecY3/qM/Y5x7hQ4B31QtYW9nWMcJ7y1KdASeY31zJ0cUw6NmMX9ZAXe+RPYCub2Oe8jlNblwL/YR/1UC824CvapOvnUlC/bNX8kI+RlDRNuqkztV8+EiqTSkqx9CwaB/QLdpKfemg/x5xn3jNG1H5I9UvUJ+ynYwRRn8mPoIW8XE+KzcEs6G4P9kRbMj6pBI1Txh/zYqXAXoEvEWxmyxjXV6JoD3M0XUCY1zZ8KOG88qgPgHPpsfaLpWfP5YnOs1Ufa59tup+eVz0pqd3aZ3xoH19wLMkeK19WRLoP2XypPFnBpxL8zXgCxo3m15O5fecD2XF7rpAdmltAH2f7d6XtPV/8AdgiSeH6UC4qj1/xZVpW6crDvYJFG9wX9YVDXYs4rzII9zT1j9LYz/ZXOWCD7hnF7gmVInuLwf2Iez7t435Ujk+X0llLKq2rmM9IT/uGuYXoGKkF9B/PsjzD8axRjl7K8HzE8wFjjoVRbGtlkyjHl+SRVFu/yusahvAMxjhjUTjCvsY6beWZEH8hzCeelxib6MnCGOW5iT8IwTPd+Ybafz6AjxlX+Infv/i7VL++4Q1vsF27di0cOY7jOI7jOI7jOI7jOI7jOI7jLA/eVSj+aHxy0h49dNS6evpy30k21JltW2u2Y82UrWuZCcfzFj/ZFNC7l8X3HAvvPOJxOMcfLicL7+jm5ubjsc3P2kBfn50+dcKGR4atM9jR3tpmazrXWFtLi9VRNojeGbLQioVN1MVxHYudUBoXPQUhP3shLWtPIe3sPz5OGl+xinoWmJudsbqpIWuc7rFGmwwO6rDZnG+XjE9MWk/fgDU0NsQvXKFLcSGO4zhOZezbt8927txp27dvX0gpUJPFUSzYUNCQAovKhaAKgo4oR/0rTXqTAuqXcKNJzwnOEfCBEHiQDWZRmWw5+UQB4BynN3/dSEvBDVqBJQrcijfXYNNqQV2yIb0Rk05wGe0j2Crb/kqhbQRZo5eHGbboxOdsOZ/6T3bRL/iEMmlwm9C+bKdcOb4XlEcvQToK0KFfQLrZpnXWAmzkAZK/tkz9fHWCsUfdCibiWONKNizXjkp8k82b1o+fK0GLOgiaygZCSS/1aVwAx9qvBnRJ8Kt8it+xg318i48lsiUtSznZwhaUVi3Vls0rR5rGCHNG45ctC4o0h/E/Y43gqnSupdA3eYuj5Bck+hK/LJyrBfIn+rPQB7SDawH9puCwSkl9p/LF/AlqL8caBzrOK1crqIOxSF/RHwjtJvAQ4Rz9zDiW4BvSUhvpJ9I0xtP2AFvOkYexQRupK80L2pdNXIvJx/xBZBf7pJMXncx52cc+waayE9ukn3q1xSa1oVJoi/ylYGG2srkcnWonxHG+4CvI7us8ZeRH2il0fYG07FKQNxXBPj6iDuY07US//Mc+7URAC9VIV58K6aINbLN9DmoX9dFv6KKNBJozHtO8pUA//UD+6QWbq4H6Ee7VamOtSf0N+FmL/hCOtSCK6xB9rPEi1G/yMUI5jvPanq0zLZ+iNPSlW+0j6s+sCPKq39iqjxHtp+nF9tPjrIh0P6XS9G8F1E+Irn/4kGsTW8F5p3rkv/NhLKX9TR9nrxNiJfv8XI4ntT8V+iXtm2r6iTL4lC1+TfUD1zvuNwj3Le4V3LPyrtPaMh+z98hqQBe2YUOpPq8G2ZsHzzrcp0r94YAspfStFOXWWcp+zqGHLULfITpGlgtjh8U/3Oe5xy8FfU5+FuPxbMQXJHk+Wykq6btK8yL4kzbxvKUvsSKMMc7jE8ZaKjwX6TcAc46xz3MPOtCXhXHKwij+jTG9B5ZDJW36VoDrGL7Hx/gNSo1zXxzlOI7jOI7jOI7jOI7jOI7jOE6tIFaI9z28mzh26owdPnrCJnPegzU21NmWzjrbuXbaOpumreGscNLCO7zCOx7eRxHbpPd6YVtIje+MkIZQmC84jY+OWHdXl3X3nInvoVgQ1d7eZi2thT/U3RDy8F6Wd1HxvXFQhDbS4nuvhTiZ+VBffLNCfeF/8dzC+ya9c+GYcnx5yqJthffO9dgS7dGiKcU1oyvIzJg1TncXviLV2G6zdvZ7MRZrDQ6P2MjomHV2tFtHEGJEVK/jOI5THiu6OIpFG9WioBVuDrUMElqKwk2pIBBvWkHybnIEwXBDxz6CWgo3svIgL3q48RK8oOAq1VEK7FHACOWkS3auBtSjPiKYRT5ROr5hv5JA6GLQPnTiK+pSUCiBNPKZ6iUoh3wI/iCv8mftUDnOSShTCnQg+B292CD96BLyDWkqkxVIy5QD+RlzLIyijcwxfIzd+BxkU159y2UpezlfLA82pGOU46X0Ae0luIdgszSwPVs+O/7Zr7bdeXrxKYGEjDGNPWCr8cVWcxIoh2gspOic9sslLVcM5Uklmw6ymTZiI1tgq7YSvMaPFtpMgJXaloXzxRZHxToW9FOz6q8G9aj0yGbqQVIYNyyOIiiM8UPfQOoHSR7o0zm2HKMjtqNImTQ92hOO8e25gPo1Jpk79BE//hDS6F98hLCAA19pvnEu79qZto9z5GOsoA8/Z8dHnp9Su6gjtQ0dXNMYa2zJg/9kKwGX2Emd2Kp7jfoE3Xl1LgXlZAu6GPPcm5WW+iALbUGoV1IM6SEP9chfagvn8QX1ltuOYnWqDm1bQh1s8TP16JzyYov6gvsLQbtsNQ7Ig9AfiNqNLkmqC/36YhRB5ojylAN6KEvfYxdjoVLQwbihL/MC3WtF6hv6ctOmTbZjx46YRhAvwnjGt6mfSgnt1rUDf6ao7yQcS9Q/qaTnQeVkS7YfJUpfaltMRLpfilL5sPfJjHwuWYo0H2OBvsPfzMc8P1Wi23mc881f2KM5S39rjuVRa9uz46fceVtLZAOCD7Aha0dqYzkoP37VvnRyTLqeJbhH4HPq5p7BvvKprPbJw1Y25tlaDuhgjrNN5zfHtQA9ebr0RxD4ouNK3RtrRbE2pJTje3Son+g/+l7HywG9PJfy7Mj9nn5Ueh70N89YfNmH/Cu9MErIj8XsSsE/WShHunzH+OH3A1+z5rlHz3z4k2ce5pAWhWuRDs9z+Ccdc7KH+cYzKud5bkttQMeZM2esp6cn6qiGctr9rQDtZDziP/pB/io1zn1xlOM4juM4juM4juM4juM4juM4y4V3E8Tn8O6VhT2PHj5qfQODT3hHUV9XZxva62zXmknrbJqyens8Hgn0/m7hKKSHDauY4iolhPch8WRICccLp8ZCnWfOdFlvb29cYLRu7fogndbS3GSNDbyPjUXje65Z3ueFhGha2BbqX4inif+FbThXz37MV4hFk42iYGdBMQui4i75w7lZFkVFCVbGtHmbDW3lOH5UanbMWueHralh3ubqW8OZs9/PTU5NW9/gUPTrhnXrYl16f+04juMszYp/OapaFKRE3efiwq4bbXpz42aDsE9QC0EbnCfooBobKUN52kogiQKySkH9CuQhr3TIvtWCuvABYLd8BNhHcDAQBIN91UA5tZOgDvQrDX8pD/WpbxSoAxo72Ec+wb78laarDdRFgBLb7D46EUF5JO032SN9qottml99JzhfCs7TNoKPCHhhfinYnDEEslGovlpSyk7qKnae9qZ+KJe8YDOVT/Wo7rRfK61LqA3Sx5a66VvsYUxo3Ku/gbo05iTq5zSvdAr2dZym56G8SDVtS6G0+iW1i3FGsBv6CUZjfGnhSrZO2cLYSxdHkUb7IS6MWshXK9Ake6PfU7tCGm0gSI/20QbsqxbZrbZzXKotZ50LZThObUVKlV8pop+CP/AFY5h7F6KxzTxjfOsvves+p6DdtP2CdmkhEWNEflbeSpBtsk+CXoTASoTz5KWPudcoMBPR/bQh2MyYk69lczG/Kx1fUBf+wAfopz7S89qEHQh+0D0xrw7SVD61iXooj93UxTmEuVYKympM5YnOsQXq6QjtQTftA50jX2obbcXv7ONb3c85Ji+6lC8tl4VyzEHyca/S2KgEfIoe7EFPpTAWGJ9ci6p9VssiH0vU9wSab968OfqM+ggIVlAw9lO3/JTVkQr6EPyMKL/SqUvnOFY55aMO1cU2K6SnUixd59Jj0DZLmmelSNv6ZKdYW0hTvwL9zTF9wRxguxQqm6ffORv5aKXHbjlgC6J5n86/YqjMSrBSerOoDem4p82lxnoltilvek2VT7lHIBwzv7h2YwfX8WILamUvcxPRvbBUP5VCeqgrW5/qqgXSI9t53sNm7lPlXFdSamVTLSnX/9iu/sIPjAnNtWpBj553uOeX8id5eV5ljPHblj90Us3zzUqQ9QG+Yj7gI+zmWR+7+Z3A8w4LvDjH8x3jiIV2tF9/4EC/CzRHSqF+IS9ltbCKY/ScOnXK+vr64vPUcjgfx26toc/0Gxhf6roiH+fhi6Mcx3Ecx3Ecx3Ecx3Ecx3Ecx1kOvHPl/SPvjrp6+mz/4SM2Pf3Ed2BtTfV24doJW986ZfVxwVMB3mOk73F0PDs7FxcV8VUomJtbeO/BF6B49TvP+9156+/rtWPHDtvoyJC1NDdYZ0ebdba3WWtTqzU1FmLeGkMB3qPEd3OxLsVsEf9ZeFddeM83H84U6svaBOm7wPjuJSTrnRpwfnZ2xmaC3nqMDOVoQ9zOFz4Q0dhUiIvn2KaHrGGyyxqa2m2uvoWci6B/aHjEhkfHbPOmDbEt58u7RcdxnPOd83ZxFMEXQEDFUsEUKwl1S4CbmYJtgWCN5dx0uCEiCs4ieKFYe7M3UkS2ccNMb8grCfUQIIM9efYqeIZz+KdYe0Dn0i2S6lW7CB4nWB3wA/UzPtR26kUoR59Ih0QoP5CuY3SyVVn5GMnqom5EeqVHOlKkPxXKsgXpVH9mURnGB8HXBLsQGMRfmaYM6aDgIyima7nI5nJI88oWtaUStECB4DH6QRRrX7YO9ivxRVqeLX0F1M1xOvfRq/xZAc6nY0j7nNcYkn5QOZHqEmlaJe3KQ+OEeQOyh7lG8BvnaCf+Z1tqPjMmtThK7Yaos0g7lgM60b1YV2IX7WGeMDcIrNPChOVCXan/S5Hmkc9IU39L17kCfyCMS64b9K0C6HT/1XzDZnzKD1nGAufxrewnjWsT1yACItXeckltYUv5VJQmW6kHe1lAJLvZqjz2tgYbsVc2M28Z11yjdf9A8voAPXr2oK1aXEPdpAnZDak/gP1UUvLyYQs6dO+kbdKtPMqHqB1qS3qsNAnlSCOIFZ1aeKVz2X2gncwb2oxd+BHbyJP6QgKck+AzriH4EagXfan/yoV7AGWlq1ywg75HNFZK1Z/aX0qUF7+gG9/gW/yjOcCY1HWnVD8i2T7jvNLY17hGsF/7SlcfpPug/WKSzZ+lWHoxsHW1kB+z+09W1Ab1P7Cv6wp9xZxjWynS7TyOfHK++UU26bcM/V1un9e6LdLHttJrQbmgW2Ne9emaVE6dKrMU0s81lecA6cbP1J/OL4R8XNOLfVFJ+lRezwvl2JwFPZrn6X01C+drCfdVntu4VyHV2H6+UUkb8Cf52er+W+5cy4NxxR8v4d++ij1rUBfPDORjq8VEeWPsXIB9+IFxTXv0/Kt/e2BOYDf5aCP2SxhDPGcxFzSXqhlT6hfKo0vPUvQRi670/LpcqAf5VoU+pN/wV3Z+y8dZfHGU4ziO4ziO4ziO4ziO4ziO4zjVwjsl3iOxkOnA4WN2urvHzlrhE+CjSls7p21r26g11M0sLj6CvHc3hdcZ89bQSLzEQiwY7/VCvvglJmRmJmbs6e6yrjOnbX522tpbW2xtZ6etW9NpbS2FhVFzwa5QiIpiuanpmZDetPCOcNYmJifiOztsYDETeVi31RDOh1oK71cWjIr1BgHZjR4gPY3joT4tuqIsC7waGhrj++HCu8mC7tkZYpLnrGFm0NobJm2+scNm5wvx4WKKr0j1D8Y/it3Z0R7rkR2O4zhOPsUWRz0erX+OIAgivaGsNLph5YEN3JQU7EHACHk5BgXVFCtfCnQr+IPyBCspSCqFY91MF2+iC7BfTd3VorbKL1k4h0+ydmbhnHRIdIwOtVn1cWNnH/8DgR/4CqhPddIvethIdSGl4Hy2TbJR6DjNI92ysxTKm5ZJ2yjdqf0I53mY1F8B1l+ZxgeUU5uz9p5LZIdsUpsrQXOLtiHFUB0I/gH5FCqtN4Wy6AWCwQg04qE+O0/Zp07ZrDHJPmAXcx1BD8I+7aKs8qZCep7UAo2tuoV6QO1U/RxzTnl1fimUN21HrSmmk/q4jjJf6Cuk1NgpF9ojfyzVHuUV7GND9HcoG3+wBTvFSvinHLALm7BNgY4Eap45c8ZOnz4dgzwZo4xNxnw6trkOs/gFX6uf5XfOKWh4KTS25B/5LhWdB47Z55qHzQRLYje2smCUvzTPPsI+/U8ZbMY+/lo/ganI+vXr4zWVAELOEQiK7eQlGJPrLEJb+Cv5LILhHMhu0HW4EtQutqDFP+hXQGocK8GH6M8K+eT3VEiXpOmUQS/70iub2aZpSsfPLPTBj9iqLwUoOBbbZb8gnXrwK+fwH883XC9JrxTqVRsqBVuol7L4V2kpHKdpOs6KbFD/MPY1lhg/+EpjkTGnaztk+wJ9IP/RRvJKOEYgm549LiXqm7SPVGc5Ui2p31aT1a6v1sh+thpr7NPXXO+W0yfwZPfPSrJc39YS+h6wiXlcKfTzcvs6W77WY0c2pnp13ZGUS56uPHSeLfcFPcMzt3S91nVT21I6OVeprVnQIclet1ca7mNcY3iOqrbOUv45n6G9mlv0P8K84/lP868SVJYxpUXReZBHC4x4XuDZqhbX9mqh/xgD2IVNPAfzPMOz3pYtW+LzHse0j3bp2ZrfCYies7WAqVbjF7vQw5xkbkq/5kotWQmd5wP0JxQbX9WMc8dxHMdxHMdxHMdxHMdxHMdxnCy8ZyGOivdNo2Pj9tCjB6xvcMiyryc6mudsV+ewrWkYNr70xEKg+H50NuyzTSS+ywvnY57wH8eKsXv8XEHHxMSUnTrRZT1d/TY/Y9bZusbWdqyz9tYOa2lsiV+KIh91sDBJdbHlPSlfd+JdVD3/Rf1zNjszFc4Tn7wQK8qiqkAsm7xTBsog+IF0xfJwnldQeg+FXmIzGxsWYsvC+diWhTL1DYrjqrOGuTHrmDhg7XM9cUFZytT0tD12+Kh19fZFvxMH5jiO41TOOX1jzgUf4UagG8pKopvRUpCPGzpwcyRgAwgskcj2SqCNCv6grB4cpIcbqXRzY9SNVr6pps5qUD0S3dCz6Dx2CtmL6OaudgiVo61qsx4iEHyEcHPXeQW4kYY+BTmpLiE9Ij0v/UjWtylKY6t82KBA9VR/MVK9qlO2ZdsM5EeoQ4sQCETiIU2BffgkDX5RmZWgUr2yBVGbKoH2ItmxkofqIS8C8qX8Ww6pnVmbGbeapyxeKKZT9bKlT9NxAthJn9F39KWC6VO7JdLDNhXQtlr4awr8VQUhH2In4yud4+yXQvmybShFNfZTQqVkr6A+Aj7pGwLpCD5cyu5ySOsp1/cqk9qHb7CHkhoX6JGcC7L1Yh8LYgh61OIggiD1RSjGBfcnxjPHjFvOIQTjsViEhTEsHuFeRl/QJ5RRewXlNV9TP6UoD3YV60vycC6dTwo8VRCn2oKwgIW8Gi8Ef6YLptYFwX7aij70sK8FUrRB45w2aX5WStp+7Kcu9qmbuvAnfka35lNeXRxLhPzJlnTsB/Qrr/SlpGnkobyCYvEdduIv+li2CdXDefbxG32Bv4F24a8sqY48UptB+0sJdWmcokNl1UZEedlXX2o/FfQwlglsJmiYvyjAMX2mgGHGHOMKH6lPU9uxQ7ZkRXkR5SON+0TeuUokBTtWk3NR32rXWQtkN6LxxjhM+z/bl9XwZPTNanA++EX9T78DfQ7V9nut27RcfWpfVk96rZJUSzEb03rZMseA+aU5ltbLPmn6zZ9FujQ3i9VbDsx1yNqQx3LqSWGMUS910v5qWU5fnQ/ouqoxgE94hmF8VOJr/MmzJL8P8/yJLp7nWFDNmGIhP8+lPC+sJthJ+7CB5xeeyXiWwy4WQvEMzDMu8EzPMx+2aovNeq6jnSvZ/6n/NR91X6w11FWruXW+wL8ZaX4X66eV8KXjOI7jOI7jOI7jOI7jOI7jON8+8H5FC3QGh4Zt32OHbHxicuFsAfJsbJ20TQ3dVj87Hr/gFBdEzfNeOGxZ/jQ/Z8YCJhZC8R/HYRs/3RS2vPNgYRHv8OK72YU8I0OD1nWmy3q6u6POtZ1rbd26Ddbe1l5YhBTKzIb8c0b5WCqUpyy662xictImp6eCfuoI6aHamenCe8O4MCq2wKyhsVBvfLcYjnmrpPetes+UXTRVePdUeP/EPl+jogz28P6GNrMwq/BVqcKirwIL8WDBN00TJ61j4qA11Z39/pF6jp08YwePHrfWtrZoh+M4jlMZDW8JsHPgwIF4Yd6zZ088UQkEi1YDNzSCN6iXm85KoBtU4Ya0NORTgDfBsAi26QbFTQypRGcWbmDopA7arxsn/og3yXCumD+qrbMYakcqgB0KGipmC/YrSIjAH7VDW0T62Mpvqf90Pgvp6AbsQNCHLWldWfJ0pnZIV3wIKaJDSBf5aSvbpcoshXRmBZ9QBwFMtFtfppCvsFc2AzYsx46VBHsrhbYTwEX7FGC/FNST+gBfAWnZc3nITrb0LVvGl8phi8Y4AWIck0ci0rRU0nEO6EU0vxHppH7Zr/ypDh1rK1kK1Uk9emBXOroZbywSITgOe7gesc8cI08eXBP52hC60CG780CH6izH3iyqA9QW0FzhXFxEOFX4WkytoN5q7VZ+2SpdleqpJVkb2Go80NdcW9jStyyQYUsa/iUf40L5aRf7bMnH2OI88xfhHONZYxohj6RcKCd7U0hDOC8fs0W35hVtoR0S7JToOkp5Pqusv6LPVnVqsRJ50U37OIcI1V2K1H7yy3Z8w8Ii5h77mn+gPCk6zqan7Qfsow/QyTWLtlNGdufpTYV86OKejq/Qg2/whfqP8xxjP/OQIFryAm3gHNdM8qn+pQSoG79TDr+LNB95sscIdvCPMZRL25wV2oOk51UH6RrHXFvY0h6eb7nGcF9Kx498zhaRPs6lebSVZFFblspXDejVVrKSrLT+PFarbbUgtTMdi4wXxlqt+r0YTwYfrQTZdp9rP+i6w7WSPlffL6f/q21TsXKkSyolW0btqvX4TuthH7+yZV7hW80vngeKPdNSRvcd7pkplM3WQb5q2kE93F8ouxpzXXBvZFEMbeM5g3rTNj1ZWY7/VJYxUmmf8mzDAiOeC/BpWg5djCUWHpFPC/RXur+pl/FFexhj9Dl28EykRVE8xzEfuNfwfMdYkHCsf8fJPt+gezXGi+pgi++wlectfFdrVqM9qwVtYbGb+rTUOEt9/IM/+IN2wQUXxGPHcRzHcRzHcRzHcRzHcRzHcZxS8B5KsXldvf124Mjx+D4ppbF+zjY19Frb/HB8X8F/vJPgzQV/yJ3/bEF4ZRHfWsT/KxxHwg5v0QvvNEJ6+P/ZmRkb6B+wM6dP28T4sDU3NdjaNZ3BnnZrqC/kq28kTqfOZmZnYl1W32DjE9N28tRpe+zgIRsfn7S6kNbTN2AHDxyyyckZmzW+JjUedDRYc0tLqKvwTiy2a8Ee2tvQWPiDfrEtQTfv0qjnCe/SQv1xiyxAnrk53nUV0rCxAG0r5EV39FdQVzc3bc1zQ1bX1B7sK/xBbMFCtOHRMdu6aVOsZyXeoTmO4zzZ2bdvn+3cuTP+EfyUc7o4iiAOAiAIyMjePJfL4k2oAshPUAmBGfhCCyJ0Y0v3uUnpJlhpPVC4ERaCyhF0kMZNLOuLws2w8PBQTV3VQL/QvrTNQrYQiEMegn/wV3oOSf3DPrC/FORBD35RkDp9QvAHgc95NqWk9SmfbFGwXBqsVMomzql+dBTrn5RStmWRrdRBABNfq6A8i6MEAUK0WzZLVgpskpSLbKq0nKCvFYxOgE81ZOtmv5SflJdtOl5SYbwQVEaf0wel9GWRPdKvMYgAutBLm5k/HBfLK3ScTS+G2hEKWOPC2Be0jR8xjDmC/7GFtHQ+ZyEP87C7u3vRxqUo19Y8VEfqd+YKQX+MF+ZJHC/J+eWifkjt1v5SbcmWk//jX7cIojRYSlctoa60v9gy50BjT0Ifk8Z9mWuP7oPkbw9+b164X6GPscB55gZ5dS/XtZs+4p4K6M6Oa/kij2LjS+XL0QHYozmGfdgqe7EdYT/1A/kR7GcREFvaRFt035N95M/amdonOKaM7kHcU5h/6MSP2JBHqidPp7aI7iPYhE7aIOQn5dW+tmoT/kLU/+jgGogPpAO76V/mn8YHSB9tw18aD6qzlOAXyrGlL9Jysi0rOs/1gH6izdRJGmgL2I6gV/sIeTReaRc2MD60KIrrC8fZcilKw/+ADcqTzZtCG2gvyIcrjXyW+uZbhfO9bbKLPle/a45oDK00K+Wb1PcrVUc1FLPlXNqqerlecH3V3F9u/1fTpkryLkWpuldybOteoOsp13OgTtK5nyB5cJ5rP2W4n6V2pm2RftB8LRfK0tfYpmeLlfSHUNt4JmChDvcxkbatUpZTtlYs13/0YXr/RV85OnkOYlF7V1fXWc9X+IRzLIzima63tzeOJ83tWvoMXdjNmGLc8szCM5r+DQGh32kPfY4d/K5jq2d2PfNin2wsBvWtRp+rDvyH/dhZbN4ul9Voz0qQ2s0+fU+/85yKv0hLJb02arwjb3zjG+M/CjuO4ziO4ziO4ziO4ziO4ziO45SC9wrE0PC+4fipriBnnvBOraVuytbNnraG2QkrnJmP/+md6lxMnNeao0XqFlLQDeRlMVL82lQoOz09Zd1dXdZ15ozNzkxbW2uLre3ssDVBeOfVPzhgk9MzNjU9bRNT0zY1QyzjhPX0DtjDjzxm9973kO3b96idPt1r3SHtwKGjdvjgERsdHbOhweH4Hq2hiT+oXYgVqg92TIV69F5F71awq/COlz/UTCxSNDey+B6mrj5+C4vFWeSjDOcKEjIGH8zOEv+kcvU4IJYV8ctSYds0W1gENl3XRrFFqHtweNQ2bdwQYz/Td5WO4zjOebo4ipf6kAaSLhfdYCqFMgSaaCFENkhKkCaB9MYIlbRDQVLcaBFuvvRBqiNb12ogX7DFPtUvW/QQowcBgmzYYh9p6oNUyiXNjw0EIalOAj8USFoK9Qd6KAvsk4ZO2qQ2IMqX5hWUIfiIYB32qT/7kJHml45ykV3oJ6gK/xHEhB72GQ9qc1ZEWv9yQM9ydcnvleriWsAcoL08yFaK+o868ZvSONY2BTsF+4h0IIJyBLzRP2mgWyWgQ/WzlY9kg+rU9QAfUA95NJ9SOJYsRdQbdPEgr/pUjmOCqphjBE5yrPGXHeOArjgeg/T19pZVv1DeSsrIT/JP7JVwzAIdFkNw3dGirlpBPZDWLTjOpuWh81nbOVY/pHlWA+pEBPuMaY052ZnCMb6lz7k3jYfrL3NzKvgduzVn2UcH1ymEvFyrFYSpsUx++o2t5qjI84P6IO8caWpP1u5yUNs037CZ8YTNPM/09/fHYENsZY7oGkDQKcdaLKT7AoJO2Zq1mfOayxLqx3/oxG+M5TxSXVm9kOrk/sZXDdBHWzQ3dD5FafKj2kAZlcM/ei6hvbSdPuSeSN9is9otUX+QH534NT0PbDmnrURjinqBNPmNfZAO1cMWe8jHV6x0v1Rb2ErSY/RQhkVV/OV9XePpe66B2K25UQzZAuRDH4K/VEep8rQpbY/ypnpXEupJZTVZ6frOVbvywAaNX8YH85S+Znyl8221WA3fnA9+B+woNQdhNW2V3xkHjAmNAVjKzkoot021aDs6dC1Lr2OrgeYVW+YV9wL8yTUY38qmUtdyynBfS58nVS6FNCSdrxyXQuepA3RvqBbZUA7k4z7MPZX7Gj5IKVdPHsspWwtqUT/9yLhR33Cc1zfUhTC+eF5g29fXt3D2cT9v3LgxPsMcP378rOcvIT1IpWMAOxGuGzyrMF551tu6dWt8fuGZlP7l+ZWFWWx5juE5jWcZPcfltRF7zifoD/yJD7F5pTjf2r0UGjug8cC/GzEe+b2Cr0hTPkTXRIRxo2fs173udU/4B2HHcRzHcRzHcRzHcRzHcRzHcZwU3jPwTgqOHD9lp7t74n5Ky+ygNY8etbq5wleb4n/zFuPjCq+kFt5LJe+n9K6KvPHdx8L7jzqWBoVTczMzNjw0aKdPn7a+vt74hag1nWttdmbeTp/stjNneqP0dA9ab9+wnTrTZ6dO9tiZrl47eeqEPfroYXvwocfs4MFj1tc/YkeOnLRHHjlgp05129TklI2PEec0ZHw5CuZCpaMjwzYRzvGOCvuijcEutryD0zve+Xm9Sy68m9Y7m7goivdwNCAucVIM1cI7dFJCWfJC3FJF2Bb8ofdAvHevs4b5cWuum7bp+nY0xTJArObA4LBt3LDeWpqbV/RdmuM4zpON83ZxFBd63UjOJdy4CC4BAkqyQS1ZCje+hZtiQDc9JN7cQnrh5lUa5QUCF7ixZuvW+XL01QK1A1tkDzZoix3yFwEXBCOD7KvWTsqprAJI9fChgGcCfJbqG+mRrWnfoDNtE5CuvNSbliU/abSTfIxVPWCovMgeLwX6EeaB/to0AS4EMqGLNlMXeahb+RHOS9K2CPKcC6qtl36m/bQdWQ7YgL8g9UtqW3af/BpXaRnSOMdYZ+whtYA6VW8qpKlP0/mX5mebonMi3Y9jI4jGNaRbFjsQ0MeiAiA/13O2KRzHsRjqxyb+QkMlUFdq11Iov8rwY4K99jBO+MsUslNzsRbgd4Q68XMelbThLDK6s3o4TsddLUG3RMdc1xD8hy+z/Z0llg9b/koH85OgRQUwoodgOy18Iq98iV6uY1oshXBMHsozryjLvsao5gLHpfpBQh1sawH+YHyrr7SPLbSbgFgtnCFdbWAescgJH9AermWcwzfaqi2UA+wmnTKcQy/1p21O21VOG7GTgFl04WvKqC3Z8tRDmrbk0zhgX3YCfuDah70EB5OfPk3v/amgBz/gG/mQsvgFYZzIR0hqi+4D2I8eyrMtJrQZH5JPZUBtSIU6yI9t9Bm+4pjFoYgCTMlbCWnbaSflZQcU00d7EfJm80jftzKp31aSc+nHtH2MDYSxmo7rc4lsWykfnUvfM7cqIe2rlUJ1cN1jzuv6uBKU05Zq26t2yMe0YaXakUV1S7iGc9/AFv1uYl7pPORdY4E0ynH/5h6gctm8pJGPuirpM5WjvzXva+EntasU3Ge5x3E/LfYHX9BTjq7zkeXYjS8oT3+rX0mTj/S8wu8NCc8+bHnOkD8pSxq/4TnmJQ3PStJTDbIHGxg3PGdTN3/IgoVQjFXOUQ+/3Xp6euLiNxb38Vyme0vanqWoxJfKW2kZyVLQZp7R8DNzeSWppA3LJVtXMX8oXcJ4QHTM2OCY8bl3797oIz3vk8a81zO28jIeEK6PXA9e//rX+5ejHMdxHMdxHMdxHMdxHMdxHMcpCu+itDDq0LET1tX7+B8OBN5wNE9129zgwbiYiXdSekcV/q+woGc+/G8u7gUW3lsl7694t0EcIH9gPL4TCckzk5PWG+rq7e62Ab4MNT5ho8Pj4bjfjh85YwcPHrcTJ7psaHjSBobG7MTJM9bbwx+/HrHDh47YyZPHbWho1CYnpm18Ysrq65vC/qRNhP3CQqUGm56cteHhUevt48tT/LHNehseCWWmp+J7PxYxpe/ysY190uO7l4bG2J5gdWwH6TNzs3FxFHk5B4+X451iIS+eC4dBT2PIX9BdEN65F/IUyvGub8La6idtpr4z+EnlC7FbhQVS63yBlOM4TsJ5tziKCzov77lwn+uLNTd2AjEIIFBwbDnoRiahTQpiQDguBXm4eeIDAhY4Jghm8aFhgcLNsrIgv0pAv9A+9eMHtmqH2sQWn2ErEIyT6qgG9KoeBQUB9VMf/iENm0r1T6pHNqFPOtGFTs6RT+fUNiR7jn0efiivwLtseyttv+pCP4FOBD4pIFxzIq1HW8qk/cAWOK925aF8KwF1ItRRbT2MJXxM+/Hxckh9lWdPms5WfZznP7VLgUYExNUa2aP+TMcjYBdjQgIqozzZraAsaD6B8lAHD/eMP9rFMb5nX+WAfYTz2DYT8nRVuDhKZO0rBnWJOL7CtjmMD+zFBi1QqTXUlfo+JU0rtx2Q5tX4Uh2xbQtpOl4J0japH9nS3/RtakcelEUok45D5i06CMpkyxxmQQzpzBfyg8poLHFtIz99yJa6GaPMMy0u0jUhtVfIHrVpuX5T+7ENVB82K9CVH//YyP0O4VmBuYKMcd0K+TRPaAeLbwhmZczSFrUHHdKPyGf4Ar2gdonscTHQRb3YpoWc2J76ii31Ki1NR+QDSPPQL/hAbWSf+jhWGeUVtJm8+DFdREbANoJ/EHRxnn5HJ7YjlFPfSKiLrcCflOfegQ/TcwIb0E0dCnBGD8+uCH7Pu6+Xg9pMWbbYw1b6JFnIo34olufbCfzwrQZtkmjep9fC863PZWutSf2wWqi+any8krZqzjMeGAOMhZRa172ULs4v5aNUB/tqA5yLMUzdsoM5xT0D9DyDCPIg8nOevfQFi1tYHFWsPWmdmrvyQSnIj362sq9WLFU/91/++AFfEtLzwLca5fRBHupnlU+fyfDbli1bbNeuXbZt27Y4NvAjzyo8Q5CXvgSePThHv7J4vtJ/D6F+jWGEZ0c9p+hZiWNAN88rLIjiNxDPeaRhC88bGpfVUq0vlyKrl+OspPCsxvMm7dHz97cKeW1HNPY0DtMtwjUEwTfaMvae+tSnxusWYwI/cZ1jLOA3xoVE6WyRH/7hH/bFUY7jOI7jOI7jOI7jOI7jOI7j5MK7Cd5D8Ibm6PGT1tXbXzixQF040zBy1CYHDhuvcebIOVd47z0zMx0XRMWkcMz7nrrw39z8XDzmrdB8+I+8LADiPQnvOObD8fTkVIxDPHXyRJDTNjQ4Eo777JFHDsYvQ3X3DtnMXL2NTU3b2NiE9Q0MWld3l03GuKK5+AcFR0dGrKmxxTraiWvifWkhznPLlo22dm1nyFdnIyPj1j8wZGPjk1FYRDURdI6Oj9nU9LQ1NjVYe0enNTY02egoaVNRB+9aWltbrCHs8wWn2SDR9iCxnfV4Bim8R8Y30V+Lr8IKO4V3Q3XxfY7eB+l9GMcwE/xBwfrg3ebZEZtvXGOz84/Hy7EQa3BoJC6Q4h0jtjmO43y7c94tjuKizg1EL+zPFdxoCMJgS2BtNQFE6Q1PN6002IF9yJ7TTQ4fUJYt6QTHcCxRmVoje9hKZFv2mG26T3AGfqPvlhu8It2ATxBAN8I4QT83dQV6FAP7ILVHdlOe9NSnqo90CZBfbQUFLlE3NqX6K0XtRb/+GjT6CHSS/rQO7M2rT7ZJn47Jq/zZcuTJ01ULUhsqheAv/Kuvp9QCbNF4yCI70zz4heOsf/A/thEwpyD6lYL6U9E4xCZE1wSJUBtUDpSfc5pToPPMYcYf7WLskZ/xx75085capAOhLPO9msVRqW3a5qF8yoNdDaFuFjRwbcQ+FkKk7a8F1ANp3VlbUvLSipHNS13yqeoF8qXHlSA7SwlQJ+MZ+NEWKox1FquXcup75UOYB/QHurh3skBKC1TIyznGFvcJlReU130PYV/Xdt2Due5TFh2qh3HMuNVWOmW7tpWg9mg8Sa90k05b2fKPANjDMXay1TMMx3qGkB9oD+flD65z6GCLHuoinTSgLHnxF2CX7CgH2ad7Cei5QnrYppL1WV4++oKFTfhAX1hin/6hDamPEHRSL32GTVooxj5lSEcoi7BPOkJd6gPpYZu1U5AfvXn3jtS/2IB+8vDMyqI2+ojjYrrLJfUZvqZe+aMY5NV1uVS+byfkx28FaIvGA/3MlrGMaI6cr8j2lWC1+hh/18LHtbY3HRMaC3nUsg9K6Sm3DtnNVn5d7TEsG+Q/rrNs8SH3O7apP8mPKA+SZzN6eBbmvlasT6RL46rctpOf+xv5S/V3tWBTHtTLswDt6u7ujnXXmmJ1rzayoxp7KKP+5PmAxVAXXnhh/EIT/tPziMYaQj4temef5wi+3MRzXznjAh3p8y3CMwp9hXCO/uL3Js/Vel5BP8+Ieq5Eyh2HKwX+k4g0LU0vRZqfsctzG23Dt+e6jZWStiVtk7YSjad0fGk/FZUDXcfoe64r7J85cyaODz1zco4tfstuxRve8AZfHOU4juM4juM4juM4juM4juM4zhPgnQTvrdgePXHazvT0LpwpUFdnNtu73yYHjz/+Vaj5x+OtJPNBpmeTOJyw5R1GfO8RZJZz4b/Ghvr4/mt4aNj6Ql1Hjx2z7q4+O3DgsJ0+3WMjY1PGV59a2ztsYno+yKz1Dw1ZT39//NrTxPSMTU5O2eAgi53GbWqSDxJMWHNLW1w0NTZKbOGE8aUm1myNj43a2Niw1dXPW0trS8zT091rZ850WU9Pv42M8EeoJ62ru8cGBobCtjcukOId3vwcfxC6LcZQxriksK2vq496oyOCz/APFL5SxXuimC2I3hEX3h3NhUIsJGsI7dd7oMK5wn59fYM1zDfY/Ezw2fysNc8O2XxTh83MP/5H8fHnwPCIbdq4PsZTcuw4jvPtzHm1OIqLPS/8CQTgAn2uLtLcZAhOIcCAGy6yHLixS6Bws3s8KAIBjmk/+Wg7DwegY84THKPjtOxykF3AvkRQB76gftJVbyoC+wleUTB7qqcSUt8oEAQ0LvAN44TgIdlbLOgYHbJd9kg3QttUlvPpOaUB9ZEGOg/YQ3m2ylsp0oedjD3+4jR9TdBT3l+AlhRD+lKRT1OK6cnmqxbpqVYfD9j0PQHu+Bewtxp92XaiI7Uve4y/QOWyY4t08jAGGUMEUOb5stbIttRmjhHqR7A1HbuCvEA64zkd08A+bSHAj3HIHCaNQDTGIjr5awT8aFGdKk/ear8cBakdeaR1YT/H2MgYoW6CwOIYIY+kBtBm6qW+UsjX5F2qLSlp3lQHfZNSic5ySdtEffQ9NnC9kS3aZlE70ZHmRdQ36EwXBCFaeALk0/Ud4RhBr3Qh6Ximj+lvBD3k51rJfQdBj/ZTfUD5ckjrZYtOtTeF87QJFBAL2CUdWeEctuMHru34h2uHFliqHoR60av2aJ/2Ivg39ZdIdSDMZ7bUI9+TP5sPSZHONK+OqZsf+9SvBXBqF32EffiDMhzjK/LSBuzRNYYxl7YjhWPSdR6d8oF8n7ZbqB78p+sCumSTFqNRN34nD77BdvQC+bP2AP+AcPnW3dbW3GJDE8W/GKjy0oFN1Id+7MHuYrbTXp3Py+OsPNn+qwX0LfrUx2wZC5ofT5a+Xso369s77YodF9vEdLjGTZ8/X6YpZXM11FIferhega4P55JS7VK7JefqOpW1gzmlezU+5F5Xal6Rl3O65sOl23fbP/38/7TffM2b7Ke+43utpbHJ7jr8cLxP5OmhLtDcTnUVQ7ZShvy6J68Esk9wD+S+Tb36qkytQJfqy9Z7rsCOamxRWxC+0nTllVfa3r17F/uM86nvyMc5PavxbMKXuXi2yPPxJ3/3Xfa/fuSX7Fde86N27d6n2mcf+cbicwmi52fGBmOPZyx9FSp9pl6te0e1foRyy2oOSbJt4rz8ot+j55LUVonIpmM7onmva1V2mwppqU7aizAmEF3j0i3wbM344A8WMEay47XYWCGdL0fxZTTHcRzHcRzHcRzHcRzHcRzHcRzB+wreP/CO43R3j504fXZMYJ3N2cTJe21q+PTi+wq914hfTZpfiPeaL7yz4EtRfNGp8A6DvIV3F3Nzs8aiIBZGTY6PW39/n3V1nbFTJ8/EBVFnuvtteHjCGhrbbM3aTVbf1GQjo6M2ODph03PEaM3b5PSUNTQ129p164LCeRsZGY6xjTA5MWWTU4UvWM1Mz9jA4ID1hPaMDA9bfWOwa346tNWsqbk5tLUh2N5o9Q3NIX+jTc3M2JnTp+0bd99r+/btj1+jqrN627ptqzU1Ft7p0IrGYFNd+C++j+E1D+kL7UYnbX4ivE8iK+8hFQtdiJ3TedQVdutDPehBH+8z56xxZsCseZ3NzD8eX0g/DA6P2PYtm+Nxfr2O4zjfHpx3i6MIHuUirxf6qw02EHyh4BYCDOKNqwagR6KAh2ywBODvbNs55gZGHoT9au1SuXQrwS4Ee7RPkIaC5pfqEwUfK3CnGtK61V7qVvAH+8CWICLSycMWSZEeUDlQOnUh0qs8nGOfdEhtEuz39vbY/v2PxvbS7vR8ucgGBP/xJQ2+ZqEFH2kQlGysdG7I9qykpO1P9yGbtxwon1dPueAPHrKBa4nsqVZfFunJ20rkB0kezA2CDdMFXKtNarPGKmAzNjFeZD/bdMwJlac9BOkxFinL3EoXb/AXD1ggkJYFxmu1i6NUdxalI6pP7ZDfgXnCp2zze6h6qEv+yrOvGLK5XJRXbYM8HZXoLIdUH/2MT3WdhdSeLJSVX+QnYEt57qGMI/QpsJhxyLHurYwZ9tFB3ZRh3HHPyepmHwH0owdBh4RjQAeLY9BJu9KAQ0R6ZHMW1QmUz471FPLJX9TJfUBptJe60vHDlvOcS9uBH2gDvmK+aVEP10Dpo134lDS2iJ5XOEd75TtEbVgXfvxTBwGlpElkW2pfFukA5cEnWlykgF3aozapP9CrfPWhTHvwz6ZNm+L9LaaVqDeLbKUc7UU0nqgzBR/QZsYYQhn8pMBj7McX2K5FXVkdeaxr67Dfe8Wb7PuvfaG96CnPiH+1Zt+ZIwtnzwZ7s23DLij2bKQy2EfbIPW/c27I9mOlUJ6xC/QtQhpjDqGvn6z9nPXNzU+51v7kB37eXnPdzfbiK55pD508bN3DZ39S/1yhPqi1r2s1PrhOnS/jIdsmjiUpuk6tNrIFvyG6t4PuCcX8mJZlm+bb2LnOXnndTbYmXOvhoVOH7J7jj5VcjJHqWuo+ktpLfmxd6b6mHsEzCs/NLJzgWWMlSOs7X6jWJp4b+AcyhGcX/Jf9PZ6F/iWd5ws9+5KmZxd0/uDzXm5b1m6I+U8MdNsXD94f86CbcgjPgIw7dPCMktZ7rijHj7KvnLzkQWi79tM05dEW3/Gsi29W89qT2iBJ4Rh7JdzjtdW1CUmPaQd5pA+/0Sb6WL8J2E+F88qjfYSyCPp5vtZvCKWXC1+O8sVRjuM4juM4juM4juM4juM4juMI3mEovqa3f8AOHzu5cGaB+TkbP3m/jQ2cOOudBO8yKJt9lyFYsMQiqan4h1bDORYFzc7wosnGx8bt1KlTdubUaZuenLGJ6Tl7dP/BYEN7ON1idQ3NNldXb6PjEzFGsLW1PdTVYBOTE7Fe3ie1tbXa5MS4DfT12uzUlDU2Ei/UEt/B8IcRO9d0xv3hwSHr6+uxoaHB+P50lkVHDY3W2BDyE2/W0hKsq7PZGdoxH9I64+KqsZFx6w/lLrjgAlu3trPwHqipEJtWFyRuF94BxfaGprM3G9pJUiFZ75045r1YwUcsokKf3iNBoXydzYSdqeC7hqYGs1Bkbj7oC/81zQzZfONam7XHF0jNzMzaSPDlti2bFvvBcRzn25Fii6PqwkU33pluv/32GJjxghe8IJ6ohOPHj8eLdzGy57iwE+wL2UCkPD3lplUCwQoKusUGbp4iq7tYXeXYoBshNzRubEqjPm7CekDIosAKIA/BE0vdxFI9xfSCbqygfbYE9EA5dSlwm8UsCgpKyas7TUtv8GordeITfJPNqy8ska5gIvUZadKXbbfSaRtbBUenedinXGoTkM4x8sADD9gnP3mbXX310+2mm26KgVNZHXkoHR3ST1sJaqFN8eGytzf+tWgFyIDasZTelGJ5QeekM5s3bbfaDMV0punyXbXQN5s3b446efjNUsyGYqT51ZZUOK88sltjIjt+BOX4McAFtL+/P4r6Ko88HXlpS0G9QNliOpG0XUhsRzjP4qb0gZxzQLuZw1u2bIk/GpgXzK8TJ06c1ba8fmX+3X///QtHpVF9Qu0ReeeVh3PUT4AntvLX7wkEmw1tewIZPaXI1slx2t6sjVmy5SlDWja9XOgf1Uu/aSwCx9Xyor3X2muvuskaw4+qpeCTxuMzU3ZmuN/uO33Qvnz0QRueHI/nsA0bsUnzI20vizwJJmVxCn85g/tpHiqLPua8BGizrv2I2p2OBdUHpOu+ofsketmXP+VL9PIVtMJfJinoTreQN0dA9YNsZ55w72Nccsx8YGxy/QbpSMuKbNqLL7nOvu9pN8c+mpydto+fuMfuOrwv2tu40D58RJ1qq9pGffIZ+8xh5jP3Ru7Lup+Qh3opJ9tSOEZfNh2fMO94TqJ9uueSL5sXu/AHC5UasDkI5ahzuVAnzxhnzpxZ/Av5QFu4dvFgq2sWdWIL+2ct9AztW4q0Tc+9+Gn2Mzd9t7U1tcTjAz0n7Lf+7d1xPw/5VvvYhf9Sn6U+Jo8E+/J8KvLSi+UtRrn5K9Gb5n3zc19p33PN8xeOChzuPWW//dF32/DE2EJKeaR6L9y4zd7yqp+wrWsKweXAtepvv3yrffTeL8TjlW5bSikd9L+EfqX/gf5HNAazOiqxqxjV2JtSTb5fffkP26uuuSnuk/7Br3/a3v25j8RjsVy7oFId6oNy5nxKnr5SdSOvv/Gl9nMv+QFraijcg070d9lvfvD/2oGuE/E4RXYxLrim6/qtOt76+p+3my+/Lu7vP33UfvTdvx/3S9lQCXn5y/XVSvlyqTbIPkRzCmE+6bqOlNJDOd07uR+oDF+OeueP/5bt3LAl5vvnMH7/4Wufir9BuJfmgR30HTrJo7pV/4d/+U/sil0Xx32eU9//5dvsHZ/6QMyn/OXwvMuvtbf9yK/Y2rYOm5qZtrd9/L32D3d8fOHsE8m2Hzu5F/Nsdvjw4bLqXaovUpSXekS5bStF1oZKbMpC2VLl03P0J7/HL7300vgsi+/4Tcr9m2datszXPH2MQ/LwfMK41PyW/M1P/I5dvv2imPczD3zNfurdfxh9pXtC6jfpL2V3Srn5oJK8KaXKpec0FtgqnW06RjR/SVM6eZDUJ8C/kdAPzEd+W0BaX0qx9EqQram92k+3qaRpoLZI1Ba2ShPpft4YgHQfdEx9PGMyRnn25TdINm8pyHvrrbfaDTfcsJDiOI7jOI7jOI7jOI7jOI7jOM63O8QF8W5reHTUHn7sie8Xux75kk32H4/vKeJ7sOZmq28oxALF+Jx5/vA670zqrD7kIY33QnqHEd/1ErdWF46DkIf3HL09fdbe1m519c3WOzhuQ0P8QcHZuF23cZPNzM3Y0HC/da7tsIGefhscHLLB4eEYC8n7vQ1r19jI0KCdPH7UZqam4hessKuttdU2bd5UeH8XzOrp7rJH9++3sbEpa2jkPR7v9+viH4xfu26ttbW38QGqkLfOhgYGg+4N1hzaOTszYWMjg3bttVfZC154s1155VOsta01xnOpXdML763Z593h9HSwgy8/8SUplIb6C4uiAB8V3huxkOtseM/G/4dtyMYCrkXC8Tz/F7plrq7Rpjv22PT82eW3bNpoe3bvtNGRkSf0n+M4zrcDt9xyi11//fV2zTXXLKQUWH7kapVw0+SCfy4uytyIWdyCDQRLcUNcKdRGCccIN0YFzyhYRHCeQBxs4xyB2OQrRrYO2kMaoJe6UiFNIpRP9pWCfHqQSesql9QG+oK2oYfgsTx9tIngJPICgeJ5/sjarvaxxd6sbvblM9mURfmnpiatr683PCyNxuO8vMUgr4R6CGoh8Ictwd60TW0H7EntrAVp/fhCQhpo3CDySTk21MJO+Z46aw32SdAvH8gfqQ9KQXkCtAhCYj6WW65WlKpL59im/YvN9Cdja3FuxZyF/iY/c4p8zCd+8JDGsfRwLKkF6E5J9WqfLfnYMtdZlMaCG321ZqXQuKgU2VppWZWhTUjW78qzGhDcvbal3S7bvCsu1vnjV/yk/eyzX2M71myMNqT9lu1DLULhesZ9lTbkobZwb6MM176+vr64T5v5yx38JfNt27ZFPaSlUF4CjGd06atBzE10dnd3R+EYmK9bt2yJC4fiXwcJx4wr+ZqxX0nfUy+LhfixDvzo1iLDcnXkoXGELVO0J9wXqKe7p8dOnjplR48di1/4PBa28a+ZBDuYs/iLL35ecskl0RYCohEtKsQu3TNjOzNtpd5sn5IPPxEoTF76iPogm5dj+gGbyNcS6io1DiqFPuIaQDu1IA2wi3bRRu6nspUxxZftWHBcSUB6yujU2Qu+WZBTitSH1Mc/egA+xyYJaJ92aN6nda0EWRtWg53rN9tz9169cFQdN1x0hW3sWLtwlM9qtytL1rf0q55VGQeIxuBK93OWlfTLWJgjIozg+I9+55q0H1aavHp2rt9iP/nC7+WfJXORfasx5ytBdklANlZjp3QsB+YRgi7NKe4FhX9QLvwBD10/S8F58lEWPZBnn+6n2eeOYizVRv4wwauf8fy44A3d1fixWvAV98b02rNSyA+16PNagj3l2qRnDPym5zueH/QsxfMM5/L0kc5z1+7du6Ns3bo1plH+5MmT8RlE0B88K5OW1zfnmw+hHD+m5xnnKqN0tjwL8SyKMM/waSqMV/yWztGsz9P9aqC8RNcXhP6nLrYItrDQHsE27GV86HmatgBt1b/V8e84PP/qC2D8JuEcwpjStYptVtJ09ouJ6sR+zW9E5xzHcRzHcRzHcRzHcRzHcRzHcaqBdyK8/5ienrH9B4/GdxaPM299B++y449+006cPGE9vT02PDISv8A0NjJqszMz8atOs7MzNhPKzcwV/sgl70h4J6b3JaTx9Si++jTQP2AHDx62U6e6rbGxNZRtsK6eQesfnLDG5g4bGZ+0uYYGGxwesY7OtbZu45ZgBbE1ZoMDQ0HvjG3ess3Wb9ho45MzNjI6YdNTczYyMmbz9fW2dt36oKc5xnNNT03a7Pxc0NNpF1y42/bsvcR27NhpW7ZuD+XXG+u1entO29HDB6McO3bEBgf77eTx0NbuHpsK+gf6B23fvoft61//uh09dtwmxsbjH4tubmnmBVT0En9AWu+empoKsVkNDSEttCNkWnjfQ87Cex3e9/Beivzpu574Lqu+zprCti2Ua5idC/8fyiPBAXUsLJsdtfnue61+5uw/Wt7d22enu7rjOy3HcRzncWoTvVohCk44Fy/0ucEQ7AAEM3ATXmkUfAF6CKBeHioKN8f8RVIEVBBkQV5uYGlABsL5NOgCdBOVoD/VWQzZh75y+gWdab1LQX75QftqN+1D1K48FGxCWT2cqV3ogrMf0h6HfIj0I+RVftlUDvJruaAX+2QjAS0EW9GfBE8htEu+rMSntUB9Ikl9qfGVHWNC9pbru2Is1X/LJfUrbUn7hP1y7acs1wz8RP8tt90rSeyXsCXgi7nClr9kP73wA0R+4Bzt0RxElL9S/1RKnl7S6Ce2zHMWPXC95Es4Kzk+loPGF5TrK8pIgPKaZ/idPkEXovmxHEJNNjEzZePTk3GrfWRy5ol/EZ8vGV274xL7jee/3l55+Y0xLZtHMGZ0LyWAkGtcHrSFdikIUe3i2k7/8uOULekEmPKVNoJO0amAxKx/ZZN8JfAjelmwc/r06bigiL/sT5rmLwul+MvrXI+pg+cC3Vs09ouBfhZfsQiLdrM4aseOHVFPsf4qpU+gCxukg9bFUhorQQf3C3xFuw4dPmz7Hn7YHg7CX9inH8jHIiL8d+GFF8aFU1p0Rns3hPay8AkfKCA1tY26Ocdf7Wfu8VWEtL+KtQP/US/+WwkYAyyA0qIvxgbH2EhfEIiMrfin2FgtlwdOHbT7Th6I18yB8RH7+IN3LpzJJ1sfcxl0HQX8JtHxcu2shtSGlaS5ocmuueDSZdV348VXlvXlO1A9q9E2obpUL/2N0K/MZcZBto8v336h/dNP/jf7yM/+L7v+oqcupK4cK+WTTz/0dTve32Vz83O27+Rh+5dvfHbhzLnnXMwrwM/P2nuVvfq6s7+iBuoDrgfYJ6mW5fSpxoR0aFsLu0Q19skmfKR95pPuKVzreX7l/ouUg9qjZyvplQjOU9dSyDfZ8nmsb19jP3bzqwr38FWEZwjul1ogXg1Pv+gy++If/q1944//yW5+auGLZlnSsbKUL84F5dpEPp6F2HLNRviiMwut9ZVnnm/0XJ6Faz3PHixeR3g247c9Y3Xh/UZFnI++rASNCeYbPsO3eobnOIW2kk952JKH+Yhf9Qwln7AtJekcV/26L1O/RPXRr9pqn7yUpx1cc1jwxFzSv9mwr3+T0n0eNB+KCW3S/nKgXdhJvXGMOY7jOI7jOI7jOI7jOI7jOI7jVAnvUnjvwPuLRw4ciu8+UqZ6DtnQ8X3W0dEZY6Ggt7cnxubwLm18bNyGB4fiu5OZ6Rmb413bXOEdBqJ3KewTy3T65Ck7dvSYjY1NWHNzu83NN9nkVJ21tW+w9Zu228T0nE3OzFtLW7uNjI1ad6irrb09LoLq7R+whuYW27xlu23YtNUm5+rtTO+gDY5OmDW226ZtF9jatRuCbv6w9rjNzM7byRNn7NTJMzYVbNu1c7dt27rF2jvabN26Dtu9e5dtDcf1dQ3xq1bN9U0WCtnaNR3BrlBfd7cNDg6EFtfFhVL33nuvfepTn7S77r4rLhLjq1C8/6lrqLeGxsI7ML6IpXdiLI5C+EJUfdAfTi3Cuyjy8d6n8B6JuJLCeyBAL36sR29I49imp8xG+2zizBEbeuTr1nf7X4a0x/+gLRw/1WUjo2OxTx3HcZwC+VG8Kww3AgUerCYKKOAmcy4WRlEfNy2EfT0I4AfyYRdBGcqPj8iDrTwsELhBPulQHtJUD9tyoBwCKk9d5fSJ6ionb1pPWp+CT/RQRHtK6eMcASmUoW75KtWfReeoTz5LRX4vVl6QT6Y1hAcbysBS5SDVj70EnBNsRZsJ3OchEVugUM/qzgkhP+FbidqJTdjIWEXkO51bLvIRulcD1aN6aUM5fUm7FRDFgz/9eT5Ce9SmVBpDn6bXF/LQJl2X8If6PIWy8lUtSMeMbBPax04WQGArwWjYuFKU2/9LoXaVqyv1A3Cs+YW/dX2DvH6phInwQ+k9d91mv/np/2e/8/n32m9/9u/tVz/5V/Yrt73bfvHWv7Bf+Pg77T1f/4Tdd/pgXCwlOppb7Tsvu8F+4KrnP8Fegb38xXSCCBVgWMoHtIV+1VhE0M280mImvvxDQCLXeRbD6ItI7Ct4UT7J+l1b0rENwa/oj19iCj9iCWRlXGEzetDLYinq4PrMsRZlKVgTvWm70Em7+dGPbsqyGImy2FcOqT7s5fqC/whuznpQx7SWzzuzcAcbuJfgK9pC+/iHiMOHD9uhQ4fsxIkTcSEV+WgHi6N27txpF1xwQdyygIqFXfiXdtNm+QJ7aBtbfCSfZ/3AvnzInFW/1Br6gDpYOIfN3EtJY9EbbcR3tFPjYTng27d95oP2g3/3FvvJf3qrffXwQwtnipPWqzGXHTfpFqmFrdUiG2RTrTg12LvYrit37LFLtuyK+5XWx8KqCzZsjftcv/iaV7nUuk2lUJvoa+YIfc+cLDYWr7ngMlvX3rlwtHrU2iePnjlmP/Ket9iL/+Q/239+3/+2gbHqF2LUAvUDnMt51dbcYm947its14YtCymP+17XT8YG42S5pG0uF+VPy+KvlfBZpfaRN73H6Hdedk5Vaiv5KSvdeaR5SqG6y73PXb37UvvZl74u7qtdKwl2ca/HbzyfVFvfjZdebRs71y0cFSfti5Vu22rAGEB4nurp7bXx8FzBcwfPR/g1r9/xAcLvFP2eUlq1nG++rNQe2k4ZxmH6DF2MNC9b+Y/n4fQ5Kk84r/uvdCBaJCjRMVvyg64tPMMzX/j3tvQLUJyjTxkT5E37Fskel5JawRjEfo03x3Ecx3Ecx3Ecx3Ecx3Ecx3GcauA9C/E9cPjYSRsdPzseY3aky3oe/Ur8klFbS4t1hrztbW22npjXzk4bGx+zkydPWFfXGRsaHLaR4WGbCDqmpqZtdoZ3boVYRL5INTkxYSeOH7OTp05ZW1uHbdq0JdTfYN09/Xbo6HEbHByz+fl6m5uvi+/m+DLVps0bbWh4KMbu1IX/Wlopt92sodlGJ2dtZHzapubqraG105raO61z/SabnJqzpuY2a2xotbGxKdu6fac1NPDH89psINg4Pjlu69avsY7OjmD/aPzj8iz8Wr9uQ9iuCfYGm6enbCakz4f/BgeGbd269aFNszY8PGKP7n/MPv3pf7cvf/FLMR5reGQktpGFUrzDaVp4L8arIb3T4f1V/IpU/KPALIaqD63hvfXj8W68cwp7i//NhL6ZaKyzsblpmwg2z4yP2ET/GTvxwDft4Jc/Yz0PfM2GD33J+j75f0Kxx+MO0HXo2ImgofCu3XEcx+HKWwO4aZYLebkJcHEn2GC1oE6CIrjxrPbCKNqswIoUjgsPA4XgC44pI6EcNy/OYzPBGwSK0A70Ko+kFDqfzau6gPrLCeCQjmx7UvLq4Ri7uQmzj0/ig0Kos5x6CVZRvyn4RXVky2frTgNbZLf6phykv7Cye+lynFebgboI5iboHAjmpk9lS7k+WC1kP5KONcj6EZZju3Sn+lYC+RihLrVHcJxNy8L4Yxwy9piH2H6+QdtoY6m2cI5+JZ8WVhAQpj5gKz0SUF+V46tSpDqz+rCLH2Fcq1nAwnVvpcjasFxSfeWQ+kH7XKviD7ygQ3MP0jlYLSqfvfeyIOrrxx+xP7/zo/Zrt73b7jz6ULQBGkK9z99ztb3mqc9ZtDUL84Lxg15+rDI/lgJbUgH0M+4ISmShD3+9n2slC2M5R4AqC3z0BSHuh4wTypeai9KLndhIXt1XqYfFUiya0kI8dLJQSAulJKTRtsIP2EJwJbbpq03YwxeauM6n96c88s7RbvRSj+ZnCiUkKehiztBG2jUd2sCcHgk2scAJ+44fP24HDx60o0ePxsVntBX9lMOfLJRi0RQi+2mzFk0h6bNHOh7Rwdeo5JOVAr9jA9cExgV9hd+z4/lcof5ii234R+NTvtJ+tm/PJbJJNi6HgfFhG54ci/sb2tfYs/dcFfdTyqnnpkuvsTUthX+MOzHQbaOTZ38WfClq2aY8pJt5QB8j8dodhL4t1r9X7by47K9hOeX3o86fq3k1MhHufwv3zN0bt9mP3vTKuC/SNujZqlaU6x9ds5VXNmRtKUdfJZTSp3Pp/YT7iP6xNt7Pgiw1r5ZC9/20nqwu7pnMY/IUQ2WkQ9uU6dnwPLSwmJPnp+955gvtuosuj8eQV6ZWyHe0RfdF6qu0zuv3XmFN4fduHlld1fbJ+YbGl67jvAzpC8+gPJex+J3nIi2sSX2g565as5LjpBYsNa44x3zK+qsUzD2VYatFaewzrhGO6QdJ3jH5qVN9w3ygH/mdki5+4llS1xhdl1MhLS9dAun+SkObaB+sxJhzHMdxHMdxHMdxHMdxHMdxHOfbB2KbeDfTPzhk3X39C6kF6uamrG//F8P5OmtqrLPG+nlrbqy3tuZGa21uCGVb4heW2ttbw/nG+PWoUydO2ckgQ0MjNsYiqclpmxybsvHhcTt29GhIH7L21vZQvt3GRyatr3fIpqdnrbG52SZmJu3kyeM2ONAb9W7evN7qbM62bNpkLQ1Ntm3LTrtw76XW2NFpc3XEZdRZQz3xWM3W0rrGNm7daVOz9VbX0mY9A8M2Pjdv40F3XEg1PmWd69fZmg0brHPtepuvb7D5utCW9jW2YeMm6+hoDdJmGzetsaamRmtobLOp6eCD0Pb2jna74KKLbc26DTYwOGG9/WPWPzBp9973iN191z3WdbrLpkM7Z0KBuvAf77JYBNXAu6pQfpalTrwnC/XV1fMeuiANs8GGYB9fhyJqPzQp2DVjM7PEeiGzNj0+bfPDQ1bfe9zOfO3TdvyOW21k/zdtfrDLgmPNZupt5LF7bPTODy30WoHJYMuR4yetdaF/Hcdxvt2pyZWQIIRKLqrKS8DBakB9BBMoYAhZ6UAG6lRAiAIr8uBcDMJZCN5IA5oUHMIWCLZFL0HIWpixVMAJ55WnWF70lLIxC3ooQ/5y+lB2qj2Uoy1IJfWSl2AWoD8R2VFMh9qPTykve9U3SCUUvhxVOtBHetM89Blfu2AM8nUUBeHLh7LrfEPtwM/4LN3K56lvkXL7U2h8rJYPsvZl+yrdz0JZLdLTj4VyUT2prCSl6tC40xwkn66L6g+VVV5Q/yJQqo5KkB6E4Daub9iTLthaCdSOWpL6phxSfwL7hc8NF/qF/tA4k4+qIdWTrS+FhVJ/e/en7KP7vmzTc4XFqHGB1MVX29O27onHWegjBRvSd5XOjTzQyfgkeJEFSCyGYQETi2HwAddUAlb1tSctXMrzT/TpwjhS0CRCOtcv6uEeTBuoix/m1MeWcUhe2oVQD/URKEvdLAxCB4uQKEseFnAttUCKurO+xwbai070zJcY+2iVZtlHO/T8gGa1Lz5fBKF/5EsWhGnRFF+Y4r5En1EGP7BP+2gLX2ti8dSOHTviPgt98T/9TL1aqFasrbUC/fQfdWIf7aLN5wPZvtR9MX3W0JxgfyWva8tBtkoqZXhizA71nIr79XX18QtQXD8qYU1ru1214+JY/8zcrH3j6CNV2SKW054s9KGEvtXzEP2tPi/Wt9vWbrQL+WtG5xm18EsetdZbTJ/mVd41dbU40nvaHjtzLO5j50uuepa99Gk3Lh4Ddq6kfdRTSkA+0hgtZU9arhZk9ekYv2jLb6T0d6LmlOyuFspqvqY2pHDvLfyDdfHrlWyQ7Xnw7PaZB79uUwtf4dy6bqP97MtfZ42JXpUvpqNa9G8d3MOz16Fy69q1catdsn33wlE+WV34ZSXas1owztS3bHU95zcIz0s8a+gLpvg4HUfx+So8Jxa77i+HJ6s/sZt5pPtjuZBXz+iMYxbu85uQfQnnEemlv7hW0AdaAKWFT+niJz0vpvdpXVvSY6VpPJxP4Jf42yDYRnsdx3Ecx3Ecx3Ecx3Ecx3Ecx3GqQe9f+KPLB48cP+u9SF3dvPXv+4zZ7IzV886nrj4I73FYkFQfpbmx0dqaW6yttc3a2lqttaXJiKWdn5u1nq4uO3L4sJ0+dSrGUE1OTdrc/FyMs9qyeZs1h3LjY5M2ODgUzvfbxNR0OM8fkh6P8VFjY6M2NTlpMzPET0/YqVMn7ejRIzY4MGAd7fxR586oa/PGTbZ921Zrb2+zifFxGxoetp7efmvrXFP4AtXajbYh1Hfp5VfaqTM9drq7J34dq6m53SYnZ6yhscnWrV9vnZ1rrb6hzlpDOy7au9sGBgfCed7DzIa2zltnR6utW9tp6zestZbWZhsjpmx41I4dPWG9Pf1mc/ioENONF+vwQ3yXFXwUpN0arHl23ppszhpDtrrGeZtqnLTZ+mBD8G9jI3HPLTY/XWfzwa7Z6UmzsQGrO3PIjn35M3b4js/YxOEDNjfUZ/NT49YYnNU832g2Ezol+Gvw7o/ZzLF7Y/1iYGjYTnf1xLgzx3Gcb3fKj1goARdUbpzlBnEooIEAhFpB3Xn1k0YgC0JgBIESKx3wQJ0KnKGNadANsJ8NwEAUjKP86MCvCnZCH8EQnCc4ggeWvKAT+UHbUlAHyJZyQK/atlQZ2Uc9SNrOcutLIeCF4Bb04hcF0aXIPvKoTspgL+mkKU85UF518OlPyPpduqQ31U1fEeDDPFHQfRrUUo0fzhXZduIH+UJ+0tgud0ypPGNiJUn7RHbJZrVHedK8Weg7riOMP+ZgqbyrTbY9eXA+7Rv8zz7tYqs+TXVoy3mV076OKyUtq/rwKYssGAsEuDFvV4q0/mK+qpZK9Sq/4DgukFqYE7p+AjqrtbeSufapR++yLx15KPxwLNjW2dxmL7rk2rifB32lr+GxWIa+rJVf0Yl+rv9a2MMXn7in4xcW6hC4yoIkFi4xhhRgGX0ZykN2XGdRXurS8wJt4rrN4iEWFpEG3JO5tlMXgm4FJNN2bNF1X35fCo17bKec7l+lUEsoQ3m1VcgH4f/iMefVRl3L1Ca2fFVKC6ZYjEbb1S6ud/qalL6EyOIp9ql/NaAebMA/2HU+kfaVfEzfq/819hD101L9e64pNleK0dLYbN88tj8uaoILN26zZ1/8xK9HFYP6nrv3atu+bmM87h4esIM9J629qSUeL5dK25OismzVrwh9qbmnfs3CPxK+7KobbXPnuoWU84vl+KUUtdab1bdSdlcKX9n5+y/eakMTha+mtTe32hue8wrb2Lk2HmMnwnw/V3Ne9VZa/0r0YVa413FtZ8tc4tqZdz9bDqoHsj7gmPshNuh6nSX1n+zOg5cE+08ftTsfvW8hxeyZe6+0N9589tfEag328OzBs0ne4igoZrPgOvXaG19s29dvWkipnKXqON/ATzzn6TkI6GPGH4Ivef5jTGpRPD7WWOU8ZbNjqlY82fwJ2Mw8qsb2tJyeg+kjfK1FTlr8xJzlmL5JrxkS+kRSjJXqt5UA3+hZn3Y7juM4juM4juM4juM4juM4juNUCu9eiHOCw0dP2Mzs2bFjE8fvs9nJMavjowFBCoujFqS+sDiKhVCNjQ3W3NBoLY1N1t7WauvX8eUl/hgm730bbGR0xAYG+q2vr9eaY572uPhpZGTU+gYHwvlxq2tgYVCT9fUPxIVShT+CNx7/GGVD0M2HC3gfNDIyxAsoO3HimHV3nbH+3t5QR73t2rHNtmzcYBvWddrM1Lj1Bz1m9bZn72XW0t5pPf1DtmHLNqtrbLWmlk6bm2+0gcFhm5yZtcmpmVDvYMjeYGvWrY8Lm5qam237ji22bfs627lzm1148S5raW2wjZvW2tzMhE2MD9twjJ+asKNHj9rnPvc5O3T4sDW3NIc6GqLd+Ci0yhqDv/hiFGuY6ltDW3gPHWpptLnw/3M2U19n9S0t1lDXZNPBlrHpcZueHLDRx/bZ8c/cZme+8mmbPXPA5kd7rC7U3TgzY80sxAr/zTbwLs5CHfNWPzduZz76RzY3fDr2nzh5usumpmcW+9pxHOfblbr5haiA22+/PQYbvOAFL4gnKoGAYYIQKM/LevZT0sADbgSs4iUPwShZ8oIUiqXlBV1k8xLAomD7NFgoT6fIniuWNy8dmxRcRZ0K1ADyq0y2LOXUHspID6JzlEEX+9zA2NImLWooRd551cG5rJ2loG6Coel3Hk5ULkU2I/iCfiCfxgd1qJ6l6ktBF3UTHE05fa0j1ZGtl4AZgmiolzTOpfny7IdU5913320f+cgtdtNNN9t3fdcro178ni2regX+5YsbBJDjq5MnTy7ai6h8WldKJenF8uaR5pU/ytVJmuxWW9N87EuyvtZxCr5hjhKIz3jOkuouh2L50/qxm75h3Kd20i7SQG3Ig2sYizGwl8UajDFAT7EyeenF8grZxRbbsvnzjrGF9qVjXaAjtjHIjoUvwWhBC3OEBSfyAbrSOrVl/N5///3xWGmQrSslzZdCGdnKjzAC4egX6kiv1ym5morozyNtD+3M+qmYrUC+UuezFMu/VB0p8g2obwAdpfS8aO+19tqrbrLG8GNufHrS/vaef7dDw12xPPdqUP/m6cGO9eEH4y8+53tt55pCoOxI+EH5V1+71R7uPvaEMuTnusgX8taG6/MFdWvshu2X2fbODdbaWFgoxUKr0aDj0Z4T9rF9d9qxwe6F0qVRXfywftEl19mzL7zCtga9/NgGxvNo+EH42OBp+8LJfdY9MhCvz4Ufz4XnEurHl/DSy663H3j6C6Jv7jn5mP3Zlz4S0y/dtMtecfkNYbvTOlvaY5AzdU/MTNmp4T773MF77avHH17Ug06CkRWQrH0dA4uL4l9ECfNL8wrYvji05fuedvNiH73nrtvsSPhxu2vXrpjnzJkzsQ2UwJZiUNeePXvs9OnT8S+iiIvXb7cXX3yN7d2w3Tqa2xbbMzk7badH+u3zh+6zu049Gucd1zPmHUHACrqkfanw11+ev+dqe9qWPbalY521NTTHf/wA+nZiNvhpYtDu6TsS21GKF2x7ql2/8eK4f3ffIfv8mYfjflPwxU1bLrfL1myzjqaW+PnpMELt1PiAfeDwV2Ie/PjGi59nOzo22NjUhL39cx+y+04eiLY8/5Jr7CWXP9N2rdu8OO4YH/j3UO8pu23fV+yuo49EPSnqF9i9Yav9l5e+0bZ0ro/HH3vgS/YPX/tU3E/5riufbW+84WVxYcRdRx+2P/70++PYuGD9FnvlVc+x6y64zNa2dCz6iK+yDYyP2F3HHraP3HuHDY4Xrr2lwK7Wpmb7rqDveXuvtm1rNlgbfgntKgfmwh998u/taN+ZePyCy661H3/2d9m6tk4bmhi1D9z1H3bbQwW/pj5IWSr9zc99pX3PNc+P+yxk+p+feq/9wav+k+1ctynm+eRDX7V33VGYY6KYTviDV/2EPePCy+P+Fx67125/6Gv2Wy9/o3W0tNn07Iz97ZdvtY/e+4V4vhj04aue/jy7asde27pmvbW3hGfmhaWEfNGlZ2TQ7jqyzz5yzx12erA3pos82yj/6qffZM8P/tu+duNZ+vgHw+HJMTvR321fOfiA/fu+r9nA2Eg8x5z50Wd/p734imdGny8F7XvPHR+1j3zz8wspZ8NYeumVz7JXhrax8ExjgTE+HPrzgRMH7b133mYHuk8slHictF17Nu+w//Ha/y9+zerMUJ/99r+8yw4vfPHr2XufZm949svtkq274mI3YJ6967P/Yh+/94vx+Puu/w776Rd+bxz7o5Pj9paP/rXddXhfPJfy/33Ha+11N7wk7n/wa/8edWDH03ZdYj9440vDdq+tDX6hXaRPTIdryGCPffqhr9u/3P1ZG596fMFCitqieXDVzr32ume92K4K+ja0r7XGhXtmOXzgq7fbn3/67M/NQ944AKW/7lkvsZ97yQ9EH7AY5sff8wf2G6/6MXvNtTdHu/gLWP969+ftbZ98X3yu4T6uIP6s7re+/uft5suvi/vo+tF3/37cL2aDePruy+wNz32FXXNhuNYkfqS/6M8Pf+0/7NZ7vvgEPen148ZLnmb/43U/F7/Yxtz4v7d/0D7wldsXzj5uQ54t7/+5/26X77go7v/jlz5hb7/t/XE/5Yee83L7hZf/YPxH78/vu9t+5X1vj+nY+uYXfLe96rqbbcf6zYu2Y/cvv/dtdrj7ZMyXcs2FT7Hvv/HF9rQLLrFt4frC/FJbGDvHek/bZx+8y/72jn+zscnCc46eoVjcy/WWezHj/8/f9Ju2c8OWmOcfvvBxe88X/i0utGbxtZ6RslAX91v1pX7Tkv6hX3qrXbHr4kUf3nPoEXvbG385fjkKTg302C/+3VvtweMH43FK6tvnXX6tve1HfiX0Z0fU9baPv9f+4Y6PL5x9Iip72Y4L7adf/gP27NCf69vWLM4B5hB++cjXPmN///mPxWsFpHXix1/6rjfY9zzrO2xDR2FBXymw660f/Tt7+kVPsdc8s/DvRl2Dffazf/3f7Z7D+3PHCtDHH/n1t9tVuy+Jx1w7/sv7/sxu/cYXnlAmPf6rn/k9e+nTnx33GRdvfMdv24m+rnic5SVPv9He9MLvjnV0hjGd+uHMQK/9+3132l988oPWOzwY0+k7noF2794dv4yp5234oeteFJ4JnxX3P3fkPvty34E4l/u6e+ylF15r1+24JD4n8zKI+X73gYfse//4l2N+uO13/sKuvuiyuH/7PV+2N7+z+Lym/975U/910Tf9I0P26//wf+wTdxfudWmZl1/3XHvTd4Q2XnhpqH+NNQWbABtGxsfsWM8Z+9pj99v77/iE3X/k0aL9UQnl6MCX5MOHPAfrj/hUUj95mVf8O8/OnTvtkUceWfy3Julhm9WZnquEPF3FyMtXaX1ZStWfpuNb/MkCPa5P/NtDNXVT5tZbb7UbbrhhIcVxHMdxHMdxHMdxHMdxHMdxnG8niHWM77sGBuzRQ8cWUgvMjfZY/4EvxUVMdXzOCebPjk/LCnFC/DczM2vTc0HCdmqq8IeaZ2fmrLWl1do7Wm1yciKkzdno2LSNjEzYzFy9dazdaB3rNsQ42tnpWdu4eVP8QlQ7NjY32TixXjPTduZ0j12491J77LGD1tzUYp2da+JXn9pbW6y/r9f6errtwQfut4npGdu5a5ft3n1RfLdS31BvO3Zss4MH9sc2sZjozKnTNjc3bWMjwzYyPGCtQUdLS2OM2SJmqr7e7NSJY7Zp43q77tpr7dixg7FsaKz1dHfZyOikbdq8xZqbG0Obxuy5Nz3XXvSSF9m6DetDnWb1IV9wBB+Ustm6epu1hXgg4vyCf4IJNjIxaQ0NTTZfPx98NGmzo4M2cuSQjYe65kb6bWZyxGxqMniVYvOhHY28LIrvAmfmZoKaGWsJhg4P9oXzY8F+s7WXPcs2ff+fhjKPxwF0tLfblZddvBgT6jiO863MLbfcYtdff71dc801CykFChGby4SgBQWXKBCiGAqcWM6FFx3IUnBDZyEPdRFIsBoXewJCsI3gXQKn2FKvROAjBWwh7KdtYp/8BIhID36TfgV743MCUNKy5UB+/MO20v5QoEsa6C3Qlwr2Ekimtsgf2XLlQlkWTaAH+/PGW1o/kBfkuyx5aXlgsuxWf6Vl2U9tYZ+/ML1t27bYdgLdCT6nDZJzhWxP7a8E/JDqoK0Sjel0fNEHCgpF1H6VZV/9tFrIBuzTVvYIjvPQX6zm+qL5p7zFyqwGGp+QtUPtRNRPpKndus6oHPlSSE91sq8+B+lGpFdky6ZIDwvkmM/4FsnWX2vUbtlFfbQ/O1blF7WrErJ1lEO2DurFBtI1t2Apvdlz2fzok2RR3pGpCbvrxP7FYNqOpla7enthQUsW9HCd29TQbj96yc32uitutos3bD9rIQeLc9a0tNszdl1m/+U7fsjeeN1LSi76Sbl+11Psv7/8zfb9Vz/fLlgXfmwuLIwCAm7XNge9W/baT175EnvhBU+L90a+cKQvOBH0nHevXN9GYGud/fgzX2G/+cIfjLatbe1YtIv8tGHvxh0hz8vtN57/OtvWsT6OCdrL8w8LigioPnXqVFygpOBqyvKPC9wDWDSGLdhU6llJ45/z5I15ivQTUAfXIcaI5gyLyN587cvsF2/8brtm+97o87Q9LBras36b/Wjw/6/d9P32lJ0XxTrThVHUhz6kPeR/07UvtT/6jh+zV192o10cynaGsYDfBfrbG1vsks6t9r27n2kv23F12X3b3lD4KtDeUPZNe2+26zZeFPWHURjT2U7MnP1X8uUPFiawGOmyLRfYH7/mZ+ynn/sau3TzrrPGHXZ2trTZ1Tv32q+/+Ifiwqd1bR3xXK3Y1LEu1vPGZ77M/uerf8pedNkzbEPbmrN8RL+wuOmVVz7H3v7an7cXXlr8S2zi2gsui3lZhHXxph3xizRqVzW86mnPXVykwzh/yVOfeZaNlVDMjq6hPnus+3jcJw9tYBFOOVyyZZddtGl73GeBx5cP3l9Re6/b/RR7x+t/yd75Q79mr7r6eXbx5h1xUZXGErBIY+f6zfaaa26OeV92ZSH4vRgvueIGe88bf8t+/LmvjPZl9RF8v6F9TVzo859ufo39w5t/z773usKCgSt3XBy/GFXOwqiluGLHHvvLH/lN+5WX/pA9dftFZ40F+pAg+Zsuu8b+7Id/xX7xJa8vu18ZlyyMIf/vvOrH7Q+++yftyp0XLy6MEj3D/KWl6tnNYq7mFvuD7/kpe0ew8eanXBsXYshO2sL5vcHHP/WC77G/ffPv2jP3XBHPFYOyv/ldP2p/9oZftRc+9XrbEuZXJQujagWLI7Dl3Z+5JS4QVNqLr7zBXvDUZ8S2cc2SLBf89D9+4OfsXW/6LXvhFdc/wY+MURaK/e73/IS95yf+q128ZWc8l6USW9Cr8VYt6zvWxC2LiFhY9dMveq1dsHHrWbZPh3sZi3lSWED1sV/7U/vbn/l9e/Uznm8Xb91VWKCY2MMi0su2X2g/9eLX2od/8a32nMueHtOVh3tb2oa0LH7gns3v1bz7cop8Rr5UR5ZvHn7YPnDnp+KCR9i+bpP9zEt/wBpz9JfSsxT47jde8yb78K/8ib3qmptsc+f6s+YAY+UpOy6KeT72m38WF19BWuczLr7Cvv/ZLylrYVTKfUf2x4VSsCbcUy8N/kdvsfbcfMUzbPfmwvUdGKfPvfzsf5jKsiuMj0t37F44Mnvs1NHchVHXXfxU++Tvvsv+6qd/z5731GvjWMv6Yc/WnfaTL/k+u/N/vtf+6/f9ZDxPfzI2eCnA77p0TqT7PKewIOWSNdvst296vb340utsY/AX8xzYDo098Y/+lMPmtevt7W/+9cWFUYNjI/bf/vkvFxdGAT7lWe2jv/1n9v/+83+zFz7tBtuydsPiwijAhrXtnXbVhZfYj7/oe+xTv/+X9ve/8EfJ3Wr10BgoNhaKgc/1u4fnUo7T32DaCvZ1nKZ/q4Efedanjdlx6jiO4ziO4ziO4ziO4ziO4ziOUw68CyWOc3Z2zg4ePfsPVdbXzdng0bvifh3vMxsKwj7vKYoJMUG8r5ybm4nv3pobG6wpSFtr4V3u0NCgDQ8PWUc7f+iz0aaniBs26+npsyNHj8bYKs5T3ubnbf0G/qjzqPUvfkmK2MxxGx8ds76eXrLEGKzWlmYbHBi0++69x/bv32fj46PW2d5ulz3lcutcs9bWrltvPb39sZ6OzrUx5m2CdyyhWQODQzYzN2uzQRd/7HpsbNwGh4btTFeX9fcOBvubg/42O3H8uE1PTlt7W5t1hjqbQzrvHAf6+21wcCDYPWwPPfigHTxw0OaCT3krNh/+b66pLn4fqj7sN8zV23xsWoNNh/3xUGndREiYGLOxM8ft9DfutJ4vf87G933Txk4etPGhrqBr2mbqmmzWmoO9zUFXfSg7bVMz4zYzNWxDvSdsNORrbbHQ5iZraa63mWN32/S9H479J8bGx607+IBYTMdxnG9XnhihUwUKECZggYsqgb8K4M5CMBEv9MlbDdw8y4F6sIX8BFcQWLFSKEBBbcMfiNqohwJ8Qh5t89oiXTrHcTZYX+kK9CLom7ais1xkE3oq6QvK8LAEslVIp9qmdiqIPBvQUg2UJyhEATMEihQba6A68/wte8u36fFg8bSdoGPBPn/1mK9GQVd4iOLBSHWVX+fyUBuzstKoHvzAeKGP0n5iTCjYqZbjoxxkF3Uh6lPs4FjjFlHeLMxDFumRV9eZ8wH5L2tz2k7OtSx82UZpCG1S+bQ9pKXllScFnfIbZZVf/SwdnMsKYAtzmbnNvYQyK4XqBPaxS3YiaqPakLYDIb0SlD9bb1ZKIRuxpT74WQsPEfl8KcijNqlsKXT+4Z5j8YtRQBoLnopx3c5L7U1Xv9g2txQCoIHA4NPD4YftwJn4dRX+cgg0NzTZC/Y+3X7mxlfHH8yl4EtPP3HDd8bFJoKv8Bwf7LYj/WdsdGoiXJ0LetubWuw7dl9tz998efwSGjZzLWaBFH/pgwVKLDwSLKL5xZu+z27a87T4ox0fobt/fNh6Rgfj/mIfhv8u2bjTfvbG19iF67fGNM7Jr/QR45cAWq75LDYi4Jr+4gt5CF8+lKQ/QrGTOYQe/eUO7u3Mi1JQjkVf3BOZw2vCj/T//KzX2LXb98b2AD4fmBiJfdA7NrQYrE17Llq71V570bOsfaZwr86CHU31jXbhuq1xEYVAB/45Ptxj3ZPDNsk/VixAf165bpc9f9tTF1JK01zfYJet3W6v2Pl0W9P0uE/4B4mZ+cLzyeD0418VxCb1CYujdoe++IXnf1/c4g/+YYMvRZ0Y6La+0F76UNDma3ddaj/13Ncs+qcWsPjqZ5733fFrUoxtoN6hMOZPDvXaWLBHiwyBBWs/+qxX2LMvvmoh5Ylw7pe/43WLC4vw+b7TR+xj93/J/vkbn7FPPHhnPFZ/AvtfPHCf/eln/9l+7+N/Y7/woT9d/GoUXxrKLtJhUcyu9YWvp1QD/s7jzoP3x8VNsKlzbVwgVQ43XfL0uNAITg32Bj0PxP1ywVe0U33LOMGOI32nbf+Zo3Ys+ELB/MACsZ+46dX2rD1XLqSc3SYWG/30878ntGFdPEYfX6g53t+1qI+xpusPDE+M2f0nDsR9xuAn7v+y/du9X7A7D9y/+Fn6yZkp+499d9lH77njLPm3e75gD4c+zYId/+27f9L2bNqxaB/toH7sGBgbXhxfLGp61TXPs9991ZvLGuPMIRZa/f5r/pO98PJnLC4ooE34Dr0jk+PWNdwf06tla+ib33n1m+0Fl1+3uCiBr7n0jAzY0d7TsS7+2pHga0K/9oo32FO2X7iQcjbo+G/f+9P2nVc/Z1EfC7g+ef+d9t4vfyJ+EYp90nS9APrub+74N/vVD7zDfvQ9b7F3/sfZ/0hYDZ2tbXbhpu3WPzps//yVf1/84tW69k5743O/M26xIbWjWjZ0rLF3/thv2ouufOZiX9FH3aF/Hjpx0E72dy+OcRZL8LWlt/3wL8cFSbWg2Jwvh9Zwv73ygr321h/8Bbt02+5FXcwLvvSEf86EeZ9eK2Hv1l22a+OW2B5gnLCA5OGTh+3B4wfiYhnNLWBBze9870/Ypdt3R526P1OfJI9ynqeyfagyKsfiy83hekG+v/7MR+z+o4/FdM4/9ylPt9c95+XxOEuqo1yY32//sV+3N73w1YuLGfFNbxjz+OXgmeOLYxHdl2y7wP7kjb9kL7vmOYtpwNeYPvDlT9l77/i4/cf9X1305US4tn3065+L6am87wufsHuP7I8LwAbCmAdeBLBACYq144ZLrrKOlrOfaa7dc/niork8Lt+5xzav2RD3seuew0/88uMrrnuevednfi9+xUx1x+tWuBbjA64B8gMwDn/ypa+1d/3U71hL+P3BsxjPaTwz8ls9/T0kWsJ1kueU79x1TVyMLybD/UC6j3QXvr5XCSyM+ruf/8Pgu8JCUObB//m3f7APfunsr1WS7x0/8Zv2rEuftjgPqPtUmO/3HHo4fiGKr02xuFDgg689+kByd1od8F3qv0rHNWX5dwGen3kulr5U57cDqd+4zvDbhWsZz/uO4ziO4ziO4ziO4ziO4ziO4ziVwHsHxR4dOXHyCbFBo8fvNZufKyyGiqt66gtS3xAKk9ZgdQuLpXhvQdya3pPy/qKluSW+u+TdTmvYnw+6WCTV3tFuM9PT8YtQvOvjq1Ld3T1xUdJcOJ4ljmZm2qiyMehvbW22mXDc3z9gzU3EEE7HRUzzczPW0c4fsZ2zyYkJGxocsuMnT9iJk6esN+RtC/Vc9bSrbHZqMi7IQseaNZ02MNBnk8SthPIDfT02Hfbb21tszdq1MU5xdHQ8fuGqLehGJ/VOhjpHx8atr6/XJvh4w/RMaMNMaB8f6GgObW2w8bHRUL4xfiCBfPiOL0zhV9rJIqyZWcpNWl3Y1gd7ZkdHrGFizAZOPmZnvvFlG7nrTpvd/4BNnD5gU+P9wacsNGuxurlma5hvDv5tLvh/LugbG7P5wQFrnZu29R3N1t7WaJ0drdFuvs7V2tJu41//gNUNP/6+kndrJ053xXgx2uo4jvPtSMNbAuwcOHAgBoPs2bMnnqgEblpc4LnhcaPj5T03QdLSQAZuilooQV3kLxfKpkECpaBubupc3FnAQF0rBW1IbeNYaXoQiA8GQaBUG9LAD+VPQW+aR/sERhPYw/ly24r+avsB37JNv8bFcSr0MyKbZPtySetgnGELfUwQjdD5pVC+cuziiyD79u2zCy+80C677CmxbZSjXehI+4tjVqqzMIrgdsr29fVFP6jPVoNyfFANsp82l1sH+eQn7aOHMcj45VqR/ZRnubrLQXVqn3rTvsj2CeeXAlsZg4yFdC7UktTmrI1ZOI8fyZv2DenYxvgjXXOTBSP4nnTayzxicZLGcrH6yMNX0CC1T1vKSwA9qQjl5TqNLRwTlMhcLlZ3rUhtwTfl9l1aTu0rF9onP5VDXl7qlt/YypZ0X/Cloyu2XBiDKFlkcn/3EeufHFn0L1Ks3VH/Qh19o0N24+6n2rrWwpd2+OH0wJnDNjpd+DISAjvXbrI3Xf+yxQVMfDL5K6f32/+981/ttn1ftTsO3Wef2n+X3RN+6GHb2vDjjLJbOtdHnY/2nIjlsjx9+157/TUvjIuegIVaH7rvDvuLr3zUPvPYN+1zB+6xW/d9xY4Ndtslm3bGIH8W5+xYu9FODfTYY2eOxflJe5mvXJv5atLedduibzpC/q0d62Pw6IOhXX9x50ft/fd8xm4Ptv77o3fbrQ9/xU4N99rudVviAhigDP7gq1pne70AdcnPjO90TLN4SoGN+OGS9dujvfTR/qHTNjI3FctwT2ehOXmZc40hrTXYzzkJ85a+Yv7QRubwG69+kV2+cVf0behle7j7mL3rqx+zj+//mt15fJ999tC99rnD99nG9jW2o3NjzNfW2GwbWjvta8ceXmyP+hVY2LMj9O+udZuijz50/+ftb75+W/TPff1H7eBMv93Vd8jCnd52tK6zBv5xJJTnS1LHJvvPWjgl9nRutp1thYDn8KRou9s32tqmNpudn7NHhk7ZrSdC33Y9bF/tORB1n5oYiGMKuGY9fcOFcQzBRRu3hb5pj4srPvbAl+2tn3m/ffiez9sn933NPv7gnfaRMF4GxkfsKVt3xwVe2Eb7Tw312vGB7qgjha9K3XzJ02M/w/6uY3bvwmKXFL5W9fRdl8R/5GF87tm0PS6+eiyM5Xd8/sP2N1+51T75yNfti0cfjGP0i4fuj37cumZ9zIct1HHHY/cuaHwcdP7U8747fhULsP8dn/2Q/ePXP2X3HH/U7j950L5xbL/9xyN3R/uu2nlx1EU5Fvb949c+ZaeHwnPHgs9gcHzUnn/pNfFrF4IFFbc99JWzFgxVynW7L4tfMoL+sWH71ENfDTaMxMVdfM2oob4hfi3lc49+M+YpBrb/2LO/K36FiwD/zz7yDfvmsUdtRxh3LJpi0QHp94S0R84cXSh1NmeG+xYXOv3Hw3fZ2z/9AfvrL4Xxf9+X7JMPftU+fv+X7KP3fcF2rd8cZGuceywqoO4vJv3AGGHhyS+9+PWLi8e6RwbsT0Mf/J9P/5N99J4v2G0P3BkXPX3g65+O+lmssTaMnUdOH7WP3ffFWIZFRd88ut++fnhf/CrLdRc+JdZFUPvfffkT9q/fvMO+duihRbnryMNxsVDKns077Nde/sPxq0jA4qxbvvFZ+92P/pXdcvdn7dZQ9z/f9R9x8RVfl2JxGfbv3LAl+uv+408cu/TLi6+4YfGaxld3nnPJ1dE2FnT91ef/1f7g3/7a3veVT9l777zNPvvw3XYmjCctbuXLUnzVifwsyPtc6KuT4Xqb5YaLr4hfMAIW9ezesC3q+Eqw9Xc/8m5752c+bB/82qftI9/4nL3vzk/alx69N+pmjNIG7KNG2pblldfcZN/7jBfGxV20845Hvmk/99632ufD9u7DD9vXgz+/sP8e+3DwzbYwhvZu2RX7m35l0RTnWFRWLbTrWXuvij6gn29/4CtxcdQjp4/ELxvxlbF4rQnjma+7fO3gg/Geq3tBykufdqNdFPoZekcG7SN3fy7u5/EHr/3p4Ncro27a/dUDD9iv/9M77C/+48P20W983j741X+3D3zl9rigJLY52MfiLMYDNuJ/yooLwvXzxVc9K16P4mKKAw/aAzljJoXyyPfd8KJQz/qYdl+Yl1957In9dPXuS+3GS1l83BDHyrUXPSUujCrU9YD93offbX/00b+xv/ncv9p7PvuR2B4trBRDE+Ha9dTrYn/981c+bb/+/j+1d336w/ahr37abvnaZ+x9X7rNbr3ni3ZFGDvb12+KtnW2tsdFK6lN+AL/M/6/69rnxcWhwEKfr4Z2c9/VQuO8fpLf9AzGMzew/wPPfumiL9D3pUfujTpYuHXzFdfFZ5PGMFb3bttlX3n0fusbGYp5s+wO95GXX/McawlzEh/duf++qC+P33jNj9n33PAdcQxS14HuE/bL//A2+8Nb/so++OVP2fu++Al7z3/8S3zWeVroh7gQsqXVLttxod1+75eDnwvPIkPh2vWlR+6xzz90t20KbeBrTvQX/vvTW99n773j1nhO8oWHv2mnB3rtzGCfveyaZ8exBdjwwS/dHhwSD5/AL73yDbYrjDfaxcsA6mgO7bz38CN2uOvsv04nXnvji4M9T49toP/f/e8ftpN9j9+3n3bhpfa/3vCLtn3D5njMvezDYYz8+Dt/z/7ko39vf/+5f7O/CmX+/LYP2KOnjtgVF+y1DZ2F68ueLTttayj3UHg+Zm7ye50XGIJ721O2FL5aNRXsfcqmXbapfW0cx7ff/xX7pb97q/3eB/7C/u8n3h/tuvvgQ3Fxk3jj819p28J4hAOnj8WFZiksePrTN/+GPfsp10R7WIz21o/8XbQ3yy+96o32ymc+P/qBfH/xyQ/a6//3r9u7PvnP9o+fv9Xe+7mP2TtDG7HloWMHrS08L/LX7/73R/9ucQHbSqP5AezzjFrO7+kU5hTzj/L69wGebfPmY5a0/m8V1CZ+t/M1WX5P8Ft5ObzhDWEe7tq1cOQ4juM4juM4juM4juM4juM4zrcDiqEeG5+wI8dPLsYFQcP0sA2femjhqC5+/Yj3fXGRFBnr6nlpEd9b8OqiLhzzvjS+Ewzn64LU1xdiaGemZ2Ns0/RM4aMS69eui190GhwasdGRsVCARVaN1tGx1jraO2xkZDjqbW5pin/oemh4xAYHh0L6eNQzyoc6gv41HZ0xNn1ycirGUfX1D9hEaMtFey6yzVs229p166y1ucEOHz5sw6Mjxhentm3dEvQM2tz0hA3299rE5GhcHLVx44Z4riPoYbFVc0tzjCNjQRW6N23eaOvXrbHt27ba9OS44YamhqbQxuDHkHc+lCEai/izhnBy2/ZttnPHzhiHgEtmgw+IB6L9LGxqmJuy+ZF+696/z4YOH7TJY/ttquuYTQ332OzUWNA0G3zO+95QwWwoiU8tlJ2ZCHn6rG5mPNQ/b02N89bcWBfa2RzripUF5mfNxicmrK+n3wYPP2gbrntF6JDCOzregc7OzNjmTRtj3JnjOM63Kqzr2Llz5+KHbERl0d1LwIWdwF+CGLipsjCEbRqsoMAkAh/KpZJgB/RzU+eGhR3FApyAAKiBgf64ivds6TtL+AqE0gmaQSfBGgosxz4Ff3Cer0UglCuURc8T9SKsWNYNCDuR+BCxAOfQpfy9vb3xs5IsTpCcOHEibgmOlhQLegcWofDXkdGFzv7+rBTslpAXO7CNtqoPBb4gD77EVh5I+IRkd3e3dQXpCfX0Yn+ObupT28oRyqCH9p48eTL4ohAgpTHCVsGH6hP5NY9i6XlQRT1PPQso6CftL+rnAYgvlPDwhI8R+U+21QLqkmSPlVYutIN5g83MW7YEJaVtE9hfqf4UyqKXawO+ol6BbgVGIfJXtT7L8wXH6Ev7QnUgmtuyUzqyviAfc42AJXyWracWyL5yIXdqB+VpC4KdmhNqF+m0Qz6XD/Lam4fyoycLOqhPizgQ0sgvH1MH12rGGtfOdBHJSiGbZUel9alsXptLoXrS/ilFXh2kqb/QQ5+qn8rRiz7ZoW0xor4FnXx9RxDguyHz9RnyvvKpN9rm9sLXVabnZuwzx+63L3bvt4bmQv8LFjG9/YsftqMDXfG4Mfwoe95FT7PNHYWyKQSyf+flz7LO5kIAPwHof3/37faZA9+MAd5A3fiARVcsAuLLSNDa2By/OEULCvf6ATt9+nQULU6CMLvDvJm3r5542N7zzU/aqdH+QtsTvn7sEfvjz3/ADvefXkgxe+qWC6PdxcDXjGnujfiaawX3AYIbue7xrJR+TVDoHyWwgS1fvCKIcfcFF9ju3bvtoosuisJCXY537Nhh69evj0HdNwV7rthc+BoHeu/vOmJ/edetdmb07C+nzIf72G0n7rV7+47E4Hq4dNNOe+6FZ3/FCD3yxb888AX71Y//pf3Zlz4SfH0g6pMA2693H7AHB05Ef0JHY4td2LFp8TrPljGb9e/mls74tbGJ2Wn79KkH7LaT91rf1OjC2cJCu7GZ4j/UCRbmaz1/+eV/sw9+8zNx8UiWf3/kLnv/XZ9e/IoUXwx75u7Hv2yltmZtK5dYLjT7rjBW3vLJv7X93cdiuuYcc4Avbf2fz/+zPdJ1PJ6DvZt32hULC4tSrtl1aVz0BQSSf2rf1+zuoFv2pbbee+Ixuz2c10KoS7dcUPRLTSzEkn/Yfmb/N6Lvag06Weij8cVCERZwleI5e58WF0IBi6z4AlYxivUT9f7ex/7afuzv/tDe9fmP2LH+wnUmhYD/P//cLXYwWZCJfdsWFh8JFunInqkwNv/57s/ERTrqU419GBgbsQ+F8z/3/v9tb/3UPy6klibtw1L80LNeatvXFuzgi1N//+VP2F9/4d/O+hIKsDDit255pz22ML64tr7syhsX21AMFkzc/JRr46JGFhT9wvvfZrfdf2ccd4JFshyXa3MeoWS8bn/0m3fYb9/yLjvSW7iepjqxnUVT+toZ6dfveeri19ME6c+99Oq4qAuO9Z6xt3/q/WEOPPG+jN1/+dlbQn2Fv5LEPezFVzwz3htWin/44q12arCwWIyFKy+76ka78eKrzhozlUKbv+f6F9qNlzwt7qPri/vvtV95/9vtcM/ZX6xhbPzhv/51XCylOciipFdf9/xYVrIapPVsW7fRrr7g0jiO/+6Oj9nP/d0f271H9y8+6zA++MpPln0nDtmb/vIt9qo/+SX789s/aHkLi1iE9EehzacHe+Mx94Xr9lwer8uAv6hHz79ZOMezVbHfPpD2HzrIl/cMluZjAdjHvnHH4nzatWGr/fzLfzDuL4cbw/h/9TOeH8cX8AW5X/vgO+wbh/bFY0G9f/qJ99mf3fb+xUWwfInrx17wmriP3Xn+KBcWbqm9LEK8Zk/+veeGS6+Kiwbh9ECPPXissACPL0nxRaliXHvx5XERFbAo6hsHz27fL37XD9vuzYV/3GLREAuifusf32G9w4MxLeXWu79g3/+/fzUuxgJeGrzqGTfbs/ZcEb/2qS9/8tLk0KFD8d8zxAXrNtuutZttaHzUfvcD77Rf/H9/bAe7Tiz+xmFRVF6dxaDut/7or9gLr7oh+h/b//KTH7J33/6hhRxnc+NTWLxa8MPt99xp/+uWv4l/dS4LaR+/6/P2I3/62/bSt/xUVV+zqhaNA8219DdWOWOMvJRRWYRnW82z5YzTlWI1bKIOnp/xj/7N0HEcx3Ecx3Ecx3Ecx3Ecx3Ecp1x4z8K7Bjh8/GR8JytYHDRw5O74PkJSX1eIg43vQRvqePFqdQ0NhT+wTRpxs7wiIX/Yb2hotPm5+fiHInkHVng/PR8XH3USg9qxJv7BxLVr19matWuCLXx9qdmmJsatv6fbZibHbX521vr7+mxkaDDU28CLoxhrOzMza9PTMzHGq20htnR6ZibG5F508cW295JLbO+ll9mWbdtsTWdn0N9p7e3EJvExjREbGxmOC6M621ts25ZN1hq2/z975wEYV3H8/5Guq8uWewVsDKZjeocAgRBKaIGEENIg/FL+pJJCEtIpIY0ESAid0HvvvTfbYBvce5FtWb3fSf/97N1Iq+e706m4QN7XDK/tzs7OlrennXmTn99pZGyXUDhfSstKJBqNGPlCMsLwGDN2jOG5jYwcOdzIm+QVDgaMDC1G5pDgDFUYi9ooVnwglQhU2IWtXrM6uccF5eVLW3u75CF7bbWsmPmurJz+ltTNf18aFrwvbVUrpSPeLB1GDiOE5IuhRJ4EjVKDeR3SkaiT9uY15rpeYuE2icXiEgi2SThmUoSDkkjpuK21RRpq62XVqhpZt5YP0bdJy6qZ0jL/RasnRVVNrTQb/bm2uT58+PDxv4L01j8DAAb2OCVBGIt4nSx4kbK5r8YSgwl4UxaGKhi4YGjPyycTli5dKg899JDcddddvdLdd98lDzxwv8ycOcMaOeuiAENfyqN+3H/11Vfknnvutul70t3m/l096N5775ZnnnlaVqxYYQ1AFPBV8OyRRx4xae8xdK+le+65xxJ877jjdvnvf2+Vm2++0RxvsTyRkYWByujF22+/Jffdd6+p152WD+cu3X9/T3rqqSfs15SREX7UFb3ShlyzIHn88ccc+e62vO+++065z8hzv+H5wP33Gbrf6tBLDz74QM70wAOGDB/0d+utN8ttt/1X3n9/pn3JA23vroWaQbq+lk4vuSHpUALo35Dy4kj/w5udSB44oeEgRlsgQ7a+2Fd45e9vfdARYxQDfBZ6EB6Ues6CkgWS8tc2VxooVIdK2m7admocpZSLDtPJp+fus3T9gnsQZWldkUXzq1wAWZhnmPNwjkL+TQGVU2XIBJsuJbPWT3WmOlUeqm/VJ8+0znpP+eh5byCv5nePkJbPfKnEvInRG4QBIuNFHbS07FzK7Q9Uvv6CvFq/vqCv6YG3HM61rYCOG3Slx3S647ovMtvcqbRVTnQN7mN07GJ82XDZvmJsV5lzKpfK0wvetWUxv+gPbUW9+XH74mLzoy+RNNQlis9eY7a35y72HDPZGqQCfty9sexDeW/lfHsNtJ5a78VVq+WNpXNSP7aT0aymjU3yVb3xnmZ94qK6pVHeWLdAyszcPWzYsC7nVvqpoqGtRZ5ZOF1aUk46RNmYZuTLBspjjqB/Uz76x7ARh0DKYAwoeI6zFE5c5NM68S5hLla5eL9AnFdUVFjnqNLSUhk+fLjsZeoaDiRlrm5pkEfmvWl00bO9KZP0tMkzi6Z3tW0oPyh7jp5kz12ojokeBSnod4xdb9suaVwnbSknnaDpJ0V5YbsWo37k4R3JO4VzhSlB4p0JGyVqdm36CGLZAG/a/a2lH3bJC/SoeGHBdFmZclgAozM4jXjz5QoiNt0z44UeBsva7vCkTfljyFtGViJPAJy0Jgzp+dUCQLQibcvGtmb5YFX6SC5a3w/NmGtMRVshn0Y78uLhD16Vr9z6B/nZQ/+yR643FXDmUscrIrRMGzfFnmfCAdvuYh1XAI4zOPv0B+rIkw0YuM9atci2DyiNFcmosuRcQztBRJTCcQjAr8HUhbbsyzyaC7QNIS8mjxgnu46d1PXsvaVz5Z53n7Pn6YCT1sMzX7HOJwBnlEO238OeZ4It2/zDueKSx2+2PHpDOllzAQ5KN736SOqqJ1QHRPx7c9GsHm0zdshwe67AIWREymEMEK1rQ5boKER0WlDZ7ZQ40rxX1KlkU2DxulVyxxtPd7UDdTjrgGP7XKbqRN8Hh0/dS2Lh5JxLJK+rn70na1+/9bXHZVV1cs6jPx9h8m8uqNwuWDvwTnrgnRflqmfu7pofcwH9ojcsNG08d9WS1JXYaGsTKkZ2jVnerapTL3jOGlTXVNmgfVPTue+zdCB606wVC+w5ZR84ZXc5dd8j7XV/cczuB8iQoqRTOfPZ7W8/Laur1mXU500vPiyzlidlwMnm0KnTpKwwGekTpNNJLpi5ZF5XpC/47T4x6XTs1fPBO+xpI5gBnKPeXjjb6hFZcJxKhzFm3I8Z2j32kd/t7wfusLtM2y4ZKRC88uF0uc7oOhtwYLrk/htkQ0PSkYlof4dPmWbXhtof1aGe3yUK+i7j+e+P3ia3vfSYXdfQX/Q3jdbVW+90YFPo3+f/So7ebX+bljXDf198TC574IZUio0RS70bQb1pb9BbOVsS6BEduR+96E036BNinLJWpk0YY9qnNf/WVu/NIQ/rZvSIPn348OHDhw8fPnz48OHDhw8fPnz48OHDhw8fPvoCdYppaGyS+obu/S+QqFsh8bYmu99h9zzzRPIDeXZvjHtEhCLSk40elR+QTmtmzt4IezYmTcBcGyIP+XEgko4OiYTCUlZSYu2DAoGIhIIxaWxqlQ0baqSuplbqa2tMua1SVFgk0UhUmlubZdXqVUa+pJMP9jQ2QpX5FzDUHu+QUCQmpWXlUlpSJuVDhsqQoUOluLg0ySNsnpUPlcmTJkvFUGyqioSoVIVFhSbPUBk1eryUFJdJcUGhkc/UuzVuqFVCRu7ykmIpioSkoqxYRo8aKi2NtVKzYZ0sX7Y4KUu8TVpbmiWvs1OCoU6jTyJGmXrndUh7Z5tsqK2WqmqCTiSs41Y83iSNa5ZJ1ax3ZP30N2X97OlSvWyBtDfUSGeiRdo6OoXYUvkSlKDRbyhkatjRKm1N66Wzo0Zi4YREjMr5TmykICRhcxEKmvSBDsGpq7WNoB21UltTJ01NjYZTQgoKIlI2pESGlBdLw6vXSl6i27arw5S3ZFnyo4+97YP78OHDxycNm2TWU8MSjILZyMcQmJftppxoeSnzUsVQF8MBjJ8zGQgpcPh5+eWX5Nlnn+lBzz2Xjp6Vl156URYsMC8sw5/yXIMYrTOOOqTdmJI8vPTWW2/Z6EcYgqAreLng2WuvvSzPP/+svPBCT+IefHGwevLJJ+TRRx+xTkoLFiSNx9E38rEAUb4c58yZY/I+Z8tP8no+K73++hvWyUf16TVUITIGTmEvvPCc4dutR8pIx68nvSAvvtgX6s779NNPyVNPPSVz5841ukvKApBPDdXQqRrlDBbgT1mQe46uMWTHUYY+QqQrxgC66q0vbgmgI6KYYGCPoT2y4xDAeOWIAT3PIO65Y1d1PVCo/tCP6lMJ+SAtl3YknRpOQW4/zCST9z7Xbp/w9g/tM+6YdOVw+dHOjHue4yiwpYCcqkOIc4j7qk9Xbs61PkDrC1SnmsfNlyvgp0cvwY+xgr7oc5RnHaNSbUoalV9l6Y8MXihft98MBMqvryBfX5EuD/WA0I23f7ptC1R/Ki/8MslBWk2vaRLE4c2CPUZNkpJIgT3HeQgnJnWS5p3sdYYBC6pWWicpQIQTIhd5sbvhi/MIqGtpkjeWayjnntB2BQurVxsZksaDRI/adsgoe65IV/eFVatkSeVKKy/PkJf5j3mRqEzMh7xPp69eIKvqklEpwMjiIdYBKxuYr3gPaAQpiHmDMrxzBmsYyoT0DxTanukInSqNL66QkQVlNg9YXL9W1rckQ1Bre5KHMUebMOaWr18jq+s3ro/m0XKQi/ea6gRHLJxoOfJucPVZ194srSmnN0DJ6ABDV+ZKzkmvMinWGlln1CxNXWWHWx5oaGuWN5f27BvKX+sCYZS/siYZbRLgiDOsqFtn2eCVNx0+XLNUFq1f1dXOgKP2TXQJFm9YLc0pRzP+aFIe6zZQV+AwqI45RLsialo24ISkUbHIR/5MIGIUsqaLsDWYmL1qcZeDE38822vCDtZJKh2IDDRp2Fh7jtPka4tm2fNNibV11V3Rtmhd/QMfoK1qWxq7HM6YSw7dfg+bDuTSH/oDL98Dt9tVhhSW2HMcEJ798B17ng1zVi/ucnBibu0tYhegLzwy89WcHKP6C+vgunCW1KYM+zMBHRCRxe3Pwz1RvcYPHSnFse6+tKGx94gtbpqiaMzy2JR4cPqL8vbiD7vmgp3GbCtfO+REe94b0IFLgMhPU0Z1R5l7Y8EHVk/ZsKp6nSx2nAwnVIyyUYOAdx4dDKisruy8n/Q+WLGhUv772uP2fLBloJzlqahjgHGMI4pCy3PlUeg6gnd9uuculA910/dkNtQ01sv1zz9onfQADm7nHHq8jB2ajA7YG7zyjC4fJvtvv2vX/Xlrlslrpj/wns20LsWpyI3yNMrw2M30KRfw663uXsBznZlLQTgYksmjxttz4PLaY5sdrCMU5c9YMldmLVvQNb8SUSqdg9TuE6fIsFTUOKKheaNG7Td5V+vcBBrNO/LBt57XQGFpgTy07/wNK+Uj8w5UoIftR3ePLWSkL3h1+cHSBXL9s/fbc56znoHoB95+k0mPGjHqU7vsa9Pw2+fmFx6WX97xz1SK9FiTcnIEB++4p+wyIemcn6mcLQ3VIX0SHWXql4C0pGFtrGkh/XsbzyHu6bmC50qfVDC/0L+oP/r04cOHDx8+fPjw4cOHDx8+fPjw4cOHDx8+fPjIFbrPABYsWW6PivzOdqlf/ZGNBtUpefaYr/sudu+F8+ReqI0YZa5JZ7d9Op1nAXNuI0xhnxiQYF7AOkdhC9PRkZC21oSw9V9TXS+NTc3SwT6cuUEaIkjZD26b8/bWFknEE9aWiX2mCB9rjkatjRPidJqC+eA1jlGRcNSkb5fGhgY2m6zcLa1xKTC88vM6pa2tVUrKy2Ts+IkybPgoCQaiJl1ASorK7EcJiVSVl+iUWDAkxQUxGw0qKB3SWl8ta1YskfWVq6Vy9WppqKuTViNzKBCQ1tYmU+1OaW5plfZ29q1ENmxYL5VrKmXt6jWyesVSqVu9TDa8/57Uzp4hNR+8I01L5kqorUkk3prc6zL6CwVCpizTLkalidZ6aW3cYOrWKIG8FkOmrGCHRCJRa79CRC7q2WJ0QxSsuuoN0lhbK+1tSVsKIltVDC+R8qGlEosWSDhcKHnNTdLyzp32uaKpucU6x2H75cOHDx//S8huzTMAMKm7ERrUEJgXI88GE7yYMbbH4FfLdQ0nMgEDjMbGBust3Ds12LStrUmjBAxhKBOoAU1nZ7LsTPnTUbN5KSGHGnt4jTuSMjamzdtN9TbiBNEpIAyQkQ2ds8jhHEJmCMOK7np7eW1MrowAGVVWe27u4Y3cnacnX8oabIIvdaYsFjWuUZLWkzbpra/l0k9cUAS87QIvVX/OuUf/1ghCGMLTFumMq7YGILdGL8FBKumt310vrRN9SCOVkKav+uoNlANcHaleXTnov5oWaNtC6Lgveoavps1UH+5D8OWosrgE4MMcx/ig7V0ZNyeQEVkoX885um3qwq0DID11BeTTOms+b/6+QnkqIZe+DxjH3MNgkHamLK5VJj3avCl+fYXLT3kNFFaeAfDpq061TRVavrabtjXwti8grZdHOnS1e6odcgGRo/hhBurMD8LF1WvsmMApCPBj1vsjCycjojEphhaU2h+sCs7HlCQjuYD1TbWyeMOa1FU3VAfUDblrWhu7HE+4HlmUNKzNBJwjFlWtsv2QKIjr16+3czdGmbxXmB+J2oQjUElpqSypW9ull4JQRCqM3L1B3+PwRSZkZd6gzayuDTgyz1IO+uIZoCyot7YbGiyUUF4yT9ysReoDcRlq5nfGmZbDnM88xRqBdxRyrW2ssXkA9RleVG7z4AhFREGcoEaPHm0jVKEHdRajPdF7q1lPoCtFVWuDtDjOUUDlJz3rD8rXfgtwWlrRWi0hwxO+3r7rhba3AmeLpdXdBvHZUNPcHV0Gx5Eon1vJEdpW6YDh+VLTP7W9FHoNab1wdFLHD8ZN2Mx7XrSZttEIaAGTpjc5eU6kLsBXdDY40d62JF5fPLsrQhwOLruO2c6ee3HQdrvKsOKko9r6hlqZvnyePd+UWF691ui5u6/SPrQxR8bM8pq1snj9KvuM+/tuM1UuP/XbMnVU0tkoW38YCFy+k4aP7Zpbq02bugb9mbBk/equiF2ACEvBXsYUUYheWTAzdbVpgAPW/Mqef3DNhKrGui7HNf5oWhjp6Uja1NrSFX0NeJ+ng5umoaVZllVt/D4ZLNCGzAk3v/aYrGtIzrHU47O7HyS7jN04Ql86uP2A+W7KyAlSmIoegy4/WJ6MAtQb3HriSDIqFY1xUwCZ3XHEO1TnPcW7iz+UFVWVPebwwQBlQmtqqnqMaxc6F7u6VXAfmfT3UDaQDh7627O39OCZD96UJ2a+ZvpFsl9PHDZavnHE5+x5LnBlnjxyvAxNRY2C34erl9h3K+/0bFi1YV3XuOGdgVPSQLFyw1rLV7HzuEk913Km/XebuL1sNyLp/IqT5/tL5lkHqXVm3gElsSLZe7s0zlHbTOnq80R6en9pd+RQMHXsttbhCuCgBc9MQH/8xmANw1rrrYXm3ZTqJ0TgwhErG3Bien7WW1Z/9BXAWgSdc61/a0nXt1z86vTz5ZT9jrS/eeB528uPyW/uujr1NDNemvNul7zjh42Sm777ezn7sOMtn97K3BLQ8YR+6Jvq+ITOeKbENc9YF3Ikj96HAOOLe70BPWwpXWzKsnVdrPrx4cOHDx8+fPjw4cOHDx8+fPjw4cOHDx8+fPjIFdhRg9q6emvb46KzcY0EIlGJFhRJfigk7Mzk5Qelo4N9j4AEzLlN5+7TmHO2RKwjFfvAqf0Rrtkr4V4wtYeKHRB7a1XVGyTe0SkVw4dLaWmZdXgKhbA/FQkGQ9YepqywWArCBTZKVJ69H5RYgUkXDUu8My5N9XXS3tok7S1N0tzYYKm2tlpWrFwuVVXrpaSsRAoKoxIIBWX4yFEyZOgwGTlyjATDEbvn1NCEDRgOSglpN3qoq6mW+oZaoxNsl9olEMiTluZGWb96lYSM7C2mvHBnh7Q11kunSRMxz+N8sLipRWo2ELWpQdpaO6SjXaSxulZWzJ8vi2fNlMpZM6R+xnRpWbZY8lqbjQ6xSzJ6MfWPBImsZSjfVLCtQaS9QUKBuHneJsFAuxQUhCVidNdh9yPZK2uXlqaknVlVVZ00NDQJW73RSEyGVJTL0IoKKSotl0jM6I19StqDtjDy1894WPINfwVtsXxVZVfb+Ni0oM/ddNNNcuihh8rzzz+fujs4YF/14osvlqlTp8pDDz2UuusjFyxbtkzOOussufDCC63NpI//DWS3lhsEYBCBIwsDHyMiNvgHe6LFaEIdozA4zmY4wEtbDS9wZuorEJ2XuRpqUK/BMlRAL4OhGyZC9I6c6BxZ1WiH84GUQX74ap0t7wHyHAhYLLW3x61M9C3qyHnyWdLwZjChnu8A3pyjA5yIMKJH3xjBY2hPGwxW3xhsoCe86zGC763tqB91U4P9wWxr1SXjKFtbUabta04/VlnIh57hgeEV1D3GM/PM9gxofneMIy9lQio7xko4RdL/NNrL5oLKArQ2Wi/kU3ldcO3qT3XnQnm4eb18+gvKpd/RjowTdWaFP/JqG+vcBVRG+wUJQ3wRAjIZLam8mUB+pcFEb+VmQ3/yksfNx7nqhnP0he60b3rh1j9d+drGHDnTNCWR5Jf5M6Ek2v28rqVRqswPS8rCOYr2pS3VScdFtUmnKDA/SolcpOCce4r1jd1pFd66U2+crhpTzlGgLFbUlSYdMMDH6QCQhvmDNYs6SrEgZowzvpkHE8E8SaTWDkQ0GVkyJO048wJZ4VtdXW3PIfgqyI/jEu3HObJ4SfNx7kUsj2+LJGUwo0TikXzr0DRmzBjr4MT5iBEjrJ5YIwDWTU3m17o6IeAstM2IMdYJCsco6otDFXl4n/Fuq6mpsZEk16xZY3XE/b5C66NoNz/sVzUlI09QFnKpc7dXt7QlenPzN7Y193AGyYbe2qk3kD8dD7cfuXDbknPql4sMOFqpAxUODTuNzB79Z+KQUTYaDmhLxHtEyNqSmLFivlQ1JMcukboO2HYXe+7FPttMtf0PPc1csUDW1if7w+YG/U3biLH237eeklU1yYgdzIo4Rl1+6rfln1/4oXxmlwOkILJp3/nqAAFqTP/CiSkXrHXS0S/GDskeoQYHmrpeIjoNFBj2u3N+f0C7QOihsra7jlNHbyNlBUWpq42BY9I2Fd3RCdfUrrfOS5saC9aukPvefb7LIaWiuEy+ftiJVp7eoHM9R4DzIJF5QHNbi6yoXmvPewN6UqcK3lnjcoxW1F/QPrqG03Gk8zVyEOVosKH9AmhZXuh9jprWBfd5v6R75sLlz1yR65wOrnrqTvlo1RJ7Tp5jdz9QPrPHQfa6L5gwbFRXX2g3Mq9rrLFrLe0rmUCkMY0YSP4Rpdmdx3PF9MUfdTl9DSspl53HT+qhJyI8DSlOzmXqxIRT1YLVSWdJ/o5wwJTd7bmLHcds26XbJWtXybyU7hQjyrojd643fOGZDszrrCtwimKdRWTnmQs/cnQRlPEVPaOMekFkqhmmngqtH31Gf+/r3yHS9YfG1hY596hT5cyDj7H1xfn56Zmvyy9v/4dtw95w4/MPyrPvv9nlND2yvEIu+dIF8vZlt8uvz/g/GVexaSPh9QfoCL2wZmPdSR9VJyj0prrTe+5cATQNes0E0rt50L1LH3dQB9bh6EbX7gMF7eDDhw8fPnz48OHDhw8fPnz48OHDhw8fPnz4+OSDfQb2WdhLWbw8+VFYBU47TfXrJRwplFCsSEKRmASCEQmEI5IfDEleMCid7LcEAjCSjgT7OGKeBSU/EEzeg1Fevk2Tb/dMzXl+nuGT3EMVc24S2DyF2B4VFtm8kXDM2l60tbfZjzZjS4ZnFvuXHe1xe8RJKGSEbG1ulPq6WqmvrpLWxnpZu2q5OV9n7tebdPlSVlpi95Oi0YgEwwFTn7AMrRgmFRUjpbW1XZoamxFR6uurpcbwWL1ypaEV1rGqqbFB2gz/RDt7VS32WFRYIEXRqHS0NkssFJQA+/yJNiNXi0RDAYmFQ1Jonifa4tLUQJQnnJk6ZENlpVStWilNa1dLKN5g8jRJR6BdOoMdRrcBKTCyRQOd0tFWb6hB8jrMc5OuINIpZWVEfMqXfJRgdNze1ipNzQ2m3tVS11AvzS1tEg6FpaioVMqHDpWyoRUSKyiSYCQqQXM/Dzsbk7sTrZp2oW2k3ejt+b8b/XfvozU2N2+V0aOwQTvvvPOss0862n///eXcc8+V6667ThYuXNjrnvjWAGzr3njjDWtb99FH3XvMWxqurs8//3wrXy54+OGHbZ6rr+79o59bM2bPni3vvfeezJs3z9o7+vjfQO/WWYMADB4wksboGKORbMYjfYUavMALowHKcKFGE0yOSl5Dir6ActQQihfs4Ey6SfngORg66ejotBMtBifoGXmpb7fRZyphH0F++IGe/AYuc3+Bgxv1pE9h8KTG1GBw2sYL+k1336EsysRxiAUbfR1jepz0BtLPNiVoLwzP1eg9F5CO+lHXwQT607Gk0HGg5ELvIY9Lmg590+5qUMU5pO2gfcNtl2xtxDPIHesqM+DIM42QRx/UZ4MN+HoJIJ+VLSUrhE60rumgdVBKN28Ct66DAfgxX0PM17wX0J/WQeUnXde7gh89hqgTIJ3btm6+dHDTDTaylZsrVL+56tlbJufUTfWInnp7v5Kut/LcMogopMBhoznebaA3oqhcCp3nk4aOkWtP/r6lf37223Lxvp+Xn+3xObns8K/Iv066QP5zyg+6aPfRmSNolEbNnOrw3W/8jnLdqT/sQTec/mO56YyfyM1n/tSeU+Y1J/4/GV86LJUrCdWRWycF95ocZyqg6emjfIVj7dq1Uml+zNrzptou5ygiupQVl1gnIubU3sYLbQQPjSDlgmvyA7evurJzzFSPwrzuH7CRvKAcWTRZvjpqf/nu5KOs/n++58lywZRPyw+mfkb+cPCX5G/HfFP+cvS5csLkfa1TCkAG+g9yqoPYypUrZenSpbJixQqpWr9eJhePlDN2OlQuPPjzcumnvy4XH3CGfH+X4+R7Ox4j39/xWEvDoyWWX65oTZj3Zkuj1TfvUOqHLhj3zAG6ZuQez0jjgkhMWxoYhrvRmrSNtJ25Vv3mgg9WL5KVtUmnHNrn0zvuI9sPH2evvdi2YrScvNshEg4k38/LNlRap6StATixIIvqY9KwsTKipKdB/m5jJ8mYsuSYrW9tklcXvm/PBwIcZU7c7WD5xXFfkau+8EO569zfyd2G7j//EnnsO1dY+t2J5/aIJqTvHdqJMQAR6ejnD/5LXl80y0b5ADi2bDdsjHz3iNPktq/9Wi4+4euy0+huI/7Bwtjy4VLkyEcZT3//7xvRMz+4ciM6YNKuqVy5YU3dpv/hz7uDKG+DAfrTq/NndjkdTTRj4GuHZHY6+s6Rn5cdRycdDHGIeHX++85KfnCh/YAjdPfbz8qMZd2R0PaYMEU+v+9Rqav00PGiRzAqNUZAeWGJ/OsrP5M3L76xV/r+sV+0f0De1KCuOm97x5EC56jlVblF+UuHUWUVct6nTpGrv/pTuf97f5JXL77e0lu/vVmm/+E2Sz8+/ssZ64s+eYdqG3mhz5mnM6UB2i7UV+d0t60yYUNDndz44sPW0QYw/3zl0BNkSFHf3pnDS4dYRzdABKjvH3WmvPGrG2T2n+6Rj/5yv6W5f31gI7rum7+yzraDjelLPjLv4aTDBV9122PiDvZcsf/2u3bJO3v5wi4npvcWfdg1hnH4mjxqvD0H24+eIBOHJx0aeb/igOVqmOeUpahpTB8tkXakT+IYxeYKvztwUm8wc1FbPBUN3Lxjo2adkQ31Jv3a2p5Ou9rm9Bl+R3Gd6W9cOGB95zNnmvZKrmvN7GDmotau90pvIN151/xG/vLQLV11pQycpM49+lR5/ZJb5emL/y1nHnysdb7aWqBjCv2wdoP4uw3X3Nc5gnQuuXn173zZ4M2rIF9vebd2uM5R1G+gddrcH3Lx4cOHDx8+fPjw4cOHDx8+fPjw4cOHDx8+fGwZsMcC6huapM1jY7NmwTvSau7FO0WaWtolLxCRSKzQUjBM0IuAdbrBs6ijM8+QOQ0ko0IFDHXm85Fgsc/Emp5jy8O+WcoWzeQLWPuVgFQMHW4dohobm6W9jY/qtUkztoLxuCWcsNo7EpLoTEh7vF3yzXVRQcxGi6qvriFChOHeIWFTZsjaAyRkWEW5jB03WioqhsiQoaVSV1dj+DdIY0ODrFq+Smpraq3TUtyU15Folw1V66RqfaU01NZIbW2VNNbXS3trsymrUwJG3LbmBnPeIQXRkCTamqS8rERikZDEomEJBwPSmWiV0pKYFMeCMnJIqZSXFksY56lQ2FDUyG30bOrXZOrTFjAXBfmSBwU7JN/kzWtvlHhrjan/BsnraJaiwqgUGF6JRLO0ttRLPN5m2iguTc0tNsoX1NIWt85eZeUlMmzkcCktHyKRaIFti7hRNh9VTHDsMHqXTqNHoxujHyJIEfUrsWKWEWqN0VcS7DOtWbve7md+nPbPsMF+5ZVX5IorrpDjjz9evv3tb8uiRYtST7dOYEO+3377yaRJk2TnnXdO3d268OKLL8q99967kb3wJxk77bST7LnnnrLbbrvJ8OHDU3d9fNKR3opsE4DBBGEAgZEKUWs4DgRM1hqNQg0tgBpHYEigpPfUoACDJryW+wbyJfOrIcdgQNkM5suHOuOwgSEFelZdJ/VgT/sERFOjN3igczUIw9CFEIxbAhRLW2CIxMtFDZLcNh9MKF90AThiZELZyIHRu0ZKG+yyBwvoRw3Oc4WOmeS4GZx+qvzcMdpX3ioX7e4S9+FHO7hzj5alyKWNSANpXq8uIMYZX2JmPtoSC0nGHzWhXK1/Nuhz6sU4dvUPaX0513oOBpg/1MiLceLO2XpUPUMAY2fqpPOYa3hIGrddIcsLeVPEtfLflFDduZQLkE3T9iWPt05c23nHnKMfnZ8VWo6bzysn59remg7HqIrC7uglzeZH2doG8wM0BdrH5TFYwPFoMLgim+pC+0quIK/qgvcpBrVEHFDd8KO8tKDI/OCusNGZWDyztsk2B5AX52XeFeg6E0in5XDUvq3krQeyDAYwHMYZDOKrEdQ7aNrizF0Plz8de558Y69jZb+xO8i4kgopMj/yo0HzLjE/rI2mUhz6D+rFnMBcSrnqBIWe1KlS37fe/r01QPsLoC4KbS+ObppsIBLW/TNf6oqINby4XH593Ffl558+W07Y5SDZfexkOWqHveVnn/6S/Oa4r3U5HFU11srNbz6xWaLi5Ir3Vy6Q5pQDItFvDvREjzpwu12lJFJgz4nSNGtV//+Qsc3QUfLHz31TbvzyRXLuwSfKftvsJBOGjLRORjgiRDI4TdAmOh6ZJ3SuoM3W1FbJbx65Xn587z9l5or5Xcb8IBaOyP7b7ixXnP4d+ceZP5D9t0sfGas/2JJRWbdGeMfW/e+9IG8umm2veQ+duMchcts3fyvf+/SZcugOe9q2+NanTpWbv3GxfG7aoTYN4+LZOW/LIzNfsTw2FZCVOQrZcGq47sWHZH198r2Jk8jp+x4lO4yeaNNBG9JERgRu+29NDg/pgKys0XRNybqY+VzbayA4dMdpctu3fy+P/Ohvcv6Rp8r+k3eVbYaPkaIoX+4q6JPzVzZ5dOxTj2zvZ20XjqTzvo+z4bHpr8jjM17tkmPK6AnyraM/b89BfUujjQyWDbzv3b6xpUEkqLVmngS0xS7jJ9tz6ojD07YjxtprnONwiNIWeHPBB7KhPhmunohTB+2whz0Hu03YXoakIucRdWn64g/teV+Ajlg34BjF7zP+cI7TN22Mg5FGjhoMwJO/RQHWgHaN4jTRMXscKOWOExyyHbvnQfKNo05N3ekdzCVXPHSzHHLROXLTCw/3cAhjfthlwmT5y1d/LO9dcZd87/gvbZE5I9v44hljRckFz5QU6JQ5pC/OPC4flxf63hxjZrDLoB/xm04dy3z48OHDhw8fPnz48OHDhw8fPnz48OHDhw8fPnIBexZqE7pq7dqe+yad7dLeXGujMzW2tEpNbZ20xeMS7+iQ5tY26/CEA1Q0FVEqFIlKqCAm+aGwJAwbHHIEGyFzTZQpyWNfLB/DHhtBirwQ5+zPt7a1W/sf9tJazLG+vlZaTbkByZOO9jZpqq+3+4ihSFha2lpNmkaJGr6166ukubZWOk2+fCMTjlQ4Q/FRwrq6WqmtqZbG+jqJGfnKSkulIBqR5sYGkY6EOTbKkBJzz/Csrlona1Ysl4bqGgnkdcjQsnIbAUoMvxBOXol2aW1qNOU2yYb16Coh4RB7NGKdmKLhPOs0VV5WKp2t9VJXtUKkvcHor1OCps6RWIFETFktHQGpbmyWYAEf1jY6NPwDLc3SWrte2ltqJFLQKUNGlkphaYHRF7YoCevg1NzaYtqgVtat32CODTYa1JCKMqkYNtQcK6S4tFxCRl5asLOjU/KNvrv2i2kLzo02+SBkIBBM2pkETVvFO6Vt9lPJRk+htr7Btgf74VsjbrnlFpkzZ04Peuedd+TBBx+U73znOzJ69Gh54YUXbCQpIjO5/XprAnt8X/7yl+Whhx6Sgw8+OHV368M999wj06dPT1198jF+/Hi59dZb5eKLL7bBL/6Xwdi56aabrC6w7fkkI7PlzyBDjQVQKMa3TAQYEefyNdh0IA/GEhgMwFONsNTgQidA0mG4BFGmnvcXsFXjqcGYZGExCGzSAn2gaxYYaliM3F6DlN5A86hTmDoooEv4YKjBC7vL0mmzI2logzE1fQHjJ460zWC9BJN9CAN5nKPgiz6S/YmyNAITBu/q8DGYZaejgQK5kbkvoM6DUbYCftpW9MuBAtl0fMPX7atA+4QaGOlYyKWtNC/pyeeWBbjPWOMaw/3B1FNv0DqwwKXeuQCdIKPWXfusXrvnWpeB1on86tTADx/vONEylaiXks638CA/7coPOXWUAprOpjXnSAspv60Zrny56jldvbjuMPVHt+n4cA/y5tP7LjTNNuUjbRQnxfrGWmnMYrhLBKAl1Wt60PK6dbK6qVpWNW6QpTWVGz2HltWstZFFMmFdY40s3rC6ixZVrepxDaXju6J2XddYpY7ap3KFVzeu3vkhv7a6yjpNMafQv4cNG2Z/kOEoRUQp+qqbX88ztZFCy9GyOLrjQYlrTaOImx/Q1Ylm2ZAwP95TtN78OKcNVjZU2fZYVrvWEucr6tfb+1BzZ9waEiM/ddlp3Hbys8O+IIdus2tXBDGcMWtbG2WR0flrS2fL84tmyGsrP5S31y+Up1fPkvr2gUdyok7olHc7xDqGe4z5IUOGdP0hR6Htm02nWwIql7afXueCNxbPljvfe64rMhaRofYct72cs9+x8stjz5HzDz5J9hq/gxSEo5b/ipp1cuUL98pHlUtt+q0F1INoVoAoWPtuM9Weg+JoQVfUpXhHwqbtr2PXZ3c5UC49+f9k1zGTuqKU8Ee0FdVr5f0VC+SxWa/Lw++/Yum/bz0ldxvduo5OyND1DjH6hFzMWb1YLrz3Kjn93xfJDa89ah25TCr7zPQ8mTR8rPzsM2fL1w463t4bbOBAM3fN0j7TgrUrpLnt4/1jlrZxxw3nzEOXP36LzFg+z/7RkHujy4bJydMOl9+d/E257PPfkTP2PVq2GTZacLZtjbfJwzNetnm88PLvL1w+jHXAuP/A9L9HZrzS1bdxdvzqISdIwKSln2kkoXRIJxvtOXf1UpmzclGf6MNVi2VtXc/oN/0B8kyoGGXHr4K1GXXm3Zb8bbjxGOoPvnfsF+XyL/w/mTpmW+vgBppaW2RB5XJ5ff77csfrT1q6/bUn5E+P3CIPvPOCTZMOKhNtkg46/llXenWeDvAiHXn6gmufu1+WrFtlz/kj9TG7HSBH7rKvvaZtmQtzBWnnr1kus5YvkA+Wze8TrahKRnAaKHDSmb2826l10shxXW11wPa7WccnsM70vVfnzrDnYOaSebKwcoU9x6lqj226I04RGYqoWKCypkpmmLR9ha4X+J3OOg3HKPonIOqU8s8FmfqD9ieO9AP9w6F37Uc78z665cVHZPHalfYeUaS+dezn5cApu9vrXLG+rkZ+cvNfZMfvnCjnXHmRvDHvfctbQWSxH33uHLnzh5cb3Zel7m4+6DiDvNdKqjN0lEm36JP24m87Op/2FW6ZQMtzqS/rslwwmLz4W6fqwQuV34cPHz58+PDhw4cPHz58+PDhw4cPHz58+PDhw4tIyha7paVVausaUneTyGtaJ0OHlEsAO9iOhAQCSXuqltY2qa9vkHhHp3WQIrIUTk9EK4rFiswxJoGQ4RskWlJI8rH3tHs4UJ6NWCTYFlt+7IPnSUNjk/0ocwMOUIY/ex7JMvMkFCRAQ1A6OtolFg5LhZGptKRIOuMJqVy9SmKmvKKCAmv3lx8ISmFxqRQWFUussMDaEDXU1lrnJJyl2k09Vy1fIbUbqqW0qFDqNqyTubM/kKHlpdKOY1ZDo3XEKoxGpbS4SApiUSNHXOpqqmTD2tXS0lQvAemUvM4OKTC6w9qks61dwoZ/CFtMQ8gSiwSlOBKS4lhIOlubpLWhVhrqqq0dQEFRial7WEJG4k6jx7Z1ayWvuUHKSmJSNqTEtEnI6twwlo5EizQ31pm8ddKEbIlOKTZ1rxheIaXl5VJQWCxhPiDIfpDJE4932PNO7FPMMd/oOBAMGEra/to2JLKX0Wm+0W0+dTF6bZ79lOS1JD9WCdgzW1W51vaPjwvY6508ebKcf/75cvvtt8sJJ5wgq1atkosuukhmzZqVSuWjL5g2bZqcccYZVo84yKxfvz71xMf/CurNnPzuu++mrj7Z6J+lQT/AS5dJlhcdLymUzDWeeH0xelADBzVkwMgefhgOqIEAz1zivj4bGJLGHH01gsoFgydjTyAv+sFQDSMhr7FO7kg6A/HSQae0I5Q0bkkl2UKgP+CYhCw43KnDTS7oLZ22i+qM5OgBXXKk/6IT7dNqwD0QeMvcFOirjKRHr7k63+QCrd+mGE8K+irtpLJzTrnUh3LV4Ki7L2fWC89IA6nMOscA2h6jOPpD/8dZ7lB5+JI4ZfWlbdx5kfN0bQB/SOuh6d1zve4NlIHjCOOGsYKekD0TtGwl4OqeOnPkGhncNnbrZv7Xff4xQq7yenWkQC/ee97rTNCyNf1uo7aTmPlxC/hBt3BD0qBXsaquShocZ6ml1ZXy++dv60GXvnyXXPP+k3LLwlfkyncfkT++eIf87rn/9qB/vv6gVDV1R8+obq6XplS0GTBz1SL57bO3yq+fvll+9eSN8ptnbrHXXj6Ud8lLd1ri/Pp3nrD5qRf9BHKBs8aI4qThbm965/mo4iFdjhdG89LYkowoVVlZKWvWrLE/7Hnfsq5xHaX03QToo7w7vD84M7WR3ueo40DHgh7rzI9nRZsk5K2WFfJ04wJLT9TNlYerZsm/Zz0tl71yt9W/EjpCj9AlL9whry36QBoJYW14FhsZT97hQBlRmDSuxRlhfu1q+es7D8ovn79F/vTqPXLT9KflthnPya3vPSMPz39LVjRW8XN8UEG90SnzBoRsbluhTyXuu3OAm25zQ9sNGbSdAPLlisfnvCH/euVBqWlO/sEKJxD6HYB/kxl789YulxveeEwuuOdvMnPlAvtsawLzxswVC6zsYEzZMNlt7CR7fsC2u8jIlOE8zj9vL+17dBCAQ9SZex9po0MBIm7d+c6z8oXrL5bz/nuZ/OT+q+Ufz98jV794v/zr5QfljneekZqmnn8EpH0g9Kptlw44L9z59jPy1Zt+Lxc98G/5aM3SrjbBge2E3Q6WY3fe314PBEvWr+6KHAbmVy6Xb992xUb0rf/+KSv96sFrpbJuQ4rLxxvedqENf3L3P+XleTOTY8M8d53rWCusq6+WJz54Xb554yVyxRP/7fHci4HOF5qfI+Nc5eX6hlceltkrkw4kXO+z7VQ5adrh9joXrEg5GIJaMx/8+v5r5SvX/iYnOuffv7b0jet+L89/+E6KS/+gdQyl1lsK6so6mLla31HZxlEuOHnvI+T0/Y7qigyFc83vH7hODvnt1+W0v10o/3fDJXLpwzfJHx+8QS556Ea55ZVHpS41V3qhsnCEtB4udJ7mXZ3uuQu3buTrC1ZUVcqNLz7c5bSIo87XDj/JHnPBmpqqLmcYHDz/+dSdctpfftyDTv3zj3ql/77ymOUxGJi1bH6XTKPKK2TPbXe05zg8aft9tHKxzF+9zJ4rpi/+yIzJ5Ltx5/GTZMyQZPj63SdO6WqD2csXSnVD9x/twbxVS3tETvLqjjUYET353cEajd/o+g4GOCaFu9a2CWkxfbc3ZOsT2h8og3Gg6xBFfXOj/PG+6+Snt/5N/nDvf0x9kuvdCvP++9mpX++3E9OT01+Tz11ygRz883PkrleflJbUuhmH0AOm7C6/PvNbdsNoS0HHmwu9B6GjTHplXPH7XDfvBgq3XCUF/Gkzb7v1F4PBA9CPmVPpU5kwWGX58OHDhw8fPnz48OHDhw8fPnz48OHDhw8fPj4ZYO+APTKwtqqnnUC+dEiipU4C+UFJJDqlpKhYhgwpl3AobKMSJRIdMJC2eEJq6xql3RzjnXyguVPy8kMSixWkHHdiEghiF5l00iGP7r8k94qTNplEeGL/hf24eHtyL5HrWDQiRYWFkm/SBzrzZEhxiYSMdMWG79ChQ+yHqEeOGiXlFcOkqKxMho8eLTvuvIt0mjQtLW223Dzzr6y0zNzJl3WVa6V6/QZJtLXLymWLzXmlNNZVy/JFC2XU8OEyxPAIGRk3rFsnTfUNEg0FpQAdsX9o6hwxdQnjXNSZL5G8oEmbb+QRKYkVSszoJpIfkEggILFgTApiRVJu9FYWixmKSImpS1tTg9RW4yQVl/qaKjHsZVhFuZQOKZL8gqA0x1usc1h7XYtUr6uU9WtXSX2taQdTTnlZuUlbIWVEtIphi8zeD/pkfwuN5UnIyBoKRyRgjjilJfe2knaSSTs4owVzjww4feVJu4Ty26Wjeb20zuq5J1xdm7TXx6714wZs8H74wx/KEUccYR17cJbCb8BH38AY/exnPyv77LOPPPfcczbClbuX7uOTjyVLlsjMmTNTV59sbDbnKHVKYDAxyNjkJ8oO13wVFYcCr9GyovvlmTS0Ih0vctdYAN7JyX9wjBoyIfniGWykN9IaLKAzNSxG13he9xV4dfNixEAFPmr8Bu+kTjaJYnIG/QDCAUNf4MiWCbnoW/uUpuXAgoK+RxmQRsLBOas3h49s8Ja1KaH9AcoFpMc4iXpi0E8fGgw51QipvzrrDa5OtSydH6gLpNfIwFykjlKce/uP8gKkV7mVL3lYdLH4zMXLPlv/zAQtn7xdMpjzrpCpOYB0yEtelYFzb359rukVuZbjgjGDcwi6xTmKY1+AUwYGzeiYfsuPJntMtZUrq45N2y4p2V0aTPRHF5mA/NoeIFfemk/zko9z9OKCuvNMyQv3vu1XBuPLhsvOIyZ23a9va5JZlUvsuYtmx4mpPFac/NHlgLZSB9YyfnSm5uhsqOMrG+6X8IvKbH7IHbsupdOFF5pWQXSD0kh3ZKzeUFFQah2qABEb1jbU2PLoi4x/nKPWmR/URCiora21dWfOHDp0qIwyP94rzI9aIhmgB3WWcqGyA7c+et+9Rhfa/1vND1zGCeCPBgV53e9BCH2p7t38kMuLc41CN6VopAyPlnTxmb5ukdz64YtS19Fq64PhMY5f8IV/XV3dJv3hiQw6B3CuoGzIO6/r0aUtBdUxR2TMVZbP7nyAfPvQU6QsViRLqtbI9+69Uk659iI5+dqfyyn/uUjOuum38pMHr5FHZr1m58itFW8smS3VTUlD9uJIgRy43a72fP9td7YORWBu5bKuCFPZoLpzdXj01H2krCBpHM98dPVL98vNbzzeI2IS6bVPAM5daPu4fas3vLv0I7ngzr/KP567pyvCF9FIjpq6tz0fKFznqGHFfL1p43cY9XF18UlFunYpLyyWv5z5PTlk+92tk8jNrz4mh13yTTn4D+daOvzS8+XkKy+U3z98g42glQtUn/3VKfl0jLt8cNS6xchXkxoHkWBYztjvKNlu+Bh73RvqmhstD0DEppGlQ+355oJbF45EA1JnRMDcrO+Q3saQyysbTph2iMTCyfU0jlE//O9f5Z63nrXvOh2/jNu+IpN8yM+7PNscrbLrcz32Zd4A97z5jI2ipPl2GrudnPupk+15b0AXGvWO9cjYoSPs+ZbE9CUfSXVj0uGnyPTPncclHZ2IPglwnHp93vsb6fXlj96T2pSj6gjTp/fffleZMnqijE45SZHv/aXz0v6VgYhSCpyMKA/+/E2JtRZ9hHUYjlHe3x1uZKo282zZ+tX2vDd45Xehban9yAXRna59+l57/vh7r8jdrz/VNZ53mzhF/njWBZKZc+9Ytm61fPc/l8hxv/2WzF620N5D1kN32kv2m5J8325JoBvIfc9y7n0Pu+A5umQ8bk6gt2ztnCsGyoP8/D0BHbDu9eHDhw8fPnz48OHDhw8fPnz48OHDhw8fPnz4yAX6IUj2YyrX93SOKonizBSWSLRICguKbTocdPJMWuxfhwwdKgWxQnM/IDg4dZpn7FPU1TVIY3Or2B0wkyc/EJJQNCaxomIJxWISjEQlLxyWvFBI8thrzc+XeKJDWtvaJRiKWOceHKRC+XlSVlws5SUmX9CUK53mukg6W1skZMorMmUXFxZJNBaVuvo6GTZqpJRVVBg5ArJuwwZr/4FNVtX69dLS2iqVa9bI0sWLpamhQYqjERk+tFxaGhuktmqtNNZvkNEjK2T54oU2alR5aYkUxiLS1twgCZM3FolIcUGB0UPUnIckmCcSyuuUvERcikzdRgwdLvkdHdZRKtApUmvKZGt6SNlQU06FDC0tlkhApDAckIJIWJpMudU1tdJmzsOFEck3um7qbJHmeLPUNTVK9boqqVpVKR3xdiksjsiwEUOlvKxMouGIKT8qESJBmXYIUp7RHx8rjZr7wUDSFoq9M6N5c85HTA3hEGXSYcdMdCnB8S3RbuqKPWWr1JtjW7BI6ha9LfZxCuw9ra2qzslub2sE+8DnnnuutVV7+umn5cMP03+AGRvuV199VX72s5/JKaecIlOnTrX05S9/WW688UbZYPpTOiw2/enkk0+Wiy++2PLABu7ee++V8847T/bee2/L48wzz5RrrrlGVq9Ov8dMPvKTFsejTID3I488shHva6+9NqN8g4GmpiZr5/eNb3zDjvvbbrttwI4y/dU3UD383//9n+y///42H0fa+eqrr5b58+fb/p8OlEs/+P73vy9HHnlkV1543XXXXdZWQPHee+/Z5/DlA6suaPfPfe5z8stf/tLaNdO2tLHWRXk+9dRTXb4qHJ955hn53ve+1yU36bP1DRfMZf/973+tjshLH/jqV78qd9xxR0bbS+1byLpo0SKrl7ffflt++tOfdtX/uOOOs/WYMWPGRnrDnvXPf/6z7XOco6M99tjD5oOUrxfU9eWXX+6hZ46U+9prr3XpZGvE4FqKZ4EaNqjSeQmjGAymMSBh818jruhz0iqpIQXPSccLmgkbcM6Ez/Hjh6QhzaaUHd2gQyY3BolRYx9BVBoMjpM6ZxLgSHsk0WeGgw7qh1zUlT4yUH2SX6kbyeg82tdw+OAcvTIp0Y+7dbL1AhnRFZSLvKShvSG+YIxhPy9H6j4QqG7hvzn0RnmUwxHZIeYlyG1X0tCfqC9t6s4/QM+5DwHNq2PDncuA5iU9PPnxwFGJPMorF7hlg1zbAhm1viqTLqLTgTTkgYAe+wLKwjEKMFa8jg3pYPVrSHWVMMcOT3sgi9bbqw+gz2kH6ujWQUnhnvcVXl6Dib7w7U2n2tdBJpm5pzrFwem4KftKuflRDOCPY9SymrX22sXCqlU2agcYWlgiO42YaM8VtA1zJOODOYTx0VufxdHALWtMaYWN2kQ+JW8d9Fp1ofXMlA7wdf2xhncuQCcTypIGuwAZ1zbWpK5S/dbUlbUNC2wW94Sf5chah3L5wgk/1hgTmXTgtqWec3RJxwFH5o81bXViRopNG8oLyPBg0uFL0wB0b51bTbnKByAHazAcnsrLy+27jT8klORHJJRyBGuJt8nrC2dZpy/qRnsyNqkTfKkXvOkvkZSzy+aC6pF6Ig/XzDv0d84h7rvtviWg7xSvHJnk2rZitJy460H2KzVEVfr3qw/Jipp1qaebD6o7pf5g4bqVlgA8dhw5QaaOmigTh46094iARdSyXKFy6HH8kG7ngDW1G+TVBT1/uKvsSvSP4SXlXY6OOh50TPQVj37wmrw8f0bqinmwVMaWd88VAGfKvvKfs2px19yKvNMm7GDP00Hr9r+Erxx0vOxo+hF4evZbct3Lmf+wtKnh9i/9HaJ9irkJemXeDHn8/W5HxtFlw+Tsg46TVjOXajtnwoxl86S+NeksVxCOyl6pyDz9Rbq+yPtQnZFcuHVjPmVunTxyfJdzCdC6puPbH2w3Yqx1llF8tGqJvL98ftd8rjr1YnxqTskE8mSSUdfi+psgE1QXA8WVT94hK6uT6xz+wH38nofIhIpR0m7kyIaZS+dJVSqSEpEsp03cwTrWDIZM/ZmnwMwl82R51Rp7TqQonKN2m7C9daIDOE69s2iOPXfx3qIPZXV1Mkw/fY+IU7uMnyTlZi0JiLA0fXH6P2jPWbHIbqIAyiGvOqOjC9YrOG3z3vViv8m7dEW02mB0OWPJXHueC7LpWceALdOjRjcf0aOe/eBNm5b7h++yt5x79Gmpp/0HUbb+9sit0pByrMVRbYex29rzrQk6DjONM+2DHEmrv18GG8ofckGbIJsrX7Z2z4T+5AHkY11O+fQl1Ucm9LccHz58+PDhw4cPHz58+PDhw4cPHz58+PDhw8cnD2qrWFNX32MPhP2ECePGyY677SOTdtpDJkyaIgWxArs3GjR52CvGISeeiEssGpWKYUMlEja8OkXibeZ/iYAkEvlSW98g9c0N0i4d1lkqYfLlRwskL1Yo+YafBMPmSUBq65qlPR6S2iacqvIMr7AE2QMJ5ElpUaGUlxZLYWFMCmME1AhLJBY29wuso1EoEJCwkWlDVZU0NDRJmUnbmWiXpoZ6aW1pSdoPtrdLbW2NtLY1y8jh5TJyaJGsXDxX2hvrpSAYkKGFUalbt0oaqysl3tpgJGgx5eDIlCehvIQURUNSWmjKM+UQVYrdqFCAj9MnjJydpoxWCebn2T3xUH7QVLRDCkw9S4qMvOFOKYkEpSwSkVCHkaW1Sdra41IXj0hNZ5l0xvOkraVBmuo2SNXKZVK/br3hGZeyMSUyZOwoKSirkHBBgQRCply2ozo7pCPO/lnAXIckivMZejVtETD8w0aOsNEJH7oOmGcB005EzxKj6c4O0xJG1niiTeJxI3soKpHSMdJcNE4q84bJyvaoNNUkbXUUG6prbbt/XPeYtttuO9lvv/2sHd5bb7210V5aZWWldf7A+eeBBx6QZcuWybRp02SbbbaxjiSXXXaZdXRZuDD50cl0IDIVjlff/e535Re/+IV1DKE8gCPR3//+d/n6179u+fUHS5cutbx//OMfb8T7L3/5i3zpS1/qN+9cse+++8pZZ51l63rLLbfYvfX+YCD6ximJfOjhhRdesB8/BRxfeeUVufLKK+WSSy6xjjxeoMNvf/vb8v/+3/+TJ554wtYDkBde9913Xxe/XLFy5Up58cUXbdvSxup8pzwvuOACueKKK2T58uVy4YUX2jZ88sknu8ohPflwmFqwYIG9lw44Ln3lK1+R3//+913tTB9444035De/+Y3VCbrJhLlz51pZ0Q/OVQ8++GBX/cl3zz33WB44prn2Eh988IGVcfTo0faaI45dBx54oCXazLV3B+iZetPGrp45Ui66whlrUzr0DQSZLX8GGWzuMxlheOQC41p1LgEo2GsoocYJGOxihMvkTD6vIcPHE4NjYJUO8MWYhCO6orOrQXNfQH5eirxL1Lh369N90tkO5y/qjLz9BfVV6kbynHp3mIUHz+irRD9jgnMnko8DXMfE3kCb02fwWMVzlnGMB3Fpaakdkz31lDt0XG+uvqRyuosibWfkoN8oca3pkQ8duJTsB9334Ul6zhlj6EWNmngGoWslzefe0/uufF7wzC0PaB1yhVs3PcITqKwKPdcy+lIOQJdEG2M8MlZ03tZyvNRDryl9aHrKdtsI4h7PgMqmfJQnwBmE9MjBUXWgZNOkjn1Bf/L0BpUZuPLlCq27F9y3dTcElLdbBkdycvXVacfILiO26Xq2vqlWnlnwnj33Yu765dKUih5VEIrIodvsah2JXNC/6QPIQZ9Q4/FsmLd+hbSZH7igPFYkR22/V4/+mw7p6g6y5Zk4ZKSMKx1mZXNBHjfftDHby+iSbmPtlXXrpbKh59cEFPZCYfgAAP/0SURBVJqPPoxTGD8iIOZe6pDpHaXyu/XgHFL59NqlytY6qTc/eBXjQmVSlh+1z7RP0P6sofjBjAzMU7QFhsQa/QlZ7VxvFq3etQIRHHhOO/IuwPCYozpL8WxcdIj9ka6g3E0N6gXsvJEiLZc68dwd9wo9d+9tKiAPxDjIFTuOmGCjLIHalkaZu3aZPR8oSmOF1jHJdWzYHHh76Udd43l0WYWcssdhUp6K9rS2vlpmrsj8wzAbvO2Hk4kbRYvnLtEXCH+Oft28A+2ry6vXdkVzsf3OkItVNeu7nmOU7zp0ZcLMFfO7okcVRWJy/G4HbcTXC7dOnySka5+po5PvKBw6Fq3tdr4bLPSFF22u8w1H5l3vfASIHjVvzVJ7Dv+Dt9/DOnb0Fvntg+ULupxPyHfE1L1lyqgJ9nogqDdzi0ZY492w7fCx9lxBWUrUi3dX1Kxv95+0i3XMGQjgmStwgiG9zqXp+gMOVUQdygQ3T7r8QHlT10zy6TPaFvSlHi4WrFkut73yhLSk1k9DikrlnENPkBYn4l06rDZzCc5iimnbTpWjd93fnvdXFsXSdavtux5EzDtiW6PTXLFgTXd0tm1HjJHdt5liHfnAvFVLreMO8rky0u/fmP9+V3sQaWrq2O26nPTo8zhepcOTM1+zUbQAUcxO3v9IGTlihOXF+oTfud51Hdh/+92sI5ViweplVr6+IJueKV/XXQrSu32KqFF/feRWWbY+OaajZu38nePOlCN33c9eDwTzTX00GhflDXScDjbQi+oonR5dvTHG+NtOLr8ZBgrk8RKyuOX2R4b+ys16nfL53eDqJBM2tX58+PDhw4cPHz58+PDhw4cPHz58+PDhw4cPH1s/2C9Qw/aVa3o6ExQXxiRaUCCFJaVSOmSoDB05VnbcfV/ZZsouMmHSDlJYOlSCkQKJRgusvRd2CcFQvhQWR2XIsDIpMMfOzoS0tbVKa0ubSEe+NDe1SkN9g937MoUL0aYAcnAvGolJbU21dCQ6pKiw0EZCgjf7P/G2uI2SlC95EgxEJBZN2jJhx1QQjdoIU0PLyyQcEFm9coWsXb1a2ltabISlUSOGy7DyUuloa5GiaFjKTdo1y5ZKa5ORxdyLhALS1tIkq1etMPXIk4qKIVJSUmzSEiWKSE1hkyYo4aCpY75IyNQ1ZvSGQxYOYgEb1SpZD+QNmTJ5RgSmaDQk5UYuPjxdXFhsHag64m2mju3S0t4mja3tUl21XtatrZSW5lYpKS2WcRNGyoiRo4z+CyWUZ/h3YktqVIhLVigiYvTUEY5IRzAscVNWS6BDWvOD0hktEQmXS6LT6D4Pm8eEydEo4fyEJNpNO5jyOiRkdDdcwgUTpKlgO1lWtJNUDt1DCiYeLMOnHi5Dxu8p9VWre+wlNRk9NrW0Wl1/HEFAByLXABw06E8u+GD5AQccID/5yU9sZJ8333zTOv88+uij1pHl0EMPlffff18ee+yxrj1/L6ZPny7f+c537Hi68847bfo5c+bI7Nmz5fHHH7c8cEIhyo8bnSgX8JH1yy+/3EZawkEGpxt4Qzh7Ue7atWutE86SJd12AYMNbD9OPfVU2XPPPa1ecHTJZV/Si/7qm31Q9EdEp29961vWMUj1gJ6JSPSnP/1JTjzxRBspzIWrw8MOO0xuvvlm61hGXtqOuuDMM2JE73ZZLl5//XXr2EQUJyJSIQc83333XfnRj35k+x5OV1/72tesoxGOW5SnMmvfoL533323raMXOImRb8WKFZYnba71pi8QPQyd4CSXzeHooosuspGs4IV8ygN+6BN7CaKCEXlLccQRR9jIZOecc469Puigg+Sqq66y9yCiSo0bN84+A6pn5CIiFfWbNWuWLYc6MjbQPxHS/vnPf3b5/2xNyG5hN4jQSRZDAwUDCsIAVx2kMBwhqoQ6FpAPssZY5iXFPfuS7IOB6daPbMYM2Z71DtWhGngkJ5nsBnhe0HR4HBM9Cl79mQg3JZAPUEd94eRiRJOuHtrf3LzoEGNH7tHvWMyxQKA8jMjpu8Cbb2sGdacuEH0iU5vyjMmSemLYjyMY54xZjOoxqMd4Bx31Fd6+uSmh7aLzD+VRN+rhkqsP8rgG9ZpHSdMqKW8cBEiPXsjPfU2rabyAN8+UVzp9aBoI/qpzzqFc4eYFKl8mqC76CvIwj6MH5nb6ETpWPWh9+UGk9VbiGeUiJ4Qe1bFJ24TnpFX5bJ3MkWt9Rr0os9PwUz6aX8/Jq/XTc73OhlzT5YpMvPpaDnVX/blQvdofsabewOWr57sMnyi/OPwsmTZ6sk0LcHx6+MM3ZFVdlb324qN1y2XO2qVdZe4yclv5/K6H23MFZdMPIO0Xts0Mis0PPaLjePHKkg9kaSqqAl8pOWibneWYKfvY62xQOcpiRb06EoCyaJGcuNOB9m2LnOlQUVgqx07eW6LmxyhojbfLzNXdoUS1ndAtfZU6spYhohLzJD+Mc3UKU/k5etvRbVv3GZHWFrVtkHgq+khBXkj2jo2ViPmBrHwol3UUsrFgV5lsOyTMeDQ/zFlY806jv7SZ8aPRTDCuJXIX5et8xpGFPOl5904qHiG7D9/GtpXClXdTAfmpG+VQniujls9zTedC76V7NlAoP2QAKp/K0xuazbijXcGYsgo5e59jZFhRmb3uL47f5UC55owfye+PP1duOOtn9rqv6K+eiAxVmTJkDwdCss/Eqbav0MfeWfpRlxNQf9Aa7/5BWRwt6Ioeg6wu6fx/+h5HyDZDk1/CGCxMGTG+ywi9rrlRVqTmLgUy4sQDSLftsDFdcmXC9GXz5F2jGx1DexudffPQk+15NijPsoKitJGAPm7Q+nuhTiXo8zO7Hij7brtTTnN+X9BbG7nQdO4c5EV1Y73c8urjUpfq77TP0Tvv26vcOJE8Mv2VLkemkaVD5Sef/bKUFyYdDHtDQSSaNi1ONlUN3REQiUK067jJqauecyTvL8bQyXsebtJMSqUYGDLptqm1pcuZEIw0cyB/DAfp+gP6+86nz7B66Q2Z+hPQduM97pVNr/VIWtqa60z16A23vvKovDG/O2oe0Za2HT4mdZUetMUjM1+Vmqbkb16cPX94/NkyNccIQehKIzp5wZhynTh37EPUoRmLP5KmVP8cWlwmexDRyuiFdf5bC2Zl1DtRmxpbk38kG14yRPbYpjtC3qxlCzPGp561bIG8OOfdLr5Egzpt7yOt0za/OWhHb5lDi0vlpyd/1coHiLB012tP2vO+Ilube8ulzbx96oOl8+XyB2/sevfhHPf9E74kFSUDe89P226qrSdgvlhcuaLf/XNTQHXDEdI5Ru+5YHyxzmTduinq0BtPldEFeZRyRV9lJz2/k+jDuTpHgb6W48OHDx8+fPjw4cOHDx8+fPjw4cOHDx8+fPj4ZEGdXYgg5DVSHz96pEh+QPLyQ4bCEghFJVY8TIaOnCjDRm8jU3beQ7bZdorstPPuMnToSMMLZ6WQtVlhDyIQyJdwJCBl5SX2Y/odpoy25rbkXkZHp3WACocjUlxULLGCmLW/SnTEpaGuTmKxSMpeKulkFItFJRrFbqlIysvKJFoQlVAwJCXFJeZ50DocSSIudVXrJdHcJNLeIq2NDdLR0ix58TZpqF4n1WtXSUdzvdSuWSFz339XOo0c0UDQUL5EgwEpLiyQjtYWI0+hKbvQ3DPPDBGZqiAckgJTDmljJi3XsXDQlG30kp9vKekgltyfpu7YtuAcltw/6rAykqesuEiGDRki5aXUL1+ajN5DsZiUVVTI0BEjpWzIMFN+iXmGY1hQ8jrzJRKMSSxSYOoctnoKGL7h/LhE81slEug05UYlYMoP5iXMual/Z4PJ2y6dki/1Te1S1y6SFymSSHSktAZGyLrIRKkZOU3ypxwm5ZP3l6JRUyU0YjspHD1JhoyfLCVl5SZnty0ce3A1tXV2///jCuzd6Jdr1qyxdrousGk499xz5eyzz7aRcdiPVOD4QUQdbOZwbsnk2MR+88477yy//vWvZZdddrF7vYAyJ0yYYB1oJk2aZJ1ENJJOLqD/4GDy3HPPWScYIh+5jj+MExxvTjvtNOt88vDDD6e1OxksjBkzRr761a9afdx0003Wwaev6Iu+3ehU2Bri/DVlyhT5zGc+Y+0rFegZW0vun3DCCT32QdEhjlfoEGcfIi3ttddeXf2ZveXJkyfL4Ycf3q8+/ulPf1q+//3vW91ouezd0iaf+tSnbN/AJoE0yEZ5QPvG+eefb9sUJyJvxCvmy3vvvde2Lc5bRAijzRXkIxIWMuBo9vzzz6eepAcRm5AB+RTwI5oU9+mbOI31B25fRR4iqFE/bV/GBGODMYJD2O23324d4LY2DK4FWQagFBTGYGWCVUq+MLoNJHiOITsdkw5PwzGA6Dy8wDmnk/TFSGBrB2PIGb9doM5Jslf2Xl+hPNC1O1GyGInFCqSgoNBOPgwKFhxc6z2uOXIdjSYHEPpH77Qn59rZOde8g0vImJQzM/V0pOOlhbGa9pe+oFvn3fqGL7xwDAPw1ImT6BlMeOg3Xd6tGSorzk4sFPjCNrrTOnHkGaEPV6xYbo88bzELTV5U5OGI7nkZ0Yd0IeAFkbZwaGQx0oPMPV50lNVsrr1EGvK1txP6s2/Ryrxtoec6x/AjYPXq1TJv3jz7Mpo16wOHZsncuR/ZOiIbechP21NH7ffunKXEtRpWMn/RV9z5rjfoWHXrStlaFvd1/AEdj25dewPpNY/yzQSeQ6TVeucC0qMr6k8b05eYt9GR6keJcLeufrR+5HePrgyqJ5XNPk89g4vLX9Mo9Fzvw1/LUL0AjkpeuPdVFi1LqT/IpbxMcJ+nK597Oo5Ur8p3TGmFfG7qgfLzQ8+Ub0w7VkYWJX9EAJyAHvnoDXljeTJUaCY8Nf9dqWpKLmL5kXj4drvJzw7/guw2qtuwlvJxrkSWSSPHyed2Okh++akvyW+P+opMGtrTGJg07Sb9E3PfkoaU0SwOFafsfLBccNApst2Q9I4NkyvGyGm7HCK/PfIc+dFBp8mokqE56W6PMZPkR4edIWNLKmxb6n1o15Hbynf3P8k6BwFk+2j9cnljxYdWl8yDvIuYC/kiwsiRI+3XBzjnjwI4JJGO/q/rFygb3OeaXu9x1DHj0qK2KqlMJKMFgCGBAvlMyY6yS+FoCZkf7aRhXhpifpjzfo8Zfe5cOlY+v90BctH+n5fDJ+xq0wCOCzeskpZUBImgyX/09nvJ7ubHM8/QkcpQFI7KF/f4lHxjn+NsdBsXtDnzuDq1k0fzDRZoI/QL4KtEOTo2dXx6oeMeaHsPBlw+Ko+eI5cX6ebXt5d9JEurK+05ff/EXQ+Sa874odz3jd9vRPd+/Xfy33N+KZeedL58aso0+8eadDhk0m5dEaM4HrXD3taZaHMAA/BZqxZt1A41TQ3y+uJZqav+Yd7a5V18cSD7xkEnWCcJbVOItt5x5ET51bFfkc/svF9GHSn2HD9Fbjjn5/LjT58le03YwTpmpOsfOCBdcOTn5YDtdrHXOHvNWrnIOrO4WLahUjY0dv/QJ/3RU5POnipjOtzz7vNSWZf8Gggyn7jHwXLlF34g+2+3s73nxcSKUXLOAcfJNV+6UK4/5yLZaXTuzg0fNzz34btdjnGTRoyVyz//XXn+wqvl5Z/9eyPi/n3fuVQuPO5smZBynusLtI1c8kLHts5zwNvfwfMfviPPzHqzy/kUJxTXqTQTHp35iry9eE4Xz6ljtpVbv/lb+fLBn03rBIcz1Il7Hip/+eL35bEf/E3OPui41JNu0E9nLp3fJQtOMxed9DXZa5upXWsixg7rOfj98JgvynmHf87OSZpnoEinT6IjLarsjkQ0eeR4+eXnvmHr6dXpYVOnyR3f+aMctuO0tO3ihTe/m4d247n+tvRCdUIafaflUmYmoP9/PnWXrS9gjNMfsoH1GxE76f86z4wdOkKu/+bF8tOTvprWuQbnuM/scZD8+ewfyOu/u1l+c/r5qSc9QTQrjcYEjtxlXzll30+lrrJj5tJ5siHlaFdRXGbXeWBDQ628Ni/5Bzf0hr5cnb02d6asqUk635cXldioUwDHnjkrNg6t7+KqJ++SpetX2/NIMCxfO/h4+cXnvt7lHOSCqEx3/eBPsuuE7e010cjuf/M5efTdl+11f5Ct7d1+xjljCHL71QOm/Ltfezr5NT2D3SZOkUu/9D177uLhn10pD/zkb/KFgz+T0XmKd9SXDz9Bfvy5r9hIVGDJ2pXy3qKP7PlA+ulgA30wdlibpRtnCtKwdkZvm0r+XPkis9umgLxeGgww5zLOmWOgvmCwZPDhw4cPHz58+PDhw4cPHz58+PDhw4cPHz58fPzAngqoqau3Tk0KbLgKC5O2PB2deSnKl04cpYIxyQ/EJBItkYpRE6R46BiZOHkn2WbyzrLdlF1l5OhtJVZULhIMS0devgSCOBERZSls7aGKikusnWkoHDXcO6W2tib5PBiSiLXdNWUl2iXe1irRSETKhwyRosIiG0UqbHgF84PS3s6eUVDE8C8qKJLCWEziLc0SzhcpNXIPLTGylRZLPh95bGuW1poNUle5SlrrNkhLbZXEm+olZMrOM+UQWarE5Em0NkvQlF1cUGCdpfISHRIJhKQ4GrXOUBGcqEJJZ6loKF9CRkfBfOwpk3u2+fnsk+MUldQftq+Gi1FgwtQvINFYWHD6KimISlE0ZHng0JTo7JCoqUNxSblJU2h0kiftfKw60Wn4EBkrJEGTP886qmGraHRkdBswskEh0hgKGdmDQVu45QmPvHxs04ZIPK9MGqMTpH7ErtIycR/pGL+LREdNlCEjx8qw0eNNO46R8mFDpHx4mQwbMUQqhhRKQTBp+6Worqmz+3TZ9uq2ZowaNSp11ndgyzdx4kTruIKTSyYQEWfYsGGpq56g/G233VaWLl3aw+GnN2Az+corr1i+RERynVoU2KkT0Yd9P2yY+8K/PzjwwAPlpJNOso40t956a0aHsf4ik77pe+yL8hF3ImXlCnRIVClw+umnW/6DCRyuXEctBbbxtDkg2tb+++9vz70YO3asbLfddjYylLd/rVy50kan2nXXXa3DEXvCXlD2fvvtZ89xKMPeMh0oHwe+dEBWja6GT4B3nzsXaF8FOIal0wmgL598cvIj3y+//PKg95+BIs9U3taeMFs4I+DJ1VfQmOmUyD2IzkxjqoGDIpMRAS9rdbbAiYF8nGNUTINzna48kOm+F6R79tln5brr/p11onOB8fPRRx9jGvx064HqLaumplr+/ve/yZtvvpG60zsYNJ///Jmy115728nNi9dee1WuueZqI2PmMGleIOMpp5xqJ2J4Ynji6n3BggVmYqkyeiQCEh7ZMfM8btsfaIQoPMnxdsZAbOLEbezgLS4utpMuhhpqcMxgwMkEJ5ZsSKorXT9JnRjQHSibNk62MwYivIg37iekpV8wyY0dO862D3kw+kZm5GIB5kLbjD7JuV5TpveFz7U6Wb3++mty++23yac+daRtf8plckYPnJMWHasBtvLVY3+RKX+6+7mWRTomvunT35MlSxbZdqYOkDse0WXSoaXN9hX0gI5LSkq7dL7NNttYJwD0rU4wbl+jrOXLl8mrr75syuzZh4NmkYnnP2UkjcJ6yo8TX6mZWMvLzUKtYpjtz5SLnNlAmdRD66JtS9sQ7m/OnNmycOEC82JdZ+aXJtuGXt1pXcvKyq3X6/bbT7EewVo26SGdi9z8pMH5YOjQoVbPOJZpv/Ai3T2AzMyDyEEazc+11ot7EHXjviITTwXjA13Cn/mUORZHMDeflgHgT520PMY/L19Nn648eOsCjvS0MUiXlrK0jfQc8qblHlA50D0OUa5OTKauNgE8h68LUioPzadlKuDh8lHoNTy9fHnmptfnLt++oqseDg+vTC5Uh+CIbXeXE6bsZ51ajGTSZn4kUieFpsPAWSNEebG+sVbu/OBFeX9Nd4QkkEmGHYeNly9PO1qGxHpGpyAKgUZMARiwumUSIeeaNx+R2ZXd4WC72tikO2TbXeWM3Y+QgpSxp4I6Ydyq8PLd0FwvV77+gKyoWWdl1vofNXmanLbroVY31SZNY1uLjCmpsGWhKyIfUHc6C3XB4cf0EJsXLK9bJzfPeV7ipomTzrNBy1/fi8yBdl5LXbvvS9Y2zCWMw11Lxso+pRPND+SefSlXfNCwUt6qW2rPkR0nrEKjo30iY2VUqOeilD98GI1aOSHqE05FuVE8Nf8duev9F3u077f2P1H2GD2pq7+gn9rmRqs3QHSukkih/eMAQOfVTfWyXSoqz6urPpR7Z79i1xfMC+gKnZ1o+uZ+I5IGynXtzXL/8nekqrXbsas3nLXNgTKcENIGc6tXymXP3m7fQa7s7rnK/6W9j5bjpiZ/oNDGf3rhThsRjbQ67nEW/MmRX7TRwsAjs1+TW95+aiPen5m6n5xl+BG1psn0oT8/f5fMXLnAPmcs6tyk/Zg8EM4rPzr8DBlakJQf/je9+URX/3QxcchI+X+Hnybjy3MP9UsZi6tWy1+eu9P2fcX4ISPkomO+3CP61LqGGvndEzdZxx23fr3BTfuV/T8jJ+12iD1ftH6VfP+ev/f4Q5uL3cZOkh8d9QUpifJHoCTeWzZXfvXIdamrjbHHuO3lwqO/KIVmHDKX3Pj6Y/LQ+6/0kIG6/fK4r8jIku6oMawr1pi2ZX4Jmjai3oWRqO375J2zeolJb97VRaU2askfHr/ZyqLAOepnx55tywXwo53RGfMObVpheBZHCqxRumJe5TL5xYP/tk5fXuC0dPpen+oaL4yndfU1NgIMfxxExsc+eF2uffnB5PNUHadN2EG+f/SZMry4Z7SXtnh7V5QXwBzoykK9fvvIDfLOkg976Is++IeTz5cRpv7g7neelWteuN+eZ4Kb/5Rph8u5h55k+z5lXPzgf2wZXpx/+Mly+t5H2nMcvH5yzz9l8brev5qz9zZT5Vcnft3OvdTvmufvk3veeS71tCfOP/wUOWnPQ62zX64gnP3tbzwp17/8cOrOxnDr6wVtf9ren5LzjzjF6mBNbZX8+M6/y+L1q+38xlhm3tc5JR1wNLry7B/LdsN6OgbPW7NMzv7Xr1JXG4N8vzrpG7Lvdjt3zWsAJxmi/qjc9HmvTv772uPy96futOeuXKPLh8nfvvRD2y8UOD41tJj1oakb/ZS+V+JEY5yzcpHV454Tk1F+bn31MfnrE7dvpLcz9/+0fPfTZ9j+TZSeC++4Ut5Y0L2GdKH39HjwlD3kt6efL2UF3WsKnOGWV1VKqyk7Yuo3qqxCCsJmXBtdoIM3DW+iLzFucTj69g2XyILK7r9TkA6nnX+cc6HNC25++RH50yO32DT8nsHRmXSs4fU3DdcQ7zAI/fFO1/f/Ld/8jewweqJNe+OLD8nlD99sz3PFeUeeIucfdZrtTwrG9xVGrlteftReax1YP/CFpTWrV8uPjv2SnLjXYV3tAmg7HIu0jfmiGU5lyK94btZbcv5//mDPla/ie8edJecaeZQn/FZXr5cqM1dFDR/0dudrT8mlD95gnyvgc9O3fysHTtk9dScJnJ/O/sdF9pw0qkvOtezfn/ltOePAY+y5YuWGtfK1qy6Wuau614Yu4MHfY47YdV/rtKfzGWC+Xl9fLZU1VVbmMUOG2z6hOqDcp99/Q/7v378zc0xyHamyKC469Rty7lGn2nNkOefKX2SUxZsXPPbzf8ouE5JR2J6e+bp86/pL7LqA3170K83DnH3n9y+XfbdPOtgyji+97wb511N322vw1K/+JTuPT0Zroz2IrLbGtAljChB1aljpkB5OktUNdfLDm66QR995KXUniXSy9oZc86RLl+6e9gH9OwtrRMaTd77kGetm/tDKR02YV114efenboB8veXN9lz7lRdunnT505XL+pG/QdC3+Q0NpUuXDZnScp+vqO29996pOz58+PDhw4cPHz58+PDhw4cPHz58+PDhw4ePTwrYr1Dj9bkLl1gHKcWQshKZvE3yw4bJ3Zg8c8JedtIOEfuHpK0VNt7m2Nkh8fZ2LCuszWjthvWSSLRKW2u9rF27Qpob6qUz0SnB/IjEO9qlubVJQqGwue6U+qoN1olo2fLVUl1dL63NbVJaWizsgrJ/nW/KbW9rl6JCcy8YMmUbGULJ4BmBUNDwapOqDVXS2NggeUaOtrYWaWhoNGW3SSIel2AgXxJGpiYjg0i74RFgA02CRHYyd/KD+SjD2kIGQtSTPZK4KbdTCkx54XC+4Ru3vMmarK/JaQ55qbpHTDrsuCIRomyxR5zkSbSowqJCCUbCVt+tza3SbvTQ2BaX6mYjoym/PNwh+w8PSkGoRcwjyeswZeHs1BmURLDDsE/ajyWdo0JGPOxZsQulLXCW4rpF8rBzMULlBaPSIlGpzSuU5thQySseLon8YslH3wURCRt5AtisBGNGvxEbzSoUDki+OUZiYVOPkMQpJRiWyoZio6rkPhLtvcuO29v6ZnK+2BzAtvvCCy+0ThW33HKLTJs2LfUkO3COISIRjj2XXXaZ3ePPFZT54x//2Drr/PnPf7a2z4rFixfLD37wA1m+fLn85z//kd122y31pCfQ2R//+Ee566675JJLLrFRehTZnmFfT2QgIixdfvnl1r44HRYtWmQjE9HPXBmz8e4Nqmscka644oouRx+AkxfPiGh08cUXW2cY3QMlehXPvvOd79ioSH2Fq2+3XPYuccaiPtTv61//uhx11FF2fzgbiG71f//3f9aPAR2iy1zw3nvvyVlnnWUdzy699FK7H6ug3dE3PjDZ2h1d/OQnP7H6+elPf2rtS7zI1qfpt9Tz1FNPtfnTOceBd955x0biQla3f7vtf8EFF9iIXZmQTVZtU5zLMtWjL3qmvxJNDfzlL3/p0bc2F4jIha69bddtSTMI0I17DBsgvbYvMEOAgQO5RtwuSI9RMV5kHOkEdHpeDFx7jSb6i3Rlf5KgOtf2cEFYv3322dd6Ge699z6WCCUHHXLIIebFcZDsu+9+9jnpdtttdzvIaDPaAIMeeMIfoxacQPbZZx+Tfn+bDyLfxrRPmnt6P0nkRR6cxTjuu+/GaZR4Pm3aXjJhwkRrFE5d6ScY2HCObMjcG7RPuuAagzfqSH1xIAIsirjGCBsDHdUv6TP16a0JyIeBOu04c+YM6+GJ49fLL78kzz//nDz33LNd9MILz1vnvLffflveffcdc3zLTtLcJwzenXfeLtdff5088cTj9iWJvugLGPS4eq+rq7UTJjxcevONN0z5L8tbb70p75nr9959twe9Y8rjRfHMM0+bSflBueOO2+Whhx6Ujz76sCtiVya47UCf4MXzzjtvyz333G3lffPNN82C4yNZtmyprFq1UlavXtWDiJY1b95cmT79XasLyn/xxRdk/fp1lh/8IR1n2leoN3KpkxgGjPTNvvYN7VeUBXGt/PU5BPrCF8BD+Sj/bNByNE9vQE7qjE74sYEeMkH1p5RNT1YnhjB+tWPOpLV5THr7zNEVPNx6esFzCD6unvWaZ8gPuTJpPkjl1ed6roQckPJW2aC+ws2jsvQFRmL7BYwYP4RSFDU/fCDXmUjR0NYszy6cLr95/taNHKNAJhk+XLdM/vrKvbKgaqU1plZg7OuW7S2zJd5mjawV2haq59eWzZFr3nhYVtdv6KELnHsy8SUdThFEvlKkkxtngvtnvyIzVi+0fQtdFYajMqF8hEwoG2EdH7gHqNOyhvXyyMoZ0sGPXwPeNzjK4niJITWLec5xusagkehzpNH3pvaPwQb1RW8t5of0i42LZH7reusMpUA39gsj+eYHsOkLXsconNdwEnMBz5vfe0rmrXcMy80/HKK2GTLKUnms2BpQ83xl3Xq56rUHe6SnzsyH6AKdoCP0k21e6CsoS9/HmaDPvGmQT8cm7aLjPh36OvZID19vmd5rQFolwB+FzjvwBPnjied1OUbRP3HO8RL93B1v8Ni2YrR857BTe0SFwgGqtrmnww7RnFY6DlSDBa2HFzNXLOhRXluiXV5bNLCoUYC6/eulB3tEZsLgfGz5cJk8fJxsM3RUl5MjRvOvLvxAfvnwtbIhFe0uHdA3pIBfSazQOrNsP2K85VteUGzvA9rgfVO/3z92U1rHKHDLG4/LG6a+2l7Ig9MJ/CYaGTHet398S0H1+O7Sj+Sn914ls4m8lcoLcDghj5LrGAVs/2jbcn/I2pQ4YNKucvM3LpbP73OkHS+MK+qKs5aXcDJxQfov7P9pOWWvI1J3eoeOT20T7zh2n/OMuSXdWFdUN9bLTS8/stG82xvI9/3b/iL3vfN8V9QswDxMHygyYx7yOkahg7rmnh+MUKyqXie/uf9aWbi2e+4mkhX9ffuR42XKyAlSXlhiy8Ax493FH8pP7vxHV8SewYLqVo+vzJsh1zxzb5cDCOCdPWnEONlp7Hb2SJ1Jjy5ufeUx+dOjt0iN0VF/oes1/vijcgDOIX1/a/tCbrr+4j/P3S9vL+w9RD3l8/uWdx5Rdn9+xz/kn0/eKbXOnEPboZdi034QUaNcGZnX6EeZ8PfHb5NnPuiObAY/nIuIuLQ9X4szPNNVmTJmLJ5r+Hf/ruB8+uJk5KJsII13rlqydpXMy+CMhB74zQkRleqrV/3K6k9lZi4cWVZhIzFNGT3RjgnVAc5H1z5zn5zvOEZtDrDuoW+po7jKwzvp4ruulqXrkuOJTYvvHvcF+cy0g+01cOcw2oP6TBo1XnbfZgdL44eN6uEYtdqM6R/d9OeNHKPAYPTXwYKuixVe2XhOX6fPb0q54T0Q/pnm+v7yZP6hr/DH7WzvER8+fPjw4cOHDx8+fPjw4cOHDx8+fPjw4cOHDwV7UCCR6JC6hp77wmNHEf0mueeQZ/+ZY36+EKsAB6hAfmofNA9HqTxJSFDyQ8mIUtFoqQwdMV6Gj95WRo+bJGPHbSvFxWUSIvCCaECBpI0Ntgxxu6/FB5tTH8IriEpxLCYlRcXWbimPvcyCQvOMPaKkLWTI8CgoLJJAMGT3hwoLCkwZRRKLRu1H9UuLCmVIaaGUGl6FoaCUxCLmnjkn6lOQvbOQKSNiI0ZFqEtHXEI4PhldRA3/iKlXQSgsYSMzpVI0jlHUvTOeMMd8I5upD3u/qMnIQBQoWweTlv058hEJyzpQGaKuAVN2zMhQEDVymGMYxyRTDvVBn3zEkmO+YYI1Gvs+CfiawsOmHuF8wyPRLKGOFiNju4Q62yRgdBqOxCReMEzWhcfIiuhk2TB8H2kZd4B0jN5TAmOmSnTiNlI4wVDFOIkVDjNyFZh2Ckqs2MhQEpUAe+j5USNnRDoSIYm3dUpHa4upU7f9C/aXG2prM9pHbe3A9iwb2GPkw//XXXedder50pe+JHxAkGg6BxxwQFdEnEzAISRTpJyBANs5bKyJHoTjC/Kko89+9rPWkWpzgcAROONg53z77bfLwoULU09yQ3/0zV4qzjnf/e53rcPWz3/+c+schfPP/Pnz7VyQDtgiY5uJrNioDyZybXcNJNJXYC8J7rnnHuvI4213JdqiN4wcOTJ1tmnAXnWuesavhIAntBs2+lsTmLsHDDqjS0CNDJjk9auweg/qDRiQYFAM1FjVNZ7oD1SebqP23GT5OIL6UTcMKzJNFoAXrxpuE+aMyFDcY9IiL+dqlIHeuA+RHuIZ92ljyDX26SvIBz/tR9pemaDlcEQGzYfjD8QkxP1MIJ+WobwA5ywa3frymOuWllZr7A5/BTIrr60d1IFJi4hhRAvrC6hnW1urfVFXVq42E9o8GyWNCfvWW2+xXqv0GSY7+lG3XvunF/Te1NRoFjTrrRPT7NmzrIPSvffeLS+99KI1tKc8L9x2QGbSEbnq8ccfs9GyKivX2HrwrDfQx4my9uGHc6yTFI5Vy5Yts7IptO2pL/qFkIvJnjGB4Z7K5MrWG+jLOgaVr7duWnZfgJw6TimDOnrh1U0u41HHn6ZjXuFFCVwZ9TkyaL2y8VUgE1+B6DRlkN7mS9UBxyjVB8/y0VUGntSsy7EqlYa88EHfkNaF+yor5Bo06rNsRDqXtAz6j5aTKyhPAS8v3HucU34u4AcPzklrG2vkrZVz5e9vPCA/euJauXvWSz0ci3LFmoZqueylu+SyF++Sd1fOk5qWhh6RTQARn+rbm2Ve7Wq5Zdbz8rOnrpeFG5LRRLQNkN/t83PWLpVfPHWD/PONB22EqbrWph6OC+gHeYkG9NrS2fKXV++V3zx3q1Sb8pUHR1dPgKuEyfuf956Qf77ziMxat9Q6h+nXMvhB22z0s6i2Um6f+7Jc9e6jsnDVsi6HKIhzHIDUEYr21fbSMtOVPRigHKWua3N8u2m53F/9gcxpXiM18WZpd4yVAbpraG22jmz3fPCS/Oixf8kjH77RxUdR19Ikl794p9z47pOytLrStp3C6qa9VRZtWG2f//LJG2TB+pWyuq5K4ikDZXQBUXf6O/MN7093Dh0okDmXseStm+bTMQlx7oU7nr3jOh3c5/DXcrR899yF8isrKJKff/psOWqHvW1kNyIV/fOl++TMGy+WL938u43orJt+K6f+5xdy8WPXy7y1y7t4Txw6UvabuJM9V9zxzrNSZcYIaeB729tP9xhHgwlXD1o38ObiOV2R5NY31Mr05YPzg/7tpR/Kd+/6i9w/48VUdKfuenFe09wgry+aJT+5/2r54xM3W0P8FdWZHcNmrpgv5/33Urnj7Wdk4bqVdrxgxO4Cg3X0+cqCmfLDu/8hF953lY2QlAnI8ZtHrpe/PH2HLF6/qofBO/PXqpr1ssTjcKL6W169Vi6446/yvTv+Ji/Nm250V9MjP7BzoLn/6oL35dcPXSdn/edi61D1cYLbVzLhc3seJhcd/xWZYPo4On3uw3fk7Gsvlk9f8V059s8XdNExV/w/S5+67Ftywt9+ILe89ph1lgI42Rw5dW9xI+6kg7f/Mn6hdGB+YGzpGEw3zl08PetN6wDUWzovqPNlj94sJ/7lBzYaFNG46M8uH/oqDjMzl82TK5+6U47/8/fkhpfSR8qifrNXLpIvXfNLufLpO230KvSk/HA4wbHqrYWz5Ye3/VXOu/4P1qFqQ0NdlzOKIpf2ywU679791jNy9tW/lAfffdGUV9tjXBM9aq0Zb/e9/Zyc8fefyp8fu1UWVq6QdfUbR4RWuahTOn3rc12bsX6nfKDPVCZdp2hfGIw6U69rn73f1jEbWIfy4Rg+0qHvq6ufvluO+O258udHb5UPVy6WetNWbrvAm/abs2KR/PuZe+XI354nP7v9ytTTjUH6b1/3R/n57f+wkZLQs4J+hhPP/NXLUnd6YsbSuabvdDv80QdfmTs9dZWE6t/V2+vz3pfK2u4/YKtTVbqRQRvwFSf+KMlvUv7wPWfZQjn9ih/JOf/4pY0IRZQrd75GbpytrjX1P+BnZ8vv7712o/l8IMilD9Be+ptL/86g+T5YOl/+88x91nELlBeVyLePPUMqSpJfgDrpkv8n3/3PJfLKh9NlXV31Ro5k1AWnwLfmfyDfu/4y2ftHZ8oj77yYerr1oWtuMX2Nc/SQSYc6zjY1ssmQC3RuUVIo377wZ/6Bh/v3Jh8+fPjw4cOHDx8+fPjw4cOHDx8+fPjw4cOHj2zAlg00Njf32Fvho4LYiIrdeeuUPOumI7jq2L2Lzs7kfmdy35PnqT0N9jbySS0SCIYlGI5KOFYsQypGSfnQCvus0zxlX5K9jYJojI1lywdZsO0rLiqS4UOGSsxch/PzpShWIKXFJdae1+6pmH9EfoqEI5Kfj5NUSApMGiJK5Zt/BXyQ3pQbDQekMBo2/GJSiBNUUYEMKS01vIqksLBAwoYffAoLYtbpKGrqW2AoihOSqUpRNGrKwNbP6KAzwcZOylHLasFqA+eo5P3UvrD9YLbu+SR1RzQttmFxdiLKVRhHKCM3ZcYilBE2ZWMjb/KbsohyFTLXYVM/9gc5D4VjVp/WptHKkjBlBSVUUCzxcKFU5ZXJyoIdpWH0vpLY7gCR7aZJeNudpHzidjJi9EgZXl4i5UYPxQVG58XmaK6LS4dILFZiyg1ZvSaMkESkam5rl4bmFvvRzbbWJglKTzuturoG21a57mFtLaCO2O5yHDduXI/oO9ybPn26fPGLX5TPf/7zNlLRqlWr7Ef+cbwhOtDXvvY1ayO/JbB6ddIeiCg8+++/v418lY2IqKRje1ODoCpEopo7d66NeIRNQm8YqL6ZC8477zx54IEHrFMVNu2UfeKJJ8qXv/xl60Tm3St2dZgp8tLWipUrV9oj7Zquvb2EA5TarWxuqCNXLkBG7B+2RuSZTmpn8qeeesoa9R566KH2QV/AhOOFO3HiKIFBCJ57vRk3pMSxCiNiFNcQLwnywgNDgUx8NL8LGgB5XCMU8NRTT8q//nW1NWzOBXjBHX30MXLaaadboxxvWTU11fL3v//NOozkCsKIff7zZ9pISSwWvCByzzXXXC3V1bnJCD796WPljDPOtBMLelIdukAPqgv0Q9nq0EJUHiY412mC+zi9oH81yFIe2sE5Ug5lqpGxW65XBoXehxd5IeUNZYKWzRH56RdqKMbkR32oCwbr2l8oy8vXPYcfLxXqQx50wPX778+U2277r+y++x7ymc8cZ3lTnvLTtlMZtE6Z6pwrMuVPd7+3sqibenPiJETUJxycBiojC1QWmzvssKMcccSRNqpXqVmE4hiDwwBlobuVK1ekcvQf6Jp6VFQMMy+Bg2zkMLxx3TYEXNN+lM8YYkziFJXOEShX0CfQ36677m7qeYQpd2TGBQh9gGfqKcyL39sP3WM6UAfK1LGldYQHpGOQ5y56a0/mrlGjRtm8yIQTF8aF6fKRBqJ8yqFMnM3w9kYG8ugRME+jI/IwT+gXr/W58nLrkwmuPJxTNmVZHkYWcmvZ3FN+mZyi0oEfY/BQcqH8rLy0Q0puoOnRicrpPQLOM117n/WoQ+qYDu4zza95XWJOQl7e6yov6Xnmgn4KcR8dM3dreuDK6CLT/XTwpkUu+gnvKMYknua8W7SNrc4NeWXNBa5OdPxwD77cgz613R5y0o4HSNDMXTiG3TnvVVlYu8am0/pzrjpBRu4D5aXl6DFXYMw7ZsyYjSLs9Reujhh/tLvKhJzapnqPccl85DqXpqtDrvcUPIOQh7rhFEr5LJaZBziHAGlof36o9BYOtzdQN3740Ie0jRTZ5M0EZFMC2kZcw0/bXgm4R81LPsaVrhOA2970S/SEzN4xeua0I+WkXQ+2c87a+mq5/NnbZdH6pPNgNpB3RMkQ+cUx58jo0qH23tMfvS1XvXS/Pe8NKmcu6EtaL8g7kPwKLw+3zZRIg17p695yvdeDBeU5EN7Z8ubK15tuIPKAwZAJ9JZW2xGkq8Oosgq57LRvy/iUY9SD01+Svz51eypFT6Qr67zDPmejRvF1p/X1NfKze6+SDzNEp/ECful46tjWdynvDO1zuWJTpQVuetWvOx+7Y0ffmzxnfko3dnJBb+kzPee+K5OWnS59Jh6ZoOmVN+2lvx+pq+qEr9qwPiFkOmsTbV91aCG9puUaPrpO0DL6KpsXmerLOxPZ+NtFprU7yJQ/HfqSti/IxlfbmOtMZel9Nw+65jemOkZppN500DbKFZnkyBXe/O619jkdY9SD5965wnvMhHTPe8vjoi9pQa7p+yIXOkEX/E5GBzqu3HYjDc/53crXwljDuvy8vHOVMxsy9ZvB4O0CfspTj9SXjYIhQ4bYtbP7B+e+lJ8pLfcfffRR+5U2Hz58+PDhw4cPHz58+PDhw4cPHz58+PDhw8cnC+yfsdewfNUaWVXZ/ZHY4qICmTp5gjnT/QP2rZLUkbqVdBripNPcdfZp89jHYq+Uj5dzNy5tzbWyZtl8WbFkgXR2JIRIU5KHfVeHJOKtUrNurRTFCmXV8krDPyBl0ShGlJZrKBiWeDzRtecTDIUkPxCSSKhYgtGIUIh+iL2pscHk6JDOeFyaG6qMQEaWRKe0m+fw6jTXre0t1mYg3t4mAXNkLy5hKkX0qs6OuLS3tdv6YHtjpLP1TMZwSkgAseFjt4awJ8cxqs06k+GQFYmGTXlxwzPP6AH9dEo4FJGCkkLJj4asvWEI3qaObeZYn2iXDUbmsmBC9hpinuU1SSAUTkagwvEqbo6RPGlvbTNytZq6G/6BsNS3izTmF0tn0QjpKBgq8VCBOZZIYVGJdaTKN2mCYaMnU4e8fGTA+SuKOFbmpI1CvrS1Y2/H/pMpxzwMhDqlybRHZxy71ri512LkHiVNkvw4IyDC1Z677GjbI9Oe66YGNqsXXnihvPzyy9Yphmg6vYF94l/84hfy9NNPy09+8pMeUXZmzZolF1xwgd1Hxunmc5/7nLVfc7F48WLrtAP+/Oc/W0cVBc9+8IMf2P7pfeaCPkqEo7vuuksuueQS61SkyPbstddek69//evWP+PSSy/NKUqRi2y8e4Pqmn1XnJjwWfCCiFE//OEPrYMU5cD/iSeesDrBeen8889PpUwCfX/ve9+zvHPRd6ZyFdTvzTfflDvuuENeeOEFew++3/zmN+2+MVAdEnnrsssus/YdueC9996Ts846y+ZD99hPK7L1CRcPP/yw7XPf/va3N9KFIlufvvPOO+XXv/61nHnmmfLjH/+4q065oi/tr7Kedtpp8tOf/rRHWTxDRiJ3eZ8pXH31pmfsV370ox9ZZ7Zbb71V9txzz9STzYd7773X6nq33XZL3Umi21JzAODl6iWFe55po94LDCUwGgW89JiE1TiJ+2r0nQvgpUYoHMlnXxgeOT9J4MUMMO5Ip3OtO3pQ/ZCWFwPOROgX5yJ0piA96bwGPOTDGAyDFl6U3IMvBmQMnORLuHddKy+Omr63PArkcmWC1NgIA2xvPbykQG7SQvAgP/cwREt6miYN5RNm8eOWB9SQRvvW1gjaFX1Qh+RCM/VggOgwi936+gaZPXu2ja5EhCf6Eu3PiwTdoZfBgLbLOrOYfvXVV+XDD2dbBx9tBxfMGUR8mjlzhqxZs3rACznKra+vMy/2D2TGjBnmvD5tuYD+wAuJBRnjA0MnnX9Arn2E9Ol0R7lQOj6Z7ul9juTVPqvjNhNIR911fHKkTsmx0H2fccOijbrqfS2XOti5xqThqLLkAngrP6D6cK8hnKL64hgF3AhSSlbO1D3VlUrLOZrSOrlHW6fU0UsKzrUcl7ivuoW0vpAt00PKy+UN9JojddC0Cje/gghJWg6yeNvHW8ZggPKYg3i/866gz+h9Vyd9hdabvqjvIOY8+iWLNBbgkPfLAby/mEcY02psy2IV4h5zCeOZdG6f9+oyV/Q3XzqoHF55spWh8g824In+WadRBvpjftE2hTQd+qQPoM/+Aj60CXwobyCAFwQfCLmU9B7PqQN1VNJ60feU9F42mbQsb/7iaIHsO3Gq/eMMad5cOicnxygFUYuImqQojRamzrYeuLoaLCgvjqpT9KdtyDnkYlPI4eLjxndrgFs3b3sBnn9qx71kdFnyqzJEyXpoxkv2PFfMr1wuzalIOLFwxIy5nmOEMrxypOs/Ck2r+bKl3VJwZVRw7s49+t7kHms8/R3V3/q4ZfUFKg9wy+4vPxcub6D8qTPQZ/oOQCf6jCNzvvs+AMpjMOTrDchAG1Ee6yeVIVdsDhldZCvP1VsucpGGNR1rONZ0rM2yOUZtbdC2ou8wviDqpGPOq4NcdPJJgPYDVwdu3fU5+lJdbWpsKt1rXRSUo/XWI8Tfazjy28OHDx8+fPjw4cOHDx8+fPjw4cOHDx8+fPjw4SMXsK/J/gKorcepqBvFheyH84x9Fqh7L4QsRFDint2rcJ4B4kbxmGed5hyDuXh7QlrbGq3DEI5RrW1t0tzcmOKetK8LBPOlpLRIOhMJCYXzpLAoLNFo0J7nBzoMpw5JWGenhGDRm5/XLp3tLdLR2mKO7dLW3CJBw4hnRDzCiSsUMjwiYXPEVsfkCeRJKBiQKFGbzDOiTyFrOBy09jZ8LJvnYUMBI1cwP8+QuW8y8ww58XkiwlNA4pJv5LE+UKawRLxd4q1t0pEwkloytecZujD/8jFzYs/YHBKm4p357HeZJ6Y+iUSr5AVapTNk0gU7TZ1NGvMv3mHu40QWK5K26FBZ01EuC9uHy9LAJFkdmSxrI+OkoXiMBEeMk9KKkVJQXCrRgkJT54jEumzfSiVWWCIFJSUSiRGBKmT3tVuN3tramq3TFdTalnQwC8SNvB3tSdvI/IipW89IQO3x5Mec6T8fJ/BBf5ww+Kio63iCLp555hn7wfCTTz7ZOk15HXW2NPgQKHJjm4id4tYGHJe+8pWv2DF/++23W2cpAkOkg+qbaEiDpW9sAg455BD5xz/+IVdffbX96DrONjjqKBgLkAZ/+Thh+PDh9lhVVWXH6NYM/CUmTJiQk56xD+XDn5MnT87ZWW1zYVAsDLIZKvAMQwAGRC4gPYbSHJmA1ThLnaTgRQfXNNmAERMTuBqw/u+gp/ODC7uYMYQ+OKIbjugYI2M6NLrGMAMDZ30Bkh4inZevlqXGdBwB6TFkgVe2NiC/K6/KmA2aBoIveeEBOCKDvsCZOF1+mse9x7X2Fc3PkX7GYCctXucgVUwPkJY0Ls+tCdSP9qR+tPHgG5N1msVuk8ybN9dGacIZiYmPchmvlDuYoL0rK1fbBQ9RQ7x9kus1a9bYlyMvYe2TXtBe9NFYrMDop8hQoe2vyJ0OtH1tbY3MmTPHflE+E1+ADOgaov6U446D3vpLtufwzvbcve9NQ/nc06NXd4D+DPEMor+4jiGQ9nnqxNcc1IkQnWj/4pmtsx49svQGyuArD/r+oDzumf9180affeTbAyavtglHly/lQcA6ERni6w+qG+rKc9LavKmj5nOf6X2F95k3DWVoOapvLwFN7/IGXHvTgo3yetJo3SGFl/dggDZlbFCuzk1eHWQD6cjDvM3YYp6HD1H9+DHBV9dxzsSIlr5JGsqiH0MK7iEHPzzUEYrntK3bz1Um5FZd9QfwzTZvgP7y9+ZLxwf5KT9bGf0pX/PQBrSFzn2qL/Tn9ivuo2903d/ymGeIgDUYzlEu4K0y6fhDXj2HtD7ab71zhq6dtN+4PIHy5Dl5FeUFxRIJEtLc9JWOhKyr73Z0+iRC9dNfqL6B2w7oWtvMq3sXmnegcmTCx43vloRbp0ztBUpihfYPlqCuuVEWr8vdeTATKFsJaPnZ5PBCx39vfW5LQevmPSI385XOWfo7bjDqoWX0BZpnc+iPMqintp2CuQMdsG5w9cQ5z1y96FGfu3wGG7QRv1F0Pd4fbEr50iFbebm2MbplXcHajjUGawd1vv44we0z9C9dA9DPvH0QbO622hJAF+iB+mcCz2lr+v8nQSeZ+j11Yw3D354431R/DP9f6Fc+fPjw4cOHDx8+fPjw4cOHDx8+fPjw4cPH/xp0rxc0NbekzpIYNqTU/J/9AS/p/5MOTUl0P7eOPJJv/mF7Zu51EnGp00ZjamlqZNNDOsy9eLxN2ltbko5R5h57EZFIWKKxqAQDeRJPtEt7e6tJTvSoTglHQlJUGLVOS0LkqbZWibc3Gx6N0tzYIB3tbdbJKK8DuTokgX2T+dcR7zCUsIbu2B5apyZzDKYIez32WgL52JEZMueREM5UIQmFgxIy1zhHUR/7jy2bDlMn9ostL93LM3VCZiNXwpSn++bUy+7zmfp3tMdNmQHJM2UhXZzwU6YukbywFAVKJBYqMeUVmHoQXcrIGy6SukCRLGiKyOKmElmZqJDVncNkfWCYtBSNlGD5MIkUx4y88MWjybQpdnBRo8fCiNUZuuw0/IicVV9fK/WN9dLY0ixNLW02ahRtlB/IN3U1FMEWPCSdcVow9bHQzqB1+oqEulsbrFm3oUf/2dqBs86VV15pHYuOO+4464yhYA+WfWSw00472b31dMDOmMhIWwI4Rk2aNEmmT59ug1BsbaCfH3HEEXL88cfL+++/byMdYX+fDptS3/RZnKSIRIXt4bx581JPxDpMTZ061d5btmxZ6u7HA+PGjZPtttvOtj/RqrZmjBw50o4vZF2wYEHqbnowLufPn28jbtHHtyZktkQYJKjRZyZDABd0bAwCeDFplAbNx5F7GC5zjnEMlGmCZrCqkeT/nhFA0tjL1Tk6UMLzmrCTLCY6jI7bjU55ecbRuTlvMBNXc3290HJhFg6Gj0YxSGeMxX2MVmgvJkTaiJcQBsvcQxaFXUSkDILIpwRoq1zbS+sCyEMZbp05p79QFg4bmpajlqPgnH6kfYm6kJ9JG8N68jSbxSOhPZW/Wz73tI4qvz7bGoAsjBXGFu2RHEOph2lAehwMKiqGdRGevaWlZZaPqzsX6IHISjgO4YWtxmv0CdWPF/DCeaqiYqihii6iPGTI5qgEli9fLitXrrD1UiA/5S1YME+WLFlsyk//5WXmh9LSctl22+1k2rS9ZN9995W99tpbpkzZ0daZrw6ka0fquXr1SsN/fpfDZjpwn76kX36mf8GPo86LfYG3HLevuaTwXitcffKcMQJvJcZm3JCOaY5cc5/0OlaYp+0PC0Mx07doR9KiE9JSjs7B/XGKgmhHfuj0gOFleaaI64GCsoDqzCWVxfzPOkYhE8Q9dGfnM64th6R+u+ptyPLRoyG950Lva14lN22XPlJtAblyA66VF+ekSQeeefMqb47pytfjYIHy6SsQvJlbXENkBdeqG+17zGX0N+YIHKCYL1hc4X3OM9JQF3hrJCiOzEc6J7nQ9gSUp6T3AOWrXrivuuor6C+8m3rLSxku9RcuD8rUMe3ydNO49/sKdE87wp81gPZRravbloD2wbkpF324gCe8KYMvD6DTTQHVB7LpUYky9Vzrpf3THTsuwYOjgjoA1YemGwi2rRgt48qTPzQob2Xtenu+NUPr3de6u+k5R4/e8cl5ruiPDLng48Z3S2Jz1GePCVOkIJQMCY1zFdHW3HK1z+TadzSvjmPNtzW2DTK5hMy6lmO8MHf3Z+xkQ656UJkUlO+VIVdeuQL+1NU7X3MPPegf73Ru8erFlVHzbkrQVrxns/2uygWbWk4vspXnbWMvyEs7sNZjfcEajnUDfXVrR7p6a3056m8I+pauf715sunu4w7VhXcMekE6xqP3YzcfZ1AnJb0G9AX6O9foxdXJYNT9k6I/Hz58+PDhw4cPHz58+PDhw4cPHz58+PDhw0dPsMcAiASk+w4AB6FoNLk33l/gdGN3GOz/OiXe3iatLa08SDop5Sft09qJtpTAVlAkGsH2O2k/Q9Ql7G1xbGpvbbM2y+FwSMLmOY5JLc0N0sSHl43sbUSOMrwiET4umNwn4ZyIUThedRoeNiKUqRdlW4coc20jRWGvEwjZYziUPKr9TjDfHFPp8nH6MnmTxP4JdTM6M2TPU9Z/pjTzf/ZrzH01TTTER47jCVyiJOmMZOSjPiTID/LRR1P3YFgipszGlqAsqC6QuQ0jZHHbWFnROlzWdA6XhtgYyR86VgqHD5fSimIpHRKTkuKYFEUiEjJ8OjvYR+Sj3jiWtdtIUE3N2Nc1CoEL6hvqzb2k8xZ6Qtc4pHGkPfJNXfOChg+8jNCJRIfEjf6CobAEEj2jFTW1tNg8W/s+Ev0Ce+RLLrnEOu3suuuuNlqR7ul7sWHDBpvHC2x4n3zyydTV5ge2jYcddpg9v++++6SystKeb03gA/Rf/epXrRPXAw88IA899FDqSWZsan270Yj4WP5ee+1lnaaIKoXd4McF48ePl4MPPljWrVsn99577xaLHjZq1Ch7xHENPaYDPhOHHnqoPb/rrrsy6pm60JcBdcOWd2tC0pJrgMg2QeoLuDcjHnhgGAJhvIuxrHfQcM0znC6Y/DGSwUCal5kLeFEuk/f/ItATTkheJF/sedJsOnb9/PlS89FHsn7WLKmaPVuqzQuk5sMPDX0kG3Buefc9WW2obu48aV6+QjpwePAsohRMZHgz4iUI4ZkJfWT482L60PDFO3DRokU2HQ4rDAzXILq/L1raOVnfbgMTBQZHGF/zIqRfaRluOdyDB8/Jr4aBXDPZY4hDf2tsbOjin64s6uE1YtlaQF2YeJCZSRW9ZANRlA4//Ag599xvynnnnW+O58nZZ58jJ510suy7737WeYkvBKQDOuCFRz9Aj+ifMjvM4jAdiNS0zz77yZe//FVbHvSNb5wnX/zi2XLUUcfI5MnbW3ky6ZRFHwsF2sgFfZL+RpQnb1sB2n3EiJFy5JFHmsXSqXLccZ+VY445Vj7zmc/IKaecYo7H2RcSDlLpQL1wyqIfp9Onyos+1IhRjZ2Azk/p+ku6ey7gBXpLlw6UCQFkoY2QH578SOlyhoJS4530IX4wpH44KFG2fWb6F4sQrnlhqj76KpsXyIR8AF7ozFJKb4qBldI9nlUvCspIVwdNr0BfHUZO5CWylHWUSj2Hp8rMeTonqXRl6H1Np/3F7TeUga4h9ET5KhtpgCsn58pTrxXuPeVly0u1sz7X42BB3+fUiz5Ev6JcrSvXjBve9RjGMvfgmU7IVq55/5OWNsD5iblHDWchjQbFHMT7xraVqVt/Qf1VNuD20VyBDDonuG3QG0ibS3o3nTc9sjJ36dh20w4U6IWFMUfVt1uG6t3VH3IQKpZ2oy/k0jbwoh60LXN/urXipoBbDyUdK3rOc+qn86NLwHuPfORBHxD3apqN7uJJo+9QIChTRoy357mAeeb0PY+Q8ljyh0Z9a5PMWDHfnn9Sgc5U5+iQdtB22Rz9wsfgIpc2q28xc5hpYzC8pFymTdzB9oNccOgOe8rhO+7Vlf7D1Utk+YZKW65SX6B8OELkd/ternJtLqicEOOF9yvnzMW8m3Qe29LIJoPKP1igvbw8dQ5RZwwl79zCEVIemxLwZ71Nu+X6vsyGTS2vF72Vl+k5Hzhh3ceR9R3O7vTXjwvS1cvtN/rO4h3mrh1c9Ka7jztUH7zLgVcH6Ik+z/NPqi5UB7p5w1odqC603p/U+vvw4cOHDx8+fPjw4cOHDx8+fPjw4cOHDx8+Bgb2mcC6qmp7VOBUNDB029Hlcd7ZKYl4i3WQSu7diCTaceBpM89S6cy9vHzsOPKsUxE3gkHiJ+WZtHGJt7ZZp6hwgIcJ6Uhgp9gqiUS7BEyeYFD3QwjkQPSnqITzQ9ZukWhTIUO2DPaXzAkE/2AomLRtNIUmy07usZiDPYdXfl7Sfg+nsWAAO0hTB/PMfii9Ezu5JL+kBFSow/yffVnOk9cBIzdRndi3xQkpHIlJJBoz98x5KF/iploLauIypy4ic1qHywctw2VBW4nUBEslUj5UIhUVEhs2TIpHDJWioaUSKymUSEGhhKMlkh8pl0CoWEKGV0dnXNramqW1tclQc1JHHe2mMkYeU3erA1NWAJ2Ew3ZvO9kPcFbLs/aLOGvlmXq2m/qx1xwmjbSaNN1oS9nRaR/amsC+MA4Zr776qvz0pz+VL3/5y/Ycx6iLLrrIOu+4QAe77LKLPX/iiSdk5syZXfvqHJcuXSq//OUv5bnnnrP2hlsC9Mljjz3WRmd68cUX5bvf/a49auAFgB0cdvbXXXedPPvss6m7mxdEDPrSl75k7YAzOUcNVN/Y/f3tb3+Tt956ayO7b3Tw9NNPy/33328jLREpSsHYwzFuzz33tLx/85vfWB8FtSPguHLlSnnwwQdlzZo19t7WAvaDsUunD99zzz3y4x//WN555x1rr6NgrxgHQHTzwQcfpO4OLghCMGXKFHnvvffk+eeft/vxgHZz7TGOOuoo+fSnP231fOmll9o2ddt41qxZ8qtf/cr2YWzwDz/8cPtsawJvmgFDjTnSgfsoI5vBFWlofAYNCsZwOFNa7pMG41s6A3lwYlFjAgA/BkImmT7p6OjA4KbbyA89qEEJeln+yGMy87LLZfof/ijvX3qZfHD5n2TWn/4ks/90hcy54gp7/ODyy+XdP/xB3jYTyIfX/Etali23C5p0WL16ldxyy01yzTVXWfrXv662xPnVV/9T/vnPf8iVV/5N/vGPv8tVV/3D3LvKDKznpKam2sqVrf9kg9aLeiq5oN/x8uBIH0kuTLq7vOqDvkMaNQzknjre0ReThljp+69bLjyA6nprAHJQF+qELnh59AbSjhgxSrbffnv7stt++ymy0047y3777SfHHPMZS0OHDslYR3TmToY46qVRnQVl4fCw3XaTzKJlsiUconh54il9/PEnmhfcTnaRlg6UUVdXa+aCbi9W2mPFiuXW6J72TAeM+I844kjZZ599ZeLEiVYGPIuHDq2Q0aPHyO6772EdxAhnmG4BSBmVlWusgxSe+umgfZMXCAQfiPmL+5xrX3FJka4fkQ/yps0V8ETnAN3QVshG30cubTPSMC4gdG9lTZUJD8A56dRBlQURvFQ+oPL2BaRHNm07ynN1BVy+3Ou7JnrC5eVFNvmRiefozf5YMjJzjoOUkurU1sPoC51pXbyUDZpG83JUXhBAZ7Z/mXMrh7lOJ3268qxOU0fykT/5I7Kn7r35+gPVGeXQZzhi+IqDFGMTx6fhw4dbT3WMYhmbREsgD+99nGlwTORHkDpEsVBmjtM+jR60HqC/cmv7u/WHVCeqr1xBemREVuXdF5DHJRfUNRtP5ER/HLU+2dLnCngxD2hEC+YC5csRubS9OZKevsuRdqIN+RoBbchc5K2H8iAt8q9duzbr1ws2F9y6uQQ4Uj/GD6RjFeiY5Tk8OOp1Q2uzzFmzpKv++03cSb5z6CkSzeCoq9h7wg7yxxPOk73HJx1FyD9z5QJ5f+XCVIreQT7o4wJkRW+qW/qX9jHVn4+PB9x+11vbvbV4jtQ0J/8wUhorkh8dc5YcMGnXrH23vLBYvnvU5+Wnx33Z5En+0aW6sU4efO+lQekv9D+g49/F1jKuVA5kZV0HUW93/belxo2rH2TIRY7B1Cl113cSQB/8XtL1jz7LpCO9p/1gUwAZeMfq+mYwMJg67C+ytTXrQr6cRV/VdV66Mba1I5OeqTv10TGo45L03jxbQ1ttSqALxo9bTz3nGaTj8ZMI6qpzM2CtS99IN+eQVilX9DW9Dx8+fPjw4cOHDx8+fPjw4cOHDx8+fPjw4ePjA3f/pNbjYFAQi6bO+os8Nhr4z5zlSWeiXTraWwTjMuzJcNSxDlCdnZIXCCSPRp5O4QPyIckP5Elb3OSJd5q85pl5np/KG8Em0eSxUZ4wY+xMRkGCR6c5T0aewhkqaa8YxCkJhyrsoeMJmy5p5JbaC0E+m7fDPtN9RXZIrDOU4WUdpChDbarJn/yfNaBXhypgeZl/OBmlziTRgYz51iEpyTlZF3RgozcVFkqDRGVmfbHMbK6Qytg4kYoxUjK8TIqGFUu4olgKSwukoDgqUdM2sWiB0VOB5AdNO4Uj0ml01gFv5EjJokecstBpzOQrKIjZiGDIkWfu51M39GSdxAyZdORDMBuli2hWkYiVOJTX026Y6FN8nJb96C0NnHFwglHCgeSQQw6Rb3zjG10OOl//+tflqquukp133tlee0GkGxyPcC75whe+IEcffbR1qjrwwAOtUxLBHi677DJ7vqWAjTJOQzid4Pxy/vnny7Rp07rqvccee8iJJ54oV1xxxRazi6PPIR+UDQPRN2OUoCvnnHOO7LvvvrL//vvbc5yH0MEFF1xg6//Nb35zI0e4MWPGyM9+9jPrIPXMM89YZyn6i/YbnHpuvPHGHk5nWwtw9vrd735nZX/hhRfk7LPPlt12262r/YmKdcYZZ8i//vUva0uwKUDAkOOPP97q9xe/+IUNJnLWWWfZdsDJTYENL3o+4YQT5NFHH7XtyNhDTo6nn366rQP9BIdF7Hu3NnS/IQcAjBX05eCF+9LIBDX4odNjWNv1gmKSz8BXjXxxksKQgMg4OEoB8nxSjSf6AtWfEu2Erto2rJe6RYulbuEiqTfHBktLpGFxT6o3z2sXLJSGpcuk07QLzlHp2hEDMpxEli9flpaWLVsiS5cusRGjlixJnq9fv860YYc1qMb4yTVK6w2aTuulRn1eICv9hD5F//AaHFGmOtUxmZCWZ/RFnKm4JvoIhmi5gPLI39cFg8qzKcCYQMfUgQktnZ68QBzv8KHv0E44LOyxx56Gphm+RamnPUFZRPSgrGzjPhvQIW3Ayw3nJRy80oE2Wr++aiMP4oULF9qoUelAm0+ZsqOZqHe0zhjp5grK22GHHc0Lc7eMZdM3MNJvb9/YSBGe2tfQA2OEc9pD+yVHNfRK1wcy3Ydfuvu9gXyUy4sffeH0l4zqxY+VZHQo5IMYK7QBMrhyaNkQ9+kT6Ad+asilz6lff9pf5QTIkE1HimzPcgFyqtx9geZBXuS2debokK2PIX5McA6ok5JbN+Wn15ngpiO/6knbjy9dUBZjsc30PZ3f3PZwy7ByJ0+6rkkP0Te0L2geLbs/0HzwZF5mDKoTHj8AIOYs5OcrAeoIw5yCMxTjjv6mzp7p6pYOKvNAZbe6MsS56sW2sZEhVyB7rvNxb1B5vPX3XvOexLhYnaP0eX914YK2ox3hy5ySThcqo6sr+izl04bMR8uWLZMVK1ZYZyl0RFqIduY5/YA1BF92oB7eOm4puHXTNqWO6FzXJ/QVd15VvfOMa57p/btnPC8L16+0zxnLh03eQ677wk/kspPOt45SXz/gs5YuPOqL8qfPfUtuPvsiufDIL8qkYWNtfiONvL3sI7n65QfstUu5oC9ptwSQDV1Bqk/0rP16a+kXWxqD3Yabql/0le+8NcvkzjefkdZ4cm0+qqxCfn/KN+Wu//uDXHHG/5MLjj7D0o+OPUuuOvvH9v59375MTtv7U1IYidk8OEb9/Zm75L2lH9nr/kJlV/mz9b++1nOw4Mqocw3jhvHivj+31LhxddJXOQaqTy1P52jVE/fQFesprlVfpEsnn/IBA5UpE5CBtuPdyHw3mNhUMnuh+vUine7QPb85aQfe/awBaIOPKzLpmLrTr1ivc6Teujby5snE4+MO1YGOQRd6rWOMNFsKm1L/8Ia0/ekPCq17Omi+TSmbDx8+fPjw4cOHDx8+fPjw4cOHDx8+fPjw4WPrhrt/0tLa0761qCi5P95fdKYcgDqFPWVsa9sk3t6UdIzq7JCAOZaWlkmsgHI6pbWtTfIDyT3p8vIhUlpWYj8y3tbWao5xa0PHnl/CnHd04pCTb52kYtGohINEfsozaeLmftJ2NyBJW0ZrUxbE4SffPMdeC4cnPnTfaflwnbTNYU+Xa7UnyROiUSGTPac6Rgb2ppCnI9EBC1OffMGRKM+c675LXqrulnnygY1OlWfUTeSs1tYWSaADo/9wOGLrEDRyNodj0jlkpJQOHyHDRgyTYRVDpWJIhRSXjZRw4TCJlpZKJBaTkEkXChVIKBCxTl+B/HbJDzYb/gQUQa5OIxr7RN32XTh4RSJGX0bf7CuhG+RFpy3YB7L/b/LiGEU0ragph7JwqGIPiipFg0TcSvID2DO2tZmyjb62Ruy4447WceO3v/2tjU70/e9/P6sDBjaHl19+uXU+2nvvvWXVqlXy9ttv2wARROkhGhNOOGPHjk3l2DJgLxw5ceA56aSTZJtttkk9SdaZe9dee22vzkmbEjjGfO1rX7OOSJkwEH3D/4c//KF1fsI5jDFMFClsB7kmqtZ9990nxx13XNe4dIGDDjrC+YoAHKVmbAGOXONIN3r0aHtvawP28OiG6FDHHHNMDzlxlMJR8NZbb7WOXpsCzFs4Q/31r3+1wVJoN2ztaUPsP13wQVuic/3nP/+xTnsqK0euuU9UKfr01og8M4HaGe+pp56yTiR49PUVGKxgqOo11mHixHCe+/BOt7GPsjGwpxOTBkMtL9Ll03tqvAQP7mE0xKTfm/EEaZ966kkb3QhD3FxAXY4++hg57bTTbWQLr1xEQvr73/8mb775RupO79h2223l858/U/baa+8uRx0Xr732qpHxaqmuzk1GgIynnnqa7XToAd1yRFfI/NYvfiWrn3tOOhzDi2woHjdO9r3o5zL6wAOk2bSP1zBr9uxZ8qc/XWYNr3PFoYceJqeccpqdDJGJhUdyAZQ0PoNc6CRHWuqhdYLUuM+bB5COdmOgYmiP4TZw9UFdtD4srhjkPCc9fRu+7777rtx7791m8t3LTErH2hct9zFeoQyViQUe4H4mmYDWR6F9SeXhqOSCcpRcaD7K0zwsbMrKSu0ijLqorKSbN2+eqc89smDBvI3K4OXzhS+cZV5OB2z0DND+7733rtx//33Wyc0Lyhg/foL89Kc/t316zpxZcvvtt1sHOi9YDKPPww473KZNV96LL74gTz75hKxZszp1pxu007hx481ke5J1ZKJseNxww3W2zZqbm1IpFXlSXFwkZ5zxBZue9vZCZaD9CP/38MMPGdmX22sXtAH94dOfPsa8xMdt1Kbar+BHW/Dy5YhzB32W9MjPUfuKlg1v7aMuSANPzectE8DDS8qb/slYwCmFa/o3EbaAy49nCmTgPvc4Z67H45u64MSifHTuRjZAmVAugAdfW7BypvJQptZT4coFvDJ7n6eDN4VGe/KWBbiPvqmr95lC68lz1VVamPs84XlXmtQ9YOuekl+P3HORrn6UqeVypB7IS5/CqcTVi3uENL17T9MoNA33vf00XXpXD3pEHvqe3oOH6lR1xzuc8chcxRihLAj+Xj1kgysPfLVMjirvEdvuLqfucogE8wPmndYq17z5iMyuXGLzZMvPUeVx0+k9SPsRlAnw4T0zYsQIO4a8aV3efQF8dD3lysTYZNziWKSRF9wycy0vXTrqwnqIcllLZXOO0jJdfQLk4TnEPXTIEdIy4clY1D6oSCeTItszL/qSNhOoE7JD3r7LM62zWzeO+u7jHU0dyTMkViz/d9BJMnXURDNHZO5LXtQ0N8jjs9+Q+2a+aP+IkQ6DoZe+8EiH/vDV/uPqEWifIG9/+HqfZUubC/ojgxeDnZY0feGZC1x+A5FXx0ZfZCTd6fscKV/a/1gpSUWCygU4KX+wYoH8/ek7ZcHajdekLjLJ4t6nDyK7u/bXvpgN6Z73lsdFLmlVr3qOrPre5Z2g61OX10DlyoRceGiavpTnpu2vnOiFOZt5mL9D6PuLNTu/o3HM5h7PVGcuVLf0Adoe3ZJG5/7+wi2HMvhgBKHNec+yTuqtvrnqw02X6XwwoXzT8aeetAVrQdYVgPWg15k8V9n62gYDrXMu+TOl0X5EP+Rc/45Aem+edPdAJt7p0Je0INf0fZWLOgPmJv6ep39j8uZhjUn/529Nbn/wpstVzmyARyY+A+HfW17t97Q78443vfeafpIJpNX0bjru8UUvvjbmw4cPHz58+PDhw4cPHz58+PDhw4cPHz58+PhkgD0G9lnYB3h75uweewq7TZ0s0cjGtsi5wrLK49hhrVZaG9dJ5bJZUrlyjcSJCGX+BYIhaWlqlVAoILXVVeaYL+NGj5aCWJGsWV0pyxcukQ7zPBoISZ7hwz5PXjBpE9TBvlBHpwTycToKSTzRKXFTaL65DgXD1uaNdHmJNmlrbpTWJkMtzUYmI1h+pzlvkYSRI5AXkLjhi5xEhiJPe7wtWV7qg/d5CWyLDWGTY/fh2BemXrq/z15lvnX8IuiSJVOXgKkXEbBwOIpFY9bhiPQdRu5YUZGUDxsm0aJCaTZy1WyokfpEVFpKJkhBQVhKC0PWOasgEpTOaKG0B4LmutUo1MgpwSQZWa0DVz72ZkaOPKOXzm77RUTDZsjuJ5p6IkcAJ638ZBp0hXNXnn1GdK2AfZ5vjqH8sLnXIY1tbRIxz9pM3fOb10udjJMW6baX3W7CWCkvLemyqfbhw4ePjxvuvfde61SHc5mLnpb3A4AaXLnAwAVkMk7hOY4r5NMIEH0FvDFY0igCGA8pz48LEDVJ3YZsA4XygmgbdI1+rMFJyvCrTzB5iUDCgoqFFTwHCtpO2x3Z4IlREISRmV3geHSi5xx5Tj6lTIA/5SA3fL36gID2R9JgnKNRddLBLc8tn6NXZoXeT/dMQV8m2tbs2bNl1qwPrOOZS3PnfiRr11Z2yaxoMgvApUuXypw5s21eiLSEH3zrrTdlxowZsm7duh5y9xfoD+cwNQZNh1yLQRfoHCNE+lY63dAuUG8gL/Wjvaura6xhmRekKSoqltGjx9h+lg2UiVzDhlWY8437O2U1NjZZIy0AbyVA/4SAGlZyreXSt9QAzE3LER3rtYJ02n5uOUCfUQ4E3/ZU34ZwPDIZbJvhjAG55UEuPxduuToekE/nWeqvY1h5uHl6A+ms3MhpjlwjD/rPJNNgwpU7HXqrB3kh0nnT9riXOofQoyVTX47c0whNkG2PVLtACi1L4Z5rya7eGFM4wjFeMfLFGQfnOIzvaD94U772G5WrS2YDfQ66ZEvJwTl9gX6l7wb6FmUydnAAwpiRI8/IwziAmF9xqoMwdoQoB170J0hl6i9U31a/KZk3BVQXqk+vDl2Qxv3jhM4BgwUvLy0D/WZ7p+UCr/641vmEdybrsEz8SauyqY40rfYpQJvzvoYXjlzIDMGfPjEQ+TcX3PpRZ0ivaQtvv+ac+uv4gtY31srFj98gv3jkOnlxwQzZ0FQnrfGea2TD2Tr3ra2vljeXzJHLn7ldvnHbpXL39OczOkYBylLqDbmk2RxwZUY/6AqoLlXPPtJDdTeYGAx+Kld/2u6ut56R06/+mVz13D0yZ9ViaWht3qjfE6K/rrlRPly1RG597XE585qL5Lv/vaJXx6hcoPWnP4KtqQ+qXgHy8Z6GuKfrwq1BXpVxSwId6HyMrlQm7kH8XUHP08HVo5t/MAFfnENoN11vbwpszvZIVxb1ZP04atQo219xBBusKJtbC7LpmHrqb1fWwu563gX3NmdbbUpoX9Y2zlQvHafZ/vbwcQe/DRgDrHdzgTv3eKF95JPST3z48OHDhw8fPnz48OHDhw8fPnz48OHDhw8fmcH+gsK7dzAQxyhABCbD1Zx0WgcdkYT5P/Yt7Iua29xpj9uoSTg5UX44jL1vnsll0pns+SY7kaLgYfetQ8kIUNgx5mH3Yc5xtGprbZb2thbr0GQYmf9wFkrZYRlu7Thj8cwUap5auXBass/N/aA5kl5t2IiylJ8fsClNAkl08KFibG2xH8OJivTYD/Ohb/blqBPlkQ/nI5yOkjyMkIhk6xFva7P1phx70/xH/a1NnJEDjYejYXMdlGhJgUTKSiQQpc6m/tJq5MyTkKl3EMerCI5Olr1BQDriAaNPuCf3zxLxpC1fIpG0iaEO7Be3NmN312T01S5xo390iTwFRJSKxcw5kbbCRs48qzeEJKIW+m1pqJd41WJbhqKxqdnqw4cPHz4+aRiUmY2JmEnWuwGvE2c6oxaeYRzMUQ2h+wteAGpMCx+cDzAiymRUsnVB5Rs8ObXK6JZ24UgbYFTF0b74+wLDEM9jDNoxUmIRwUvdvugHABYyaugFqbEe7UYZycXKxv0KuAYf3sWdQtNQZ/oG/QIjN/iSh/K0TNLhLEC/oS9hjM2zdNDytHzAPSWAzrV8pVxA2M2PPvpIHnnkIevR6KUHH3xQ3njjDSNffSpHcvwRUvCZZ56SBx64X+6//15Ld911p9x8843y3//eKi+99KJUVq7pkm8g0L40WLxgg+5xoOCoRs+A5zYsa4a2QK/JcZ6ca5AJJwAMi2yYUQ9YCBPSkXamjXoD8pSXDzX9ML1zVktLc0YjJpUNQi76FW2lY4d7ri7dfp+sU88+o+lVbq4heMJDxxDXpDMPu+aAMHzNUflDPCN/X6B1YhwxnqgTBB+eeWXuDcjpElCdpeOlZbhlaR3ce32Byp4JvfH0lptOp9xTcuur1xh093CUMvwCpn3QA+2kRy3LLbPrvr1Kgnu0Dw5KOEbhDAXR93GQIrQlIUtxlFInKWBlMXJoH1J5IEBfIj3tj0MMRwxZGbtKRJ6zP/qMTPRJ3hmMSYxciQCAw4s60nDUPqT3kBueKtOmwDML3pNv3v9X+fq9V8h3HvpHV9QoL7TuWn+F6t4F97SdSN81DlPgPvMOOsJhDB2hG3SSzpFzoFAZkQGdo//BmLdtX0sR8wjtzTnvTOrcG399ztHtY+gHcvnnglzTbQ6o3NQnHWld3fGl44181N8d89C8dcvlHy/dJ+fd8Sc56+bfyqnX/UJO+c9Flk79zy/krJt+K+ffeYVc9sxt8vriWVmdotJBZd6a4cqITvT9qXpU/froHYPd1gPh583bnzZsbmuVO996Rs6/+VI57i/fk09d/i057NLzLR16yTflqD99Rz771+/LuTf+Qf71wv2ypjYZKXMwoPLrUee/LdkXkcWdRxkruqZkrOgacWsYM6q3wYLWuT9AF+hHdQfQE+Ad58416bCp9Ylc+vuUddWmxGC3Sza4ZVFHXU+i7/Xr19s1IXr/X4D2H+rLmhDd6NhFN/8LQAfUO10fZO6CmNO2pD425fjg9w/I9HeFTND5xzsHqS695MOHDx8+fPjw4cOHDx8+fPjw4cOHDx8+fPj4ZEH3TnR/c3CR2iPt2obIt45N+XnYj7G3KtKCQ1NqH4K9rkB+QPgXDgXt3l+sIGptji0bk8aySu29Jol97HZpaW2S9kS7JB2WkjYz4XDyI/ttbeyTxm2EpFAQe0JEyZNgOCxha3ue3FMzEtk0UCAP5ybOjWxGRfDhOYJ0diK7SYMDlKFAMGzLJdqSrZ+pW37QpOeawijPEPY4La0tdj8HxyXKtM8NZ+rdGQxJu5E5HAtIJNJhdGSqauoSN/zzzbOwkd1ILOFAVIJWPlRrdJFnKGD4B4wOzT30aKRO1gvhTaruPWsuTa72hLWnxW61Fdu79larRyJptbe3SGtLk7Q0Y/ts0rS2SXNTk42eJc31Et+w1DDpRlNzsg3/V/Ylffjw8b+DQZnV7KScZpLUl4B3w577OEZh4IChD0Yg7vP+gPzwwdiYIwYGGB/zsky+iLZmDLZ83U4Z6Jr2waCEI8RLs0+w+sObOG7bCycpDHbUyWMg+qXdVD51ktIFmxr1QdqXlBTk9fYv4KYjDXLDDyM3jq6BINAIK1xj5E16L08XPPPKApL6TfZx4H3eG1jYlZaWmX7cIMuXL5WlSxf3oPnz59roUGvWrEnlENvn582bZ+8vXrzIpFtiadGihTJ37lxZsWK5xGJRu+jsqzzpQBstWbI4i/EO/S/XqaVTiHpVV1dndYYjB+1Am6PLDRuqZNWq1da4Px1YrBYWFpm+GEndSRoVZVr0s3DEMYE+kAvoFyUlxXYspQOLTIz30gFdUycdi8iEbMxNkLYFfQkiLfeRze3vbhrtXxzhp2OGa54D8urY4ajzgCsLacmfSU+ZgDyMe4w0yctcAC+V1ZU3G5BXZVYir8qnfHKFlufKkAs6U/oEfS3ThZbrtkM2aJ1VD+oYpW0CKS/4um3nRpTS+3pOWtocxyXGO2OJ9sKhCeI+R+4z1vg6Pw5S3Ne+oqS86Uf0S8YCvJhDyYOjlfIH9EPGAo5QOPwwpl1iXlUnoHQ6Ij9pAE5dlDuQNnGh+lZ+feGbTtZs0LYAtCFAd8kodMPskfbFWYlofmvXru1ykOprWemgPDjynkP3lEHbcG8wygDUkX5D+zM/u3NBb1A5oK4xYIi82o+VPi5wZc6mY623jnF3vGt9ObpjEXL5uzoaLAwmr8GC1lFJdeHqTXW9Ncm/NcmSDqrPwYLy6w9P8uiY6CvccpWUl/LTI88GC1qWe0459MstCVcu5ggdL4D3K+8DyNXPloLKuaXlcHWhczCE/rQ9db3bG5SP1m0woWt61gm5yDJQbIo6ZAJlUT/WlhB1XL16tV0Pbukxtbmh/ZE2ZsyiG9pd3/lebM522tSg3rR3prrqO5++sqXrvSnK199g1JF5ur/QPoQu9dzFJ6nP+PDhw4cPHz58+PDhw4cPHz58+PDhw4cPHz6SYH8FNHpsONlnGjiS+3U4E3Via5wXNP8Pm2NC8gOpfcxw2KTqsI4+eSZJJBiRABGXOvLMeb4UFxZKYaxAQpGw5GFL2tlp0wUMdcYTEm9rl0RHwjoohUNRU5+kXRz7HOyb2H2PhKlPfvLDgkFDYfZW7L4SdU/ZkpjysQFMtCdsFCscn/I6u+1rxNRB8ojghL16VCLhQglHCmy51omKdFDQ8AvjKGXyGhUS8Yns8EhGwDKsDCGzeWLSsZ8XlFhhiRSXDpd2U69YsMPoP2ZkwG7d8EZmwzthGHYYvnk4eJlrHLiC5l4QWc0/5NdAAPDvoOJW70lK7v0k7atMYqOXuKF2aW9rkoa6DbKhaq3U1PARynppbms06VoknmiTRNzUPdEp7Y21krdumXTUV9oyFNiDw1v7kg8fPnx8UjAosxob+UySrsECR500vcYtamzNSwwjGO/zgQCeOIvghIA8GDVtDYYUmxOEp+TFn3wxJ40s1EiiXzD5CEEJD8jrIIX3dF/1iyheebhGXvoERkGcA9pPHUo4p1+pwV+6OnUtbDwgrTrlca79Dl5EQOGofSdbn3TLdMvhvvusP4sG9LntttvKTjvtLAUFham73aAtiQCFM5S266pVq+Sjjz60srvlA+QbPXqM4beLVFQM60c7JesEURbOQKtWrZQPPvjAOjWlA3rEASBTO7gg9CfOFDh14ci1fPlyy5fIWMuXL7NRsubO/cj2t3SgrxcX4xwVs9fISfQtwoGmA/KQVvtPb6Cv0CYamcqLlhbGQmZHOspDD9oXqAf3mJfoz9xHFkjT6jmkUP1zZFwoca15kJUxqWME8vJx7yuvdHDzuGD84BBBPuqi+d1yMukCaJluGj3XemQqOxuylZkN5HNlTwee9cbf5TEQWSCdezhC6Muep2TlB562odtXIO2vRImij/Fc37cQ15DqWtNCGg0KhyeIMcx9nAlxpOIZeZj/MVrF6aa2ttaOX85xkOE+TjikYR5njtJ5SuVV2b2g7sy9EHLhxEX6gUL1CgHV1aYEddS2QK+qQ2TAEaqqqqrLoYj64iTFvcFaD1EO71DKqKystMfB4KtAf9SNfkJb0w8yzSXZoO1i+7chzrWfcNS+orQ1Q2XUOimlA/fdOqM7xony0PuAax2vHL06UdK0nxS4ddN6owN0pXOiF1tT/T8ObbEpZOwLz4GUr3ldHpnGm2Kw6ws/JUVvMmwquHIwVnj/QMijv6dUti0lo8LVl4tM9zcH0AlzijvH6j3WUJz3pjd9Tv7BBPxYf/GOoC17k2OwsLnag36KMz9rJOqI43im33z/S9D2ph3og9ovvdiS42Yw4PZnHYPp6sQzaDB+FwwGBlvvrKkBa+rBgurW1THnmT7q4sOHDx8+fPjw4cOHDx8+fPjw4cOHDx8+fPj4eEL3LWrretpwFsa6PzI/EGAvaR2WTDHYYsbjCW5aB6SODpH8TvO80zxLJKzjEunyrUMQH6KMSKwgJoXFRfYYwukoP2kTE0/EJRHHKafD5AtK2O6JmWfcN8S+USiEHSRRmKLW5o2aErHJ2qHFOySvE/ekPBsRqiPRYWViP6TTnAvnmJWwVdJJKuzlQqaciCUclkgLD8q1+1Q4VVEf8iZMRsOHCE8QfmL4KFFuMC9gbdpCRu44e7hGXqJCGTaSaGmRmKlnBPtNowR0EjS8cXwKBakj6ZJ7Ykm9sr9szs21TRtM2nwC9GSdpMwR0n0f62RGG1BXU0lrR2PkaGlpksbGeqmrr5OG2nqptx8zr5Wm+nppbGqUFkOtTfXSWr3ScEnyAkkbHN85yocPH588DMqsxkuHCdc13tBjj8nZXJMGA3smVoxfeD6YoCx4s/GP0TFyYHBAubog+KQjqftkuyRfYD0Nj/sMk88uIlLtCC/aDmLxgRF+JueR3oA8SgrKQXYMxSHqQJ20LPqPtqfbv4D2O5cfhjQsHtRonzSAfJyrUwD1wbifsvsKVwZkonwtpy8gDwZi06btLSNHjkjLA2cEnKEwqCfC1Pz582TFihXWiMoLdDV16k4yefJkOw68ukkHFjw4WmGghiG/0tq1lTJr1mx59tlnZNmyZWnLA5Q5evToXssBOFt98MH7cu+998rNN98k11xzlVx99VVy/fXXyY033iBPPfWkrF69ysiU3vA+FArL8OEjrSMH5aF79EM7u23igkVtrkBnfMk8kzEWuqLMbEAOJe2vGALCVx1WVFf0Pe0/pKPvo2eIc8Az+oUavzIW4AFpf8mke71POs6VZzrwXNMjC3mQm/JwtnANuLxpIRdcUy8tT+VUfWh9lEd/oGW6smRFSs6BlOlCy9W6DgTk95L9woXRH+dA21vLhWgbxgJjkGvS0Mcy6ZZ7pMV5hzELDR8+vIsHYF7E+YU5QKNCMfdw5B3LHE1f0L6rUD1AKou2u4L7SgAelAWYlwfzve32Dxd6Pxus/nNIB+CPvnEcGjFihJnHR9p6rF+/3kb8o37oy9UVOia6E3pFp9nGZW+AL/xxtuK9gOOaljVYuqQtaR/mR/jTB/oL9KqEnFp37S/ax/sD8iltDuRajtZXz6mzjh/qy9HVh+qEZzrvox+3fqonpY8z3DpoH6C+qgvVTzq4OlAeWwpbuvxcsClkzEX3+twdC7lC+UOaP1cemm+gUB70TZCtT+aK/sqm+SDGia4JGSu6dkQ+lbGvcvZXrnRw+aSTYzDL6ivQEzLpuwc5uJcryKvyD2Y9kIXfqKwN9HfXYPHuDZu6HHTNepPfvawjWLdQT+0bm6ueWxOou9afdQGk41r75ZbApixX6wxpHdOVp3rZWvrFYMkBH/6+Rf3o/5sCro7ZqPPhw4cPHz58+PDhw4cPHz58+PDhw4cPHz58fPLQ3NLzA4TRlM3XQKA7unZXpDNP2ltbpa2l1dwISEdnvuAolSfYdCRtFrFPw8kJb6l4Z0I68jolEMqTwpKYxIqiEgqHJJ+oSYahdbqye7OBZEE4JLGfkfRmMv8SXRTE8chQEpQYtA5VOC2Zkk1enKbiKQeppJ0N+2wJ9snjInHCOQFzoC7sz1jnrniHSWfyJHCSMmKbf0Seird1GK5BcxWSjo6AtJs0HQmiWRG1KhkZCz3E29qko71NWvmovuFXVBCTomhYAqbsvM4OU5apv2GM/LZMoxOcoFx07wGy349jVLKe3Eenah+EQxVAR9QrgVNUihTIkGiPS7yVD3U3Wkep5sZGaWlpMNQkbW1GZnMuTdVWDwpsX+FLmT58+PDxScKgzGpMkBhdMUliLMsGPxvvGFdzT4kJWzf/cVQhz6YAfHnJYXBMOWp0wEs4+UL5ZIP6t5uXHUcIfVPv/tadJQIvVhfwRL8YceClvSnUShksWNRJirrQj2hLHEvoa1wrOHfryLkuvjjH8Ql56YdqZASviooK218wWs/k8OMFsgEtj2sl5OS+Ul+BvOPGjZPdd59m6+gF/FevXi1vvPG6rFy5SmbOnGHrpjIpKHvcuAmy0047WUN9V1fZgMPSCy88L9dff73ccEOSrr/+P9Zp6eabb5R33nnHpkkHymTsjx8/weq+N6BvIlG9//5MmTHjPXn33XdstKj33ntPli1baupVn9U4saSkVEaNGmkN9RVJA8fBmVvQGf2lP+0IaCvk0T4BPxzP4ImeOALajj6o8xb9NFmPnv2Mfkv/UONXiGe5ykf5kMpFebkA/jhGYaCp48itEwTcPqjnrg5UZqD1Iy/1ybUOgwWk0zoMRtmqC46uHgYC+Cghq5K2nZajZdM3aCOec807WPtIJvCMeYa+iNMbTjw46nDEQZJ5kfeoGlm7dSOvtin3VS6OKif3Vb7eQFoce+hj9AnmZ+0vuYKyvARcXbnHvsCtezpQR2QeNmyYmZdG2XMcylauXGl16R3XLnjHEeUJhybXgaq3MhWkhQflEYGPMplruA/6U99MoI/pXIBzlCtjrvK6II/WFUJHQOdel/qLweCRCS7vXOvvTUf9IeWj/QTiPtf6juCejnddy7gyuDQYGGx+2aB10XPGP0fq7+okV2wuuTNhS5e/NaI/+lA9al4dF33pCy5cXgOBvp/6K0c69EUud+wjC3MC93gX8M4eiI42BbRuvck0GG2TK5BF5VE9QpyjQ3SZC1wegwlk4X3LmkDfjWBz6WhTlUM/5bcpjlGsW1h3UkfFptLnxwFun9Q+yHoIcse84uPeFxRaZ62jF7oG2BK/GTNhsOSgTiDX+SYXbC068uHDhw8fPnz48OHDhw8fPnz48OHDhw8fPnxsHrR77P/CoaQ94kCQJ/mGdM8Bm6QWu6eHo05HZ540t7ZJe6LDPMmTzrw8ae9oF4IsmUfy/9l7DwA5jir//02ezUG7klY5S1ZwlpwDNs7GAWyDCSYf8YCL3HHc7+64/Od3nO8Ix/Ez4cDAYcDGGIxtjME527ItK+e8Wu1q807a2X99auZJrdbM7mxSMPW1S91dXfXqvVevqru33psKhkztiClHcFM0YneNgtQAUUimLEFCrAuF2EnJ7oSUWydi3YQdlFg6Yr2bGxlzzNhNHQw3BGIZ2YLBsA0GyqQND6mkpBMpyaTSksmk7W5LNjDKpH6CoEyCDv9mDGGbZ2hljXwDgZD0DwSNHAOSygxIgpQ2spq8vn6RPqPXrt6U9CTSRr6g9AcjEozGJVZWZgO27M5O+KgaEfBV7WlrlX3bt0vc8BgwsrKrFrobMPpgJylkNCXJtOs5rAeTp2tkuWMu2V2mkNfIylHXf1S+nBxKzarQJjLZEYsyA+z0lcXnOmPP+5PdhifTTwOH1p6pr2t1Dg4ODm8kDO2tXAJwxsIJG0dgfgFYd0XhmqAF8nDsIRiAiVqdfscT0MeJFCcDdUiGRw3YeiMj51STe8iPxcMLGrmtLA+nxTV92dnZPa79ads3/UdbBI6oXLwg0J9eB2EvuM89bA470PqUwxZJ2Cn0htptyA8tpy8eXnCPVOheKaAevJ188jKZNWu2kePIF9aOjnZ5/vnn5KWXXpRdu3Ya/Rz+kguNmppaOfXUU/I0Sg8wILKf4Kt169aYtNam9evXW2f7rq7OI9rygv6YPXu2zJ07r+Rxhq7YGYo+zqXcFqlD9QXbprIr1rRp0wu0NTLdjxXgXeWhL7wJWyTYhD4hYX84v2mijo4n7FcDV5CxmGNcqaCujpVSxyztYI/M68ylBFzAo9q4NwHyNVlZzFF5p4zmcyR/OLY5GLRNoLwMinz7pnA+Y/TQdtFtqfodDF69KlROb/LaC/1L4lztpRRgl/Rt0hyVf6XtvSYpNI92aI+k/UkfA2+fe2l46XjBc1t3j8LuoD1W8LapevXrtxCoB++FQH145B2HXbfYKYp5kJ21dpt5lCMy0Q+U9erSD/IJOGKuJUiqZf/+g8GIPJ90fiCpwyzPNMoQfEWdbdu22XPu+VGKrEOB+QiHZnhFNu3nsYDqhaT2gj2p7rzpeMJIeUI+BefIjKyFbF71QjnsiYQNkIeOqMNR9aU68+puLKC0xoqeF16a8I0s5KluVAcjwXjxXCqOdfvHG9DFYP2p+iqkt9HYgR9+2sOB1vXyMxp6XgxFh/veMW7/QGzmAMYJz4rRjpdCoK2Ryqd8Doen0bQ3GnifOTxHSTzfyRsMzFNeOxgL3qHB31J4zsOH95kBjpZ+xrIdaPGuyA+TsGsp39+88xV6Z1EcLTmPJ+hYITGeeebre30hfZyItqDQcaNjiDY0eYEeSOhgqPF4IkH/NkkfOzg4ODg4ODg4ODg4ODg4ODg4ODg4ODg4jBTsmuRFpIDfyUiQW8MxtE0i8Ag/FdZx+k17vb0pyYaCEopEJMA6KzsksZZjjgNB1nuCEo7GpKa2Rmrq6iVenvd/JBgqTxuwgxS+sSGTD20CrWyTAwHzD+vMJuHiHmCdKCJBdq4y7aeSOZ+pBD5V6k+V6bf3oM2uSixFaSBUP8FN2YBkzHXGHAl2ygyEJGXO+/oD0mOOCVOu27TdnsxIW29a2hMZ6Uympa0nIc0HumR/Z68pOyCBaFxCsZjdHSuRTkoSP57+tCT7uqSvq0NCRoZoLG7Xv+DB6gZZg7mgJ8ByGNe6/oXsHHXNGhDYhSyk3BoaejAV7TklBqycBJBpQJhdczNtmn8tjUAA30260Ogn2SnmHxkwvB4EPFI6R9DBwcHhDYMx8SzAURbHIZyzvM6ZTJpM4NwjCIXFfx6SpKMBJnwcDXAUw7mYc3jA0Qi+zPSfT28s8JDTLQ/HBIYOLxCFoDoeq6YGA/LQFi821onf9Cs2pn3KUW2P/sUeuU8dEjJQFzrYJEF7OBqx88VY7GQGXU2AtvVlZbig3uTJTXLOOedaPvXFSMEY2rNntzzxxGNWF9qmAvnnz58vp556mg0wGN4LDHrG8T55WCLP344XtAnPZ5653I738UQ8XiYLFy6SU0452TrYqXwccufHblxjRwdfNg0vXt2TR9+pIyD2qjqlz0nk6Vyq1yT0q/S8NIcD6FFXx8Rg/Qkoyxjhl92RSXe0oZ7W9fKj+aoD8kN5ufQ+41DvKT9jBeUJDEo3zyc4WIryvgQNkpfuUNA6yDieUJ4OymHaRJ9c07eaVyrg187zpr7K4K/v1wPX2temsLVREvnwwjm2Cx3y7IdoPnnreulybj9eTWIc+HcIHA20HZXLL99wQF3kY36tq6uz8xDB4LxrsAMCgUN95rlidZovr/buld0P8hhjOAzv3bNHtm/fboOl2FWqpaVFWltbbfATO3uRxz0ConaaI/noTdtUeOWkba++hwP+IMH7HnLrc3OktIpB+SMhB/rQOdA7X3hlOh6g/epNQ8FbhnMdC+i3UJ9pAmo/6Ejfb6iDjrz60gS4P5Z6G2tamlQGgFwkr+yjgbZxrDAebR9rmcYag8kyFjbgx3B1p/rWcaW2qbyNVV8UoqNta4IHnpMcvXOBlx9FIXojwUjoaB0/T6VgrPguBfCn8yfgfZ1nOjouBq+uOWq/jAWgxXuF7t55LDFW/cA3BUFRvDOxW+lQgVGjwdG0nfGA1670uw1b1HcEv3xHS97xbIf3mmL0dW5DB0dL1lIwWl50l3D9vi6G40lmBwcHBwcHBwcHBwcHBwcHBwcHBwcHB4fjDwTGeBGOHO5nOlKwfGE3aOhPy0AmLQEbRiOSMc2x2xJBS/0mN92fERvgxBp2KGTKcod17KwEgmGJxsrsrk92Pcj8p34hBEQRDBVkN6hwREwhGcgGxVxIdiAoyXRWQuG4RKIVJisugUDE0OSHLjOSSKYkkzR8mTb6DS/mYGF3VbI7I0EnlwwVy2eGXaLMedK0wc5QPWmTUiKdyay0moy9nQnZ29Eruw90m9Qlu1s7ZZ+5PtCXkLa+pDS3c90u3SnTtmkhGzS8h40cJhnypvGMhK2GjG5MFoFcdtcnIyvn7JTFuk8u5Xyg0IOuAVITMWyAmEkm0waakbLmkiO7bh30xeS+6SR2r8qa2pQB/JA9GuAeoWEEUFkfo1S37ceBzKE1Wsst5WjPwcHB4Q2EMfHeGcp52TuRqxPX0QATN44UOBThcIBzEUd4ORQg9caDEdvKPlbgVSabd0gpDPuYzJ2OM/RBTD/isKa/pE0+toWjOoFPHOlndSYC8M85del77BZHcpzQtcxw4X8xoA2S8qRpuKAONrpkyVJZvHjxQccZL+AZxzJ/vzC+amvrZOnSZdLU1HRUxhv6nDJlqg2MWrBgoXV+Gw8gS2PjRFm+fLlceumlMnPmLN84zr1AB83LIOejBf2Inovb/uHQvicB+tGbBy3mJOYizrFVnYtI2DB2qzbjpUU+sqlNaZlSQV0/7aEATwTnwRfjhDHnrQctaHpl1A+uXD8cHvyE7JRRXjgWg8roTaVA+2qwOnbGMuVs+5QZhLaXTik8UEblUl7GA7QDfU16jV2pnY2m/WIy+9sEtu9Ne7QJ1J7pY3/y6oZ6elTb4Br+2Q0J+mO1e5TyDIrJNhSoTx1kgC+CBhsbG63zMs+VvXv32uAlDcbW9hRal8Q9ldtfTu/xfIMWgUjQJeiKXf12795tA6MIkGJcEiCbMu0rreHKVSrKzVzFnIWsPHvg0Qu/HCMFdFQHqiOv7lS+8ZJzOIAHTWC4OvCWR1bsRuVU+OWknFc/eq7jnnNQbPypDv28jwQjpeGt562vfAJkUZserl6HgrZ3LOCXeawwXnTHEsqfv0+9vGtSaNmxtoHRAh6L8eWXYSyg9DgyhvWdkfb5zvU+98dbV6XK5tWDzksjgZfOeAH6qjf0C7/69wPe0wdrX+txHEte6WPeNfhWpX9PZKATvmUJJufI+xJB5OMVGAXGsi+OFXQ8Y4/6Nw/GPamQfCeyvCqrvqf4oe833m+C40Xe0fDB30y0f5F/PHEi24eDg4ODg4ODg4ODg4ODg4ODg4ODg4ODw+AgGMYLgnBGD9ZuWAMVSaVYs8TnOmC9MfHriJfFJRqN27bxGYtFYhIPxaQ/kZa+A12S6UpJKpkRAp3KKyokFmXdNcyihWRMedZj2fwhTGBUCH9ywzPHcFQCwaihGxZ2esoSMBUImfOQpPtFkqmsSRnJ2Po5PzV+7JkdqQaChmvDoNUGjIfCEjApyNq6ocGuUen+gCRN6kuLdCezcqA3Lc0HemXb3v2yadc+2bJ7v2xrbpNdLe2y3eTtO9AunT0J6U5kpNe0e6C9W5r3tUhXd5eRe0AyRsa+rj7pbO+U5mZ+2Hq/aadfEoa/cD7gq99wFIkgV26NL6fFHHSdTJE7pVwwJ5fRC/q2u0ZxJ7/mY+l4kvoCURcihKflHCTzfmlG9ixBUf0mZY/8cc5cXQcHB4c3Do70PBgBSp0c7YMxzoNxfAInCoHJHYcDnIpwOsCJmASiUbYldBP7kDDPRxxS8k/fYwK1MR7k2qfarziukeARhxl2LcJZXR1sgb5IUIYEPepjCyP5NW770uCDP482NI0EyFpbWytnnHGm/YXtQo5ChVBWVi5z5861OyvxYjWeQLby8gqZN2++nHvuebJixVlW/yOVeSjQv0uWLJHrr79RTjvtdLuLiRe0W1mZ29lkLFhgtyyCE+wWsUPAa19e+yRxT21BX0Ypx3yotqr5JKWnNDgiE2W85bRsKdC6QPkbDJTVYEOCuQiGgGcvlBdoqdz2FwrsS/kh3pBF5SBf5R1vFNWPb6wOBf/YHgy0qWkoHY8GhWRDx7pz0HB4pry/b0uBtsGR+rkP16x9xnsdNzWpvWj/67XSoC4JWtgcYw86OCaPhb3QxnD04ge8IhsBgwRGMT6QmR2bSDZIaQjnRr8uVOZidchX3UJbn3eck1dKv6mOgfd8OKAfmG/hlblgvJ04oa0JGWlX9ea1G44jlWmsoO17eS4V3rKcq5y5Z1hO3sGgdbxJ9aVHwJjzjjvVofKu53o9Eoy0rrbrfS4o7yrfeED5HY3MDqWjkJ61773n9LmOCz0eL/DzCwazTy0zUmh73jYZI8wPjBfa5rnvHS9HC0PJ5uV7rPgaqs2xgNf20CvPOt7VS2lbbWEs+KSfefcB8HA8YKRyUQ9ZCIzivYmgblKp39/UH03bI617vABb1KTvXswB+p7gl+9ElNcro74H+OXQuU7lPt4wEp50Lkcu5BsKJ2LfOjg4ODg4ODg4ODg4ODg4ODg4ODg4ODgcJQwcviY7Fv7QAzgMGzIBc0ylkpJJpXNrOSYvEo1KBf6OQXaJykpwICiRQFCyqYxs27RZXnr6OXnm0Sdk0/pNcuBAu6RNXViEpg36CQQO+heGIzEbYJUydDLsANVP8BQ+L/iLBCWR7JeevpT0JlLmPC2pdEbSJmXS+LqZcgPZnL9JOGR3aDIN5BK7LIVMW+GwDJg2k/2GjqHR1ZuQrr6kdJrU1tMn+9q7ZNe+Ntnd3Cb7WjultaNX9rd1SXtnj/SadhNpeIMvgtBMG8GIESRgZMpIP8nwQWBU2/79Rkb4zsj+1v0SMPz0Z/slnek3xU35dFKyur0VmrBlD/1osAId67qQ5nMIsAuVSQHznylBN1hQ1tahz805OjZa1ru5dmwea9r0Q1YG8kFlCk/zDg4ODm8YjN7beBhgMsbBNhaLHXR8OFrgYcHDBEccnK5xYs7w8HGT+5Dg8cj2i8VU5X1AH03oi4A6B5LghWv6mvvqpK8vDmp/QF8ORgrqKw9+qIPcaO0cfufMyQU6EYQ0FHjZmzRpsg0cYkeTkQK+CyX7UhqOSEVFpd3Bae7c+XLWWWfJZZddbo8NDRNsuVIBPQK/5s6dJ/PnL5B58xbItGnTrfMcL2hHIqdzgsYmTpxoA7HQkfYDbed2OiocFIZ9EDxSSrATSJmXc+YL7U8/aDsSCR+0QeyOc9rRBOALByjKc+QaBzfK4jCoNumH2rMmoHY7mP0VAmXRNyj0cu0F9OGLYAjk6ujoODi+FMqbnit95cnLn/LPtdeZz1tmrAAvXj799A+7P8ZtK7xyqY7GGl659BybUnv16mAoUI9x4eV1qPp6nyP11PYVavOqC+XRe612zBHb0WsATwThAOYD7tOWpuHCW0fbLxXwxbOEQEHmFw0SwrmXHZ3Y5apUJ1/gl72Q/kaKwfQzHJm9gEeCOJmnsC8S/B4NqDxe/cCPJjBSucYCtK3tF9N7Mfj7inNk5KhztaJUGZWm6oujJq6hg96gr2OOpHL403hC21AeSF7eVZajgaMhr0NOz9qnfn17+/to9v1IoGNG56TBeB0Lu4IGbep7JNe8k/HcOdpjxQv4KCSf5ilfY8lbofbGCsqntsFcxLuIvssMBZVVy46GV+Zn3jV43vrfv08koAPe4QgoJ8iM3aIK7Tw5GPz9MlxQbzR9cTQxGJ/oAb1hk5zrN2WhOieKvH4gF0nnWC/UDvz3TlRZAd8W8M+PHqh8Dg4ODg4ODg4ODg4ODg4ODg4ODg4ODg4OY4OxWEOBBn45AxIMZM1lv2QHWJ+JSyxSLhVl5hgOSSgYkHQmI8FwRAKRgN1Ril2aRMKyZeNW2bBqtTTv3COpRFoiwYgNpBKJSThSIdFITDL9YelJDEhXIisdiX7pyAxIa0+fdKYT0tufksRAWrrSfdKdSUpHX1Lau3qlpzdt7mWld2BAEoZaZiArWQKBBL9FgojCEjDtBMx//QP90pPOGNqmfjIh3f3mPJWQPfv3ya69u2T/gVZDs93QThg+ckFcYcNnLBCRKiNLfXlUJlSFpb5CpKEqKrVVcQmFglbmRDIlfb29kujsNtIGZfGyU2XpqWeJJANiJDU8DZh8w49JWaNDgqWgT/ASrqu61sXatK6VkcjXe7l1JBIVWGc1+fnu5XCoLNIaECQVNJqw7YikCFyTfokMZExeWLJGj+ILjgLanoODg8MbBaOL3BgBmEjVmeNYgAcGjiXsSDFY0IPD4cg9aI+EOuWNJ/QhTlLnWb1W6D0cyHBYJ5iDFwecy3IBLBHrgIKDN0e9N1Y7kijgzZuULy+vwwH1CARaunSZPQ5Fh6CgGTNmyMknn2JlHgngt6amTpqaph6WpkyZJlOnTpfZs+fIsmUny/nnXyg333yL3HTTLTYYq7a2ztQ93KF7KMTjZYbXU+Wtb71JbrnlHSa9XS6//ErbTqFfMSC6fvPmTbJu3Trb1+iEYAX6VPWM8x0voYXAdqr79u0Tgp5KAY6n/qARLyoqyq0MlIMfAB8k5jh1Ptdz+NM+pLzujDPYr9JjqwAelA+lQ1K5hwLllAfoKN1CgF+cMtErYym3e9ahca72rTRUZuVHoWWUb+iWyu9o4OX1iLbyvJM/FB+llCkGrau6Gm/QFrqmr1TnpbRLOepoH1ND6w1Vn/u0ReJc7Qvbhq7X5khe21DoPb3vrQMdaDM+dN7WtqCvMg7FpxfU0faAHguBe9gsjr3MNex6AG+MCeaRzs5O69AITcVg9PxQWUmqSy+t8YbqQVMxoHsCUeEP2YsFgg1FZzTw6oc21EbUpgrZ1nhD5SV5bXA49gi0PEfkI6ltAOgPB9DxJujp2NGxCaDvfU6RvDJpGmv46aus8Kr8Ke9HG+Mh77HA8SaH9rWeq72pzQHt82PR74UwmA6V71L5HYzWYKCeJsYqiXMdy7St4+VYwi+f8jxeGC/aSleP2r+DvbuSR9Ky3rzRgDmRb1bezejrExHogKBq3p14jyAwSn9sYbgYrT7Hok+OFgrxqbbFkTGv72H6DC9U50SRF3jlIzHeCkHfA/0yHy+yDpcPxgd1hhMcRfnjRV4HBwcHBwcHBwcHBwcHBwcHBwcHBwcHh+MIvvWDUn80fnAYmgO5FA4FbbKBR8GIhIJBiYQ5D0h/NueDF4qEWUyXpmnTZNHJy6Sts1MyPQkZ6Bdpa9sn7Qd2SyLRIZlAQqLhpITCGek2N/f19UhrMm2Oadmyr002794lu9tbZff+A9Lc2iF7Wg9IW3evtPclZH93l7T19tjU3t0nvZl+SRlRMwMiiWTy0Fqk4SlrzlPkpdO5Hx5ll6lsVtpa90tryz5JmHb7erolk+yVsAxIzKQJ1SGZUBuWqZMrpHFCTBpq4lJXHZeqsrBUlkelLBaU6sq41FeXSXV52MjRL/2ZLlOzV2rqy2XStOlSM3mSUUNIAkF22DI6MbwMZOmfgPXJ4xhgxy2jM6M5m0fQGcm7ZKTrQrmE7vP5LKXxj8nQdWybyLbn9kSCAUPMXocIzZII11nTLi0WWI+jroODg8MbCYU9D8YRTKQ4NJCOJXLOF/kLhxEBHeac8vIZ4wR9+Hof6Oo8o/kaHMPLDL+oTNIdLsjjHs7d7PzBNU7tvBDhlDJYYEoxaPuF6ilf6Eb5HQ2oT7APQTTIMRhy5Ur7hfNiIGDsoosukve//wOHpfe97/3y4Q9/WD7xiU/Kbbe9V6644gqZN2+eDRzQvhkucOrCaY6ArlmzZsns2bNl6dKlsnDhQhvo5QdOUbt27ZbXX18lW7ZssU52tD9hwgTbt9gB9IrtxMR2qmzXmts9amjDxSmxra2tqCMfu2hpv6jjKtck7XtNfmAfugMLOi80J/ptiGvN8+rcW6YYKK9tIA/t+gENyjBWcMrk193ZFUdB29TlCNQevXwo0K86sYFS7Hcs4e3fgroZQl8K6pZiK35QT9sdSf3B4JdH9UrfYFPYN7pnHlT9FwJ8UZZ+Vse8AVPeHkvgGdrax/Dg7V+9Rx42pTxrGb8MfnCfuRp5qE8QJOOa+vCm9LV9byrGu8o1lGy0zVjW3Q6YX7BfDYpS596h6JQKZKI92lWZRkpb6w2l30KgjiYFvDEfwB9y644Fg2EkbZcC2qV/VffYBfypTenxaEHl1ONI+ow63noqH7LouBmuPrWO0takYwP7og3GF0dAW/SxV6dKR8/HCkqXpO3Bm9q9pmOFsZR1pBgPHo6lXNrfeq59rDZ5LPt7MHh15uWfpLyXCq1XCiin444xwvOH8UmbzME6Vrg+XqDykbRPj9d+VXh51mt0SkL/gHPmSvQ/FFRm6Ixm3qQe3zO06Q/APlGADLxDsYsxutCA8pHKonodqU7BaOsfTRTiU8cTR+YA7JJyzA/6vnCiA/vQvgZ+mfQ+MvtxvMhfKh+UQw7kKeXdejg4XnTh4ODg4ODg4ODg4ODg4ODg4ODg4ODg4HD04F8eIAhobJBfo5LcGmiIoB/bGGtvOR8TfFVzazwiwXBIwrGITJ81S6JlZTKhvl5qTIqUlUswG5JMKiADaVO3PyMpfuC+X2RPW7vsO9Auu/fskva2Vmnb3yYte1pl29adsm7DVlm3cYvs3Nssu1taZHfbfmnuaJeW9g5p6+qUnt6k9CVTkkjx4/dJGwCVIWAqlfcd7ukxbaYk09crGXxFKWPKSzotESNDRSwm1RUVMmlCrcyZXCuzJtXJpLq41NdGpL6uTOJlEYnF4kb2uMTtblnlUhmPS2V5XMriUaOPAYkamWvqaqRx0iSJlFdIW3u7rN+yXhLpHslKv9VJgACyAXw2ja6MnqyvjElZozd0i5Zz54fWerzrR6rznN5J5B3uf5fLN8n0UdDu3MV9+i1srglmMzQpGoxKIHT4ehskxnK9ysHBweF4wNH1JM1DJ2OHwXE86wnnFBL8FdrhZ6zglZ8XA8DDWBMvXjiQcQ9+cBRS3nD6xamMBB2ctADX3OMliHo4fqsT3HDh7x99UeCo+tE0UhC4sGbNGmkzL4A4Qw0Ggnk2b94sr7/++pBliwGdTJ482QY++dP06TNs8BG6zO3QNHpnLPvybOhoIgiCYKmamtqC/cLuUZs2bZK9e/fYwCUS5QhiYHcXgqQINirkyMgvI3R2dkiLeWFWp/BCoP/QH2Wbm/cWLIvc7K5UV1drnZvUOQ1euOe3gULAXglOwYb9AV3U16T0NCld1RnQdoq1Rb7qk/rQAd56JPRHYBR8EQyhZTmyJSwv49ou5ZUXb19Rng8t7gH6olBfjidUPqCyeTFcq/XSKxXaJnVHUn8weOXRc2yWeY1+I6iI+UDnRD/I0+A/HFapC4/0r7d8Ib5tOVOGccG52r0X5EPTzkOGv5DHBvTo7xM/aAM7RCbmG2yTurSHTaldedsiUU+P3CN54b328wBt2mKeIyiKuQRd7t+/3+pJ9VmI7mgAH6pH6NIGabQYSseDAV6Y63lG9vT02GcReh1LuYcL1bvyoTpTOTk/mtD2VCcch6tzrQs4135HNgC9kfRjoTrQ9ybaYhyT0Cl19Fnm1S2Jc+/1SKD68tKDB79daRsjbWe0ONbtg2PZ9lgBGbx2A+hvtT+F6vp4lNnLl5dPHT9eOcYCqisSY1Cfczx7eBZ6n23HG5RvMN78edsaLZQOR/RL0mt0jd71RziGAnKTvDSHC/qddw+eu4N9qwyGkbQ7VqBt3h0mTZpkv214z0QWdDkaqE2NRrZjqZfhAl79/HrHFbbBvIC96HP7RJKvGLAT7zzohX53FPuuPF7kL4UPDYCkD739WioGa2Mk9BwcHBwcHBwcHBwcHBwcHBwcHBwcHBwcTmwQ/OIFPx4/NmBNInAw6EgCBPIEpH9AbKANAToETA0M9EvQ7ixl7psUq6mWhqlTpK6hXsorY1JRWyXBsipzPyzBgaCkUxE50COyZ3+ndHVmpLurQ9pat0mir016urul9UCXtLQfkO0tW2R/y07ZuXWzbNu2WXbu2Sl79zdLR0+X9CZT0t7VJQcOdMqBzi4bIMXabl9PrzlPSiqdloQpk0ykJZ0014k+SSd6JRIKSFk8JvGymFRWliOS9HQlTJkB6Wjvlda2bmlu6ZS2jqTs298tW7fvk61b98mWdbtk5/rdsnnVFnntmTXyyjNr5aVn18uzL26WV9bul807eqRjX5d0tfVIfzYg7W3t5pjO6yWnJ2DXw/Jre4fWQOk/1sdyR28iL1eMa0CZfH/b8jn6OZjy5r8gQpHsublvypSFzXXQ3A3HJBA6tGFBjqrSdnBwcHjjQGfGowomdv+i/fHizHC8AH0crzrx9p86r4w3aAenHy/IU2cgHNl4wVHevDzieEIQC8A5SwMGSPCOAxfOW8ORw0vfX8/fvt4fiZ7gcfPmTfLaa69KV9ehHXyKgTb37Nkjzz33nHVGGw3gt1A6GmhqarIBUmwz6gcybt++TXbs2GH7ksCF1tZWG0RBMANp7tx5B/vcj5R5AV63bo119Nc+ApzzAqqOkdzfsWO77N9fOJAKu6ONqqojg+ugRUJfhZy3FJRBBsphh34bVxqqd6ULn+pk6B0b2p7W8SbKkDhHnkIy4ahFUAi0Dxw4YMcU55RFJ7ltcQ/tLqJ8QNMLm593LtWyxwLoSqE8qk7NP/b6cM7HFrSjsmvfjQUCHn3Shlc2EmOhubnZzgEESnGtcx7n7AZG/+7du9eOHfLpM/vLIXkeB+PVljX9S7teB8VCMlLO2oLJp5zXVr3HYsAG4ZdyBOlofUAeNOHBG5wID8qjJr3We0D5hg51cUYmwLKhocEGSPG8YLcDdIWOvFBZ/fKOBiqPVwYS50PpaTgolW/mA/QBD+3t7XYeGEt5RwrlX/sWfXnnGY5jqa9CgL62UUifw23fW19tVeUC3vbGArTntS9tU+cJrgHta1K9avJfDwYtD1QujtqHyodfj2Ao2uONUuQbL4x120pvvOWBvtqH9rva21AYb95GC+WvkK2WAur7ZdQ81RXnjBGebYAxqe9sxcZJKRhpvVKgMoyGv5GANkcD5Rtdc9Q5ScE5uud5OBRUfj0fKeh73kF49/G/ewwHo+FhpMCG+TbiRzbQBd+kfKcdTZt4o8OrS+yT92Tve7C334+FDYwUyKUJFOJdx6fOjYVwvMg8FB+McfqMvwOU8mx0cHBwcHBwcHBwcHBwcHBwcHBwcHBwcHAYDOze5AU/fj4myK/fpNIpk6AZkIEs/jommeNAkLXtnI8TATms9KT7M5JMJaW8ukYmNjZIeTQkoXBMspGYJE2Bzt6EbN7dKhvWbZadq9fI9nU7ZO+WzZJq3yf93a3St79FuptbRBKdUh1PSXkwKf09rdK5f5d0tOyRtn17pbWlRToOdEpvT1K6+1LSmzL8Zfqlq6NXenp6JZnsl+5kQroTCbuzVJ/hv89cZwayEiuLSSablq6uTunu6TapVzr7ErKnq1d2tCZke0tKtu5Nyra9vdLa0S8HTBsHejqlpa9desMZaek5IF3pPglHYxKUsDRva5ZnH3lanvjVY/L0g0/Jsw8/LQf2tktdRZ1UlVdJMByUWCQswRD6yfnnqD9FDqxZc00fkse686F8b97AQO48l0ydg67/XONfZI6UYZcqsghlM/UoFwuadiMRCYTjIqY/DsLwASu6Tufg4ODwRsHhT8ajACZSr4McE71O9seLM8OxhOrjUOLhl795rGH6TvsPHHpQaxp7QJ92vM4+tM85jjHk4ySD8xi8eRPgPk5aBJ7gfMLOHxxxJNKAAXXk0l8F13YGg7YxWFktA03ScIGcBDY8+eSTNkAnmz3krFcMtJc0L3Nbt26R119fdVAvJxLQaUNDo8yYMdM6DhXSMTKuXv267NvXbPXEbmDoiiAG7GLp0mVSVzchX/pwoJO1a9fKFvNijcOeOj56E/QIjFq/fr21l0KoqKi0QRTYlp9H7XvyB+t7yqgtQgcnKYWXhpc+8pLPEd45pw3vGPHzA8ijjNLVPE3ojcAojgSG4ZSJLmgH+t7gE6B0uO8FPGke5UnjAeXbe+5PfpCnsvNRdmSJsYfyUkjn3jQc+Et762ufYOcEtJDoT4KgCJgiIGr37t3WYZUxo33MjlGmsj1XXvXoBffpY6A2p+1TXpMXlr5JQG3CW8/Lvx+0xRhkTBK8pLtHFQL5Ohb0+eDnTce48sR9DYpi9znOGY/oC/3QLuX8Mo0X4Edl4FzbJnHtTcWg5f0Yqp4XtI+uSQTZ0Qel6qDUcsOFyuVN3n6EZ7WNwWTVe4OVKRW05+XHi+HQ9tZFHuye+ioPGC2vxeDln6Tta+IaqF1qUv6UL47epPBeKw2ulbbSdygOv07HAmNJU2kVoqk2NZx+LkTnWEN50jE5WrtVet4EGB/6vkUb+szS8Xm8Av6PFY9e/Q0XWpd3BvSt857mk8d7On3inY+LQe1C57nhgjra/zx34WU0GAkPIwX64XuaH6ng3Yn3Tb6zRjtW/NC++X0GOtXxxvzgDZDyPpdPJOjcoXIVGm+MB+7xN5vBZDze5Yc/fpgHGem7kQI6J2JfOzg4ODg4ODg4ODg4ODg4ODg4ODg4ODiMHVhTxD+M9UUvMunRrTMq7BpOQCSdStl1qUAwIJlsVhLJpGkjt46d2wVJ2JRIwqxzm7ze7i7pMqmzIyWbXt8lrz31imx56TXZ/Pp6WfnKBnl51Rppbt4ltRUxqa0tl5qqapncOEUmmGN9WVjqYxmZWCYyuaxMaqJBqasweRVRqa8sk7rKcokEg3aHqANtndLR0S0dXV2Gv9zuVql0VvpSGWnvSUprZ7fs3rdfevpSEghHREJh6TO89/b1Sm8iKd0mpWVAwlVl0l9VLgPVlZKJV0kiGJfebFiC5eUyZ9E8WXr6ImmaP0XiDZVSNqFK6qfWy5TZk2T2/Kky1xwn10YkdWCPrHl6pbxu0r6dzTJjygypLDPlK8olHo/IQCBrms/5teXWeXI6zunu0PVg8K4N6fmhI8mzxmZOA0RGZQesn2Gwv8e0jQpi5uLwHyOEhu1rBwcHhzcQhvbyGWMwkfJQVsejNxZyDgo8xEpNlD/0kDpUn6M6dx8voO/USUt5BPnDCDB0RdpBBxxpn+TVDfxgT14nIRLgPgEnlZWV1vGEAAG1PY68IOK0BXCIJ+Go4neqHwyUGawcfHHf39elAAf9Vatek7Vr1xheE/ncQ2BXpWiUSO7DaSJfW9t+efXVV2T37l1j7pR2NIDT05Qp5qV3wgSrOz/o402bNsmuXbsOOhXRpwQzENRwqO6R4wd9tLTsk6efflpWrnzZ6sgbJAWN9evXyfPPPydbt24t6rTU2Nhg2pla8Nfk1R5L6W/KskMNNkcwGEegdlyIhto5dbUt9OS1M00KzrnvraMgn115GAPITxChd6zrePDTVECPfKUNqEPdsUQhHgrx44VXTj0fqk4xeGmVCi+/1B8JDS+89BRce2lzpB+wZxxUmUsIcNnX0mKPBL6Rx3362QZGlQBoql14bcKPQnJqXY5+mwKF6CgYgzpX292jzBxdDEqTRDvaltqjtz3GG/RIjGN0hX4IsizFKVnbGS8o/17deTFebUNXn53ogWfnULo42lAbU92ovWlfg1L7p9RyXmh5jn5bHwr+tlQWpcNR9e0fJ+MJ5QGdalK706Q8escVSceWN6n9eq8pq/IpTS8o51Ac46Gf8dK52ora1IkOtWGOKpPKOFJ4aZL4/iBxzhjRZzTtaDreoLwfD/zBx3CgvGsf+HVNPke+L4YKxvBiuHx4wRzJuwl9T7tjgdHwUyqwW4LM+ZEF3tn2799v3zOPtU28EVCs/7y2ir2Q6IdjGSA1Fm0iD/MrMpC80DFainzHQn4/CvFAns71OscfLaA7BwcHBwcHBwcHBwcHBwcHBwcHBwcHB4c3FvDzY30oapIXiSK+jsNDVoi1CdjdjvAt6xeWbzKZtA0uYoco/M1Y74hEIzbAJ2iuY5aXgOxrbpHnV26WZx94Slb99Eey/dGfSduWV6W3q0XCsZRMmjFZ5i09WZaeOV9OOvUUmTZnsUyYPFMmTp8kk6bUSHV1lUh/SEyrIuGoVNXWSuPEiTJlSpNMmzZVautqbLBR1vC3v6VF9pv2Otu7pMOkveZ6x+59sn3Pftm+q1n2tbQanaRlf1uH7NixW/r6UhIrL5NovMwcK6S8qkqq66slGA1IuCwksYqYxMoiEosFZfq0yTK5sUFqIjUiPQGj3JB0tHTKtq3bpaV9v5Q3VMi8M+bJtAVNEjA6mjFtopx3wTlSXhYXlmcCRmkD/VkJG14rTF5ZPGr6K2QDycKhoISC/ICqaTMatX2pP6bpXWvi3J9yN3L/5DbfyOWZK3rMJNoekJDhyXSSpLvbZCCbkWAoZu55aZOG7/vk4ODgcLxjbD3Xh4A6b+A0czQdAY4WcJw69dTT5PLLr5DLLrvcJs4HS2effa40Nk487KHGUZ3jjNZs3jGH6Tt1RhkLhxvkJQ0Gb1scAedaF8cZHMfU6RL+9EFNOQKdampqbB67p2B33rIaIKV5lLcvjPmXDfrA2y/FUOw+bahzDxiKjheMEwJ/nnrqSeuYPjBwuGMpQT84oS1ZssQ60RnquRt5UH/Tps2ycuVK6e6m/on1AoOuJk+eJE1NTbYf/ECejo522bZtq+nbAwflQ26CKOg3AqT4BfNCescW1q9fK7/73e9seuaZp20w1HPPPStPPvmEyfutDUwrpjuC0giMamqafAR/9Dl11H6HAuVxICQwA36xPc2H96HshnJeZzG1WW8Cek/LK7hPIAQBIvBBcBRjQ8t7x4CXHu2pbvQc2oA61Neyxwvg1itDqRitHKoLr85GCi8vnEMboHulr23ofe5hX/ySB32r9nKwTv44GCjr7V9oe3nxw8uHwtsmdb10BqNHHeZq7JMP+3KTVO6h4KVNHcYrNJg/2fmNMQd9DawkcEzfUVRm5dcLvVY5SWMJP9/Ay4/Cz5dC6yqKlSsE5iCdO3FwRh/DwWA8jSW8utf+4hx9+W2rFAyXP9rx9oX3fCgM1RbykGhD+384sowFVLdqdyTvuFDAE/rWBL/kKe/kMe70WemlWQhHU8YTEeNhB6OhqXWL1R/OuDhe4ZWN82K2Oxx49cY40T9woi+e07zP0s7xrD+vXo4XPr08DQUti/79z3wS9znqXFwKKA8N7dfhAhvgu47nLjYwVhiOXoYL5nbeqfjmxnZ5l+KdczxtAnnGU6bjDcVkVVslYS8kfd5if8dCR6NtU+2GsQD89LhPnt4/3lFIH/p3Jv5mofKOBseinx0cHBwcHBwcHBwcHBwcHBwcHBwcHBwcji9UVpTnz3LoSyTzZ6NEgPXSlPRnUoLvKkE1WXNMZ5ISDAYkGApKv7kOsX4TzPkkZjP95jwsTU1T7LpnpHmjzErtlDmNIouWzJHTli+RxSfPk0mTGyWYykpnS7P0tB2QA/s7pLmlU/Ye6JGd7T2ydX+77O5MyK6uHtnb0yct3X3S0ZeQHnzfsmmprKqQKTOmylSTqmtqpbWlVXbv2Cl79zbLlq07ZeP2vbK7tUs6+zIm74Ds3G7u7W6VdDK33p/owzdsQMLhMqmqqJbGyhoJ9/fLQKJHysJZiQf7pSIWk0R7r+zdukdiRraZU5qkprpKwrG4pAZyek6nExIwOqqsjEj1xJDUTCyXM84/UyRkCoREekyZTCotZfgxV1dKdWWFOY9K3KTyeNykmFTEDQ/lZVJpUllZ3K4l6RqQdy3oiLWlg5e5NUPFwEBAzP+mrklk9Gekr7PV8GH6o3qSyThEk34jsM3BwcHhjYbhe+0UQCmL+pTBuQgHZxxm3oggwODqq6+Rj33sE/KRj3xMPvrRj9vEtZ7708033yzz5s21DzWgzh7qqEUaA5+J0cG0T/8NGN7GytEGpxDdpakYaMvfHtfU4WUKByCOQJ3ZAOWhz64XBDrheMLOPFpWQXmcuPSXralj5TSJPoA/6tMeL3TeFwOgZWnPm/QeoE3y4LtUUBeeX331Vdm8ebOxgSOd4yrMS+3ixYvl4osvyQcQHe4gBI0DB9oMjZWyY8cOa0eHA/6OtWENjvr6CTJ16jQzrioO6tULdLt16xbzArv3oJ6ROzduMjJ37lyZOHFSQecpyjEXbdu2RZ544jG5++6fyA9+cKf86Ec/lIceesDu1kWQhN9mFOxKNXv2HKmurjmib7XvvTwX4t+bRzsEwTGH5ILdcqBMoboK2tKkvFJex403kYcuKJebV3K2i91rIIQ/MMovm9IC2h50dK7iHvUK1T2WUB2Zf3L852UoFSrzaODVm+VlpPDxgp6hp3Sh7N0JivsH7+UTfaXzpyZzI1/jSHjpQ49Uik60PS+gQ/scoZObX3O2Ak1NXkCDD2bGJGWZ26lXCg8KylKnoqLCOvESDMg1c613pyjlmaS68fLslUfb17Lee2MF2lCdQ78QH16MlgfaQUfMQ+ibXeRGQrNY3wynz/ygbqH68OftI+Cdg4rVKwQtW0p56GtfjFRH3ra8NDhHHtpAllJ5Gi+ojjXBG3MIR+UbXjUxtvRZwDnPGdWX6mwwHGt5TwSMh46GQ4+y9ClH+tPfp0prqL4+kYC8hWQdLnScqA4ZIxwZGxrAXOpYOVbw2srxxqOXt6GA3pmnVOfIokftI+0LnYuLQfXAkUTZ4fACdL7knQeexhLD5aUUwC9BUfoDC0djxyilPRL9nsgoJqvaGzbK/MERG6JvjpV+RtOuyqPjz0uLfH3vQL4TBV4ZONd3Ir5B6K+xwGh07uDg4ODg4ODg4ODg4ODg4ODg4ODg4OBw4qO2qjJ/lkNfIpE/Gw0GzP/9kuzrkVTK0CPahrwg/lcRiUSjMpA11/m11HAkJKFwyOZFzXHZ0oVyyslNMmNaTMpjMambvEzqZpwm4fJGicdqJCKmfF+3JDq6Zd/evbJ121Z5dd06Wb19r2zvSMqa5jbZ1NEp2w50yc6OLmlPpCWZDUpvMiUHOrukGx/0dMJwlJVpM2ZJZVWVRAk6iselqrJMmurKZYpJNdVxmTChSkIB015gQMoqohKLxSUWDkscv5ZAVrLJfgmnstJUXS91kbBUmLyaaEiqI1Hpaj0g4WxEamsqJBYNSEV5VCbU1klVvEoG0gOS7ElJojdt2g7KolMnydQ5dRKOZqU3kduwIWw4ZG0oHiszKW6DotglqrzM6KW8zKS4VBh+K00fVlVVSJnJj8UiRo6Y1avVOf+avmBJyAYy0TW5bLt2pue5sqxVmzY52n/xRchIoqfH9k2gYkKuaB52HdzwB53jCdu2bZOvfOUrsmrVqnzO8Qn4g0/4HSvcc889cuedd9q1d4c3FtjE4xvf+Ib10XYYf4yJ9zrBToMt7DN54kSJAwBprJ19ji4GdzzggUHC6UGTOjpx9Kecc8Qhx1fyOHod148HGO7My8DYOV2w3SZ60gAmP7jHiwFQ5xg9oht1HgToyPuAphzO3ewOgsM7QSfF9AgtHMCBtoFDmjoXwYfuKEWAFGW84NqfB3IvHrkEn8XKFQLjiaCflStfLBhICI+TJk2W8847X2bPniWnnHKqkbeyAP0B2b59u909Cud/rw68+iqM0vkdL2AXM2bMMLIWDnACzc37ZMuWLQcd+NE1fdrfn7U6WrRokdTV1ZmShWWhDnrRerm6h5y9CwHbWrhwkQ2Owi68UHrA3+d67c8H1GFuxPYIkEJeaBUq6wflNCnv2Ag0qMu5Jq5VXsA18iBHW1ubtTdvWW/b5Gk/0IYCeuiNPO4X66tjDfiDV6sTj1xDwauD0UB1Ch9e/Q0Xfm6gCw7S9dDWPkRuvX+wnA9aRuXVMhyxF+6rbQwH1KeuF5pn8017Spe29ah8AJWBMcKczocs87u3zGDguYqdE9RIYBT12E2wubnZzh3QJo+2vc9nHUNefr1J9aK68p6PNZQ3jrThb7sYlHfKM04511SIBs875iA+sNDReACdahoJCtVFBq+sJNXZSNvz1vPW9V8P1QcjATSRgaOOCeBvG5z1lk/LjX98p1z49v9jyo7//Ku6Jqm+9fmp/GrSsQQoq1A5/LL4UWo5h7FDMV2T7+1bQJ96+9ULpXPWVR+WD/3jA3LbX/9Ups473eYNF7HyKrnuo7cbOr+SN93y2Xzu0YPfBovJPBSUjibvO5OOI2gzjk4UHK+8evurENSOvfr36l6P0NF8vkvU9guhUF3vcShAm2cwdsD3wHigVF6GAnTQR319vf3O4lua74jx4rsYxkqeEwXF5MXmNOnfMHj25v5+caTNHg29jaYNlQUafjr6dxp9txgMR0POUqG80B/wzpwz1osZx5O8Dg4ODg4ODg4ODg4ODg4ODg4ODg4ODg5HF5Ho4f6LWYKWxgKsPyW7JJvqE4KLsvgPh0NSXl5tdxwKZAMykM2YvKAErF8ta1P4uGSkLJaVFRecJlMvvVT2Vi6U9myjDBg+UwMJCQdYy6qQzlSXtOzbJzu275C21nZTMyQ11bVSVsaPOleZNuISCsVMq0GprquX2gkNIoGoZNIimX52sOqXnKiGp5o6yZj2m2ZMkUVzpsvps6bIqbMmyfzp9TJrRpPhMSaJrNFNKCvRqGmnvEwaastkQnWZlEXCEg/0y4SKMpk3ZZrMaWyUaQ01UhHOSEVMpLI8IlEjY6Kn0/A0YPiLSjQWMbwhL+taYmQKyLQpNXLxpculIhqVcDAm2XS/REz5fsoE8xtlGJ3i/Md6KwFQsbKYRE2KGJqcxwieMqmmpkoqK8sk56+c3+iBgKlw2OqaNaeg0aMMsPaNf1uOl6wpi0pCtGP0kjb9RmBVOtVvriISqJxs8g8hHo9aX0TW535f8cADD8jXv/51u0HDGwUE3/zkJz+R//zP/5T/+I//kDvuuENeeeWVw/qZIKzbb7990OQNTkM/P/vZz+SrX/2qvUdQ2L333mt9BbygbQKA/LRIgwV9wRt+4D/96U/la1/72sE69A19dKIFFD377LPy5S9/WTZs2JDPcTjaKO7hMwwQfILTsjpjKDjHwQeDxmmG3Xu4PlGBw0HEPAz9ARF+qEPHUICe31GCozpoeXV5TAGL5qFqmM1djwGwFQ3E0OAMBXkkr370HJ3gFIOOgF/XlMFpHpqUZVL0Omr5+0UdU5QeTmmAOvAHn9ThBQLavGjQTxyVt6FAfb88xUDZ9vYD8txzz8qePXvM9ZE2UFZWLnPnzpNFi06S2to6OemkxUUDiJCNXZA2b950RKCVTxXHHdDVlClTZPJkdsYq7ACVTCZk/fr1Rle7DzoT0pfoERs488wzjZ4W2/OxQCQSlfnzFxq6y6WhocH2qxe0m7OXw4M8hup3AN8EsTEW1JmtUD3oe6FlsHfu6ZH6SkPtVsupjggy4dfesXPmcOXdC65JXnpA24IWR/JpQ8sfb1DZvGk4oP5oofobKS0/zyoH9JSmPebPuUebpUJpaDtca/9iQ8q/3h8O1C69sLRNCubtU+lqG/62GOMEM8GH/7lRCPBMORx3CYriw5L3EHY24NnAnOjlyd8u7ejYIXFOog7ywA8yaPKOB7+sYwF4on2OgHZIxaD8kBjjyi/5nHuv4RfaBEYBAqO8z86xwuIL3ilXfPQbctXHvylnXP2H+dzho7phhpxp6l/+oS/L1Z/4przlU/9jj5d98D9l6cXvk1hFvZVLdTYa222Yvliu/MjX5LpPf1dOufT9h9HRfh6L/oYGyUsbGbC9YuO4sq5J6ibNMXWCUl7dYK+PBpRXf1Kb4wjPJM0HyObtC29yKA21jTPkbZ+5Q277m5/b9N6/va9get/f/cKm5Vd8MF+zdHj7o1AfaX8PhVLKlIIJTXON3NMMD0GpnTgjn3t0oTpQWy4k2/QFZ8oHv3CvfPyLj9j0rs9+T6rqcn9Y9OqRpM8VwJhhPq6oabR1Pvlvv7PpfX99l0yYPNuW8eItH/pn+dS/P2bTtR/8ZzOmhg6KnLFwuXzkn+43fD0sp150cz73EC64/hPymf94Qj72Lw/IzEUr8rmHg3bOuORWed/nfyif/L+/kU/f/rit86l/f1Q++s/3yy2f/i97PxrLPUcuvOGT8kf/+aT88ZefKjn9yVeetundn/2OpTEUGprmyB/8/c/kT7/6jE1/9rVnD6Y//6/n7PEzt/9O3v/5HxgZPyblVXVW/wrmI3Tv70/6mTzuc04Z7a+hoLS8/V0KKMd7OW3xzB4vlMrPYOC5yncQwVH8jYd3Bv871XjC285YyHMioZhNoRMS9qr2w3vyYO8Q443h9o32q8pSiG+dg/VvNkPheLIPeKE/6JfxHi/jSdvBwcHBwcHBwcHBwcHBwcHBwcHBwcHB4fiBrgnwI+H+ZRFdVxk5DEGCboJhFjpMW7nccDgk8bKYhIJBGcivddsfKad9DiHDVzbnhxuvq5OzL79Bpi07VVLhiATCMYlFyiRojplUj3R3dkmit9fQDMqsGdPk5KWLZeGsGRKVrIQzKcl0d0jcNFwdi0u5IRxM90swQ5CPaQiGsgMSNvkV5XGZv2yZdPUPSCLDrYCUV7IrU0zKohHTVlISpmx/KCAVZXGpKosI8WTxcFgqjSwVZSGJBbNSHg1IWdwkjpGglMfCUh43ZaP4c/dJvyQlk01LX19CMmkjdzBiZA1KNhOQvp5+6e4OSOPE6ZJIpWTA6KffdMHAQMj6xg1Ixugy32fo0+iHQLNILCqhCD5ziEPgVsQGR3Gsrq6Smpoau47MBhRl8Zjhw9AxhSsqyiUWj9r1J651XczuDkWAFPKaa9bc8D/u708brfZLZPJCW05RUVZmj/gt/L4Cf0LWwIfyQzxRgP8xgVH4R55xxhly4YUXWt/Jxx57TF599dV8KZFTTz1VLr744oJp4cKF1nbUT4LNOe666y7rG4A/NmVOOeUU2blzpw2yok0/TjrppCPonnXWWQdpeoEf549//GP5xS9+Yfvhkksukfe///3y3ve+V84//3wbgPXd735Xnn766dwYOgGgP8BbSF6Ho4Mx8ZRgcR+HZYKkCMbQYCiuyWdQnOiBUTkQHBXNPWzMg6GYowkDcChHDOpqGR0EXOPMoo6lem8IUickmKPS6ZS1E+SuqqqyE5vqRRPQPPSCflQ3HL2THWWYVKBFHWhji0NNiNBlNxIAD9DQ9nAOh0YmQ7vmhcr0Ey8cOOTwUATKpx/arr48aLli5QFtbd68WdasWWPP/aDNadOmyWmnnXZQX1OnTpXFixfboKlC2L17t43ibWlpOaizoXRyPAA9Efw1deo087JXk889HMwpu3fvkh07dto+RD/0EYl+JLCKB+QZZ5xpXhZzO8aMBNQrL6+wen7TJZfKnDlH7hoFVLdqs8MB9ZgzsRfsS+eEYuCe/762Tz+T4AOdqF4AY4g5G/3oLjq8YFBe6fnpcq0yeduAV86hrff1qOl4AXwC5elY8Eab6Ef1NxJ4+fb3CdAj0Hz6qdT2vHS0HvajbY0Gyo8X1o7MOCZf2wG05W+PssyLJN09Sst7QR73cNolUZbgv3379tn3EeYN2lOdaDuDycc95Q9713EFVC70BW3GmD7L/fKOBbxtI4PKofDyMljfe8tRhjmNhK5IxeqVgkJyT55zhkyZf5bR4dCO/MUQLauyQVXn3/J/ZPLcM+y10uPI9fTFF8g5b/ucTJi+1MpA39FvJM4H6+dCmDJ/hURiFbZe4/QlUl7daGkh41j3r9KjLXhX/rW//fx3H9gjB5o3m3pZ6WrdZa+PNgrpQfnEvrxjgTx0pzbs7Rc9FoPSdDg68PaN6p0+xCb9/e0H5YcqMxy07tkk7S07zbMiLft3bcznHh2o7BzRB3KVKltFTYNMX3DGYTrE7vX93TtPQ5PgqsraRluuVMxYtLxgsJMX2vZoMHH6Qnnnn31Tzr/u41LbOF1C4UO7/jL3xsurZcqcZTbI6oIbPpG/c+yB7ARrNU6dJ+dc+X756D/+XC5+66dMPxx6b0X/3ued9i9H+kv7XP9wNRS0/nD1rt8u+g4xnhipTVh9Gh4bGxvt9zZ/gOQPquMRTF0q4Gmk8ngxFjSOJbA7nZ85qg0x3+jz1oujJe9w2tGxRmJcKs9eGjpeC32HF8Px0rfwwfjhu0T/9jTWOF5kdXBwcHBwcHBwcHBwcHBwcHBwcHBwcHA4OvCuc7KTkxfdPaNbj2DNhgie3Noq66YmMztgd4mKRSN296L+bG7N2+6gZMvjMxmwQT4D5r94fa1k4pXSFwpJnyk70C8SDsUl25+Vrs5WG8CzZNkSOefsFTJvzkypry6TeGhATjtpvkw0540VUakMZGViWYVUmjbC/Wmpq6qUKRMbpKmhQSbWT5C66iqZUFcnEi+T1nRWVq/bLIFASELRkFRUV0h5LCKZRK+kDIu9Rl2sQDXWxqXOpAFDL93bLeFAQqLRrMSjIuWmXixqZIyYY4Qdo8I2ECwQjgi7VnV3JaW9o0cSiX4JGGpxG8gk0tfbJ7t29UkiJVYvwRB+5hFJJdiYAf8L1roOreexFhY29+OxmFSUVxgaMUPfMGcS9XLl+mVy0yQbJEVnsC5LcBqBU6QwAWcB0w8Z0w82aAp/nIhpO2xKG54lZH+wPGhoDZj7poBkq6cYWjnQXHk896OEXlv6fQOBOB/+8IdlwoQJ+ZwTGy+++KJdj7zqqqvkvPPOs37m119/vcycOVNeeOEFG88BZs+ebQOk/Gnp0qXWbxC/4hkzcj9gvGDBArnmmmvktttuswFOlLvgggvkiiuusGXXrVtnywH9QXZ82v2058+fb30jvGhtbbW7RYEPfOADct1118miRYtsYCBBXfBz66232vZeeumlwwK8jmeg90984hNWzw7HBjmPgzEAjgo4YeB0T1AKzvYcMX4egvaBeRyAB8LInQYGjIw4/wxYhyB2pPAPVpWzUDuap85YJHUQpZ7XQQ5QbjROxMc7kJOJkMA5dIFOcRjhHKh+0AMPYHXgBhypr7oClNUgKyZ46Hof3KpzPygDHxxpi50zOALo0ycZ8xKh55SjLdrJ9VHO0bcQtA5HyhVqX4F8BPowiRNN65VNQbDQ4sVLZPr03IMHIPO8eQvsLkt+ewQEdq1e/brdQYqggpzu0Ee+wHEMdMauWBMnTsrnHA501NvbI1u2bLbOefQDOlBdc85D+uKL3yRvetMlMmfOXNtvwwE2OW3adPOycL55oF9pdD2vIA30qjZEGgmwFexWA/AGsxc/tCw6ISk/wM8TtAka4ai/9q6ADkl1qOckP23O0bnX/rXO8QTlGxTijZxCyRTm38Og8pWSCkHvqf4U3nqa/PDn6bWXjp8mfeNvC3BdLFHeO9epLYwFvO0otD1Ae9oWR00KfWbAE3M1Y1zvU5egKD5WSIxT3kGYG9TOve0C6qp9e9vxws+D8k8ebeqc46WBTMzpmvQ5MFbQtjmq/pSv4bZHfRJzHXV5d9P+GCsQtDR/xfUSisQl1Zv7yBoJ5p5+lUycdYqROyid+7fLa7/9jjzw9Y/KL778Pnnojj+UHasfM7ynJV5RK4vPf4dEy+usLKov1Zn201CIllVKfdP83IXRZ1nVBBssVWr9kcDbb9oPXr79bT9733/IPV96tzx597+afhzbfisGLw9+vhgHQB38/eMAW9Py2ide+XQckQqhWP7xgsraSXL9J/5Lrv7wl8zV+PK6Y92z8j9/+5aC6Tt/c61Nzz/4zXzp0lCoD7BJ+q2UOYU6lCtUdqR9l+ztkp9//TPyrf9zrTx+z7/nc48OlGeVCz0Mhf5MSpJ9XRKOxGTuyRfZuiSeFSSgY0PHBImy1OntOmCuc2N5KJ2Fw1E5+bwbpXHagnzO2CNeUS2X3PTH0jBlnp0H9259XR743hfkW393k033fuPP5cVHfiitezZbuXesf9HWe+xnX5F//9R58qU/PPew9NOvfsaU67ZlqOe992+fPMemO//1ffb+cLDptcflix8/67D07b+/VR78/j/Jzk2vGH2nrH7PvPSdct2H/0XiZn4vZNfazxwZC5zTT973jWKgTs2EKfK+z/+vvOvPvz1keQXt8P5CW/pNOt4olTcF5fkhjg/+9ffl3X/5A8kEyu33KnZ8LODtN3gbrjyFMBY0jjVUL9gstoRMvN9hYyQvjld51f79/ALmTmQc7vf88SIrfcFcUuhHcMYKKqt3jDg4ODg4ODg4ODg4ODg4ODg4ODg4ODg4vDGh6yp2TShyuM9oV09v/mykYK2GH5COSITAIBAQCQXxKTDJnA+Y9nNBOQEZ4L+BHC+sUwyY6uVVVVJWUS61UxslXhWWTKrX1MnRKK+ulomTp8iUpiapqqyUivKYVJZFpDIWkECyWxbPnCoLpk2WhdOnSGN1TMoC/VIeEomZYyiblrChX1EWk/qaaonFwtKdTkpSQpLMiNTVN0ptQ73U1NdKjaFdHo1K/0C/pAcCEg5FJRocMHkiNVUV5jwg2USnhGCMdfqsIdCftQFcqTS7RCWlt6dP2lv7pLeLteOIUQP+zUGjl6DE42JS1sgZkki8QvoDA1JVWyEDAfzl8feJWv8207SpYzSa949BR/yYOG2kM+lcQFUwaNeTJGDaYYeqRJ8tW1NbYwOkCKSqMfKWl5dJIpGUdCpl1wXZ7CMWjdv2cv1EQ0ZBrBGa85DRWXAgI+HyGjH/5guZYuZ+LB6zvByNNWqH8QfrkHv37rX+1gQnKVijXLJkifWj3L59ez63MHbt2iV79uyxPtLYLuA4d+7cI9Zw+WFV/I/5wXqFrufi0z4U8Dd4/PHHLY1rr73WxmMUAuOA4Cp2wnr++eftD7k6OAyF0N8acLJp0yZrbLNmzbI3hgONJsSocXA8Wk49wwWDxIstW7bISy+9aCaF0iKlkY/gikWLTrK7R6mjCQ8ZdT7QI2352wPefHUIBeieupqgy6S0Y8d2ee6554b167Jz586zO9wwWUDHz8feRx+Vnm3b7NaWpSBiJqqGFculwkyYwbxTnxfsSPTUU08Oy8lj5sxZNsKTCFNsBZnRJzrmHJ7RjU6o6BgdaVk/KMeESsL+2IHHG/ABoKn69YP6ar+c0xZJwYS/Zs3r0tQ0RWbPnpN7ETGgPHS9evbSJ09l0faLjQ2cfdAlDwuCY3hITZ482QZC0S4PkwULFsqKFWdJQ0PDQdvJ8Z7rF/K4R11NEydONC9I5oXSHCdNmmwfJth8d3ePdcSbNGmiDT7SNNm8eGI/tDcW4KHKHEE0L7tewcOECQ2WnybzgsuDE/ngXftH+5l+50UM3RjNGp4m2uTll+uGhgn2gU60MPD2Ab9gwFjI1W20bcMLEfe8wJtesm0z3tAlx6qqalOu0cyHs2XZspPtzlOnnHKyTJky1XxMFHbGUr61r9UehgtowC/11eYVStdP33uuIE/1CU8EQ9HfjA/kxA4IMmGsePXlhbZDferAC/3JbmRZU4cXaPSl5TQpvWJ0jwXgRccpqWRQ1tT11h8LQG84vFDO3z7zENdqJySvzuk3+pz79Ptg/aH3OCod7fdSeRwJvLSVh8HaJJ9y2C/yM0eQOGee4xkA3xqojY2rI6Uf0PK35S/HPW857mvygmstq+ULoVh96gwX2hbw0/XmA+884oXmM+fonMD7hp+/4aBQ3VPe/GGpa1og3a07jD2mJGY+uHva98ruDc/mS5SGtl1rpbphhg2CeuXhO6SjZZtk+XUTAwISmre8LLGyaqmdNFsisXJJJbqlbXfu1ym0XziWKt+0Refa1J8x9nRgj5RV1lvn+t3rnjw45sBo9OWHt18BPJNoQ8fm8QDlk6R6ZewBeGRcKr+aFKo34K2v5wquFcXOjzfMOOlcmbXkfEn2dsqGlx7K544d4hU1MufkiyQar5DO1l2yZdVj+Tsjh+pek7evvOelwN83U+edLpNmLDZjKG14fVw6247+7majAfJgk9g2dotdFwNBMQQ4Bc27ZevuzVJR02gDLPfvXCd9Xa2H0SB5x8WkGYvklAtuMmUisn/3BksrleiR9S89LL3dh28/vuD0S6Vu4gy7m1Y4Frc2UVE9QTa+8ruC/YUMNQ1TZd4pF9s/tO5Y/4Ls3bY6fzeHmYtWSNPspXYe3bDyt9Kxf1f+Tq69JWddY39dasvrT8k9//XH0rJrow1wIrW37JDt656XV5+4R55/+E5p3bslX7Mwag0vC067xMylUdmzZZVsW/tc/s7wUV5VJyctv8LM+5VyYN92WfPC4WMO3TXvWCevPfVz287UuSfbOnUTpxsdN8m6lx4p2Kc6Fugz7vOOwbfZUMHD1Fl0xqUmvVn6ejrkFaMTbz8XA+3wTcz7Gm14v0GPByAXf+xcuvwSWbTiasmkU/Ly4/dKZ3tLvsSxA7wpvOfFMFRflELjeMBQfHJfbQ/7Yh7TZ+9QOhhrDFenlCfxjclYUDkUfNswJvnhg+FguHyMNfhbE+OI/oD3o9EPfpnf9a532R/UcXBwcHBwcHBwcHBwcHBwcHBwcHBwcHB4Y4B1B9ZUAMFQfR7fXXZzmlBXk78aAQI5342B/j7p7e6QpKFNVnZAJJNlHSIr/el+u2ZcWRGzvqvhYM7vEgTgrbxSEq3tEgmIhLMJSfb2STAal3g0LPGKCnOMG4IE90SkggCi/ozEgqZegEaSEjL3YgREhQYkEsxKyLQZJBk+YrG41NTWWR/QvmRSNu3cI/tbO6XW0Dl7xWlSVRU35QdkIJmStLm/q61DetMDMn3iBGmqrZR4JCTRcFzCRk+BYL8MZAOGlZx/MgFf9phOSSrFD5+S+HHCtAQkaHfpIjgsGMgYeQekurJMJk1ukpmz50tFY4UMxGNSUV1n+AxJNpNbr4lXGh2FoyzW2X7TtaJ+/GrMf3Zdx+QhF+cdHZ12TYwfsNT1Y4Ko1D+7ooLNH8LCblSsYVs/TpgytNi5y/SASSEJDPRLNNUhA3vXSKCiUQJzL6G6BbtQTZnUaNvFr/BYANmeeOIJ+eUvfylPPvmk3dmIH0GnX4lnIJYBH2MAj6+88or8+te/lkcffVSefvppuwkFfsn4JKNXwKYu3/ve9+waPz7fv/jFL2wAzrPPPisbNmyw/sPewJ3f/e538tBDD9lgIOooaJ+63Kfu2rVr7XofPri6Doef99atW2XhwoV2zR8QuAO9hx9+WJ566inr+//666/bOsiidZubm+Wee+45SH/16tXWfw//cXwd8d9mPA1HHvyAV65caTeTmDNnjs1ToB9k4Ii/diFgl/QHvoMXXnihXZsdDJRDNtYgdYeknTt32riMk046yfpyDgZ099prr9kdqNAr7SPTvffeK4899piVkZ2i8Fdm5yvooSd0oeuerIO//PLL8vOf/9zy/swzzxyWNm7caHe+QnbowicBVvfdd5+1Iejhc07/edum33bs2GF90r12QX9w/5FHHrHtweOqVatsGfz2tX/Ju+uuu6z/vtoG8rJTFrtheWkWgtqf2jo7gvEDtuhBbd1fhr7H9xPdaBmAjTG+GE+/+c1v5Fe/+tVB3SAf/czYQnZkYhzCJ3akc/rxjDVr1liZibXworD37ghAp6pD42BOQ8cKanSjBQOQiRbHJY44EzO58JBWqJMn4FgoYXyUg559QJlBqg4rQMvlHoTDd5zwtnUiAF0yWaITJnkGv9qT6gZdeJMCGekHAtbIZzIstEPIYOCBQh3aoV3oFdIdNOkvysMz55RnEuCFhHrYgvKuULqD9Qs2QbDPueeeJ9dcc61ce+118ra33Szvfvd75K1vvcleX3zxxXbS8dobqKmpldNPP0OuvPJqufrqa49IV155lQ3qi8VywRQNDY1220S9T3u582vksssuM5Pe2DnN0NYFF1wo1113g9x88zvkhhveatuB10suudQGmyE7OkKf3gTqzMPhtNNONQ/Bq6wcV111dT5dZegg7zVy1lln26AnUKjf0Rc7yRDodPnlV9j60ON43XXXG77eLrfc8g6jh7eY+1faHaKuvDKXLr30zXabQ/rGr3cvtF3t55ECO8S21PFL4aVZzIYUaqf2Rd0kruGdccU44UUNG+ZhiN6hBd+alD5J5yrOlabW4Z6W03YB5YcDpeGlNZaAXwtDGx6Vz1LbOsjXGPCmtEjwpbyUAstDHl4aoBAd7tMX2s5gCXCkjylP32r/FoK2r2kk8LYNOFd5CtmitsP4YJ6HP156eYHU4D/sk5dQXgYpo/ZfKryyeNtV3grRUp4VWscrQyFAS/Wtx+HwCrQddKH0OA5Fh/u0R+L5xbzA3MNHEjobS8w65XJpmLFUMske2fTi/abtw/U1HLCbyov3f1k2r3wwn3Mk9mx83gYVBIIhqZk48zBZOUdn/rmrWB81zVsuoXBU+rraZN+21yzvFXWTZcK0kywtMJiui9EdDF56yref55HQHQ94+cEOAfyqPavONWmelvEmoLSQFbvUMaTjSNPxjKY5p1ibOVGg+tSj2p/22XBwvPfNSKFyee15KOzbsUbSZs6Ll1fJzEVnWRrYOfMrRz+dOUsvsEE73e37pK15Wz43h2J67etulz2bX7X3ZyxcLkvPvT5/53CMtl8mTJ4loUhMMqmEbHz1UaOH4+87vxTs3rJK7v+fv5OO/butTmYtPkfmn/qmQfuTezq3cdR5uBgoP3PRchtEC7TuUH0AXd7NsQ3ez48W4Gso3rgPb/wxcPr8M2wgGnKqHR8vUDmGkqcUjAWNo4FifNIvOl/pvION8V2pz1TF0ZJ1uO0o/15eFTqPer+TS8Wx7Fv45d2GvyOO99g5UWzYwcHBwcHBwcHBwcHBwcHBwcHBwcHBwWF0YM1E0Vifc75X9PaVvslBYbCeMSDpdEb6iYYylxlzTNpgIzbOGJCgyQwIPi1BG4pzEPm1inTK3A8GJV4ZNfy0S2/HPglJWrL9aUM3a/L67A+z2+2k+rNSFo1JVWWFlJfFpSJeJtUV5VIejZj8iMRCYQmFA3YHpnAkIg32R/In2R9O7jXtbFi1WirN/UUnLZRJU6ZJVfUEKYvhg2zK1lVJQzwsUdNOb7JfUkZtYcNxNByy/lIN1bVSW10lVeWmbdNuGT9SalIsWmZSzJ5XVcakrCxkeDN1KiJSVREz9SNGKUFp3nVAtm/eLvUN/FDeACFJ5l5YIhHDr/RLxvRTtj+3PsS6HQk/zohdvzMaxLcta3Rg9ca6NMFilUY3QUkYHXV2dFhfOPziWG9iLY3Aq2Aot9MUedSHBOv5nBNfZtekTD/Fzf2Q6adw40LLgwIeQ6Z/oHcswLofQRoEthCgQYAMATmspxEA5eeL8uvWrbMBKPgN33LLLTbQhSAUgpC8QHYCiAhwIUjnoosukrPOOsv6pxMUQwDWYCBQ5P7777e+tpdeeqlNrJs/+OCDNlinGAjU+tnPfmb9Fs855xy55pprrI82/o0Etun6J0E3P/3pT20e5fBRnj9/vg24YecmP0qVh/bxOdANJrzArx0Z8BcuBgJiaB+94os5FAj2wd+QDTIUukZNoM3tt99u09e//nWrO/j1gqAWeNUAOHRLYBnBZrfddpvceuuttg90rkOPBIN5dYROCPwh4Oi9732vvP3tb7eBMowxdqPiByQ1EAk6lEVO+uX888+34xHesEPu0Tb65cgGEgS5IY+CuuQTvHbzzTdbu4U+fTfUrlylAvsjYJAxQD8TM4B90I76r2sZ+EcWyhAQR7DZj3/8Y+s36wX+tvCILTHO1H6ggQ7RPbtzQWf69Omyfv16a3MnMgJGWDvzYlQMNjp2uCDajwV4Bg9HJigv8k2UhEJlS80DhfILOQdQjii4O+74hpmMSttmDfkuv/wqa9QMSgyLPIxOAw0Y7IA2/e1qnj7kdCJQ5w8v1Cn0sccela9+9Ssl8wgI7rjpppvtREA7wEv/5b/7gjQ/+phkjcGXgrIpTbLwEx+XxhUrJGQmST+InvziF/9V2tsP/2XzwXDhhRfLDTfcaKMRVU8cmYRxdIdvBh+DEt2iJ/RF8spCHQY8kzF1meDVudtfjlRI1wqCsnjhoW3KEcWr/Unk5U9/+mM588zlNriGcvSPOhnBF/VoA/rat9oW9+CTPOTx86Hn3nxsADujDSZV5YX2vHUB1yTqF4PyRsrpg3r5mwZemrSh5QuhWL4f2h6JsULf8rJGP2k+7XiR4y2XBx9Ayyq8ddAT1yq7v6wfufs4ZufKU5++R8/0D/MXfUQ56Kou/PC2wTl1Kad24Echnvx5SoeAS8YvDyl+WRp78sLbP94+J49rTZSDH3RPUB00kQ174qUI+oV40ASgQYIvfmHigBkXjHnNp02vvLQHKO+nNRwMp85QZbVv4Bd4eR6MP83NfUAYfdK3+bxSUJSuydc+gg/VmR/e+qpvBefMeZRhntS5EZoK7jOHzJVquaXpdImYDyMvKN+XTcuO3jZ5vHm9PNuyyf4iBfyoHVPmyqalcsO002yd5kSnfGntQ9KRPnI3Q8qSBsOfL75K5lXlXmgLoSeTlNvXPSx7Up1SEy2XT8+7RCbGDv1aw7P7N8u3Nz8hFWYOJuARGXl3WR5tksvrcx9xTxs5vrmx8G4qS2unypVTl8m0sjqpiMRMfxoZzX+9mZTs7DsgD+9ZLa8e2GH73msnCpVR9VwdjsvbZ58lJ9dNk7JQ1NLan+iWX+16VR7du9bSAUqrJlJmyy8zfAxWHlB+ZmWD3DjjdJlrdFYWjNi8vv6UrO9slh9seUbaUj0HecLOsQOeNWpTamfk6zyC7VCea+Y/fm2DD2jmBHRJGzqv+kG9UqDlaifPldOu+LhEy6pkx+u/k9cf+76cd8vfSE3jTNm3daW88Mv/LJlmMfjrV9VPlRXX/bGUVU2wO0k9d9/tVhZNOpZUN9TX/vTSqp+yQJZf+2mJxitl26rfys41j8uZ13za7nq1Y/Wj8uoj37HlNfkxceYyWbDieiPrDAlFcr/swh8hMqk+6WrdLdsNjR2rn7B5irApt+icG2XqgrMlXlFrA7xA1thnqq9LWna8Lhtf+pV0tOw4yPMl7/knqZ04S9r3bZVHvvc5m6eAL/4gsvCs62XG4gvsTjZKsxDSyV555ue3S/PWV6WmYbqc97bPSqyiRl579Aey9dXfytIL3yFT56+wedAdMLwnetpl1/pnZP2z90oy0XNwLlKdXPa+f5W6SbNlw4u/kvXP/1IWn/s2mTIPB3szro1O2KmGXXXWmvpbX/ud7ZtZyy6WeadfJZV1k828az7qDK2kkX/PppdkzdN3S3d780H63rYAfC1Yfo3MPfXNRt6JdrcbdJzq65Yda5+WlY98TzLp3B8BvfVOu/S9ctLZ10vb3s3yqzv+xMi5XJac9zaj2xkSiZbZsvTdgeat8trjd8mezSvzNXNYtOItsvicG4zdHfqFGC8I2Hv8p1+U3Ztetjv9vOntfyUNUxdIZ9tu+d2P/lnaW0r7QK419nTpu/6PlW3HumflkR/+Q/7O4fDK5gVtLzv/Jpmx6GwpN7wS9ALoh05jl68//TPZ8NKvbZ4X0EMPp77pVpmz7CIpq6yzugX96aQN1NltdPLak3db+9T2V1z5IdPe26z8j/zvP9n+PM3QqJ882waRqV5bdm2QZ37531b/CqVRN3GmXPm+f5DK2omybc3T8uB3/8bm+zGhaa6c8eb3yORZSyVmxi1/ZGVnOQKOtrz+hLz48J2SNm35QTs3ffrr0jBlnrzy2I/l2V/dYXlceMbltk21oWRvl2n/GXnh4e9J14G9+dqHMH3BmXL5u//a6vS5X33T7vA1acZJRqYt8os7/kx6u3I7hejYVcQrquX6j3zJtD9X1hnd93a2yWkXv9200Wzq/cXBnZhUH9d+8J9k9pLzZN/O9fLo3bfL1e/7e7tzVIfpv1/c8ZdH7NzEmIK3K2/7W8NbVJ687+uy8tEf5+/mcMH1n5DT3/QO+6te93/n/9hdltSOz7/uY+berbafH/nJl2T1s/fb/EJQHr3w57FL1bUf+AcbZPPiIz+UR+/5cv5O4frFQNmGpjny1o9/SarrJ8um1x6Xu//rT/N3Dwdldf4/5fwb5OK3fcYGMFHnp1/7k3ypQ6iorpezLr9N5p9ykdVtmF8sM2CctDVvl+d/8wN59cmf2zzF8kvfKSsue7exGTPPFpgDEsZ+7vnvz8qW1c/kc7DZ2XL25e+RecvOt3aggZUpMxfv27lRnrr/W7LhlUdtnh8Tpy2QC6//qMxYcLrEzXyKvfO+yjzcvn+XrH7+IXnhN/9rafkxafpCW3fWojPtMw5+00kzDndvksd+/g1Z9/JvbTny+YY448Ib5PRL3iXVE6badvxgR8hf/+hL8uxDd+ZzCqNY/w633/1Qfeu9wej5x99gGC1fhTAcmsXgp8F1IbroRRPvdfq3CL4b9P1HMRy+RlN2sLrcU34Zq7zjwyd/A9F3WMAfvEn6dx+lWSpfQ/FQKp3hgm8y/obEL73xd65i7YyWh8Hq8qthZ555Zv7KwcHBwcHBwcHBwcHBwcHBwcHBwcHBweFEB2squmMMawTPrVxlzwFrLstPOckeR4IBPJiyA3Jg3zZp2bNVkn1JSaZT0pdKSjgUl7KysGSTSelob5ZJjbVSWRazvpfW38zuxhSS6IR50t3cLAe2rZWnH7xPuve3ybylZ0g6XCaZZFaS/SmR9IBEIxEh2Ar09fVKd0eH9PZ0SqK71/oa9CV6Db2AROJlJpVLZXWdlJdXSyRSZnen2tnSLPfd9SOZOmmyvP/DfyCVFWWSaGuR3v3bpfPAbunr6pBtu1vl6XW7pD3RL2fOniwnNdWJaVjSgaCEB7LWX6sff1LDB75z6C1k2iQFAvjeZCUYDlgZuRcJh6Qsxm5QAdm/b49k+5Pypmsul+jESRKqmSZVk6YTFiWJvozRR0Sq6ypseZZy2KGKvotGY5LuTx/y1QtHJBqOWR9s+pO2yisqra8m/qyWJ6NbdrHKZgOSTmWMvhIH1/6s/5E5Dgzgt4PPX1gigX6ZNNAq7U99X+TCz0qqbr7VM6irqZYFc2ba9Tj8xY42Nm/ebAMzFi1aJG9+85sP2iprmgQYEZNAPkEvxcDaJ0FG6OCmm26ya4z4Jv/oRz+y9N761rda/0IFAR8Ewpx77rlyxhln2Dx21SGfoBp86FiH/MlPfmL90QmuYa0VaFv43tIWa+kEZlH/LW95i93RZ9u2bTZYiQCTYnwjH4FD+OndeOONBwODADv5EDDG2iJtEJcwHHkGa58+Ri50RLsqlxfIgl/wDTfccHBnpmLA/5idr5iDoIe9Avgl0AhdwjO2STAYgUPIRVl0p/ywY9fZZ59t/Zi5JtBK7UHLsDMYMgF43Lt3r7ztbW+zfcJ91mGvv/76gzKhW/KXLFkiF1xwgc2jrwh0oj2C1tTe2P2LfqUuNLQ/4JuYGnbBoi8IyisGgqWw2WXLlh3Wntc2gN/WCgH7I7iJvldd+aFloEFfefuSHbIILly+fLnVK6BddpVasWKFtRWF2g8+/dgWPvQAG7377rvtujaya/7xCvoP+z/llFPyOTkc6d0yQjBhg+E4nBwNqBGPDQ451QKMgIAoEnm604s6lSs45z5H+yAzCQcP6vsdUwDlSNw73vTph/Jq/h82tK4X6IVJCx0xqDTSMfcAP1JXlGOC1QmTvvA6zwwHPLg0cIn+gqafPy+UF8pTjxcF+hQw4fAgwR70pQgUktkL2kUm5GbSJiGT8kQqBKWr9lUoeevmaBUuRxqMx+ECWioX5/SP0ueo97WMHrW83tc8b0LPJM6V5lDI0TtUl37UwEZsiUh0HsQ8YLg/FF21TQCfpfJRCGrj8IJNwYO+OJQC6qNfjqojL0+MERIvE9BHPmzNm9RmOec+9eGJcUkdnCKV9mCy6j2Oo9HJaAHvJC8fmgdK5U3LjxW8/Kj9lAKtp/1Kfytvfh4pA4rRp355KCoLqybLB+deIH+17C3SVJELTlUoj6VC+fOmkcDKVYDvU+qmy4qm+Ye9+CEfY2YwVEbi8qlFl8mnT7pMFlU32WvDnb3HscJ8XKKHq6ecLJFgbtwr79Av1P8TYpXyZ0uukrMa5thAJwCtxniVvHvuufKuOefYPACtBpNP+RUTZhcsT9I2+ffmmcvlc0uvkWW102w/6T3qooe/NPfmVjbaPPgrZAecw7/OC95y9DPvLTiY6hzoLzNSwGskXiGLz3uHDfI5sHudrHnif/N3xxe0G8w7mPd25n4ZQ/WgRxLjQ+cxHSuqYzBp1ikSNbQyqV5p3vyyHNi7Wbpacz8G0DBtsZRVFd+tcNnF75Gzr/8TmTB1oYSjZQfp8uzBEX3C1AVy0jk3SXXjDJsPaifNlje9+x9l3hnX2MAubxAT8sRN3rSTLpDZp1x2GM+DIVZeLRe942/kpHPNh0rtJBsURBBVovuA0cGhd6VUolsONG+WvVtWSrcv6INfpKlpmGF4+3uZd/qVNvgHOQA8wuvc06+Wc278cwnHKoraDgFxF7398zL75DdZvowQNp9ggMq6Jjnj8g/LKZe8V856y2fk9Ms+LNUN03OBUcCUpQ5BU2df92kpq6y1OtCELkgE/lx869/IKW96j1TVTzkYvAO/3Jt/xpVy1Yf+TeomH751tBcEba24+qNywU1/Jo3TFtqAIEA7/OLQxBmL5aKb/8IGQ3kx46RzbAAFAWOAoBz+SKeJwDPywKSZy2zQFXJV1E6Uprmn2vzxBvJc/7GvyJJzbzT6abJBPAS8EPBBP9RNmiXnXveHcvY1H83XOIQJU+bJ9R//sg2sIshOdQugU1k3SeaffrksOafw7kVg4ZlXyJvf+XnLhwaBqF6nzDlFrv3wF2XR8qts/nBx1lUfMrLdLrMWnytxYysawAGf1ROmyCkX3iI3fOI/pWHqoT/0FQL9Ah9nXvZeW89rQ9jdouVXyls+/P8dRsdri+YqlxcMyI61z9g+rzK6aZp9qh0bhcbHtHlnSM2EJmsnW1Y9mc89EofaOIQ9W1bJq0/cY/owLdWmT89887vzd3Lwl1cUy1fofY7sZIWd0M9TZi+z+ScimCOQZ9Nrj0ln2x6b12j6kQArL6bMXirv+9z35cxL32nmvql2XLNrlo6Txqnz5Mp3/5Vc9o4/y9fIYeHpl5j5vfywOYBgM030L3/kVixZcaW8/3PftcFaFTUNdr4jkIl6UTMmps09WW78yL/IWZe/J1/jEFa8+V3yvr/8jiw87U1SZuY2tXeO7FY2ecYiOe/qD8i8k8+3+V6cecnb5T1/foety3ynfR2JlVnZb/nkl+TKd/2F1RffofyBj1224pV15l0it6uVDRY0MhHwRUr2dlsbGQra1nhB6Y93O8cbisnrfefhbxQk3nv4xvPXOV505p0jOedb1A99px3ON7IXx0JWxhN6R6ahvlnGEqpPZD5e+tjBwcHBwcHBwcHBwcHBwcHBwcHBwcHBYezAmol3PSDiWVshv62jK381fOiqTSKZEHaLopl0Ji3JVEKy5oL7+aZzyK/H0m7uP/xByqS8frLEK2ukacYcmTJ1igxkeg2djOANEgoScIK/bsbmsQ4UjRAQVCHxWLlUVFVJ7YRGaZo6U5qmzTL1Z9pU39Bk7tVLJFppf0hyUlOTTDBl586YKk1TGqWyukYikXLJZgw/hmYoMCCTaitkUk2l4SsgCZY9Azl/oWx/VtKJpETNeZnRX3k0KhWxmE2V5WVSURaXskhEymLVEgtVSjRUJuEgOy4hdEa6utukrCwii5YstkobMLSz/SGJhGL2OhzBB5wAKMOHoc+KDXImU0mrK/IIkqqoqDRtlBnd5gKz0G2YnalMjdx6X26NjL7gGImEuGVpQTsHU8/cow3qm/+N7CLxMH6yMcnWz7OlFOyWBaBxLMDuP8i6YMECe1SwRsguOaWANUP8a63dIbQHkyZNOiyQCJCHTzc/wlgMBLrgW0vQlne9krYI3KEum24UAj7H+DS+8MILVj4/TwDa1IcXNjrwgiAgAlUKYaTylAoCbjZt2mRpegO2CgEZHnjgAXtOIJN37ZaAHQKZTjvtNLsTEcfrrrvOBg0RUEWQDmDdFDr4JQB0QjAOux957aGQDhWsgUMHvXj7irVZ1mjZwcsL6Prp4zcJD+jdu1sWZfCXoA38KgcDcQ60PxZjCfujPQJ9CgVGAS3jt1HAZjXYIbt64eutQCdsruEF9kff0efeAChoog90q/EQJyKG9qwsERgTYPI9HoBxeo14rABNda4CGDSDEmNjIDJQmHBVH1qWhNHgkEIdjMb7guIFZajHvcEG9/EAlW24yNXLHfVanXUIwmCyRXZ0yb1CukJHTABMUFqHAT1SndEnJNU7TuPwNBi0LY7UZUIg6cRCn/MAIiEb1177KQTuURZb0ofAWEycyiv0B2t/rKB6pO800U/IRD56QL/eRB6pVKgcXvvwyzmYrNTT8YiedZcmHhBM8Ez+Q+lK5QTD4b0Q4If2ODKvYC86BgYD7SMDvFNW5xq1NU3onuhsAqQog50VSsitCRrQThmbZitbPqT8cip94NWF5h1LwE8hPpRPMNp+GwngiXaVDy8/xaBycKR/qVOsHmXoY3+ZjPmI2tKzX9Z3NctWc2QXIkD5WZUN8ocL32yDfo4G2PVoXefegwmeNnbvszzBM+PAj3goIm+edJL5cIvaMcs4QY/ooxhi5qP0YwveZHd3MpZq88yMIa3Jbtvm3r4OSZsPRT7eXzywzXy65sahLZfnQa+B6vT6aadJU3nugyRj6m/t3i/7Erlnl7F+OXfifDm1fsbBupSfXJaL+i9U/pzGeXLahJlWlsbyGhsAFc4HoaT6M7K9p9Xyalq3ebXRcrlu+mlWIsY+dADnPIM46hyn9ziS4InxzXOG8c1HksqqZbTOSDF/+fVS1ThT+jr3y9qnf2LoH52P6YZpJ1nHchy1O1q25XNzULnQCQk9ME446jxgdVNWKZNmn2rOg9LVtkdatq+y+a0711jH9VhFrTTOWGLL+0H+tEXnGkJBW+93P/hruff299j0y69+WJ7/5Vdk37ZVNhCpvfnQDi/zz7zGBjClkz2y6tHvywNf/6j84svvs+mpu/5Wdq7+rXTu2yJ7Nz5f8py16Owbpa5pruE5LWufuUd+/uUPyW+++5fyy69/XJ786b/aHZtAX1ebPP7jf5Jn7/tP6enYZ/O8mLXsIqmunyK7N74oj9z5V3LPl95l5Xn8ri9I5/7tVjc1k2bLnFMuy9c4EgQVEVSzY+1T8qs7/kju+tdb5CdfvFVef/LHNnCIQKt5p19hd2xK9HTISw/dIT/9v+80Zd4hD37rT4zOXrN9RxDZAqMr+g09kHL9F5LlV31UGqefZGwtI5tf+Y3c8x8fkP/955vkx198l6x++h4b4MBuVMuv+LDt40Ior26Q+addbncJev6Bb8hd/9875fv/cKP86F8Nr0/dbQMkCJaYf8YVVh7FQ//zObnLtKM7QHG864vvtnmku//jQ7J362v2XrKv89B4MOOOoInxBjrav2u9tDVvtrszvfDQt+V//793yXf//q3y3S/cKA9//wum71usHmeedK4NhvLi5AtussFC7OD17P3fkO/9/dvkW399tU33fPljdsep/TvXyZbXCu/aRwDU7CUXSK+xtcfu/pKpd43c8VdXyv/83Y3yymN32b4hGHHx2dflgueGAXamIiiLnYDaW3bIb/73nw3tq+S//+Iy+cG/vlvWPv8ryZj5oH7SLLnwRoLrjtw+XDFjwXJpmr1U9m1fI7/85mflm5+/Sr7zN9fKT//zI7Jr40vWBm2wlWkToFc96jngfKcpz45aVval5xWdU+csO9+WIQhp82uPG/qHthsvBS/+5vvSvGOtbXPO0vNlydnX5u8MDi+/hcB9eGZ3pQMtucDQRcuvkEvf/ud2jj2RoLJyZBc5dt0CBBL59b17yyppNrZMmcfv/Zp8629vlP/3+WvMXHCrHSfs6MU4WXjaJXZnMMWdX/yQ/PtnLra7L4H9ezbLf/3FlfIff3yJfOnTF8lXPnu1bFv3vL0HNq9+2vb5zo2vyDO/+IodC/9uyv3LR1fIr773j5Lo7ZSImWuWnXOtsdlDvxhU2zDVBjgRzNS8Y53c+X//QP7hg6fa9E8fPkN+ePsnZN1Lj5i2XpS1L/4mXyuHRadfKhdd/1Erd+verXL31/9c/v4Dp9j07X+6TfZsW2Pn4tMvepucd9V77R88eSe5946/kn/9+LmyadVTlk5nW7N88+/fLf/ysXNs+uIfXigv/Pbw3ciKYSi7Gwm8Y2s86J8IKCY3utHEuyHvejw/9RnqxfGiO+UXXvUZ7+VNv3n5Rh4pjrasfF8jC9/i+r59NODX3dFs28HBwcHBwcHBwcHBwcHBwcHBwcHBwcHh6IC1E0VV5eG7e7QPGhzFusGA+Q8PqsPXEFirCQwEJZPulv5Mzp8Bf6tMOiXJvj4xmRLoz0qmXyQcwl/DFDD/cB0y1IIDpnwkJsFwRMJlVaZ4mVSWT5COvl7ZumW7lAcjRE5JXMqkdkKVhKKmVsDwEMj52paVV0pNfYNJE6WqqloaJjTKBHNeXd1grhslFq2ScNyUaWiQ/mS3bH30XpleHZbzzjtH4mWVEovEJZzlh+WNZLGgZKNiA5iWTG+QxbUx2b9nj6zZ1SJd/aZBUyYUNbwbeQP5H9MO43NpjjYFzbmRIxjol0gkICEjZyhgriUmyVRADnQkJDEQlmh1nWkvImX8CPBAQnqN3np6k5LszUg4EpW40Qc+SKxs2jUc8x+7PqUSKaNr007WKNHc5Ac38a9NpZLS09Mt3V2dVifl5WV2zQka/Ub3rD3FYhGjRtbTjJzsfsU6WzBgzgmSCkna9kVGoqk2GaiZYWQ8tG6EbI0Tcr4TXhs6msDXG9+1QsFABNggtxesdb3yyivy/e9/X772ta/J7bffbhO7JRUCPuUjAf7D6ITgH21DE4E96Jn1ykKgTd2ViJ197rjjDnn++eftOqGCOAPoI7d3LQ/gY15sl57hyFOMP6DrxX4QGIUfJkE5he4rsE92YMIHmcAof8BWMbBjE/1K0JjaHDatu995/fgU6A2e8OVWoD9iBqiLPwOJPqNfFLo27g/yomwh/Wq7frnpDz/g55FHHpFvf/vb8pWvfMXaBef4sY4FkIXxrXophMHKsI6OjOjJa3deXSt0PZ5x6EehvBMNpXlXlgAURTrWC+50ln/SGFvkgjq8bSCz7lrEIGMQ43Csg4XyDCzqMLBJ9mHkGZAKLTvYJDoUlL/x1UNO16CQHEPByxp0kDn3AM/thII+2Q4S3XqDzRSUI18HLJMtg7kYL6XwSlv0De1zpA4ThdYtBdCnLg8BZOAIXSYL+NXgucFoogvKcUSukdqBH/BG8utyLIGsqj9vAvQvY4L2OSIfaTT2WqheqbSUVwAfgIcUWyVie/Q90b8ch9LZWOgVGvCkvGM/6I4gPe+D1ysbdZCBRD7lVLeqV45ca76C/GKJekpDUyxvw9DhvpcPBXnw5L1XqNzRBPyAQnzoPTAUn+MhBzRJ8OHlxQ/K0Ade6LW3rl8e+hCb8iLZn5YfbntOvrT2Ifnn1++XP3rhf+XhPavtpy4geOe6qYd2MRkPuRXrO5vl39Y8eDD939UPyFfXPSL7zYcr8MpDUBfbF4Np0Ro5KVhnfzGAoB5rnwVeRhVXTz1ZFlRNyl+JbO5ukc+9/FP5y5U/tXr4wupfyJ+++hP5702PyrNtWw7qFt159avgemK8WhbWTLbXBFX9atdr8oVX7pW/efke2diVCy4hkOvcifOsDhtjVbKgOscD5R/YvUr+4bX75O9MHW/5cxrn2nMCt/5n85PSluyRx/etl888/wNL+y9f/LE8unedLQPqoxViZogj5lxN/v4H8M845iOL+YWtZCmrcnIsVG84aJp/lkxbdJ7dQWPzygels2Wb1YPfnsbavqJlVdI0b7l17u4+sFuat7ycv5ODyqZHlds738HTFEODQKUBY3P7d7xuj+Tv3fSCJLrbhN1DJs8909b1o2rCNLvDSibVJxtfvF869m3N3zF2nE7IrvXPyFN3/4usfPib+dwcKmpz9tS6a51sevkBSZv6iq62XbLhmZ/IC/d9Udp25/q/kD69sAFes5aZMkFp27NR1j59d/5ODgQbbVr5sO0jgnwmzhh8R5jNrz4iz9z7b1Ye1VXb7g3y8sPfkr7uA+Y6ZAOTFH7+0NWOtU/L0/feLl2tu2weAUKvP/Fj2bnuGXsfXpOJbnn+ga/LxpcfMs+2nA13tOyQ53/139LTvteWmTB1Ub78ofdHdqRiRyb6arOR64UH/lvShhZl+jNJeeW3d8q6539h22TnqLmnvNny4Afle7ta5dG7/knWv/Crg/3A8eXffFe2vPaobbuieoI0TF1o7w0X+7a9LusM7Vajv/UvPihbDc3xALJ47Rr8+nt/Iz//r0/Jqid/aoPQFDvWPSurnrrH6DwtsYpqo8vDg/+qJ0y1x2bDO4FQqhfoEghGwNR93/hj2bPlVZvvB+V6OvfLr7//BSPzQ7YfAHSef/BbsunV31m9ssvSlDml76RVVTdZTlpx1cHAqF99+69k0yu/tfRpk0CWR3/6JXn+oe9Y2RqmLpAzL7stX/tIsPPOtjXPGln+RHZtfNnqDrTt3WqDrg40b7V0G6cvOBiwwjVJywLstnn7WtmTD4hrMmOxcdoCe+4FeVNmn2ztlvbgm7E0HFDnmfvvyAdilcnpb3qHDWYsBcq7H5pHnyR6OuXZB75txsUB8+yIyrJzr5MP/O1P5PJ3fk7qJ8+y5cYKhXgZC6icOhZ6O3O/4sQfsesmTrfnXvzkK5+R7/7zbfL8w3dKd0er7U90wTPlhUd+aJ4dKfvrZtPnH2mrlPPCaxde9HV3yLf+4d1y91f/ULatelR6jZ5pB7z06E/klSfutbTYVaxp5mKbD+onzbC7mMHDK0/+XLaueS5/J2cLm157Un781T+Wu778aXutwK5WXPYuGxzY3rJL7vnGX8rq5x/K3xUbpPWTr/6JDdgiKOu0C98qwUhcmpub7buWX67RYDz7+fcZxeSn77Atkv4RmL9N8C5YzD7HC8PpI/imvI5bravvt0P9TeV4At8pvK/wfX804dWP6tPBwcHBwcHBwcHBwcHBwcHBwcHBwcHB4Y0Fr19pTX4nIEVPb98Q63zcG7CBOoXQl+iRdKpXAtZf65CPRiikmz7022AhliCggj9UwJCEGgFBgSA/wh6RQNjwGMhKLFov4XBQsqkD9sfZy+PlUhafINFIlZTHaqU8ao7hcqmJlEtVKCo1pu6E6lqJ2w0O8FcMSn8af6iUZNNJ6e5sl+atGyXbtk+WnbpUZiyaJynDajAclVh1tUSiZVIuMYkFo5bnuoqILJrZIE2N5bJzb7Ns3LJH+jNhGQjFiRixwURJo880vphG5qyRBX+1rGk3bURIJPolmcwFhe1raZONG9bLgLnXNJ0fzqYvMtKfygg/upzJpm19EInmfkiPwCejNJvHAT8BdoeKRWOmLP7nfdbXmHU81vNYY0omcz7pgKAo1vsqK/Fnzvm5QgPa9EV/lh8jNwowN9EVfSJZw29vl8iMsywNRSyW2zAA+xncRo4N/Ota6OXee++Vxx9/3O52c8MNN8j73/9++cAHPiDTpx+55j9a0AdXXHGFbcOfbrvtNpk6NedDUwjswkOZW2+9VaZMmSLPPvusDZJavXp1vkRxIPdo1vQIoMKHyr9jEsC3HpspFBxE/muvvWYDnfy7C3nBWi1BYzt37pRLLrnE7lJUKnJzR8j2pc5b2LPueoXNk+/dBQufRvimXQCf+Itqn+Njzy5jO3bssHpmPZagu8cee8zqYeHCkfl1FQP+E3feeacNJFu6dKntY2zi5ptvtj6YDscXxswbIjfJjt6hdjQYzcRQGg451TJQvY4a5DEICapgkGHsDD4eUhpMwODVB0qhhwpllKZOACNB2G6FODzHuuFC5c4BefKnIwAyMxkBdXYBTGxMdrTDxM0EqG1yTmAURyY0Jr6xsD0mX51M6QOiTOGvGOjHw3WRA/nUhx7RoiToYhfwzVFl9gI6OPrQrj96c7QoZHOjBTTRO7IiH0eS9gW60xc2kjphqZ2PBKpv0mB9MxiUZ+ozlr28IAcvCLr9JQ99ggjg3QvqqPxAZfLSGg6g47Un+MCusRPmES9tyqm+AW0X0y31iZ7WoE2/vINBbUbHmzc4Cnj58UN5AaW2Nx6wOs3z4YeX71J4ZOvZQrKOBqoj6A6Htl/3heoq7UKgPPaTNh9kd217Tl45sCN/R2RR9WSZHK8ZFj9jCcYC8mFvKkPafMTtSnXac2Phcl79XKkKxezzlnm20HwKKiNxuxuT6oudl76x4VG7axVARqsL83G4unuv9A3kAmM13w/Nm15eL1WGNujNJOXlttyvUCSzGXmtfefBclPL6qQ6UiYzKiYcVn7lgdzuMpRf1XFoG13K10TL7TVBU59febf8z6YnbTkAbwROeUFZnQ8411QM0OAZw1aw6I/nk85jY4HKuikyf8UNEgzHZM+GZ2X7qkfydwpD+2YscNK5N0tl/VQbmLTp5QftDiGF4NWT6s37XkeAFQFQyZ4O2bv5pXwtkUR3q3S05IKd2MGoYfohh3UFwUZIhNN9dcMwPsD5A4VBvKLuiJ1z4JEEjzqHayqGKqOHaFmODjtU2T+A+NDevNnuqBPgF3kqC2/LDAii2bE6tyOQ6kmfo+wW1NvRYu/FyqvMvcLvn5lUr2x7/fH81eE4YPhjdytAcNieTYd0Duif7vZm6Wrbba8JgosZPdG+PjunzDvD7ujETmWbXnrg4NyBjjgn7d74giR7OyVo5G2cvsjeL4Tdm16Wtj253V/8aNm5VrKZlNVZeVVuO+VS+sMLAhZWPnKn3H/Hn8oLD33TXpda14vpC8+S9/7tfQXT+/7uF3LTH31LahtnWP1o8sPbLoE/7ODErxlVVDfkc3PArgH58YpDu9gMh++dG16U1t0b81eHY+eGl+y4ZdxU1hze9mCYufgcY+tN9o+L6196WLoO7M3fyUH5W/XkPbJ/10Z7PXXuaTYIqxDYxWzDy7+xfaLzgeqN4KP9ebvgj6jogvuMCX0HU2CXpE2vPm5porNp806397w6m7FwhQ10IVhn46vDC5Lz0tm58WVZ+8KDlu/axumy/LJ35+8MH0rXay/wdvfX/kj2bFll34XiZo5afNbV8u7P/o/c9rk7ZcnZ1xj5x+bb0yvXWAB6SpM+Qq6uA/vMczO3c2Yx6JjxJt6HW/eYedPYKoFi1UXsCFBe2x1MJr5x+YMf7zLUUbBbV26nuphMaJqdz83NH4a61Xf9pJm5zBIwZ8k5Mmn6PFt/9fMPyt5ta/J3DoHxs3frKnteYcZhtHLymH1j+zHW/ax9BMaa9omEYrKrbujLwQKkjobuaKOUduAZPnUuVpBHYu49UaB6ZpwfLXh1puPjaPSvg4ODg4ODg4ODg4ODg4ODg4ODg4ODg8PRBf5CiurKcuuvokgkU5LpL+aDTMmA+Y+1osPXEAiskQFDO90n6TSbFWTxmrZrHvF4mQRDQclk8RVN212WbHnqUc2SDdgfOA0FAxKKmvZDUZMfkclTG2x7L77wvHR17pJILGhShVTXNkpFdZ1U1zVINhCSjKkfjcUNjQgro9KfYY0rI4m+XulLdBnGEiLJLmnZtkF2b94gTTNmyZLly21AFLxE+UHjrGEjFLe7U0WyYcHrsywakAkTymTmjHqZVF8uB/bvl3XrdkpbW1K6enqku7vP0E9LivZM/b5URrpMXmdXj+xv65Kt2/fIho1bZNWq1dJi6k6YOFFmzJ4h1TXlRie54LB+oxcCnYK6lmVkISgqnUrZo67XUY41X3RqFGzrcI/+ZB2PtR36LrfON2B9uziy3EMZrlOptClj+t8UCRlarAXRV9kBU0+M3gfwJUtJjynbXzfPsqOorCi3R6/9HG3oWrk3GEZBnpc3gl8IyDn99NPl8ssvt0FH+MLi/4bexhL4CUMTnyTa8Cf4tv02COgLgqTYRYrgGWg+/fTTBzdsoD4+737gx6fBcCMB+sA/uKWl5Yi+1UCjQjs9sfsWuxEtWrTI2l8hQO/++++3/XDVVVfZssMB9WkfH2SNqeCITgB84cv48ssvy549e2wi4IlguA0bNliZnnzySUtn7tzcj8+Dc889VxYsWCDPPPOMfP3rX5fvfOc7tgwBdN4dp8YC7FyGzdKvy82cA8/YBHLkxurogX1he4XGhUJttFAZtSHsDL5+n3HIE2KU0IX2sZ5sSsXRWujHiJER5wavowb5JAwT48LImGwwRIyMOiQtVwjQwsnD6+w5EkAjFy199HQyEvAyAq/q1I7cXlrogAlRJ0AGPs7ylGcS55wHPYOcumMB6CgtJsncS13OoX0kQAad2HEuIyEjNDXRhtoSDxfshklUy44FlA5tjMYuoKO2jFyqL7VXtWF/QkYS5UYDL/96pN3h6En5949hL7jPOCZAChvjYcHDl/7y11G5yR8NoOOlDQ/MI+hXg5oowzW6B5RX/VJPk4KxwgOYLSIZP5Sl/lD60nZIQPtPnej87fjp+a/95Y8WlA9aLta+l9djwaNXN369Kfx8qZ1o/4BiOsdW/Pe4xr44QosPspcPbDcfdjl65eajdHp57uWQMv72xxPwwzOTZyc2q23D72/3rJFO8+ENJsaq5NLJJx0MQC2GOZWNdnclwEfoY/vW2+Ai1QlHlVGT5hWC5jfEKyViPshBj/mQ7DB8Ka8tfZ0HdUlwVrVJ/vLtqUNbqXrLV4RjtrwilQ+K8vLTEK/Kn4l0psxHuKdtb7liMjAvMKdhP/p8HSvw4b7g7LdKWVWDdLZslXXP/DR/Z3Ao/6PBSefdIlMWnmPkzsrOtU/KrnVP5+8UBvrRhH2RsD92FSKwCHS27rQ7JaltkFq2r5L+dNL+gWbK/BW2nBfNW16R3s79Zr6NyKJz3ianX/4RqSxhFxd2csJpvWbiLDn/5s/L9MUXWH16+5ZzeASaXwwEAPnLcD1UvUJI9hyQA3s3H5z/0ZU+S0hJY8MAnVQVkTXV12MDnAq1331grw1uAV1te+yxEDTAC9nCZpzQNnywu0lFbS5IgQCqvi70n3u/5Khyd+zbJsne3G5J5fnAFj8/BCMQrFWIT9Db2WrazNj+LauqL1oOKH1NQ6GUMsOF9hGpGLTdRHe7DeQphF0bX7L2Wd80V6750BdlwRmXGx3k/tgzGG0Fem0tEnAGUoncvIxey6tzf4gpRR/svESdZKJH9uZ3afIDOvC+b8dae00wUt2kwr9ewy5JbcbWqaPt6/OS1NeV+3WdaLzC7h6GfamN+Z/JpF2bXpKO1j0SCkdk9tLz7ZgGlOd81uKzrT3v3vKqtOxcb+8NB8ojeP7h70mLkZG8BaddIgtOL7w7WilQ/r3Yv3uj/Oj2j8rP/vtPZfu6FyRlbAUZ6o0u3/yOv7CBUjMWLs+XHh28co0W0PIm+pPd/YL5P9APBq8e9JxAtqSZz0rFYHM2eTyPeZfxB00c2LdDMukjAym2r3tRWnZvtro//cK3yq2f+apMm3dK/m5xTJqxSCJR842Z7JPtGw7fVREwX/LulexqMbactr+mVlnfdIQdjCUK6WQ08PI61rTfCFAbZgxogJT/Ock5f4vgD9LYJt9+asNHE8qrfcYXaF/7Gn6Pd/DuhJ6RxfucGC9oXypUVw4ODg4ODg4ODg4ODg4ODg4ODg4ODg4Ob0yw/qDrAbFo7sfrFeR3dhdb22QNhjUF/7paLi8gWZMG7JEf+yWXzRrwnQyEgpLOZCST5sdXgxLKr08ELakB81/Q+nQEg4avgaDEyyokFI8Z3uIyZeo0iYRisvq116R1/xZp3b1dggMZ67uWDYVlIFYuqUBE+sIxSUbLJZFhp6as/UFX/A4GUgnp69gvuzetk5Zt66W6Iiqzlp0mdVOmSV93SvoTGek+0CVRUz/E7lXRCE4mll9kiYYGpLYiLlMb66ShuszuQNW8u1m2rN8pm9ftlA1rtsmqVzbKqpUmvbxB1ry2RTZv2CU7tu+Q3p5uiUbCUlNTJQ0T6qVp8mSpr60y8rAxRMjqiB8bZX2LYKVQIGQ0kfPzwWeBNWG7Tkd/mZQLZBqQVCZtfYvpy7SRsbunx/r7xcoMf+a+1a2hQR7rxNDptbuCmbZMo9lsxrbLrl30lcmxKWTOCY7qS6YlUzHR5B1CfU3uR3GPxvpVMbD7EmuWGzduPGjDADnJ8wL9UJY1TC/27dtng37GEgRe4atLIAz+26MFPENT1wtZj8UPmV2IWltb86VyICCIIKWRAp/L2bNnW9oElCnQKTtDMT/MnHn4j7By7/XXX7d8eoOOvKDMr371q4OBUbRRCPQjZf0gf82aNdYfm52eAHrAr3nXrl22DrwR+Abuuusuueeee2w7b3nLW+x66w9+8AOrn6uvvtr6lCrI2759uy33mc98Rj71qU/JLbfcUjCtvNLnAADTXklEQVQIbLTAl5s1av8uUdgrNjpcoJe1a9fapGNgsplX0A194vcjUaiNFiqzdetW6/PODmDo7fcZY+LpwOTrXYA/WtCF/6PdNpMUk63KrYbJNYn7GDuGh4HxUsCgoJyW9QM6Sk/pjxQ4YDDRqROrF5ZuER5KBTQ1jYZP5EU/0GGCQ24voE0+eiQAivJMbCQmY+6Tz0tDKSimey8oAz144Zz2mWyCube3IzBYnyrgE3rIgSM6D03oIg+TugZJcU5b9BvlSpWrFCiPfnsoBdTVvkAOEufkcQ85sG9/Unv2QuuMBZQ29EqhSRmVgbrwOJg+4JUHGrtI0R/0ERHd2J7WowwYjE6pUF0quMZmmEtoE35V/8o/tqJ1vDxwTj4PYl6mdKcy+KX+YKBdLaftQIukbXIE3Pe2q9D+oI6fr6MFeCAN1aaWUxxNHhXapp8XhV+H2udDjSf6qRBNrqmrfQr29HUcDMSJmA+pCbFKez4Y/dHi7IY58o2z3ntY+stl19pgPuZCnWcUO3va5JnWzZYn9HBOw1yZXdFgg6O886VXX7XmQzmcd4BOZtOyvefQR4XKRnnV62C7g3nzjWUfbAce7YerAXn9nOdZ4IADdrHyoFD5YlhQPVlOr899pBhO5YXWLebfI1FMBmREt/Q7H1iFAsuUz5Fg5slvloYZSyWd7JENz/9cUn3Ff8VgLDHvjGtklmk7FAzLvi0rZfXjP8zfGRzoSRNzHn3TNPdMiVXUmOu0tGx/zeqDpOOuecvL0tOxz+bVN82XaFlurCh6O1vk1d9+1+6mxO5T0xefL2969z/JRe/8e5mx5EJDp7Aj79qn75Ydq58wTGWlsq5JTn3zh+TNH/wPOeXSD0qFuYY3+KTv4MXLUyH0tDcf3Dmrsm6yPSpUptqJsyyP2UxaEt2Hb6nMfUWip922S9LnkOqtVKSMTXQfKB74BNB5b9fhH/7FYMdRXiex8lr7hzUwec5pcuMff/9getuf/lBu/vMfyS2fvUtu+rMfWpkVqgfVJ+g3uiBYC+j9YhjsXiEovbGiuWPds/Ldv7uuYPqfv32L/PhL75cD+3K72inY8WjJuTfKVR/4V3n7n90p7/rcXfK+v71P3v+FX8oNn/yaVOaDzPx4+ZHvy8aXf2PMs19qGqbJ+Td8Rt7x2e/bY03j0DukodfO1tzOX8PBUPqKxnK/ZkTAIgF4xQCNnvZ91sb4A2j1hMJBfMlEt3Ts32nPdXypnft5YTzwTgR0/vCDYKvta581NLJSP2mGTF9wZv6OyNyTL7SBRezexs5ZI4Xyleztkmcf+q70mfEaMXo5403vsIFgYDhjdaixvW3tc3L31z4jd/z1DfLkL/5bOvL9Wj95llzzvr+T+adcbK9HC6+uxwL0F0C2OLvc5YP7CgG7Wv7md8k7/ujr8gf/cJ985J/ul3d//h47j7BTVk0R+xkOkK92wiRZdtGtcu0ffEn+8IsPyZ9+5Qn5y2+8KH91x8ty6x99zfLpB380/+X/fMHu/BQwz5O5y86T93722/KJf75Pzr36AwfHhB8V1fVW5ph5Zr3j01+Wz39zpU1//a1XbPqL/35BPv7FR+T0y95vdHX0/kA21v0MxoPmGwHYvj47Sbxnk8ffIPhO5I+n/IF03rx5BxN/bCZo7lj0k/Kr5bzlmXN599c5+HgG+mX+4Z270HNiPDHYXO7g4ODg4ODg4ODg4ODg4ODg4ODg4ODg8MYB6z6A9ZS6mkNBA2D7rub8mR+svej6C2sKvnWFwIDEImEJsWw+kAuOCoXx9dU18rRpNynhIOvVppCSC+DNZA7BKOE5NrOirkZiVbWSycaktm6iLF6ySGZMmyrJ3h557rc/kxeffFA2rn5OXn/1adm7d7Ps2bdFtu9YK7t2s1vMHtmza6ds2bBeNq99XTatWSU7Nq+X3o5WiRke6+rrpKxxmmQSQQn2hyUaKZckwQL9/Za3cHnUpDIJx8okFI3bH5SMBiJSFY3JtMY6mTwhLhXxtJSX9UtlVVBqa2NSVRM2KSLVtVGpr49JfV25NDZUS1NTnUyaVCdTmyZKfU2VhI2EgUy/hFhzC4WEHbXog5hpJ2DajsaiRvyAXYvD/yCdTtn1InbbwrebdSRcktmBi52lxNAhAM0GgpkUMvdQKeVihha6Z/2HHaNyfjtZWydi6EVMPehGTVuRED+Cjy8M64IZyVTNkKzpD0UkbOSrzAUZqe0cC7A2SaAOQUg///nPbfDMq6++Kvfee68NmPH6RGnACDsJUZ7gH3YRop76AowV8E0/44wzrM/wnXfeadtZuXKlvPjii/Kzn/1MfvzjH1uf4kIgeIggHnaJ2r17t02PP/64rF692thPk/UBZo0T+qx33n333fLcc8/JunXrbDsPP/xwntLIceqpp9odkx588EFLk52Y0Cm7Q5100knS0NCQL5kDgUUEGBEY5Q068uLRRx+VLVu2yJw5c6Sjo8Pqw5sIvCLwCT9n9ENwE33FPdpHb+iE9WcNjmKssPsUAW4ayAXf73nPe+TTn/60fPzjH5dzzjnH6uxtb3ubzbvtttus/7YXBANhx9jHeAN7RUZ0S1/TNrpFxpGsXeO7+bvf/U5+85vfWJsH+HqvWLHC2vgPf/hDa3fokT745S9/adtXG2U3LfTN/U2bNlk62BCBYdjB7zuKe1UOA+qocDQX+73OEccCPGCAOlR6k064DHgiOXXwaZBUIVAPWuhwtHpkG0kehARE6A5LtEueTflyo8Vo+NRdowD60QctNJVPpc+RhwFbCaInfsmYo06olB1LwAv9C388yHIvGOalxeewru1qvw8FykMbWTToRR36mRzpKw0I4P5YywWG4pM2SegcHZBUH3oPGugGnjlit5qK0df7Om7GC8V0pjJxVF6KQftTZUF+gvB44aFfiFjmQYxdaDm15ZFCdevnDZ6xc+yE8ezXu5dPL8ijPHxSXnch0/7kvBDIp00SNJQfbUPztP3BAC0vb97zowUNQCmFV3AseAS0S4KPI/oGnvL3FcjjLVuoHuXpJ/+Yoxx50BhKLwo/7fEEfDPv8uxkzscWvfjN3jWyL5kLuKkKx+XypiV222HGpkL1CSpC5iM3H4zSb2j1mY9zMKNigvz7Ge+wAVn/dea75T9Pebvcvuxm+ddlb5VpZXWH0QB+PrzoNh/7HancGAP7Ep2SzO+CUwjsHKU7YIEWI08qX97bpkLpTiqrlvfNO1+q8kEg6zr2yO/25HZCKQbqevuPj2veCXDQZF7jnt8O4KFU2/CicebJMvu0q+z55pful5Ztr9rzUuDlcbiYc9qVMn/F9RIMRWTvlpflpQe+Zvqr9GcNbdO/HEPRMpkwfanRAfNcRJZc8E659g+/I9d88tty5cfukCs++v/ksg9+WaobcsEg7FY0Zd6RO6Wwu9Rv7/ycrH7yLhukRMAbQTmnXfZhufIjX5VF57zV0D/0UYTO+aPFyofvkCd+8o+yZ9OL9hd2ovFKmXbS+XLBO74gK67/rJTXTrHjmjQU2L1q/841Vq6JM5fJwhXX5e/kUDVhqkw/6TzrLN+xf4fs3vB8/k7xOZPnh+pqNH02loCPeEWthE3fAYJk2P1oqEQ577N0MJRyX1Mx+O8NRbMUFGu3WP8sOecGuemPvyXLr/igTJq5xAZJUK6vp0Na92y0O2bpDl5+MKae+Nntcv+3Pivb1jwt6VSfqV8l8057s9z4ya/JNR/6v1I/eU6+9NFDmen7UsE29KVC9erVpV/PXPM85R2NY67skW3s3PiSJPu67c5qs5acm88VmTb/DLsDVXvLTtn02mP53NFh6+qnZf1Lv7H91TB1npx15Qfyd8Ye7Bz1/K+/J//zD7fKy7/7kZkfUmYs1sjpl9xqxtXYBCz4dT5caD+SGO/MX6T6Sbkg40wqIft3H76j2fJL3ykf+cd75eK3fkqmzTvVBihRh3FyoHmz3QGNYL9SwRzjn2cIkr3kps/Ih79wjyw66waZOH2RsY8y+z7T3d4ie7a+Lvv3mPFY5FnWau59+x/fI7/8n7+TvdvXmm/7AambOF0uedun5DP//rBc/Z7PHxEkVdvQZI/QxB4TvV02cZ5K9BxMei/Z223nyaOB0fazFzpmtd9/HzGU3OgHm9b5i/L8AXnx4sV2AYIfKeAPriTOyeP+SP6YOxLonKt86rPaC3gn8V57vAMe4Z/vG+Q5WlA9Ojg4ODg4ODg4ODg4ODg4ODg4ODg4ODi88cG6iaKh/vA1dAJpMp77R4I1BdYwSJxryvmzhoL4qOX8RFiFyq19ctfkZdMHA4ICA6zPkc/qpTkJhM2/MfuDj9lQxFyWSzBcZmqFpaqqTmbNmit1DVOkacZcKauokYbGqTKlaYZMapgsjbV1UhuLSSSTlEA2Jf3phKQTvZJJ9Ei6t0uyyaTdJauCDRYqayUaqZKBZFAiAdNePCr90bBkDBcEDYUJTDLHUDQm2SA+lzEJB2NSHotKQ225TG4sM22WSUNdldSb64mN9TJlSpPMmDFNZs+eJTNnzpCp0ybJtKkTpa62Ugxpm+LmHxsYZtSGX1rU6MoGKNkgJX7s3shs17hMGXRm/sutf+X6goCpWJzNL9hxivVNkww9u8ZjztF5X37XIvohkVAf6QGJ23q5tTv8kXLraQEbHMUxEKKfRELQMRrPTD7dllUQGMWOX+rncKyADFdeeaUN4iAwhICTxx57zPq8EgyDf5uCtUvKsvZGMMn//u//2oCiSy65xAaJjDVOOeUUeetb32r9hAl8oU0CjdiRhyCiYmunlMcH/KWXXrIBQiR292Etll2RtN6sWbPkhhtusDISNPTAAw9YeS666CJZtmyZLTNS4H8ObXYXgneCathd64ILLpDzzz8/XyoH+p/ALfygly5dms89EurDyQ5H6MKftA36B1nZiILgKO7Rp/hd0/4111xzmO74wU52ECOghwCtkYD2oPmjH/1Ibr/99oPpa1/7mm0bX7exAn1D4BLy/OQnP7HBeay533zzzXZtfbjA1kkEgHkD004++WS7QxZz6xNPPGH1iB3Rt+ozqDbKNXLed999smHDBlmyZIncdNNNRyVY7HhH6G8NOCFyDENg4A0XON6jZHVSOFFANONLL71oHh5H7pxQCDyU5s6dZw2IiUmdndTJAR2QGGxMHBi+OsyRp84b/gcLRkw9peXVIVGRL7zwQsk8gjlz5tqoSgycdkn2JSSf9v7uMenetk0GSuyrSFWVNKxYLhVmIgoaWvDpBRGITz31pHX4KBXokYmJQa0TELwBpY8u/A4kyITuqYPdlRpEBE3KlVKWNlVv9AWT/549u2XlypdtBC+8kwegq7bv59UL1T2gPGW9zpTQ0chggqbUBkrhdyio3LTv7zsF/FDGfyQBrVvoSBoK2D4TOf01HDvxw8s/egSqd+XVD5WHRH3leziAho5n+ghZoOO33ZFA+eOITEpL87EF/TVvdEd+Md3rNfbJ2KIOPJLPr34TaMVLmurMD20PFNMVfUhUO4AXksJblnOSltHzowndqtYvQzF4eT4MeRmAlhlPeNuw/eC7xgaBzh9qP15gSwSS9hmbaQyVy8m108xHT9DuDvVs6xbpNh+PXjnqo+VydsNcu2sUtFZ37pbN3S323ryqibKoOudU22M+PJ/ev0mS+V2mvGCXps8tuUbeMXOFvGXqKQfTSTVT5MmW3Ha35zXOl/pY7tcn2lI9sjvZKR39CZsOZPpkR2+bPL9no7X1qPlaO7dxnlSGY5I2H4fsGkVgFPqAptGK4btSWlJdUh6KyoLK3C8DNKe75aU284wzckwpr5Mlpiwfg8j+zP7N0pHukxrDK7SjPgdubaczk5ArJi+Rzy65Wq6bdqq8hWRkuWrKMmlJdEqZaW9x7VRbh8CmF1q3Wp2g0/lVk2RF4+yD+kZfE+NVpnxup4lkf1peNPypDueZ8ssbcuVp/+mWTTbYyosGU/8zJ10uTeW5P2Js6ton/7X2EdsfyKm2ANR+sBWg+VwzL2A/fIToXExZLQMo552LSsX0xRdKw7TFpl5QGqYvkfnLry+YCGQBFbWTc3krrpeaxpmye8OzNn84mHv61bLgrBsNvxFp3vzSsAOj/Ji28FyZuvAco4Ohg48A5Qgu2rn2yXzOIfDrK22718vmlQ9Jy45VNtCprKre7ugyYeoimTBtkTRvXSn96cPHYl9Xm+xa/4xsWflr6Tf9W1HdmK87QSbNPVP6jW107t9+8Pkzc+mbrE7Z3WnLq7+xeYo2M5Yapy+WckNj4owlMuvkS2X6onNk3ulXysKzrpeyynobvPXSQ984uGOT2g1BDgRPwW9P+17Zseapg3ON117A9JPOlar6KTboaPvqJyTZ25m/Y95JT32zaafO8rf5lcK/cMLOVvDFH8Wat75m9LYhf+dwzFx8nmlnqm1n2+uPH2wnVl5l67Mr0q6NL8iD3/ozWfvMz2SNSWufvdeerzPHdc/9XDY8f5+sN8dtrz9qZVXdT559ijRMXWiDHnaue0a6jV68/aIyV9c3yQwjLztu7d+5TvZsXnlYuXmnX27l7es+IBtfeiifm4N/TPmvSwH9Mufki2xQTWfrLtm66vGDvPn7xYv5hq8zL39/vt5ueeHX35JH7/pXefXxu+T1p+6W9S88IF1te41s51jZ9u1YI7s3vZyvfQg9Hfttm2uf/YUNkKqsmSjxcvO+UTvR8pVKdMv+3Ye2N58673SZNGOx1esWU6+zrfAfM9DrnGUX5trevsb046GdlAiAmnfqJZZ3dnXa9Mrv8newiXOktnG6DerYuPK3dtekYpg8c4nh5zR7zk5N+3YcCi5dfPa1Um7GZ68Zf2ue++XBedD7vkR/sfOTyrP5tcdsYJOOC2SYa3Rg54QNL0qzkQMgM+3WNkyVmBnLBDARmLb8svfYALONK39jaD1hy4IFp10qdRNnWJnWv/SwsaXDZdL78Lrq6Z/nc3OAx2Yj18yFZ0pFTaNts2P/bhtsOf/UN1nedqx/QZq3rc7XyGHmohXSNGupkSslG4weh7PLF7Kzm9T0+afbHZXYmWvPltek60DhXyCDpwWnXSJhW26VrTsYBhsn5VV1ctLyK6w+D+zbLmteOHzM6RinL3n2MW9WmfnmjEveYcZSteFxn7zwyA9tQBA4+bzr5eIb/zBPb4c8es+X5Rff+ry8+Mj3zfxxn+xc87jJ3ykzFp1t+d+1+VXZsvoZW1dx6oVvNeOiQXo6W+XVJ39mefDPnRde/zE564rbbH+0mvnuwR/8i9x7x1/J0w98R5779Z2y8vF77Hw466QVtvyW1c/K7s2v2XMFtPZuWysvPfoTWfPiw2b+ixv9N0nc2FTTrMWy4NSLZPu6F42d5HYFhFbTzMVW1p987U/l/u/+vbzwm+/b+XDjC78w7X5Pfvuzr8tj9/0/efKX37S87Nm6+jD9Lz37Kmlomm2Dp157+pfSY2xwrDBYPw8Xg9HSPnijoxR9ahm+0xcuXCgLFiyw35w673GfscN3L0f9wY6x1OFgfOo9xi486Tgin3EF35zzN6HjFfDJ9zj6Y8FAv7PHG8X66F3vepddBHFwcHBwcHBwcHBwcHBwcHBwcHBwcHBweGOBtQH1S2ZXoH37D/cNtDsFVRRylGdNYcD+Z4+sMQT4n3WaAUkkOqSrvUWSfawRif1B0oEB7gWkP5OQTKJbairLrZ9iMIzvc1aCBOQEoxKvniShaLkpGRE2emD9tK/jgAyk04Z00KSARKsqpHHqImmcMsv+wOXkaXOkorxWIoGIEFoVxP9noN/SjEWCUhEvk7JoPOdHF4pIZd0EaWqaIRPqJks0HDNkQzIQj0rA8JLo6ZJAOiH9iV5J9fbYtXB2Y0Ku3HqTSCwalPKyiERiUcn2RySV5Afng6YEPuARCQUjllfTfE42606Tqx+LRiQaC0vE0Cgri0u8zOg/GLAyS0WVRGvrJZM0+uofkGjcyBMOCDtEaf1cIFRuTQzto1XWlFJGP/hmZrMDdp2JHwJP9CWkz6RcIBUlD/ms4g9n19DMOanf6GtAsjZoa4AfxzX0Q/UnGXXnfIFoj52vyuNxu/andI4VkJl4heXLl8vZZ59tA0/YWQjZCXryBpwQeEQgFeVIp512mt0hh/UvgknUnxLfcuoWioModI9z8rjnBX6XBAzBE+2dddZZtk38x1kHBPDHffxyga69ah3SmWeeaXdMUv4U0CfAxS8P/IxGHsCY9PIBD/BN/3vBNevE3B8smIYdp5TPQkl1AD12+UIW9KX3VW/+9tEjvOOL/Mwzz9gjZVi3xod+7969dlckgn8IkMMGvCBI6Re/+IXVw+mnn253toIeOzyxNrt+/XpLb9q0aUf0lQI9o29k9MNfR2mpvSIjMRDojpgSbz8Uao/7Xlujn7Bpks7hgHaQ12sftIkdqe0BtVHVdTFb87erGMy2itU5HsGuc8wD2J4XhzQ1CjBJ0SFe59wTBYbtEUNfIpAfgyJxTj4PDnSBThioOG1wTgAMiXIKdIfRavnRAho8JNkZAgdojtBmADFBRGIR+zAcCeCVpP3Mee5oDyVDZVU9aR5J6Xtf0sjjoceEgDzo1EZQ551ixhr68KdP0SXHQu0o76VA5SPR39BDRvSgYwhnddpW2Ui07Z3URgov/6pftVV4IGkeoDztwpse9byQLgaD0lLaI4G3Tc5L4QE5kUt1rnoeCaCB3fFQZccVaDGeeMjQRyOB8gJtL1/oydsf2Dy2z9yBHIWg9eGLcjx0qcfcA3/QG8yhTdtTXQ3Wz977mvzQdgajM57Q9v1tl8LLEWWOAv+0SYLvYn0EtFwpYwndG2JH0LP5Pkwrr7fBSCBtPpRakz32fKzh1e32VId8r/Vl+dbe5+SrWx6VL619SO7c+GTRDy+V44mWjTY4CETNh+2bJ55kP/YU2DtzKHKyU5SxapsfNx+uMysm2PO+/pRs7N4n67uabUCW7jIGvDwWAzS9NsaHNyAvxPnhKjcfn7mxBeBLy4NC5b2YEKuUP/IFRn1lzcPSlug+OG7VLpR3vwxc49zKCyvPGeYGtSF/Pe/18QwCowiswoF898bnRh0YBRqmL7bBGQR4PPfz/ysP/fcfyK+/8RGbfnPHx+TBr39YfvmV95v0ARt4BGomzpIJUxfac1BIfwT7PHff7fLb731O9m3LObjXN82XmUsuLqprghkI5Hnku38uqx79nqTNmGR3pKaFF1infp1bB+srgoee+Mm/5IKNTDmCduomz5XqCdMkk+yTbaselcd//E/S3rzF0tG5Qc+VNrarzwe14+MJiZ4OuwMMKKuoM/8emkvhm8RYIek7j9f+9d1Gr71J9cDRqxOF/9oLreOtx9FbZ7D6fvjrqoyaBgOBR+GoGf/GJp7+xVdlw0u/HnS8DMYX9wiMeu3xH8tPbv+QPHXfVyXZ12WDlxatuNYGqx0taOBQKBKTaFku8LYYKusmmb6O2IDEriJBWgD5/O+73jyF146G0v/2dc+Z8mmpqGmQ6QvOkHmnXCyVtZOs3ratfXZQfQ8XjAcCbKBN8NUZl9xq5pOkmdcKBxDQdiH+h8vTvp3r7ZFd8cKmP8YSI9GPtw59p9+cC8+4TKqMLYDdW1dJZ9teew5OOvMyu4MTu0Q99MN/kVef/Lnpt0Pf9NDk/aJUqF69vJRV1sjC0y8xthSS3o598uvv/4OsX3ko4E8xHJn3794s9337b+TLf3aVvPbUL+zYbpgyV8689B35EiLdHa02P2yecTUTJls5+GMa39f8vUB3yC2Ekeh/JBirdrx699M8WrKcCNDnOu/NBM/zR1lsQn9gR+dAEt+72Mp46K8YTXjTpHxoWXhnTPN9fDyDccb8w98Q9Hkx3lD7d3BwcHBwcHBwcHBwcHBwcHBwcHBwcHD4/QHrEKxnAtZT6moO7UACdje3iH8J4dA1J6zJsJahyeSZ/wnKSaYI6Dm0PpPB95B1D3OflRvrr5WnlbX/EajDunrAZkO3orJcKmqqJBA2eeZWKBqWgP0x6wEJDfRKYCBhf9C3vbVFujrbpaenU1IENtk13rSRqV8oHew3FPuNrBnTSiAk1RMapaqx0fCWlowpl04nJdvZJ2UEV8XLpD9KwFRcooGohLIBCdN2RCReEZbKqriUVZRLVU2dNDROktr6KgmGB6R/IGna7pO+ZI/0JrqM/L2SziYlY9SbzRKcxHoxP35t+DCy2f8Mf1YZSGwVG5Cs4ZPdmWxefgcn+oZ1OPKzpr/YGSpl15GoY6iGQnb9K+dnEpBoLGp3o8Lfk7qpdMYGT7G2m0wkbdBWri9yvp6WB5NggW4JEaxVPdnwd8hPnd2lqitzvhXF1ocdHI4m8I+//vrr5dprr7XzzCOPPCLf/va3bSLwafv27XajGG+gHGBdlB2rWJNlpyQCeTTQiGCsq666Surq6ka8I5XDiQ9m4FFDHRWO1oL/WIGHQiQStQ+V0lLMOjcA5AW8WEBHg1i45oGELlQfDEQcIvi1WJyScTjBAYWBCZ3cA+3Qr0p7wQ4MlNP2c8nP1+EJPqALLXghOEIDiuxDLRiSoKETNDyH8slem7oke23zctdBoyO7vWOeVz+PpevxEP88wHXLTcAR+ZVv1QWJPNUZ1+hRt+ojH3qUGS2gocm+zJmELtFZv3lhQc5i7QzWvv8eMgClRxs4G9FXBN1gI7TNfWTDoZ0jtjdYO8Wg7QHOsVFNtKO6hjZtwg+J9kjkkUYDaJNoayyg9ODbK58XKqvKpmN3tEBnHR0ddgcmgBMZD9KhAvWUZ29SKI9A+4Rr1T+2wRjGMc0vh5cWR+wFe0J2/SVt5hBoQrsQuKd2oG0qzcHgLePvB669coFSaI4E0PUmYLnJn/vvea81z8u/N1/hvy4FSqeUpOWB9oUf3rKq32LQMesd44D62r+aCBo6e8Icu80v6DQfmNt6c7vIDAfsesRuUwQcedO2nhwttS0FbfMr9Hy0MaZ4RhWTSeVFFnZj+vXe1ZLoz32ATyuvk8nRKvOhm5tfaEd/5Z7Apy4jD0C+pbVTbWBSW7pXvr4xF5D14O5V9oPVC9pqSXbJus69B1NOnr1ywHz47k902yAyUBGOSVXkUJR8Y5l5vud12Z1JSruvPLtcsRuWwlseXikP4MEbGMX1ytZt8i8r75P9vblnIECPyMpRQVlAHufM6Ti96rzAEXjLkegfynpplYp1T/9YHvivDx1Mv/raBwumjpZttvy+rSvl/q9+wAYbvfDL/7R5peKwwKh1T8srv/5/RpbcvDlSEORU37TAnnfs2yot218/qCfVr+oIB/O9m16UbH/GBoRMmnXKwfuKQrz0drbI64//UBLdbXbHkKqGafk7haH9s23Vb2WXkRNEy2vs7kn+Pgf+a5zvz7jyI0auebJn00vy8//8gNz9b++Uu7/0Lvnlf31UXnzwvy1PQOtyREbvWIUPTccjejpa7E5PoGrCFNMfhbd6hn/GDf3K3EjiXMeSAt0yDtAB+vDqxK9jva9l9D5H6JC8dLz3Fd5zP7hXrG1Qap9EyyrtEV3t2fyKPfdjwpT5hwW1FGrPm6d6W/v8/bJx5SP2nN3Rahtn2PNCGEzWUkB9TYDdnwj8iZlxOHXuqTavEBgLjdNyQYwEVLXtzQUEAj9PXKvOAUd9N/bru9RxsWXVk9J9YJ/VL4Fq7EAVCkcM/+vsLlbAK9dowa5Wm159zPLWMHW+LF5xdf7OIWh7pdrQUGC3JZD7vjt8TI0FhqMblU0TfchYn2t0v/zSW63u2VHptScP33mLXdAAAVPb1r5gzwG2rt/32BG7NJUCHSNeXiqrG+wud6Bj/w5p2bP1iDkINE4x72Xh4QV+pJK9NkiqZddG29ZE0/cK8th1jyDJecvOk4aGBvu9wDtYa2urle94AHyPBby690L74fcBg8lKvs5zfMOiL97J+dbkfTH395pDzy6+JXm35liM5ngB3niWKpizGM+kY8HPcAB/PDsG+8YZDbR/HBwcHBwcHBwcHBwcHBwcHBwcHBwcHBwcvOt905oODyLIZPqlx/oQetclWbtglyHWGlgbJ/wIP0vumHKBpCR6uyXF7kfmTjqTkESix7YzkDW1yDRVc0FOBqZiYID1Z077TVNJCWZ7JZDtkoFAQsLxkITiMbuzUX/W8Bo05bNBCWX6ZKCvUwKJbkm2t0i6u036k32mLr66AQkHgubccNTfL8lUUpIEQJlG+GHUsni5lJvEjyATpBSQtAS4n0hKWaxcssGQZImICkdssBK7UMWiYamoqpKK2joJl+fK4EttpTTtkdKGv95Er/QmeySZMfSsRgKSyRr5CDQyPPVnM3YnqpChHwixqUjaaNGUMW0EjGzZDIFdOS2HaINjfs0rt06H3gdyvivplNGt0XciYYOlkomUqT9g9N9nrtMSNfxHTEpYf69Da2f80CcJ4MfEuhrBagRAhU2RcCwmsZqcH5SiuqrC7iRWyFfGweFYgTVPdjx629veJh//+MflM5/5jE2f/OQn5bbbbrM7MLGu7QU+/axxq3+XH9xjTLHJhMPvJ460ihEA4xyPxf7xxty5c+Tmm2+R97znvYeld7/7toLplre/Q848c7kNyFEnBORm4On2YTw4yCukDx5m/DIzCYcTnE+oxwOL8oUeODNmTDeD/iZ53/veLx/5yEfl/e//gLzrXe+Rd77z3UUT26QxqJUPHfy8nOAU3XDe+TLv/e+TxR/9Azn105+S08xEsuwTH5dFH/6wTSd/8hNysrle+Acflvkf/IDMuuUmqZw5U0KR3C9l+2VrbJwoN974Vrn11nfZ9M53Hpng+bbb3ifvfe/7jC7fI2effa7U1OScvTUB5VWv0TNOJQRGoScmLQ30Ugdv7qHPYijFYaRQGXWaBUyUppQ998LLZyEamueVk37WfOTFMQ3ZkAe5aJf2kFNfXEcaJKXtkZAF2nrNPehAj4cERxI8kV9qG0MBOtqvOj7GAqrPQiBf+07lGktoH7W3t9vxzHgjOpm5YThQGUjaR8DbF4B8Aufof+aMYn3DWGFeAYwV+ATQ8urEC9pVu6A9ypbS99qvWpYjbfhBvpee93w8AS+0pDosBejgWALdKL+qS7/+vDZBGU1eUD6cn6+1b4vpncCe22afI3MrG+01tFZ17JLWZLe99sPPjxc95oPwO5uflH9b8+Bh6cc7XrDzF1u/YqMK5jvseji/RAF/yPPqgR2ypjMX2c/H5Wl108VYrr3GhhmTjJf9qW7Z2rPf5oNT62fIzTOX25KFdKcg/4XWrfLF139lk8py+5pfy4auZkuTIDKADk+rn2nPY+ajf1nttIM62tPXLh2p3kHLL62Zelj5dvNxTb9NiJTLZxZddjAw6qnmDfLlNQ+bT/nch67OEd5zf99wTT7PGfTBvKAOmt5EGaVFHT+do4mG6Uvk3Lf9lZx381/LxFmn5HMPYcFZNx4MjNqx+jF57bffMTZxaG5T3ocrw5R5yyVWUWO30t6z8fmDutHx403oau+mF6Svq9VcB2XS7FMPBp8MB+nE0Du0wYMXWcNfJtV3sK/88OY1GZkmzlgifT3tsu7Ze+xuVINBbYCk8gPv+fGKHWuftrtHsVPOwhVvMXPg0MEL9C2J+ZSjAlnRhQbEkLz9rzrWcePNS3QfsEf4YNt36jLvMf445nQcljMu+4C85WNfkbOv/YTJO7IvuVbaAJ7gcbT9EI2V2x2L/Igb25+1+FwbtOeFts9REyjGB/aZKsGuxwLwsuX1J6Rj/07L94LTL7eBQIWw9Lwbzb15lu9dm16W7vbc7oMqjxfa5147ALyTq51wbzh90XVgr+zc+JKtM3XuKdI0e6mxu7TdUWq88PT9/08ONG+19rXg9Esl7tnRq5DcxcBOdUNh4vSFMnPRCnvedWCf7Nu5wZ6PNYbDt4JxR78tPutqefPb/8zaOs+MtS/+WravfzFf6nAwTmomTLHn2tfME9SdtmDFEePEi56O3DtHmSnb0DTH8uznW6/DMX4c49AuyorJM0+SOUvOyV+NHOweplj74m9Mv+R2PJy79FxZsuJKGxTFtwzvHEPZMzy3799tz+PllVLbkNPP8QyVqZD+/XlvZKi8uedP7gcECIBiS3m2wm9qarL3+eEP3svZGZngOX1meXU1lJ2MFMqjH7RH8vNR6Nk9FijGx0iBDtE53zql8loqD1puvPrEwcHBwcHBwcHBwcHBwcHBwcHBwcHBweHEgtf3ijWK8rLDfSbYPUqkXwgQImJnQDIsxkhgIGSPQcEvwhRhaycJSKa/XRKJTiGOKWBKJ9Pd0pvosUFGBEHl/jNlQ2FTJSTBgayhgK8JgUZZGch2SzCz39DrMPQSEotHJFpRLgOBoA380bWr/kBUMuY6k0oaIRKS7jFtJnut/wcI9AekP9lv2k9Lqt8kgqtMswGis4zMYSNORGISYl1JUjIQyUhfX4f0tbdKIJmQ/v4+I2m/SbmdnOKxcnMVkdaulOxu7ZAde3bL9h3bpK21y+6wlDXy4G2ZzPZLTyotB3q6pSdpaGayJi9rfzg8g1KgZ3ggGKk/3W8DmcwNSQf6JU2LmZT0JHrtj3WzuxO7QxFMxdosa8QErJGnaz2sfbFTV9q0SfBZyOgHuim7c1dA4viMxsqkoqJM6utrzbmR2fqaGH1a2eGIMK6cboImL1LRIGmj24Mw/TupYYI99QbTOTiciCBmY/r06bJ371757W9/K83NzfbH+fGDeP755+Xuu++266nsKOXw+4nQ3xpwsmnTJjv54iAxXBDEwUR9ok2a5eUVZoBMk7lz58q8efNsmjuX46Frb/6cOXNk4qRJUhaP2wc04CGtzgs8pEiDOShwT8sxQDWiEd2T5wfBFjNnzpIlS5bK/PnzZcqUqTZKEp6LJYKVcMKEL/hUXhVl5iFXNXeOVBt6VfPnSe2C/7+9PwGTLcny+sDju3vs29vz5Z6VWVnVtXRVdVdV19L7Vg30RjdQNDBsYpGYETAwAo3EDOgDZkACfWJm0EgCASMhoOBrml5U3dB7d3V3bVmZVbkvL/Ot8eLFHuG7+9jvRvxfWt5y93CP8Hhbnt9Ly3uvXbNj5xyzu8U95vcxO/kN77Yz73ufzT/5hJ1673ttJtg8EcbCZJA3E9orzS9YttA7EKxYLNiZM2cTvR5+eE+Hhx56JFknoffjjz+RLBlf2HMKP1b2fjUbFNyhYESCR1jiXyY/EdhNUDcBO/gKKENSkI/8mkaykRf3jfJJvVD73DC+/PJL9rWvPWOnT59J7MO/gjLQq+0YtcNSdZCNfdjG5Kg4aIZ1ZLKkDv2If6jbT2egPLpTVzbLbuqpfY2NWN4gucMg+UpAG4xjbGUi0UF+6kdaJshfsg9YZ4xQVjaOE9qUj2HvprWZjAkmJqn9WKdeaL/6GD3Vv6zLVi0pz8Qo/MjkBupoH1CXQDfKMJ546GE/23zZCrkEQLJPbSND/cH+eCz0g7b53CQy4iTS9bEl3s86ZeI0bhKd9n06av+/RT+2Q2JdNhyXzmloT/qrPZb0M0udB9GKfoyhDg9BlOOcebYyZ++bvz88lAV5Id0/sWDftPiQfc/pd9nvPvdeOzcxf7ONF7eX7Z+8+htv+ZLSo9Mn7YmZM8k6Mh6bPmUfXnrYPrL0yM30vvnz9ur2iu2233zYTvQI449zHIGWjK/3lE/bXH7v3F/JFew9c/fZR088ejO9f+H+m3L4ohV5fGWJr0V9buUV22iGh8l9roaH8PfOnU/K0Vuy4Xp71y4VaskxQNord9/Ncg9PnbBvP/3O0PZ5++jSo/aRE48kk5Soz0Psb9149ebXmwT7SBoHO826narM2oPhQZIvUeGj9y8+YN997t12PviXso12y37m0lfs0u6a7ba+vjwTtb7r7LveUv7fvfFle31rJfli1F949/clE6OgHuzny1gfPfWYfezUO26mj59+3Orh4f9ydT0pp7GAPI0dzhmcAzj2e52DVXbYc8BROf+uT1p5cs521q/a5Rd/az/3Td75sR+3E/e/28pT8zYxvWRvPPur+3v2JkY9/P7vDXoW7MrLv2NXQv2JmRM2OXvyrWnulE3sL/mCCV/LGAQTm574yI8mem2vXrZnf+NfWLu5dw7FN6TkvLJ/fmCJzKmFszZ74kErlCpW3VxJvjj14Hu+w973nX/cKtOLVt/dsEZtK6lDWjj7mL3r47/fZpbOB/k1e/WpX7CtG5cSHb7lR/9KMkErCE9kdUKfA5N8Hv3Ap+yBd39r8ms369desUtf+8VEJ/ry/JN7/qztrNtrX9n7eo/amz/ziJ15+P2WKxTD/o1Q99WbcgXlNFY0DrCvEMbgfU98NCwnbCv45I3nfmO/xtdz/p0ftengC3zy+td+Ldi9ub/H7OH3fadVQl+i3yvB3l5MzZ+28098JJnwdu21p231cu+JFQ88+S3JV7No58JXf/Ut7Wxcfz3499FEj+n5M3b/Oz8SrgMt27xxObEZP55++H32ro/+iL3nWz8d8i/Z9tq1m/16+qH32tJ9jyd/oGKi1dbqm59Vll9Yout9j384+fIMei5fePqm/zg/LwSfz595NPk6S7E0aTcufi30aceK5amk/9Dp5APvDjr8AZucWbLZpfuSz8Ov7X/JKE4g/QSTMx5+zyeTL5Zhw6vP/Mr+nsEsBr0Wg16F8kTojzm79vpXky8uMXHmwXd/wj7+Q/+pzZ18ILnuhcbt+hvP2eWXv5TURZfv+6N/yx4M/g/KhGN3OVyD9s71fAHnGz72o/bEN31/8HEp+ZLTV3/j3yT74Nyj32in7n8y+LUZdP3VxK+yLWZm4UzyRSV8tPz6s3bppb2vKUEljO9H3/ftic1MhHr5qV/a3xPuoYIeTHQ598j7E7vOPPQeq+1uhfHwRuI38j76A386mRzFV3iYpPS5n/7vkwmDMU9+8w+E881C6ItVe+lLn03Om/I7x5nu1bDn9APvStrl60yML8FkmkdC3zBx5uKLXwg+fnZ/zx58bej+xz+U+Ay/b61etd/62f8xnCPeOhn5sfd/u82fvD+ZZPbCF38h+dJVzDve/x3JfnR95jff+uWjGPq3Vt22B2gzHMeMWXz1xgufv6mbbESvZMJWsOvFL/+ibUR2fe8f+i/tW3/4/2gn7398b4JVuA/YCecobDj70DfYN37b77NP/OCfDeN5MWnzi7/4v4U2ek86grmlc8GGbw/jpWhXXn3GLjw32gSxePxMTM/bOz/0PclXq9aWX7dnP//ZJJ9jkq+JnX/HN9r7PvEj9skf/j/Zkx/6vjCGJhIffPVzP2O/8M//n285tuDU/e8I6Z1WmpiyySD74stfDucbJqPm7YkPfrd98kf+QnL+5jhAj0uvfMVe/drn9mvvceaBdyZ+oS3OAYwFfumrENYZ33yV6tH3fMzmTtwX2plOzhWXXn46jLHwLBH66X2f+CH7/j/4n9vU7FIij2vYa8/+dmjr6WT7wXd+k/3Yn/v7ycQrxshGkCeWzj5s3/MH/i+hzz9o/HLaU7/2k3bxpS/v7w2ywr3Vg098KJm8eTpcGyZnT9l66Ovt9b0vCJ44+4i9/+M/ZN/143/BHgrtPPuFt56zF08/mLTPGJ6cWbDXX/hicryhd3lyOvHVnUr6vMN2uv/vFbCNY0DXLv5Own04P1JA4r6ccxznNf04C3+T4hrGMy37+JEB6uuZk/zr168nzxXp+8hx0qufSOhGu/QZiTyevfkbAz9Yon13Evhefxvg/jv9vHYU5JdRbf70pz9tZ8/e+RMbHcdxHMdxHMdxHMdxHMdxHMc5HLxT4R0PFPI5W11/M6ai0WzZicVpy2WZfENsUNsyydeiMuG/WtjOhjXiWUkZ29m6aJur16zd6IStrm3vblmt3rRSecryubx1Og2zkKanefcU2g1imNCDuGy+YJWpGcsXC5bJZa3Dl5G2tm13Y9dqO7Ugs2WF0AwTeFpMFGo2rd0iHrNtzVCW96vNBl9SqtruzrbVGlWrk1p1a2e6VixVrDQ5vfe+tVS29Y01qzV3k0lLlG/s7lq3umOd3XVrbK1Ys7qVTLZCHyuU7PWrN+y5l1+z5eurtlvl60yhzbZZN58NcppJagdbthoNW9/e4ntUIY/pVV3LBb/y5aVCKW+VctEqE6VgY3BFO9gUZOdn56w0t2jNTCGRiV2FYi7U7IZCvOci/oj3PVnLBt8kX3rKF0MqJLLLk7xnLtrU5FTyIQveB2VzOWsG+a3kfRPv07r7k6jejBEjm23eHmWoEzI6lfuCzm/+iHmlUrbzZ08nEnhP6Dh3O0yO4l33888/b1/84hftS1/6kj399NPJBCnmMnzqU59K3o879zbPPvts8h6cH4iNGcvkKIImCEg4zkCJ44CAhWKRCUrlm4lA7r1JS2/m7ZXZSwRhKNBENxPYrWAHlgcFKbBfkyeQRwAK9XoFdbCfCQ9cnJg1zE0MedKnV5JeLLUekw3t5bAjlM1wEQ0yg+CwnrfS1JRNhfZyYV8XG8MyKcu3FgO9bONirbYJvmEpHQlYYWIT+fKZbFZAh4I72Id9+ILENoE5nKAIcGdmJ4E5sQ7yG/XoO9WNkfw4n+2DoJ29MVK01167kJw477vvvmSyHPoDcmibssjv5Z8Y6SJbCVRC/83NzZuTHWIkN7YLnZSQRRlkKLGd1oO25H/VUzoqB8miTfX/YQODYvkskQVpO9nGj5ShXdK4oQ1skHzWaZMxyjZBUPibvmBfWkeQDOpJFnVYxn6M16nDNmOGc67sJOEPjhX2ESDGDSzlkYfvCYQDJkdpMivtSkfKaXwchCZHgeTExDqDdEyXO07aoS200Fgfla+zYX+pPsjgJ8oclA6J/MVS/cK6+kl+Z5mMrrCMoRznX/YzHs6WZ+29fFmJB6sgZ744kUy+mSqUk4csQNKzG1fsH73y67YTTXCCeHJUPpuzheJkUj9O0/myfX71gm02q0n7nCPjSVGMu61w/H9o5v6kPlRyRVsKdeM0HXT6QpDDJKiDJkdtNWs2U6wkX72K++xKfdOuVfbOp9i/Gh5yr9W3gg2nrRRkQmHfjoXSpBX3J0aBJkepHXwI7CdpmyUTkt41d85mCpXEj3PBr3wVSuV+e+VV+6k3vpT0EduXdtb2yhMY36f8z1z+SjJ23rtwv3305GN7fzgI4PfFcvBRefrr0oXtFXtx89rNcSLUD9xDkL+2tpZcQ9NQTteIuP5xEU+OuvLSXlB83O79T37SJmb3vmTGxKLXv7o3EYJJMe/8lh+zYoXg/IxNL95n5x7/aN/ExB5ScK6tvPHVgbbx5afz7/yWZHLOxWd/za69uhdMTh0SPtIxp3zWO+1m8nUrAsU74bi58tLnkwlQZ9/xzbZ03zvtofd+pz32Tb/bHv3A99sTH/kRe+Dd35ZM5mKyzIVnfsle/uLP3mzj4fd/T6jzhJ197JvsHaHOYx/4VKj7u+wd3/yDtnT+ySSofndj2Z755X9qzeAX+gudzr3z4183OUpUt1ft5APfkLR5Ish4/Jt/j73zoz9yMz3xkR+2xz74/cGG99jWjYvWqu9do7k2FMJ4wyd3y+Qo+uPyi1+wuZP320zQpTQxY2cf/aA9+dEftnd//MeS5QPv+pjNnXpwr5+f/5xtr705qeDMw+/bnxzVtNef/Y1kH74A9T399JbJUVdetOuvP5Pk0x+kerATfzL5YPbE/cG/oR8/+AP26Ic+lYxnJrctnH7Uzj32QcuG8xHn3uXXvxZkvXRzLNCWUprDTo6qbq8lE4jwy3zwwbuDP9710R+y933bp+2h4Bfkvf7srye20l/x5Ch454d/t51+8BvswXd9i73nEz9m7/n4jybL933bH7Czj7wvmRjFRKHf+Kl/YNWt1f1avSdHAXbGHHZyFKxcejGZ1HPy/nfa5OySPfzuj9s3fscftA9850/Yez/xe5OvSTFhaTO0/R/++d+0lct7X88R6PLOb/5UMjkKP73y5V9I+pLjgHOm7q3xzfl3fPDQk6PWr78RxvBHwnPWiUTey0//cjL5Kc24Jkdh1+rVV23x9ENhzD20P7Y6Qbcv2tULX3vL+Bo0OeqJD35X8mUoJuM8/O6P2Td89Hfbh7/vj9o3f+//wd714U/ZmQfflfQ/E2M+/+//f/Y7P/9P92v25qiTo2LiyVF8qe1bPvUnkvTR7//j9k3f/YfCvu9N+qscxj32b2+s2H/4V/+N/fpP/397Hl/bGzfsoXd+c/LVpxPnHrUPfcen7Zu+69P20R/4E/bY+74tOR9y3WJc0HavyVFMNHr43R9NZJy87zH7wLf//iDjJ+ybvucnkkl5+D4fLu33P/7BRN59j77PPvy9f9g+/D1/yD72A3/SHn3Px8Nzd96+8ms/mUxAYvLta8/+1s3JUQun7rf3fuwH7f53fGOy/Pjv+pP2ke/9Q/bx3/0f2Td956eD3o+EE6LZi0/9iv38//Z3btqZfN22uWmN6kZyrcFnp86/w77xkz9qn/w9fzpJH/z2H7eHnvxwOB5P2frKJXvmt34uqStuXLtgDwf/zCyctoWT54Ndf8A+9qk/Zp/8wT8d/Ju1l5/pf50YBfpqXCBrnPLuNGQf9ym676Ovuf8+ceJE8gUottnHM5wmyjPJST/OQkIGz7AsecbU36AYP9Tj7zA8/3Ff3evYOQ5kG0n3PPH1mHtXnnN5Bk//jegoIHsc4EOehXgG0vP3sBykg+5LR8UnRzmO4ziO4ziO4ziO4ziO4zjOvQ3vGBTTyruKq9dv3HxHwTKXzdv0VN463bplM+VQoRl25KlomSR6oRPWeQeRsdWVF21zbdmSzzQFqtXd5CtEleTdK/EyNcuHsnycoljMJ7F1Wb7mFGQxOarM5J5SyTLdtjW2N622tWPbG1XbXOfrU6Fct2HWrBM+Y63W3uQo3s0TW9Bs1a3Gu63qjjVDGfY3wrLdbiXy+bHL6YUlK0/PWTPU39hat63qlmWzmeQdGNp0arvW2l1L4hdqYb0TdOsG37x+bcWefv4Vu7Gxa/lSJZlcRXx4JpcLsjpWb7VtN7S13WxYNejD16NubG7Zxvau5YrBniwxqx0r5IOdueDTQsaKpT2fZ4O8qROnrLJwil9pDj7f+7oNX/GqTLCdSSaWFQp7H71IYrWCrzrJV6X24jexrx10KJb58lfG6rW9L2jxBalGYy/eHLl8eSrp2+i1UrIZfMBkqnx+0lqFk7w6vsl9Z07ZVNBDca6Oc7fDcXTmzBl7//vfbx/+8IdvJr4WxYdwdD507m36TY7au3odEQbZYV7O3y1gnwJO4oTNyUV5P3iObfIpfxBcnKhDoAQXHAI7CFwh8IP6JC6ATPghr1bbmwwB2p9OoH6Qjn3ZLw/U4YJXDRfTmwEvYX8l6EOQTDnoxolikDzaj3WnLNuqRxvon8gOsJSugnLkk5DBTRo+YZsAHnRM1wH8yI0N8pkgwk1FP12l3zDQrvoVXYBlqfTmV6PEsDIF+hG0hDwCkg4K6NEYo38YM6yTJ3/I57KPdW3TD9pW3lFRO8PIUru9+u4wqE2NlTjhE/arzXGjNiCWj20EjjH5iIlu9OvCwkIyHnVcAPUp26vvDtKXuvQ/fc/5QscWS44TAtjYx3iSjiD55GmcSQfW2acx0gvqS//DQBtwFBmjkLS33+ZhiXW+VXoLtUl/oId0AelC/ylfvwIhyI/7Hzn9bAhSbKtVsy+vvWF/57nP2n/7wr9/y+SjUWEccc1iLDL+ORczZjkmSLVw7hon2Prvrz5ry/Wt/Zw9GOcEfmpyLXo9s3HJ/vrXftr+96tftRtMAIke/1qddjKp66uhzL+48Dt2tf7mhItBrNS27G8/8zP2y9eet53wYA6hx2y1vmOfef0L9j+88EvWCn3BtYk+Wd7dsL/5lX9nv3T1uZ7l/+dXf51OHthnB4Gt3DuQODdwneF8gf+5hmrcaJxRXindpsrcKtTe8mtPWZs/arQadv3CV/b3Hi9nHv2g5YsVq+9s2OWXfmc/dw90ov847pQAn61eei75WhQsnHmHzZ580C49/5v22lO/YDvr1xI7+LoKsgkcZ1LPjUvP2+d+8u/aM7/8z5J64vnP/Ru7/vpXja/I8Gs4OX5RplAOx3jLqls37NUv/5z9+r/4v9nm9QuJDun+idfF/OlHOVASeb2gDroxkeujP/yX7eSD70/Gq2y822g1a/ar/+pv22/85H9jK5deSPx98xwalkw2uRHyv/wf/mdbvvDMXn4f8AF11edavylvH45XJfy5eeOi/fZP/X1bufhsMob5w1gml7dmdTsZX5S5celZ21y5mOi0deNyGPNP3+w/tZFupx/UUxrEjcsv2c/9479qr331V5MxhnQmZnTD2Fi79pr95k/9d/ZL/+Jv29bam1/MivnyL/4vdvnlL1u9uhV03Bufe5MCwz34xnV7+tf+lf3k/+s/SdoZlmH0Hpav/Npn7Kf++78Y7Pv1ZDKRro38OhMTmJ76lX9hn/n7fyr5slWatA6cP3XPFB/7RwW/vfa130x0YmxeeunNyWejMdzYEL/5M/9DMjFLjDK+4Hd+4Z8lE6Z2NlaSX9OKYYyT/8xv/pT9r//1n7DP/ez/tL/neBl27OBrvpp3+ZWn7ef+2d+w/89f+V329G/81P7er+fa68/ZP/97f9ae/+IvJGM9NJJMykPOyuWX7XP/7h/Y53/mH9j2+psTK9NcD+X+9f/7/2wXnv98OCeFa0A4/vnjf217I/jqRnKuuPLy5+2z/+T/aq+/8AVrhLHAdYJ2muEcdvHlr4T6f8l+9p/9V7a7eWNf6ptcfOkp+82f+8e2fPHFpK50ZGIh21cvPGv/9h/9F/Yv/8GfT8Yc7fE8zyQZrltf+OV/Y//wv/gR+/x/+OfheF9ObBPoS96XfuVf2y/8y78Xct46TqrBhn8VdPvqb/9c8M92ojcT42q7m8nEszsRjfdeY2bYcXQngb70I/d43Gdzj0f/8kMY/NGXP/hxH04Z/j6ysrKSJH4Zi+dUJjlxT8jfE7gv1LmO/cvLyzcnT1GH8tzXk3jO1XPkrUJ9R+IcnO4vdCfp7zTjZBzjgj6iH3gWGsc1BOSDcclzHMdxHMdxHMdxHMdxHMdxHOfegvc5gh9jPnf65P7WHleWV63Zblgn95K1bSPk8PkmJslkzDq8c8lblwlSXeIWQrku7zmaIa9ruWLZyhOTls/zFSTeozeTr1PxTlHvVnivw/vJfCFvmVzG2p128iOb+VB+bqpiM9Oh/tSUZScmQp188vUjJjx12ryTJ1albe3QdjvIIZaLLyU1WyGF/c12aCebt8rkVPJVqomZOZuam7ep+UU78+AjtnT6vG03u/b61RV7/dqyXVy5YSvVhq3W27ZabdtaI2MvXlm1Lzz7sl1e3TYrTAStssFnLWt2M1YPJqxtb1m13bRGMlmpuxdT0S3Ybq1j1W7WasGS65tbtrKxaVu7NasG/anPxKVsoWiTcwtB7LRl8/ygeeJGy/N1qOATtnl33A5t8UOimXwxsYl2+EJUoVjEk1avNWxnZ9dajb2PaFCX93q8m52fn0veDVbKlSCjQMBKqLH3/ujm+61M8H+2YN3KaT5UdRO+dnViYS5Zj8eJ4zjOvUomXJSS0+BnP/vZ5MX9Jz/5yWTHKBBgQUA+AZW92G9iKHqVPWr9Xgwql96niwcXGyXKaLKOLjDkEwChQLq0nPQ2AROqR9AJFzRkEpRCWQJeCPYgGOWgoArKq03k3bzg7ZNuW6TzaY/gGoJi6E90wiZkKihGgSgx8oFgXRdo2lA9kK6CMqDAFsqRR1A7AT/oQiAP+b3sUJ4miVCXgB/0Vf+Ql9b5IJBLXW4qvvzlL9k/+kf/k33rt36bfc/3fE+Q9WagJP1EObU3CMrhT76mRfASX/IgGIl+72eb8rVOQg4J1D9ss09+QhcS+0gx7E9zUJ7a61WuH5TFPwRpAbbqPDGMDmoTZDO2YDNysI86slXlDmvvQVCHsUwb6BDrJ2ibcci4YT9jkWOaY1h9o3rSX8dKmrR82pyfn0+OC00YZNzTFucQxhPtIJOyJI5nvnaGHnwhUMe29KBMr7bTUB4433/hC19ItrEn7geR1hv7KKt+istCersfw5STXrItTS8ZvfJin0hv5CIz+XLUMPTRdxgd2KZNnYOxR0F2Op9SRkvVZxvd9bUw+kvHXEy6PeiV1w/aUHl0Q0+OdcY+64xNxhzjUeMtZpS2+oEMjbW4v/gFjKVgP4HA6HHt2rVEF8rHY7CXDho3KqtyyGdfXB9iGfE6xNvUVYq3hbapg3zBdlpOTHq/QF/64tSpU8m54urVq4kvVJ+lxhVltS77YtL6DMuwZXuVG6WdfvSTMYpsfMN4hrjfAZ8BedqnNIj0/l59GsN23EeATtwz0S79qvOwzgfA16qe/JbfSwN28dnfsBc//9PJxB1AHswunU++VPXw+7/bCqXJZOLQL//z5IOyN+Wk9RnEsGVHkQm9yo8qoxdpGf1k4vd0wofpvEGkZdNf8fVTS+07DHEb/Ww5LLIPuZI9qI1R2x+lfLrsqG3FqO90rCtxXMX3baJfW0fRAXrVP2pbcZ+BtvuNr1F06Mc4ZAyL5Kblq085Z3LfxD1Tr3vVUWB8kHg25d6Cv3tcvHjxwGOVOujBmEIHdOHczbWZ8XX9+vWhj/fD+Jb2eeZkwjo+WV1dTe4L43qjyE3nH9T+sBxFh37E5TQmoJe/Rzkm+nEYvYYBvTWOtGRc6+9E5HGeisc560rkpdvspQNyNVaYWM9zJfIZu/yNg2dZxjxjCJnDclgfah378AH2khf/vQU/cDyyzbE0il5wkG79xsUwoDN//8CXly9fTvROM4xvKKNyGsdxXi/67SP/p3/6p+2DH/zgfo7jOI7jOI7jOI7jOI7jOI7jOPcixBQqBpdJO089+8Jb3nucOzthJ05dskz3lOW7D5hlW5axkmU6e1+Q6hqTpdq2fuMLdvWNC1bbyob9BavzI6Bds0KuZM3GjjV21212omRT03N78bqZjuUzQVwxb+XZkDczH+TlrLa9ZrlazXJWtLWtpr1xed02b6xaZ2PVmiG1g458BYnfdETPRqsVUtN2d7Zta3PDdrc2rMP7sJDHW5DK1LTNnzxnCyfO2OT0fPKjrq0uE5nK1golVtc27NLFi3b59VdscTboZU2rbmzYyo0VW15fs60qP16ZtclSySaLOSsXzIqlfNC7aFvbW7a9tbX3Y7GlSas32ra9XbUGE6hyZuVQ7sz8rJ2Zm7K5St6W5io2P1+xicmSzS0t2uK5By0/d8pycyet1t2L8ZmZnrDZmTlefAX79t7rFUPbvJ9L3v3QN8Fv+XwxeZ9Tr1WtVq8lX5hiP++V+agGxfK5QiiXSyadbW+HPqjXQ5392OiQ8FMXWYUJa5UfesvkqPNnTtvZ0yeSNogjG/S+yXEc527iM5/5TPK1sPe+9737OXsMGeE9GE6W9+oJk4sHcFFUAi5UBKII7OcCzVIXr0Eo0IM6BEswYYElgSjJDN/9GxXaIX+Qf9U2SO5hQXdk0S4XVwW3EyRIcAxf4kA3AlTYlk/iNllHTixL+sW6gurJr+xnXe3IN7Gv+0FADMFqyJeOyD+KP9AHuUyGSu5EuN0r8PWoUrL/MOAX6qNn+is/QJvyE4n9ezrsTUpTXlyPvmC8YDc3nIwj9ctR7BexjFHlqXys7zCoHst0+/gHYl+BxuNxEbcT6xRDGcYsE5UY+wSacUzT59TTsSE90/b1gv1qk+ORpc4RWuocwj7JVz2CxxhDHMfoh8+ki/Q4LLRBGoTag2HKHxZGhcbGUVFfg3Q+Lr17QVv4TGM8bl82xrayjs6k+BwTlxk36MfYmwxjnABAxjntEXjLhFYCKTkGjlMH8RZfBLt5kKN9zo1TQS98kuwL5eTL2J9vqb9fJo3KkfCtzsNKqodftKRdHWdx6iX/IJA/DMjmmKc/WHIdp018wbaSdAPJpu5hdBs3d4oO+A3U5+klqJz69SDd4/29yqZlsE576iNgvNE+bdKHqqN6c6cessc+8P3Jr85ceOaX7Qv/+z9MJkaxXzaxvrN+xV78nZ+0yy/ufS2rMr1gM4v3vaUt5+uPfZL64LC+Un9J5mHlxEjmcSEfiHG2dZx694L2dMyy1DMN0B96dhlHv9xusFH+vRfsSdNr7KhfsVf9eBTbJYdxAcM+B6pd9QFJz2jx8/FxQFua7ML5ii8BvV3/yK1+6Ae+OirjkAHI4XzEGGOs0If8MMaJEyeST8AzGYi/k2APf0fg604kJi2R+CES7sO59+PZb9j+ZoxQjwlQL730kj3//PP2zDPP2Je+9CV74YUXEr1OnjyZPHeOy9ZB0EbcDseKztmAXfr7CPe0x8FR7KQP6T/6AR0Pi/ygdK9clxzHcRzHcRzHcRzHcRzHcRzHOT6IHRTFYsHmZqb2t/a4dHnXuq1zlsvMWjbbtWx3wjKdnFm2Y9ZtW9duWCezbhOTFauUJkOZPAFiVgiySiEl7yr4shLvafIFy++/Z89mwjKz9x6HCTyZDOU6lmuHRbtrrXbL8oWslStZa3Satt1oWaObt1ZoltQJ5TsZJmftwZvUFl+RCst6q22tbNGyE3OWm1q0wtS8FSqTSfl6s2nVsH91e9eub9SskS1ZpzJjmbklu97K2LV61l69sWm1wpR1J+esPH/CCpNTybvTTWLLanVbWd+0nXojmRRFnA0mdoPOtd26VavNoHswLdi5F5c7ZQuLS5YvFkPdmmUKFZs/cdqm55f4dT/LlcrBGcRlMUEt2J/4h3fG+CdrGWK1iE8IS77+VODdc8jvBvv33iO3rBl8swc/4t/ae+8XfF4POq4n8XihD4OSyMmFPgjCQ5fsT5IKnZApn3jLxCjiipYWZpN1Ykf9fZPjOG8H9q5OR4QT5r140uSCEycuFNjZL5iJfVz4VZ4LTi/IV0AyckjIJJCbCQ4KhAFNZugHbSpIIrnAhXaPAnpJHmAPN00E35CYmEEZ9COhK9uylSXBICTqcnGW/tI1hvLSmyVlCAZigg/1uRFRINpBUJeymiCFDGRJt8OC/Y0Gk06YFLf35Y1kxvu+r+WrYdqhDDoRxMPkAfyjevIPSb6T/9QGbeJv/Cu/y26Sxh/7mbSgAPhhdOsF9Q5bV1AfnWI7+qH2BrXJPvlKS7UxqF4atZNO/VBboL7vB2UJhiJAjUA1+oGgNn49mnXaoQypX5vKpy0l8uhj+ppxxDHIBAj00rFJomxaX+pxPmGJHMk8LNIfJK8fslM2HRuRTkexTcT23Wpok75EB/UjeWxLLx1NyouPf+qyrbLjBD1oh4c+xvRcSGxrUiBLPUwdp+9i2fKBoH2uqTCxP4FQxwZQN61bWgYoD19yPtZ5VuWQp+NOiTzSKLarbLp9MUo+srg2c47gGoov0IdxIX3T+vWTf1jGLe92gH/wE8gelkoclyTWKavy8m3s3zQH7QeVUTnpAGo/LhOn+dOPWLEyZe1m3VbeeDapE+vFOuMBkNMK5UTcjrMHPovBR3E6DOoLGLfP0/oeFeT103GcbcU+OU7idjgf6r5MxzPn+uO6ft4qevkRe+5mmwYhe9W3JM5z6tOj2q363AOwzvV1WOK20Yl7J/K4bz8uaIdnBCbSMJaZGMW9Gf4YJ73G2Z2K+gHfpNGYSdMvvx+j+oPy6KPzUPKDA5OTyWQoJkLdd999yfMj93SMPSZB8Wyp50sSedzr8fcK+voo4CPa0f08ib9XaPIVX05jsp3OmbcCdFIC/KW2dXxzP3Mc+iDzsHLRiWNdf5c6CtJj3Mev4ziO4ziO4ziO4ziO4ziO4zj3JrxT4J2PePj+81/3zuPq1YJlu1Nm3aJZpmXdTDWsN63T3bWOLVu3Q2x0IaznQ+L9zH4sDP+6oUo3yOsyOYd3XchWfBiTdPYm+fAhgp31G1bb3rYW77HyOStU8lYsM0GqYJWZBStML1onk7N2kN8O7XSYXYWcRNZ+rBZ5pbKV5xdt8tQZq5w8bc1C0bZbHevmcrZV3bZrq8u2Xd21RijfDuUff/JJm11cssLEjC2euc86hYrVQhuT80t28r77rDI1FepmrVso2G43Z6tbVVtf27BarRF0m7Zmq20b21u2S8zN5ratV6tWKBaT+Lj5+TmbnZu3xYUTNj27YJXJKcszUSvo0s7mrDQR/Bps4utQ2bBMvvSEXu19e5p7scDEcvHjhSyTWOJ8weoNYpQbwUclm11YtGzQkfhTJjoVi/wofy70bSvo10p8zHs73jXuvUsK8rsdC062On0bcXJxIXkXybu1ePKc4zjOvczRo8cD9+KL+jjwgosICTu5SLGUzembB/IJqovr94L9sRxgXYHXuoDpItYLylOWCxflSUdFdsZ6gXQjkIuAcxLtMkmIQBmCPxTUQzCIdJMcypJiYv/IXwoKYp3AHNpL1zsI9CQQhX7QF3uOAnZwYwH1ei2RS5ASusIo+uEbBThhn/xCG8glsU4C/ECfUI+ksUg+CVRf/cNNDHLYT1vqG9W71ahNdBy1L9PIbo1RZCpP7QxilLJp0J02DzrOVI4+oC/oZwLLyFtcXEy+sMPYkQ699NHxTJ9pXWWwGbn0Lb/gzfES37iqbRLoeGR8sESO5I6DXnbE/Sx/gPYfJ2p7HG3Fdtxygv7qe/wnXeTLhH3fknQsqA79Pm79kc/Y4ZxCcCRjmW2CMjUpinF2u/xGu/IVifMhCV9wDsSnrMdjPx6z8qWOHyXyQH7V8aNl7Hcxig/GMVZjsFUTjOkTljH9dJOdsT6j2HEvIR+wxAfyQ7wkxeNN4yBejotYltY1XhmHJPJv7muH4zDsy+TCPcfU3E19SKwzjpNyoUyhPGUnzj+ZbFe3VpMvTDn9kQ/jvr4T0VgYJxr/x81x6C7iY0H3xhwHOtdr/VbZepzITnEv2DSI2FYdl/TnOOF6Gt9vxW32I75GMN64f2eMHdcfnTm/c3929uzZpB0mRh3mefpeRD7o1W/q016wb5i+HgbGAH3E3ye4V+NHBnieO3/+vD344IPJOucm/tZy/fp1u3btWtKHTE7ieZL7Ol6A6LnuOMFfOieiC9tnzpxJdB6nTwahPmNJSh93HI/KPw4OYyN16EMSx7lsOArjkOE4juM4juM4juM4juM4juM4ztuH+F1kLpe1Ewvz+1t7XL+xZbXGtnV4/9ldDWndOplN62YalumcsqxNWr3WDHLaoYwlP97N+womPmWyvCeyJOiciVLAMhvyb8auFPgB66wVwzZflOp2s9bkvY61rFzKJrHGUwuL1smVeMEZKudC23w9KdQN23xdCdHJhJ+Qt3T+fnvgnU/a1MnT1i5UbKvRsfXdqlVbLVvbWrdWp2H5Us42Nldta3vTri1fs0ajmfygZKebsWK5bFtb28HulWSiVrkyYdlC3nZDmZ1gYztTsEpxwiZKk8nkJGytt5q2Guq0skGHAja0EntKoV6RuKzJvXd9hWLJGsQYBBsmJiatVKrwwiiZBJUvBPuDH2AvDoH3SCVrt/Ziqnl3jD/5qhbvvZJ3c21iPFtBj7rV6McgKx/azAQ55YmJ5F0j+qEn7w2RxeS1va9RhVQ5l7QnKH/65GKyLtscx3HeDowlimDv5H3vnDgVdEHiAsG2AkNYYiupX7AE5YC6vcooX7IE7RB0zsWOQHP2cTPAhTAd8EFdErAvvf8wyF7pxDYp1pF17ONiSdAOM5i5oWKCBkE9TP7gRocy2KE6aVsF8tFdbSGHiSNMbiL4RzaOCgFD6MeSCVK6+Tos3e5eMBxJN5D0i5D+JOykHG3jJ/mCfQRBoYsmmGGf9rNOGfyhgBoS5WMf9UN+1s0PS8rTp+hKQt4gGceB9D9MX6Z11Tb+wm/D+AWGKTMI+RYGjSX1PboB+gH9QVAZk0iYVMIvuWuClGSxRLaSbItRefZzrDCeCJRDPm0y5jSW0IWy8r10kuyjIH+wBOkZ66x9wHpcVmXGjdo5qn0xab2T7f284yS73x79pbbVvnRiST/Q5xD7nyV9rrJHBXmMWcbvqVOnkvMJ45lgTX2dSMfIcSNfKKWRzZyr0Q3/JMdbkvvWazA+0jGrdfLxJedL6tEH1ImPy17tilF8TlmVT9eLtw9qU6AfD/foznWUfhlGn35tDdtumsPUudOIj6de4DOSzoUkylNPSccvsBw1xaT7iLGqNlVW63wtqrq9Gtov2GMf+H677/EPJ/vRibGxp6/Z+Sc/bh//sf/CZpbOW6tRs9ee+aWk3NsR+S7uP/WhllqPk+reiYxDr9tl27jbVd8CSyYmkMdxpPO+jrFxXjuPA/Qexj/xGL1V1+fbifxCwm76ELvHZbtkkbgn0I95DAN1OH/wnI9u45rYkm4f2fwBngksPBtcvXo1Wd7J4/lWIj9onPRCx02v/YPqiXQZbSOT8w4T1/gi1GOPPZYk7qkZT3wN6sKFC/bGG28k/cY2z3j8vYDJbbfzvES76PDCCy8k95hM4uJeAg7yx1GRfI4X9MCPMbp3x4fpfeNiVLnoQl/jM3QbB34MO47jOI7jOI7jOI7jOI7jOI4zCryj4D2KuP/cmbe88+Ddy+sXdy2T6YTCGWu0n7N29wXL2pZlkxlPN2xj9YbV6w3L5jvW6rSsVuO9jN7f7MW4EnnOa4xOsuxaPshqZ3LJF53Y0bS2dYO8bKtr3XrLuq1dK+ZbVs4WLBMqZSdCOb60VCpbO8jI5rtWruQsX8omcjr5Sbvv/Z+w7IkHbWW3aesb27a9W7OdIO/i6rY998YVaxUm7NSpc7azu2s3Vq/bV576on3lS1+wrY11m6pUrLa1ZZs7TZuaP2VT0/M2PT1riydO2MLiCZsJ+2eDCqcnJ2wytJep7VipXbVzi/N2ZmHOzi7N2WQxa7lu206fWLD52RmbCPpmcwXbqVaDjl3LhP31VsOsUAx2TCUTtvCPtVvWaQaHdTKWz+atG7bzed4ddkLRvR80roX2Wq2mNepV29nesgY/etnuWLvZsnqwM5cthr7KWKu+N2GKr1Dlcnkr5IthX94ydEDohnzIy2Wyli/OW6Oz97EHcXJpPpnMBfGkOcdxnHud3F8LsPLyyy8nF0WCHUblKJNY7jS4cCspqBXb8I1sZEn+oEAJ1efCHwczUIdgknQgHkEUBEwRiE0wN0FTtEl5gtCRxzblqSdd2D9Ij1GgDSZb0I4CqmPdBe1RFmJ9sIl9Ch6ljPb3k6OE/bRNIpBEPjgKtIlO6EMAG+ukw3D58hX72te+amfPnrNHHnkk0ZN+lJ9oQ32mvgX2yXbK05cEqelrHtit/fIdCd/Jx6OCPPlc68iSn0m3CtolOIiE3aP2adoH2IBN+E423QrUpvooTexrlpShbKwf+xgvJPmE/dghW3rZJDnqO+oRWEfwI+ONySncvMZjLl4y9plkub6+ngTYpX06KvTjxYsXb7YHyIzbVRss0+tp/caJdIrbHQeSJZ2T7WHkq1yckuw9/QbpqPEALHVe0BhjqfONxogS1xHOUUxeZf9hUbuct2bCeGPMsc35S5PyjiL/MPTyGXlxku/kJ3TGJxx7TBiSD0mqEx+zJG1LvtbjekIyDqJfOWQrH9kx6e10/Xg/++grJgQzNjje2a/jgnWSZPTSpZcevcrd62CzxoD8FvukF/IT9ViPE8TrMelyMem8dDnaIoGORfRs8AeUZt0Wzz1u5ck5O/vYN9ljH/iUPfKB77eH3/99Yfkpe+LDP2xnHv2gFStTofy2Pfeb/9peeernExn3IvLdQakf8RjQurYPqtsPjk2dj2LS20fhsLoJ6sa23m2gv86xJO6jOGbwO8eM/B+XI7+fzey/Uxiki2zRGHs7IH/o3K3+VR+PA9rgeZ1rLffe3FMcJJs66INe3L+zzj0U9ySD+nBYJIPnzPn5+aQN5POjDLTh7PlIKd4eBPv79W2/uuTreY3+YKzwDKYfxqBvyOdvHfwQDn3E8xl/99AEqHGO13GCTjzHcz+tL0fdqr8Byt8cQ6zrHA34mmcedOOYPC7fjSKX8wN9zX34uCYnjsuuT3/608lX5RzHcRzHcRzHcRzHcRzHcRzHuffh/QLvdoCvOvGeZXNrO9mGWr1pM9MlK5TesFzuVKhQt3bmWat3X7SOXbfV61Wr7XaTH6Ku1erJ15Hy+WJIWes0Q9lmw+ZnZqxSrliX96GhYMGy1sy0rTQ1EcQ1QpmaFYMeuWzOkgJhPZ8tWbtQtp1my7KdrnVazeSLR8wnajSbyVeSdvgRuiBtcn7R1updu766buurq3vviUIbO7uh/aBPpVhKJv4EScHIol26fMU2NjetEHScmCgHmQ27fvWi7V6/Yq3tG5ZvbttEyJvKdGyhmLMToczp2Rk7Oz9vpULO6ttrNj83HdaLQUbJWu2ube/uJj44sTQT8vJG1G2rUQ02tW1mbtImZydtOvhhdumETSycsEJlwvKlEnOigq5dK5WK1uq0rd3d+xFOPonFl56KIb8Y2inmC8Yrt1bwZ9hj7VCWdioTk7azvWP1RiP5KhSEXrTq7t77J2SgF1+m2nudFvqlfNY63TfjTmn7sYceSPqed8dHjcV2HMe5E3n22WeT9+CnT5/ez9njrVH4h+RODeIYBS4CCiQjKfgC2xSoAsPaqYAsBWiB2oDYZ5QhiIJgGYIouBCxn4sSQScEyyTB6eFCSlnVQ5bkjYtYPsu0ven2ZBPl0J1AHwJ80J+AIH5dmCW2IVtQT5BPGZICuscRzIVO9AOBa/iUSSKakHIYcAV2UJ/gG5b0C2iSQtyvMZSlbfTAPspiN37gRlT+if1yWOJ+ox18yRhiST7toDeJtsfVbi+wG9sAH/XyzSjgX2wC9L5VSO/02CFfOpHwI3pRrpdPKUP/82vg+INgORJjP12HbQXXxWNEfcakKI438qmHLrE+yCcxVjmPMPaO2s+Sr3GuJUmy00v2AWUhvX+cqK1Bstk3bBKSOxYiudCrXSXtZyyQ0EM+j8ec9gvGB/vk88OAPM5ZTLQhwK8SzhcK5iTolnXaGMbn4yL2Sb/2yJd/OOdxvHFNIp/jDN/gF7Y5dkgcZ9irY1e+HNSGlkox/cZLL3m98kYhro8d3CfQPnbroXZY/eBW9uedDPYzDvCHUj+0Pz42gfrIkazYp8qP8yDO1754mdZDxznyGb+UUVtvfO1X7df+5d+w17/6y1bbXkv+mFQoTeylYsXarYZtrV6yFz//0/bz/+gv2otf+JlEptq720DvdMIXSr32x6gf00n7RHq/0qjQbxozdyppH43CUeqOi7ivOT50rsfv3B/F/pe+yhvUL3eCbaKXLrIZ7uTxdRxgN30N2E5/jhtNYuEZl/E0DOiBXvqxDiZMiHGMJ+7XeJ5g0grXf54RxvEsfSdyVH/Fxzwpvk4oqY1Bbaku95E8U+vHKPiKNn9wO3funJ04cSLZx7MYz35XrlxJvgpF/3Avzd8oGAv01XGM1XEhnzF2L1++nOiMjTwj4IPjhvaV1G9Cz7vJi6Q7BHSh3zkWD9Ovg8ad4ziO4ziO4ziO4ziO4ziO4zjOsPAORfErcGpp0UrFvRhO8dJry9borphlXrdq5ylr2UZYX7d6tWnN5t47C97R1Bu15J0X6H1NNseP+e5N/MlYx4qFvFnOLJ+1JCC90wpth/ZDaau3mlZttmxro2VXr2zaZqtmxamS5a1otUY31CtapjBhk7OL1i2WbGJmwXLlshUqk7a4dMImJ6ZtemrWtrd27PLFS7bGD0Vub9tUObRf27Vrl96wtZUrVsy07PTCpE0V23Z6KmPT2V07WenYO8/O22MLU/bozKTNBVtyK9etsrtjlWrNOis3rHFj2crWsHMn5u0kE76wodWwqVIx5J2wMyfxXdBrgg9f8CGEthXLhWTyUT74oVwph/WK5YuTlgm25ArBnmzWusGF+VIhbOes3Wm++V5w/71X8KZ1wjrv3MqVSvLeN5PNhPL54N9M8oUp9tEHLJk4xkQpthM59EWQEjbNSkvW7Lw1Nvv8mVOWTdrxr0Y5jvP2Y2xfjuKke7eiizYkF5JwEWGbiwg3CbKNpdaHCQShrMqxjkxksy657Cd4gosbFyECrtQGSAeIJ0HEOo8LdCHIBR0Iqo71ANmidlkS6EWiLHUUoKJEPpM5NKEj9hv12ebXfgnmAr50Ms6vkdCGdKN99AD8mrZvEAQzMcPw0UcfsXe84/EkTxNWFCSHzsmNRwp0ICif8pSln2Pf4QN0UToKsRxk047y0U2JfMaidIC47LjANk38OUyAUFontpXHcpy69kO+A/mUPOWzJA8bY5+nIV/7uNllzFAe/3D8g/qGfE3aUP8wvtjHMco6QXWMa84fyGNcUV8J+ZQnWA85TBA56o0u7RLIR2Bc7HvZpWW8LwYfQb/9RwGZcV+MG+QmWu+3Ef6X5B8HyFcCjS38r6T+ZV9sL+uMJ/p80DEXt6F2WNIO5yrGDWONccg44zqPvF4BnKp/3EhX9XU6AUsdA8qjDjZxrOE3Xd/kV/kvLq/9WtdxyLrKAftj4n1p0mVFuv1B9JNBvvqMftLXLJAtX6T1HiTr7Qz2a2zIb7HvDkL9CYN8rPHVK6mMSOfF+9CTpHEvKNOq79j1C1+x177y8/bi7/xbe+5z/9qe/Y3P2LO/+a/t+d/6SXvlyz9vyxeetnbzrdcG6sZt3G6kz6hJpPuvV59qe1BfxzJj4r4cFvqKc/kgXW432HMUXUb1ybiI+4N1EscI27qGxn6Py7EvPo76cTvsGoa0XrGdBzEOm26XX9Qu/cz9T3x8jRPaYZwwCWZyasquLy8P3QbXZ01e4nl3XHDPx4QcJmtx7edLRNyr3cuMMs7SZdlWPzJWlPTcFZ8vVB6Uz/0kPueeUvddjAeWPJMxHnjep5959uL+OZ4ExT3ocYzNWwG+4D6a44vxhj+wj+3jtkd9Rpu0F7fJ35LoO3x+XHoMKxcdGReMBb4MNoo+2KjxlmZcdvmXoxzHcRzHcRzHcRzHcRzHcRzn7QXvVHi/BXw9qlwu2Y219WQbOp2utZtzNj2ZtWrjmlWy77a8zdn62o5tbXSs29770tHOTtVarY5NVCYtn8tat9WwTLtjkxNTVioR2xgKhf9oo5vhhyMzQW7HOi3ecxTs1dcv2VNPP2+XL23aa29ctevry3ZyYdEamy3LBv26Rkxc1yZ451lr2PzJk9bomNVDm/VOJpkQVN3ZtuXla3b10iVbX1mmhk2VCjaRz1kl2JJtNGy6kLdis2n52q51N9etvbZqme1ty9Q6VsoUrNzNWntr17aWb1hrq2a5bsYK+SBjsmSzc2U7eWLBeF3TCn5rtoJvwv6z999vp86csslJ4ptnbG522vLBxrm5CZtfmLHJmUmbmp6xTH7CSlNLli+WQ32zWrVqwVNWKResm3w5ai/2jIlPpHa7ZbV6zYLHgvLEqbesHVLwevJVKd4p8nWofE7vv4P/JyZwaOiLvbiGvfdLWcvkSlbPLe116j4zU5N2/uzppIzeUzqO49yLHOuXo44rCOFWEAchJBegkLCHC4wC5Ng+jI2qR5BEHGijgBjWuQEhcRFi4kKvdghCUSAVMgis0oSTcUJQEEjvGNqKfcUy9pcCZUDb2EMgELqzTtAKF2kFjCi4iIAilpQd58SoGPQhMAkd8d2o/kPfU6dOJV9QKRb5nGW4+Qo2yQeyvRfYjX3cZNDPlCXhp70bmT2/yrfjQP0Vo35BB03SIg/90Q8bGQNsj0sX2UU7pMNAPfk3HoeHlTcq6i+1q+34OEav9HhSefLxqZbkUY++IGiOxD5+XfxkuLnX8UAe7dBfGjeMWwV/EYym40XBeJSRbI0t5DD26HPyKDMK8rPqahvUpvJJslvE66JXmXQaFel1mLrDkNgWljd13Ms+FtI+YJ1+RAf6lgTxmBKskzdqP/OLHow7gh05z3GeRgbjjGsP50+1m2bUtg4DttOOxnacNO7wB0ut67hj/KM/69jFMQQa0/KZ6gPrQuvaJzTmhiFdN01aVi/Zg/I4d9N3uu5imzio7V7EdUax814A29Xn2D7IfsoqCcYUdbTUfmQqxeUhLUPb6dRLFx1/ks341rrGNfV07LDeS04v1O5RiPUflNCzV146vxeyKU74RSm9T6Tz4n0iXT4NeTqX9NrfC8qqL+5U8PW49OvXb8dBPF5Y5xggYUuvYyCtm/KHsf1W2jUI2RvrE9t4q7ldfqFd+hy7j+v4Qib35NxXcD8xrK3UozxwnU6T7r9h4do/Pz+fPB9wr8YXifR893anl0+VxzjBd/wtgmco7n/1Nxk9E+NT+ox7K57NuDdmEtrS0lLyNwE9syGP5zImwqysrCR9wAQ1fsSCe2ievxgv90KfYAPHFjbyJSx8xd+l8CU+PW5on+tn3K861nVvf7tBDxL34qP0eWzTvTBWHMdxHMdxHMdxHMdxHMdxHMe5M+AdOe83xdwMX2Dae28pbqy1rVo7aaX8ectk5ixjs7Zb3bZWm3q8f9+LQynyTijHJKaWdbodK5Z4L8I7jqYVCllrd83aWWJUzPK8v8kV7fpqw371d56zz/6H37Znvva6vXRxzZ5/+ZJdeel1q65ct/JU0bKFkrW6GZucX7JMacqKk7PWCXUr00GXfNEKuUzQqZ18fWlmdtqKxaBPtmWLsxU7c3Lezp8+adOFCZsvzdh8YdbOz56zE4Ulm7cFm6pPJanUqViuWbB8p2RTodypxTO2uLBoU/hjYcbmluZtcWnO8sVcaDNjxXJoN6TiRMVm5qdtbmHWzp47aydPnQjt5y2TM5uYmrDJ6dmwPWHLNzbtV3/1c/Zv/82/s5/9qZ+1L3zu87Z6fc1ybbNcN2ulXMGK2b344eS9VnBbNkc8Qzb5ulSn07ZWs8VLI8sGf+/Fn/AurGW5PD7di3kgn/rU4/0SSyaOdcrnkvKCGIkHz59NylCPd5aO4zhvN8by5SiC+++2l/ic/JWAiwIXD+wgyEJBjkpC26MEgCg4j6UCIoFAEoJv2NbEhTRqm330D/oSrENdkJ5HBbm6AKd1ka3yFUsFGwJ6qbz8I51YSneSLtK0ReJXlkm0uba2NtaALvRUol0l+R3QbZj2qLO0dMLOnz9vc3PziUx0xjfUJ+ipV1+wX7+sTJAM5YT8qHGndBRUX3b3A13VL9SJxyhpUN1RwDbGK21gP+2OCnrKV+h2GBmHBb3Vr7QNaj/2VdpfymeJ3vF+ySSfJNmME4LuyGNscSzomAEC9AjCIwCPc67GHGOTY0kTInSsIZPJiArc05emgG3a1Xov2K8kaA/drl69+pZ9cRnWY5laTy9VLq57FNANefL9cYCuJNo4TtBfNrDUGKL/SMrrpQd5nN/UVwf5F1nJOTEcp9NhDHK8UpfJRAR18pDMuIqRbmnI79Ue+f3q9EIyWKILyzgB8rBVx1Hc7yojVE9BsApsVr5kxTqyrqQygD5C+4dhUNlhZKCDSJfHfoKj6UeOc/odsIkkO3vJ6NU2ecqP60Cv8ncbB9nAfh1zse9I6bqDttPrpNifytPYIylfxOugcukycV8rj+svS8asriXx/lEYtjzl0qkX/cppGRP7LL2udNygF+3EukIvfZXXax8y6AfOqXF/pG24FTYNopfuR+U4ZApkk3QsAeu6Nsjn8n+M6lGWfdo/bB8cp12jktZF26OMp3HZc6v9Qnv0I+c99eNxHkdMCOGe/dKlS8n5dRDoRtIv1DCJRvfjhwV53K8tLCwkzw+ajKN7G6c36gv9HULnCI0d7hF5dtJXvri34jmKbfxMGe4huT/G3zyP8VzGPTPPbexLX2/vRbCNcypjUD6RzcdlN/0Guj/TOR14RiafvtA5fNwMaxdjiLHCZMVeEyF7IdsGtTEuv/qXoxzHcRzHcRzHcRzHcRzHcRzn7QfvVYiX0juJxflZu7ay+pb3D9vbbTu5eMryuZZlbN52a8tW3elat10I9XjnnrUCPzZYKFq72bROo2alIrFmZbNQJ5thws+EXbmxkUy+KhVKVmtk7HNffNGeeu41e+WVy1avda2dr1i10bByvWYnp6fs/scesfWduu3s1MyyOWt3MsbbnkwuF3Ti3U83aaPWqFu+UOADS7a7u2XlbNfuP3PKHrzvnM1Oz1inxZecZm1masYW5hbs5NJJW5xZtHKhHPbP29zCnE1OlG2yVA56E7ecs2I5Z4VK1iZmQt5Ewdqh5Wa3ZbuNltXbnWTCVmlqygqTlWQyVKlUtFxQoF7dsXwwd2pqwmaD3EbQ+dnnXrHnXnjF3ri4bMvLK3b16jVbWQ7rly7b5Tcu2vLVFdve2glt8o6SiWahP8K/Tmgny/elOh1rt1oh8c4tuDSbD74nHrlltSrvIUO/YHxIrWY7yQfe1XWLS1ZrvfWHBE+fXLSl+flknRgyxoDjOM69Sr8vR41lchQv/+82uOArKTCGiz4Xg37BHcpTEM2wqA2WCuTg4kTwDetchAYFVsVBHpSnrCb4oId0PgrIUYBLrE/sJ21jC+WAcmn9SL1AT5LqoD9BR8hUQPeg+odBuksm7ZLQn/bJ7+X7WA+W+JsgqXK5cjOYiskoyOYGUnapjqAsATvYJvsEPkeOxoZ0OwrUpw1kI/MgKEsdjUvphH+GlTEI5DCukI/9o9iHPiR0QBeNOclg33FDG+guYh+hVzrJZ/EyjWToF8qxizYIrMNH1EM+dmpsUo5fLGebX+qOJ3YA5xJkEqynyTOMWf3iORA4KVs0TigHkqUUjwmWsoVtdExPjoqRTJZxUlmta7uXjMOAznF7x0FnX1f6JzSSrB8HGj/Akvbwk4IPyes1toCy9DtjpXbAZFPKch4k6HMyjCFgHBLsSUCfxsAwxPr2g33pcrF81rFP45OkOtgbJ+Vhg7ZVP43yKcuxAvhSxwP7IYPsfTnJ9n7b8brkx/tiVDdNv/JxfrpuL1lpOazT31xLt8LxvxMSOpIvXyFHSUhGLCuGfFKvOrcK6XAcDJKtcQXxMaDy6WVMnMd6eltozGrZK/VrV8TbOg7Uz1xXWKI/ScfUUZBeSum8NMpHr3i7V1mQ7v04qv5HQTqnl9DPHmCf9Gapvoj7Q+eUmNtpKwyy6SiMS24vOeQpnzGne8ZePheqQ3mOIfb3KncQyLiT+gxd0tujENc9CuOScxBqhz4kpft73Hogj3trrr18QYf7iYPgeZAvxHKPTh3G5WFhvHLvxpeLeDZgshXP0UeReTcySr9SVolnKvqDJc+o3BfSl0yCYsIbfuXLUDz3M5547uHZi4SfedbSZCjutfH77T7+bzXYi908a3IssC4/KI0b9bfud+K/u3A80J/qk+NgGJvQUeOJ8cJ5aBAak3CQ/HH51CdHOY7jOI7jOI7jOI7jOI7jOM7bE9418G4HeD/BxKbV9TfjvdttfoA7bycWJ6zbnrBOZ9uq2y1rNfbiI/lyUT639+WoZqMW8ms2UalYqVyyQjEX6uRsfStjTz33ij3/1Wfs0muXbGWtai9duG7La0FWvWn1etuqHd7xdKy9sWvFsHzgsfstW5627Z1dq1aZAJSziamp5H3Q6sqqhZZtcnLCGq22TUxOBeWztrW+aqVM106fWLKlhYW9CVqFjuULwa5KsDHbCXrybqVtjWbVcsWwmuEdUifZ17Fm8q8b6nTyXWt06kF+w5q8Zw7t1xstqzaDLoWSlUObpSCfL1Zha3VnO9het0I+a4VSweaWluz66rZ98amv2dZOy3ar9b36uzXbWF21leVrtnzlql27tpKkC6+9bk9/6Wn7/G993p76wpft6aeeCcsv2VNf/Io997Xn7cKrrycTvc7ddz6ZIBUUT9455Qv55AtRvJPjC1PJe6jgi1xx2nY7e3GhYjL0y6MP3p/0WxI7WPOvRjmOc29zrJOjCKS+m1AQAhA8x8WfmwDsV0BVLxSUQP1YxjBw0QZNXCBogrz014RipIvak4zkQhd0RXdNitBkicOCDAKEaI/AEpbkpW0lICX2lwJhgDrD6EAZ5OiXmAkwQn8FrbNf6ajEumsdnWlPk0dYJ0/QrnxPvmyUPwio0oQfEtvsxx+xzrIROdgYtwGUpQ+RS9lh/ZdGfURdEuvIHAXqqT+pr35GP7ZVZlSQQb/iY262+smQDUK2gPzD/ji/n6xxojEA6KH+kr5xIl8JyIthGzuQoaA8wO8EVuIffvGaJeOLsQnYyTiizvLycnJ8khfLx88Ep62srCTbGqMEi7GkPJOjWCoBS431OGFzXA6wi2306zc5Kt5mPe0DUF667lFI9N5vT/4/FkIb6E0/MomG7bGDDSHJTyxpj3GCnaxrTPbyr64LjClSLz/jI8rpV/GRyXWcoE994e0w/YM+pEF1kQ2USfotJOxRm7IX/ViSdFxJfpzU39Qd1C77aIdjI/aPSOqGFLcFaoMl0jv7vu/FoPalZxrJP0h/QXnpBviHPsS2jXCMc64FlWO/ZKflp2XFSF/2D6PXcTJIz6OSlo3dSr18JuI6/daB+un9yGZ5UAK1H+dBvI08HSvaph5jQueNXnbE8gahtoZJKh+jtlkqjcph6gxDWtd+xOV62ZmWo230js9zOtdp33HZJdAjrdtBqM5x63ZUpCcpPqa4dnBPhJ91f9/P19QDjh3qxv1zNyHbZSPrMYfpy7SMOxnpSr9jq857xwn3Etxjc8/EvTv08xn5fOGJOjwP6pnwMD6mDu0yeYd7mddeey2ZrIM8cRi5dyuDfC60zpI+4JmKZywmlvHHsYcfftgeeughW1paSvzI89KFCxfs4sWLycQzfgSIZx8S5xTG1mGOqXsNHWs8S7DOPTU+Pg7/xPI4x3Pu1rldeRz/6EMfjbt9GEYmeuhvfIybg+pobA4je1w2+eQox3Ecx3Ecx3Ecx3Ecx3Ecx3l7wrsVvWeBCl9jqtWtGpKoN5pWLJbNOles02lZdbtrzfree1e+HsUEqb338DVrt2o2Ozll5cqEZXIZW72+bRevVO3li8v2/NNfsesXr9ryRs3q9Yxt7uxYq9ux7Z2q8dWnrHVsd7tunXrVlhYqNnXijO1Wm9Zpm5XKFSvk9977rq+u2uzUdPIOqNHqWCvsr9ca1mk2bKKQs6W5eZudmUsmbTERiq8wtVpMwqoHvauh7E6Smq261VsNa4Qyu2G5265bsMDqmYw1M2ZVJoaFNizTtU43E8q2rN0JtlrOZuYWEp9NzU5aqcgP4Ac/WDeZELawuGC5YsVeeu2ivXbhqnUyxeBDYtFayXsg/hFotrtbtcuXl+3SxSt25Y1rdunCZXv6i0/Z5QsX7fVX3rALL71mV1+/YtdDmdWVNVtdXwu+r9rq2ppNTE4m74dzwfe5XDZ5J8YcL/yTzRZsN7MYdE66KCEXdH3i0YdCub0fk+Vd9rjeMzmO49yp+OSofZKLT0hcuOLgCgVYDLog7F1Y9oJmh4W2FLSqtgnMYWIEFyAFMsdID24oYn1j2Ed/sY+LIBc/bDhsQAr6EcxB/ThgHPlCgSfIp23aE6O0iwxNjKItJnwQQMK6fsWZMrHNh7EJ+vWVbGCJ3diiIMrYj/K/+pCEzORmI0Af4hd0pj4ygTIErWGPvuaTBrnU1VJtDmOr9CIJ1aftOH8UqC8fSBY2p/tjWKgn3xBUlrYtbQP7SdhCPm2rDO3H9dOyxol0wA+0Tf9IF4h1UlJeDPnUoz5jIe5nxorGXGwL+QRbkseEJ44TjnF+gbrfTSvtUpb2FPCXfA0orHO+IR+kKzI0zqUPSevQyxagH69cuZKsg8prCfF6LEc+Ul5c7igkckJCx7Te44R2SPFYANZ6pcOgPgLakr/S6/SVtmMYY/Q7/RSfywG9GUucf0mUJUiXQFDKMybGBTpqqXGl8aZtdMdW9IqTbErbFqO6INlppAOoDPLja11sM2VivVi+RZd9GbHcNCqfpl9+bMMgYj20ji06P6yFh2JNnASVo4zsSrchOb2I24kZVOe4kU7HqQOy1fe9xlQvpE9ar3Q+S6VhULm438hjm6X01BjSNvvT53dg3zApXbYfkssyne4mBtnYj9hPgnX1gZL8oet82je9fNWr3GFI66ZlOsXEeePQ4bhB1/g40L0a91GkYc7XJOqA+ukwIOd2+Ix2YVDbR7HpqIxDxiCQT6IP6X+d+9I2j1MPZHFPz70E60wsF73aIe/MmTPJPT9lGZvxvUcMZXvJAMY4z5ZM4qF97sW5hxv2WnWv0stn+Ioxob8rkHg2uu+++5LJUOfPn795r3zt2jV76aWXkolm/E2CPuL+MD2O4vMD7R32uLqX0NjjGVQ/rgP4Ztz+UT/TtyT1D4ljn3th+oi+O46+GUamnrE4LnmWH4TG7LC6jsumH//xH0+OA8dxHMdxHMdxHMdxHMdxHMdx3n7wLoUYQuBNxcz0lK2srr3lfeP6Rs0K5VXrtmtW3elas0E8LYnJQ7yrySRfLmqFvFq9Zes3doOMTbu+tmVXVnZsc7dp7SYToXZtY2cntJOzertj1SRutGrN3R1rB1FdK1g207Jivm3lYsmm52as1mlbtlCybifszXettrtrk5Mz1sqGsqWKZXJ5y2SzVi5P2ERlKqQJmywVLdNuBt2ylmfaUivo2mhaM7S5Xt21WrdtrXze6jkLy6ztdJq21ahZI2iQKRasG/Z1s2E92J7NhLKh7Xqza8XJKZuaX7DK9HTY0bVcqFsq5m1qIrQ5VbbJ6bLNLi7Y8vVNe+YrL9vGZjX5qlY26NFM3gd3bXNjy2rVuu3s1m1tfcM2N7eCN/I2PT1jW1vbyTuuYqGYxNbSL3liczM5W71xw1564SW79PpF21rfDH4IfktiqvOWD20wUS2It3p2Mdj55ntS3j/df99Zm5sJOgeSSWI94pUdx3HuNXxyVEBBFSQCZlhygVewS3yx7wVlVH9YFJyjgAYuZiSCJvoFbyjYQ20hoxeU4SLGkmAMLpbYovrDoDbQkcAWdJJesZ3s14SgOKiLcqO0hy0EIxHQjXzGDkmBjFyYWdIefiKoSTrCsO2I2AYhGQqgoT1sI19jQYE36j/pwD7sJY99BL6Qjz2SRxkFzbGtiS5pqMeNDkvkUUZpVKij8YteyDwsshN78I3y0JWE/GF1pA8JSNNEDdXrpR/7ZIfaY0lSH8hGGFaHUUAmdtMOiW3ajseAxoXWWaYhH/0ZVyzVv4xvBY+xLRviJfvke+op+FKTKWMfAG3RDmOQwD/9Ijp+ZxwigzIEVHKMc65AntrqBfsoE9smWzU5ijJxGkQvWXBQvWHBX6GBmzoeF+iLz9TOQW0dRpNYrvqHMQTyF8vE5oB8CdSjLP3PeNHxyxjQOYnxwTrXICalcn7SdeQoUD/Wj4T+JOXLNo3J2I/pvovX06g8xO3G9MoD8nW9xD+cl9JQBvnSk4droF329Ttu+kG9XvbE+bG+/XSPy7PEDo57jkmuo7FeKov+/WRLVi8oF/dJP51uF7JvnMhfshubD7JbOqR1ifPjdWSPCvV66SFdtS75nBt0fojrSZdeSQyyOc7vV+ZuJe2Hg4jLxuvqByX8pHNgL/+l/ZjeHiexXnES8fao57jbQWwD52oS65zX0V9+70dcl35TnbsJ9IeDxs1Rx5XaudOQXiz1zMC5D3v72TwuWxg3+hEMfrxgkI+53+BLT9x3ca2m7KhjDb25h2NiFPKY0MN93t02Zo8LjQE9d+Irnnn0hVSej9iH75lMfvny5cSH9B19onthxk/apxoz/fLfzuBP/IafOSa4HwV8c5hxPgzI1rVWxzvr9DtLdDiOdmnnIBh33Jdrgl0/0BOGkSlGKTuIn/iJn/AvRzmO4ziO4ziO4ziO4ziO4zjO2xS9b1AMGu9cpqcnkwlSMdVqxfKZXattN6zdYYIUP/5ODGPRdqu7dvnyNVtfr9nVq5t27fINu7KyZruh3Ga1brVG2zpWsp16zba316zd6lg3V7I6n31qt6y+zTvTmhXLFcvmOlbbWrNZ69rMwoxlKxOhHjGjWcvlM5Yr5Gy71rCJxVOWL5WTbSZITczMhDRruaxZ0dqWCXJzhYLlmPAUWm80G7YT2lve3LBaJjRbDPZOVpLJVxZkdHOZ5EtWpckJm5mdCvU61qzvBH9kgv5Bx1CsODlthclJy4W6xVLRCmFZKuSt0agFvYO4mYngi4Z99elX7Lmvvmabm3vvbtvtjm1tbFor2L2zXbWwsEyogB9z+aBj8H2hVLKNzXWrNqpWniiHjshYvVG3VrCjE/qICWm14Kd68Ofrr16wq5evWi34vbq7E1KoU5m0Vn7Rqs29H4EVi/Ozdv7MqZvv0Xg/7TiO83bgbT05ipM+F3QFUiiATgEwXPwHBVFQVjcIkjEsaov6rBPMTBAJgRu0n0b6UIdEe4OgLHJIBGghX/ZI52FAN4Lme80aZp9ujBgj0nvUdrAH/QigIbBLAd0KZATJJE96YBcBTehBgkFtyndKlFVCthLb8h1+JqhG8qFffZaAT1gn+IUALOpqAhABc9TlRgNbekGbyIjHlNpRGzHSR2VjVGdQmYPoVQ+Z8hFIZ1Lsq176Av1NUtAZ9NKN+uoX9iNbY1/+IbEf+rV3WNQ+drKutmlTfaQkXUgx7ENvyjO+WacM8hgX2K/xITmskyBeB8Y944o86nIMIFs6ktimzOLiYhKQFesa68hS+qEbfcISm5EdtxtDHSEZHLcEFYL0GAT7pYuS9BMHyRBxHUHNLuMmyIz1HQexzmobXdWO8ofVfxiwA5n0DecO+kl9pXbipXRQoiznMr5YB4wbxgaJMUV/c97VZLtRdI/LSh+leBukD75Sf8fLuAwpJr0dI3kQt38QkklZ6uMXlpqsCL300Lkort+rvUE6UDctG8iLbRkGyaGfuWajX68gTLUZy5edMb30EqrfS7dB9YR0GKbsYRmnbGRhb+yzg/qlX/vKlyzJHlVfyqd1IC9OutYoAX0d93dahrZjG9NlRL/8tzvytVD/KuE39UMvH99Jfk3rfacjX+v8zBK94/vVg9CxqeMnvrc6Csi6FaidYfQdR58e1a7j8gtySbpPUj8eN4wb3Vtdv379LWMnbSvXau7LuPfinoP9cfmDoDwTLrjXh5WVlbf9xCiOX+7jeJ7hmZt+wEcknos0UQZ/c4/EhCiWPI/yHKO/dzBeRvEjMpW0reUo/Xkvgd34kElo+BT/6rw6yjgfBmSSJJ/nJLXBGCD/uI6Ng+xgTDIWGZd8kbfftUj9P6pvRik7iE9/+tM+OcpxHMdxHMdxHMdxHMdxHMdx3sbwDoN3KiQoFgqWzxVsffPN2O9ON2P15qR1m+vJj4J32hmr1hq2emPVXn75QkgXbX29aru7bWu0mlZtNqzR3PtaUrPZDRWIWWnb9tZmqFezTCZv7U7Guo2W1Xa2bHtn2zLMbMp0rLq6ZktFdGnbxNSUtbpFa4XyO42GZZmMRNxcedJq9abtVvk6U96mpmesUipbnojB0H6r2aRJy2Vz1g3tokutUbdarW6lUiG037VCadJ2d3atUilbIZRrhnoTlZJNlkrWrjMRiXdMFtoJ/imWk4lTvHeaW5g1Qgumw3Y+rHS6bduphvJNs5dfuWzPfu0V29qpW6PdsUawj/dU6+tboc2clXiXOckXripBFj+iaVbIF5P3SnxFC70rlQlcnnxhiglo6NUJvmIyFV/QqtUbthX82Ar5Vy5ftq3tHZs/9Zi18jNJPVEpl+wdDz+QyOa9ErqP6/2S4zjOnU6/yVF7kWFHJA4ouxUnVgUVDIOCKJSYPMASnRUQc1AAxWHtitvlpoJgCYJGek2WURvoQnkuVqRhwA4CUXRhIziEoCBsHQbpx1J9KchP+wyk7yhoIgcBbNJXQS0xbNMOwd76lW2CmfCHgqD0a92xj9CRJN3wJXK0pC1tC9mtfcinn8iL60tH9Qt50od17EEf/E4ethJ4lQ5Yj6ENkK6SnUZ2HQRyhi0LKjuojnTDP9ijgDLysRFbSdiuG2eBTPIkg2Uv4v3Yrz6J9WKp+iz7yRoVta1+ls5qV/qob2KdQOWxX0nHHT6j//FXr7HHepxim3Ss0CYBVsvLy8lkF3y9sLCQHOOMU8rwK/IqOwyUQ08FWlIXG4T8qyTQn+3Y/n6oruxK2wexL4eRKVRPSXKHl3B0etkyDhKbwhJfM2aAsUB7alNL9XfsW+qrL+lj+pbJqJyXkMmXohQcyvZBqF3a0PhNr6sM+pBoX0l5SuqzQQzaH9eP2xZaj/NiqEs9rj1ci/ELSVBPbbAuG9lO26Ny4ySW18sG5dE+10Cupdgy6DpzEP18Rb72pe08jN3j9tW4Qb84xX7p56N+yFYtj8ogORqLjFOOS3RlWwniY4UUb0O8flTidu9G0r6LSftIfkvnqy758rW2tUzXOW5iu+IU72Ms3Wq9RkE6asxrncTY130WNsR+H4RsV5+Q2D4qkntcDCM7LjMuXY4q57h8wvUZ2aP0+1FhvHEfAbQ/CK7XXKd5hpJ+w+rA+OZ+nXt/2mNiFM8D2Pp2AV9xv4MfmWiGL3j2YUniPlfPQfzdgMlqfOGWZycmRekHAfA//TDsOEmDHvQ1uihxj07SuYgy4xhfdxP4U1+i5Z4aH3F84A98JL+MC52rY7k6HtQPtwNs5dkLP/Q6PuOxcZjx5ziO4ziO4ziO4ziO4ziO4ziOMy7S7zNOnViwpfm5/a09mMyUnXzIeCW6u1u3K1eW7ctf+ao9+/zLtrHVsO1a13YaXduoNm0zyLuxvmGbG1vWbbWTHzinXqubt62dXdve3rJ2vZnsy2czZp2ara5dSyYVVa1kr168aI3qlt14/UXLt3asXMhbu5sJ7exasVi2Nl+jCtuF0oTNLZ60yak5yxZKli/PmJWmrNrN2Va1bo3QKF9uoo18t2tTlaItzExaOW9WX79hne1N6+6EFNqqWNsKraZtr16z7bWVoFPXmp2c5UoVm5yZtbm54JMTS2E5a7Oz0zYxGdqen7fTZ85YuVyxC69dtaeeesWWV7etPDVl03Pzli9WrFCcsKlpfJmxem0v7hlfZzNZ46tTfCGKd5bNVivo204mnTXDkgldTP7a2amFZS30Ud1urG3s7Wu0bGerZstXb1i+smT5mTN7nbRPPp+zdzzy4M331v3eVzmO47zdGFv0gAIVeqVxMkpwhYIQSARK6CLABYA0qn6SNSwK0CARLEHQHhcgAkbQRcEb0gGdYp1HgbpMwtCXmDSBiECNQbLYJx3lE4GO8hky0R/kt1F8hxz0IWiGi7z8kG4zDfspp8lU1KM8/pSNTBhBPvmUJ6FrOlhStsouknxDOQVOEeTExBP5RXW0Th21paAobmbIU7A9bWoSUS+QobYBWaB87YvLDELtDFt+2HIx6gv1H0vaxX5NkFIQlGBdvuqF9rHsZ3ecP07UtsY1fYwtGhekeF2wjl2UxWYS6+Qhj+BF+l4TIWUfy17raWhTExzxM+MSeUxqYaIU7RMoOTc3l/xKN8cAdUaFOtQlsJAlcmN9pGeM9qusjodBSA5L1Qf5sZ+Mg+TeJNLpVkGLaVvGhc5dwNhKy1a75GvMCbY1hgkUpV/ZzxjSJFPGZbpfQf3DPhI6aF374rZpQ22R0n0p/UYhbWtMLC+tT0yvvDQ6hwHHGX5WPS1pL/ZD7NvY5thekV6Pt2OUH+vcr2xcBn3Rm/ML1x6NlzTD+AL6lSOfJBv66XYv0atPjspRfderPmOPMQg6RnXuiMclHNT2UXTrx7hlHoeOB9GrzX7jIi7LOuV0/oRxjqdRQR+SxgznMe7VSDqnse8gevnjViEbAF1J6A6cB3WvBcP4WrIk93b2z6hId7ib9Bax/uMAeYxhXathlDFwWGiD+yna1Y9q9ALduGbruQkdKXtQ+7KLe30mAtEOE324n5Od9yLYzfHN+YlnIeznOYXnHdZJTJDiuRM/cG9748YNu3btWjJxjOckPc/jb84N8Xhg/TDHDXV0jZX/dT7VOVXnU/XvoD4etO9uBL/QD9hPv8lf8g19Oi6b4z6M5dIekHc70HWVY1269OIw489xHMdxHMdxHMdxHMdxHMdxHGec8L6CWKOYh+4/Z5MTb/64NPB1JKuctRdffM0uvPa6Vas1a3c7IbWs2W7aTq1q7VzRavWuXbp8NfkBw+2tbdvY2LKO5aybLdvFkH/p4kWr72wnk6b4xfBWpxnKrNra5pbttLP2+k7dmiE/09i23SuvWKG+aVNFs7xlbePGDi/XrFQuhTYz1uyEgqHNViaXpPLMoi2de8DKExPWSN7RdCwfikxNlGy6UrTJYsHyQddSc9emrGa2vWbFVtWK7YZt3Vi26uamFXL5oFYuyC0nE5wqk9NWLJVtanoq+RLVyVOnrFGvhvxC8F3TNoMtr71+1S5evJ5M4Nra3bJGs2GWzQX7d63Valt1t5Z8Nateq4e6of0gr5AvJO8vky9ENdvWandCGX5wvxts5J13JpkExkSpap13nR3bCXIajbZdu7Zsjzz5fvvQd/xg0jeCd2OPPXi/lYvBYQHFqzqO4zjhHLm/PBJxYAIXUIJGlBTAMI5AgFGCKiirhH4EawAXGQW2DKuTyo3afhwwAwqMon3pJJlxQAfpMGCTJkhxoSN4mgB5BaWkkX9I7JdfAN2kH/lxcNGo/YlsAseY0EE9BeiPIody6ECwE7+YTeAT2woSZ6k+jsee/EliP0v5XOWwTzYin3r4jeAe+k91VA8ogw3sI0CLfiXha9qhH5DXC/mbhJw4ad8oxHVjHY8D2sFn8pX6Euhj+oKlAsRkYy8ki6X8IRt62dFPzqggR32utmN9pTPLeMyoHInxJjsBWfS5bjJll5J8xhLI6wdyCf6jPGOdJeW1TfAZ2xxPjFF0PCzYxAQa2qNdkL6xDaC8wyCZkieZ6mv5OI32K6WRrH77j419/WN/jKN95GlcaqzhG/kujfym8pyLOAbJJzFe1tbXk2uCgnIFddhWot30utpEFuMsPkZI8rtSjOqm8/sxqBz71J70TqP2hoGyPOjjE/yF3/q1T1n5gzL4GT+wriTi7fS+NNqH/Fj3g+ygbR33uqfox6D2Ywa1qX1pWQfZdycwin6xPbKZZdo3KjeK7HEQt6vjkfX4eNU66HjR8iCGKTMqyByn3OPQ8SB6tdlrXEBsr/oDVD5dr5+MoyAdlNT/jBcFbseJexmSrjVpGWl65R0naV009tEX/3JfxJiP/TuKjiob9xek2z0s45ARE8vrNX4GMW5djsK49GA8aIyrD0f1y2GhHd2fcx8tPWLY5h6DJddqjVXtS5ePYZxzb37ixImkDvf++iGOewn5gfMQfox//IFJUXzhlsR9D/3LD0VcvXrVLl++nHwhim3udTUZStfAXuC7uA9GQWOL+vQ7z3p63qPvOSdhg86tulfUuBjU1/cK9AOJfuS+WudnXWPG6Qf1h3wMtAdq61ZCe/Q7unBvjn4itvteO34dx3Ecx3Ecx3Ecx3Ecx3Ecx7l74T0OMY6C9xxPPPqQFYt7cZA3yZft/OPvt+sra7a5uWmbG6u2vrFs1dqGrW9et53dHau3OlbdbYX1uq3cuGHPv/CCbW5tWaebs3bHbHVlxTbXV63TaVsnm7M879RCe9ubG7Zda5pNLNnqxo5ZfdcKu2u2fuEZq61etomJopWnp63ZbFir2bRiuWT5Yin56pJlsjY1P2/TJ07bwpnztnDqjBUqk2Ffx5rtsL/TsVKhGPRds0I+l0z8Klf2Jn/xVSbsmlk6Y+X5s1acPWPTpx4I8hZscnbeKlNTVqzw7sdsK+i4vnrDNjbXgx3X7dryNbt06Wqwb9eyQX6hWLCutS2X2/uCU7W+/7GBjOIQ2kF/3mPxvoiYhnbwyd5HNfhl9laT95fB/5m8ZXOkkB9sS95DhnXs3tndtUfe/Y32HT/yR/bl7JHNZOzB82dtZnoq2aZPeW/qOI7j7DHaLIw+6KU/F8p0IAhBAHsn+zfTqIEBkjUsKk+STgpoYak0CqOWV7sKlODio0kk8oNs0rrSUaEdguFpkwkPTPQhMCUtm231lXwErBNYwj58RhKH6T/kEeyEDgpIRwayYBR5lCX4Bdu46SJYjCU2EIBGQI6CchScJBvVZmyTbJfNoL5CjiYaxFCHhB4saYsybCOfJakfqk9CpziRpzKjktbzuEFf9YV8ht6MubgPeo0ZtsknUUd9BLHtrJMkQ+kwUE99T6JN+hwdNQZoS21IJ5bsoxxjmMQ2MhjLmhTFtuqSpDP5aVv7gT6zs7PJOgF/yEWGQJbaoix6HBX04RzBMYo8tScblGQLS/ULaHkQ1FOSPBhVTkxaxnFDO/3aOooO8gn+BfWt+ld+k72CNhmXnKf4JX1NciMwj3NjMok0HJeqq76kHVK8LmhTx4X0kN1xOgjpOkzZQWXYp2NG+qdJ+2UYOF/pl1AIusVekK8kM17SNvrgF5J0G3RMD2P/MCCHxHmVxHlg2EBp6TCqLrHNo9YdheOUP4rsuOwofr2VMNZ0TOoYRlfpq2OEMhqXLG+HrmKcbd8OOw5qM97PuvojTjG98mIOa2O6Htuk9Plc44Gk8RTvU907AelJQj8S67rPTo9/cZD+kil7B/XHnYJ0hqPoe5BvDuKo9ceF9KAP8Qdj4VbDGOReguNLYykGHbm3Bt3PK4m0P9nmeORZ4OTJk8kz7qVLl5L7uqP0+51A3Gfcq3Lvxb0rk6CYBIa9p0+ftlOnTiXPkfiML0K9+uqr9vrrr9vy8nLiD5458b2ugf1I+4ttysf3vMOgOmpTfcg6/a9nQfZjG+OBZ0WW/c69kO77ux18wt+fsJO+ZYlv8Av+wA+x/YdBfao+wK+CdsijnVsNetAu9sZjUrZKX8dxHMdxHMdxHMdxHMdxHMdxnDsJvXcT+VzO3vPEO97yDgaWTp+z7//RP2i16q41ajt27cobdvG1l2xz9bqt3lgJJTI2OTVrzVY3pLYtnThhk5PEKhdsKuRns2Zra9dsc2cjNFK0XL7CSzhrVHdsY33d1jdq9tWvPG/tZseKfPmptW31jUs2We7Y3HzFKqWcVYo5W5ybTeTm8oUkbqpE7FSQs7ZTtR3mWM0tWq4ybTOLJ62bK4amyjY1u2QTUws2deKcTZ64z0489IQt3P8OOxmW9z3xflu8/502dfYxm7/vEZtZWLTZxUWrTFQsm8smk5jm5mZsbX3Fzp07a/NLS7ZyY9PeuHjDNrfrvAwK2maCT3hv3AhrezHDjSaTzvZiapkclc0Sm7Dv0wzxPGzvvUdq8R4yeQfZSb6s1aw3gl+q1k2+KlWzevDnk9/4zfbDf/Q/TtqLOXVy0ZYW5pN13kUpBs5xHMfZI/fXAqy8/PLLyUn5wQcfTHaMAoEQMQp8iBMMCgxQmaMSt0lQBhdsghSURg1OUHlkkYaFIBBNmuFmgqCZGGSio3QaVf5BIJeAHZbJDUGplKwrIEjtye/sRw/GgPJZVxAQSNdRIFCEwCeCw7gI84vCINsPkql9LKW/6iiPhK6ArUwUoF35M22HbFdCF/kBKEd59hHco22WcTmgDIFP5FOW8UZ7+F46xVCeMvGNpNqXPrJJ+h4E5aRbWr9bgfyDvegN2KFjgP0KFpKuWk/7AmI74nXJPgxqjyXy6DPalc/VBmALoL+C21hSXjLoX5LGBUmoTJzPNklt9oJ9BAgyftfW1r7ul6eRRXscqwQREjgY630U5AfOU/RVbI/aUB79zK+2S7fYzrheL9L6yvfUS7czDPJzug+PE9kd9+NR2kZ/ZNK3yGGsKbCPJXkaZ6Al44Xji3Mrk9vY1nHGkolRqkeekuoDsjUmlcg7ij1pkBW3mWZQW+yTn5HRS84g2QeBPzie8KMCXGPkizhRR34C2tc+0W89JpaBTDHIHsYDE+Aoo6+B9Ssv2WpHfd+rvMr20jW9L67fq/xRQJ7SuDlItvbhL/XHIF8NQmUkU6S3R4W6HK8sdb2VjrFcbKAcx3/c773K3ipoc1ztSlav/jku+ukuXfC5Ej7vdbwdh76xXlqXTsA5g3sY9BqE6pCkt2TcLtQ+S8Zzr7E/yKeD9Gef5Mb91YtBcoblqDKorz5E12EYh979OE7ZwyKfMMbjPhw0JsYN7esLzTzfxvdqwPhaWlpKxuz6+nqio/QmpfVlH7KYGMWXk5gItLKyktyf3K1gE37gXovnG/ylH2Tg7wMknmfwDfetTOxnEhQ/EKEfVJFfD9O36bEqGeqDg6A87ev+mm0thfJI9DUJdN4iqT2SdKIe60r3AvgA1Kc8V+I/fKBjNfbdYZC/8CVydXyQxxhDPs/Q42aQ3oxvxjX2aiKj+vSo9opxyfn0pz9tZ8+e3d9yHMdxHMdxHMdxHMdxHMdxHOftDu+2eI+jd2cs52ambXVtwzrR+4nK5JQ9/NjjdvGVFy3HO69uKN/NWbPDD3J3LJfJ285uzRrNppUqJWs1G8k7tnqtbo3qlmWyLcuVJyxbmLR8Jmet3V3b2dmwVqdj2zs7NlHK2CMPPmilQsEs0w75Vavt7FqlUA6yWma5vJUmp63Ge7t204p52u9avlAM+7KWC+W2toKccsUmZ2at2Q62lMo2vXDCihNTNnPqnGWLlSA7b91g79TsvE1Oz4Y0vfduq9u202dO2uRUxSYmy1arb1uttm288lmYnbGJykQy8eull67Y8tUdq9aDb3I5awT/7W5XLZ/NG1/dqtXrSZx4t4Nu+HUvziEXdGSiVNc6e5O6knL1vXJBH8rox8+xK0efBPkf+ti32h/4U//p3helIk4tLdr9587cfCfFu1XeyzmO47wdefbZZ5P34Pwgb8zBUSFHhJMwSQEhJLY5mSuQRIm8o7z4V1tqj4AJ5HLyP6z8w+hD2wRJEODUa2IUoBM3GAoWQedxg81c/AiiRr4CkOIgHdnHOrCPsuiGjtov/40CsmiPYBFueNADuchHFjJ7oX20Lz9pnX3qX5JsAdpgUgkJn+N/JiwRgMVSfaI6g3xOWwRp4T/qEmyjdmJok3wmtTCpgXaRy3osn3XajfUVsY+BskoHQV3VH6b8cYIeBCjhMwKDWJfdmqCH7dhJIv8gndVPsnEQlEvLo57aY51jTROdJDtGMtCXRFnKMQbpax3PGovAUu2Qr7ZiyIO4vfQ6xwoBkfgvfdOKPHRgyXGMbulxdFRkM7rIJpJ0B21TRu3HdgyD5Gqd+nE6jF2j6nAU0m3F9sCoumjcgM5PIF+k/UUe/cRYYaIM6xxvCiZFFseexqL6j3qMf9pgSdIxqDRupHc/2YPaZB86q0zsB5HeHhbJ5JhSACXHHz6J6SU/7i/5UXrG5zSWWh8HtMG1jPY4P+i+Ypxt9EJ+lz3H3Z64Ve2A7MLHolffD6PTOPWWXqDjl20d26BjXP1E0jZ1NDZjWRCv30rG2e7tsKFXm8rD13E/kI4Ccke1MS7P+UhjZhjQv1eddP1RdRoV5Gvcoo+ui/gzvrYd1r/IBtlx1H4alsP4jTpK4xhT4+Qw9owL+YRxAfF58FbCPQTt6llBegFLPffw/EA5gZ5xWWCdY29xcTFJPIOmJ0bF5e9U0JFjlnsq7lGxhR90YJKYEs8x+IAJY3wRih/oeeONN5KJUXr+Oc4+pd90Lhkkn/YpQ1nK9UqxnnEedXhmJCGDccA4YUywxEc6t6XPSXcz2MqkPnygiYP4hGOApZ7BsfWo9iIP3+nYo21k04bkp1OaXnmHATs5frETPSQXHR3HcRzHcRzHcRzHcRzHcRzHce5keJ/BOzre74iJStkef+TBm+9jxeKp++yH/+CftunJebNOzlqNlnWbdavt7PDixWZm56zV7iZfPGq2mkn92dn55EtPW1sbtr6xmkwmKhYrVi5PWC5LfPKO1bt1y03P2FqjbdutjnVCmVJItnHDrr/wjN24+IptrFy1zbUVazZqxoQjJhWFRpPJUZl82UrTC5afnLVOcdJ2mt1kfeHMA5YrT1u9lbXpmXlbOHHKcsWi7exW7caNFVu9vmzN6pZluw3b2Vqz3equGV90yvIeKmOnTp22kyeXkvdRxRLv+Cq2vrpj2zvEkO7FM+fzRSuG/G47uCT4cnJ60grFQjJpjG0mi9Xqu8m7pL2YzCxOT/yJz9tBBkn+pz86wTZiwj72Xd9vv+8/+nOW2X+fKJgY9cD5szffSdF/6OI4juO8lbeePY8ZTsoKYlAwCHk6WXOi3zvJf32gyUFIDjK5oJAITiDF8g6LdDwIyjGRhsAMgq65WNF2TKwP+hJQwfI4oA10UNA8AUkEWNOm9qOzAnVY54JJWfnrML7DHgKA9OUlflGbgBH5kbx0op24v2IdqMeYiccNxPVUniU2439swTYCdLAdfWTnQSCHGwjk0KfpCVJqC7CVdWwEyiooLq17GuTITpaxfcNAnVHKHyeyRUFh+IQ+IA/78T39wQ1fLzvZTudRV0i+ysUphjIaR8D5gHZZpttlPdaNfiMBdjCWWCo4DqQH9qkd7etHrGu6ffzBr8TjM4LK4ptW5OqYREfKsRw3+AX78YWQnfIj9LIVGw6yH1RGMrUtn+j40HIQ1CUNU3acxH2XRvsGlRHoTp+SgD6NfS8Z8hF2Mi71a/uMZc5P169fTwJMGacaN/KLroU69wyj17hBF9pNtz1IF/ZJX+oPc3wJtZVO8T6BXF2n0+dslevVdjvk0W/kxz6G2Nck1tO+j+X3opet6Bb/Kj16DcugtoYFncYh505G9sn/cT+MansvWcOOY+rGSWOIuhzj6vt4DMRydU6Jx52WdwLj1EU+upWozbhtluqjYft5WNRGmrhtJcF6+rwzDKpH0nYvRpU7LMhV4lzKuRUY9xr74/At8mXjMDJjvY7CqPXjNtFxnONqHBzVH4chblPr8bnwVkFfaFwyVuO+AtaZIIRu3Kup7+J+VHmW3APqq7Dc0zFRiOeONOl2bjccR9yfcF+K/mfOnLFTp04l6zyvcM/KswXPx9jEZKgLFy7YtWvXkr9N6Flx3OdN6OUn+Z82dU7plfTcxz1XrJ90ZBnnaZuk/crDduzk3o118hgz9Dm+wz96/tJ5+07qYxhFH/zKsyz28HcX6soPoOedo9opH8tn8b1PP9Rm3HZ6e1RoT8/l6CA56OY4juM4juM4juM4juM4juM4jnM3wLscfrwxfr8xNTlh73rHI1/3DmV28YT9xJ/5izYzN23dTMe6vANq1qyxu2WVcsEWFuat085Ys9mxfC5n09MzNr902nLFiVBmJ6Q1a7Rb1p2YsMzEpGWsba3tDXvtyop98bnnwr5dywW5nVYuyOlapr1hEztXrbRx0dqrF61T37ZWqxPkzVl54pQ1rZTIboX2+DJUtzBhC6fvt0xuwna2G7Ywe9LKoewbzz5nL3/1q7a6tU1Qr2XzJbt+9aq9/OILttOs2+KZczZTmbPd4IdcrhtkF227WrVSZdqYMLVT3bTnX3zdVje3Ex13d9ettluzVp33ig1rBp2y+YLNzU5ZNpcNvsmG+k2rB19sbFdtbWPDqrV68pWpbsgrJpOqihYckPi/0yZ+cO/H6iempu2P/Lm/ZJ/6/X8k9Mm+4/c5sbhgD9x3hmoJvIfs9V7ZcRzHCafv/eVtgRM6AQW9AkEUUBInBUGkUV3kKNgiDng5bHCC2kvrNgiCWwiy5sKjgJ8Y6SOZbLOU3scBbRCQwpebFARO8JXaJKCDPMrhN3SWz+SDUUEmgdwENnIDRUCQ7GapQKN4qcQ2aGwoAXXZT5JeyFTfx35EFu1it9qnf9CLpED4QSCDoDb8xgQW/EQbQu2C7CNRjoAg7VP+IKgfyzioPMQ+uFPhOJAPgbGHb/An42RQH8gu2QmDbKWcxgfgfwVh0U5cV/sUlMY69TkGOH45ZlhqTMaylciLdRO0E+tOov20rZShXYIKWScgUsFjQD0dk9RlXA0zbg+LJnmgi/RWErI79idLrQ9L7EOBDNk2rI2jtntU0v6AOG8YfSiL7fQr9BqfWlffc9wwTuh/xghfyCOwlHXkUUZjGtLybhdpX8Egvdgn3eXXXjJ65Q2iX5sc41wf2K8vMwnypIfGapIX9vELH7rPwO/xsSP9SULbcb7kHgSy0Y2ynEtp97iJdUVP+Vu6x/TKu5tA/3jMgZbj5iC56KCkbXSjHucClkoiLVPnFurFY1Ey70Vuh22xX9VH6b4ZF6PYp35X34+CbEnX6yVnVNn9QE7cLkudT/ElY5mkc/BRiHWmHck7jj7rx7B+k19I6HcrdRyFYe0ZJ7Sp8TKusXEYaFPXcPTRPYC2uWdHP+4xYtL68gzCF5W4z+O+bnV19S3PAncS2IhdfL2USVBMhjp58mQyEYpn671fO8sk9ypMhrp8+bJdvXo1sYnncf1xXv12O1E/oAs6cW+lpOfAw4wvyqYTMkiSzTMx6+TpnMc44B6f+3i2NcaVbjfD6oC9/O2HvmZMYJd8gO3IwUbsg1FsU9nYr5ID5FEmzhuFUXQRtIWNmkgn3RzHcRzHcRzHcRzHcRzHcRzHce4meO+SniBVKZfsGx5/NHlHGFOemLQ/+5/9dXvsiSesurtt29ubtrKybLVaNZTNBlkts0zXWu2ObWxtBZm8EyUuuWv15N1px8qVihUKRWuHfS3L2cbGtq2u1Wx1p2vVbi6UaBufY0resYVU3Vq19csv2M6VF621vRJENCxXzFkhl7Fcpm2FyYJNLsxYt5y3RsjLTE+ENGmrnaZNnjlp7XzemqGt2Zk5W5hdsPmFBVs8edIK5bJtb27ZtSsX7aWXnrG168u2fmPDSrmyzU7OWGO3mkwUwwfLyyvJBCcmPmWD7s1uoqXlS2WrNZt2Y2XVqtWa4cF6Y2/CFO/HsJNM/DA9M2vFUsky2eDTDPHi+SQfO3nXFHbYH/sLf9Xe8+GPf927q9Mnluyh6ItRvJ9SLK7jOI7z9RwucuAY4MStYAatK4ECIOIlqAz1VJeLxWGCWXoR6zAIyhAYQcAQ7aYnRkkXkmTKFlKs/3FAW1xwCdAi2IegFCaoEIilr/iwn0AdIf1GhYAe5BLgw0WYm6fYF6wr+Ej20xbIB0rAPiUgX/5Kp7geUId26A++XqXAcnSkrwjaYcl2XC8GfamH37BJ/iJhJ4n65BPArok/rCN/kGwR2yj7DqoDKj9M2dsBeikITEFmGgvyJceNgqRiO7QuvxxE7D9uSvE7SX0F2kebapdt6qGfAptI8djUMl4fBtqjvNbToBfjBV9oEp/Ks5Qu1EVfysmW4wBfpOXHtscJZFMv24YB2bF8QJbkDbJVfjps20dF+vZioE77tuo4wOeURxp5nJ9YYjv9zfmFMUL/s49xQuK4Qg51KUvSWKbcIP1uNdJTqR+yRWWod9x2IJ/rA8d/fD3spWdaF7bpK8Yivk/OY/v9KRm95MCgfTHI0fWUaynnqFF9ErczqN1BcrUvXb+frLsN7MBGpXEieQfJT/tSvmZ8Mc6op/NlTC+5Ksf4Ib0duB1jUX2Ej/G5/B73xbgYZJ/00DWcNKj8ICRLHFbOMEi22kRv2YAvuc5p7I/Tp2qr1/F0p3Gn6wfHOUZ6QXuME6APbyd6dtbzBqCfni/07NML9vOcyCQjnkWZGEXS/d3tQscHSX8vYPITk6DQlXUm63O/hA30AfcnKysryWQovgrFBH59NZp0J96XCvRHP+6v1J+6t6OcysZ1hrVF9ZWQqUQ7tCf/kKexQ9Kzqs6JGl93A9hD/6MzY5wl9uNXbI6PEWB7EOxPl5FPka39+JI8ZN8q9DegQce64ziO4ziO4ziO4ziO4ziO4zjO3QDvOoiPjalUyvbuxx+xcqm4n/Mmv/+P/Rn7zh/4PckPTNeq27Z247ptb22Grb24tVanHertT4JqdUKZuq2vb9ra+poxUapYnAjLrFU7Hdva3Lb1rYY988oV22hmLVvMBzHNIJuJUl1r1LYs31i33M4V665fskxj05oNJmatW6tZs3anafVGzSwXtCkUrFPIWzbonikVrFXIWXF+zqbm5qzdbFkpV0gmKBWmJqw8NWmtRt3yyWSsWlK92wzt7TZtmvjfEj/smrff+dzn7eVXLth2tWHbwUeZLO/zytZqh7KtdjJhKh+2c/mSzczMWTnYVgxt825se3snJPyaTWID994rKTa0HXTnHVPGHnriSfurf+8f2gOPP5nsE7wPO3/29N4Xo/bfmSGDWDfHcRynP3dUlIVO4Cw5scdJ++LAEgVFsI/gCpZcqEnadxRGqU/7BEYQIMGNQhzYJF3QS7bJHuyI848L5Ms/CrAmEGthYSGZxEM+ebFfWR8V2iCIm0Aq6hPErwknkp3cAIXEuurE/UySDioD+FgpXZ40COSgAzcGmlyADgQdoSuBOwSg9wumoS79ylITFvAfvlNwGNv8kra+7sI+fglc24P6V7bGPj/ILvnzINtvB+jEsYB+HAuyC58zAYh+YF1+I+Ej6sieg+yPkf8AmQq4imUhW4FmJPoDvbhhZIwqKI589YWWSmoD4vV+qEwvW9jGbsYe7TImGV+C9vAR5bCHlJYxbnRspUnbzjbE+gyjGzLSftM2S8nVsa31flDmuH0So/bSNkA6r59elKOfWapMkhf6mnx8QD8wLghA5ZzCeOW4IWhW5yGQPiSNe8m/04jt7YXs0LrGHClNr7xRidvj+MOv+JDrQb/rQAw1pSfHKT5nrBb3zz2saxyrnTSyI70/3qbvdY2O+/4wxHIP0untAn5Qgn72p/MPKtevPEv6UOe6XlBGOml8sTyoTgxtkBefP2XjOIh9dichvW6FbnFbJPyd7odxk26TRB9zzonPOzr3HIV47PTjKG2obmwH92ksGfMk/Mm4H5df1ZbavhV9dhjUh9JvVB1l372I+k/+GXRePG5on2cI7iG4Vse68WwI6V9XE5TjWfLs2bPJNV5fjELWMFD/OOA8wrPJ3NxcMhmKxLMs96PkoTP2YRdfhLp48WIyIYqJUTzHaLK5rlujjt1xMqht7dO1Vbrq2tkrjUq6Tlqe2qVN+l3PoxoDevbTcyvnR50jNdaOaxwcFexjLDBBinGD/srHXsYHYw37sAf62dIvX36UP1jHdyz5m8KtgHaxgX7RuL8TuFPHheM4juM4juM4juM4juM4juM4dz6870i/4yyXSvbuxx+1icreO1DBO4lv/9QP2p/683/JpiYrtr2xalub62bdTvhv710YE4Sy2XwozTvwXNi310Ymk7Pp6Zmwf9Iarbq1mw27sbppl1d3bbXesXq7ZdZpJZOZWq2mZbpts8autTZvWHdn2Robl2x79ZI1GlWrhTKNasuatbblc/zwdN1afCaqm7VWoxn0rlhpZtbmTpy0Rr1hG+vroV49aSNbyNnS/KzNB/0z2a7Nz80ZX78qlfiBvKw1mlV77oVX7ItffN7euHw9tNW23XrTqqF+u8M7P94ZN22nWrOtbWK6OpbLFoJzeJfFjyPysYq2VUO79aBn4teQx5ezknfKwQ9dy9hHv+v77c/81b9hswsn9py7D+/CHr7/nJ099WY+76WIIXQcx3EGc3Dk2x0AF1NO9umkfSQFlow7GEfyB0FwB0EYBEcoSAodAD2U0LmXLPZRXoGN40btym+0RcAKATgKTMFv8pn0OQwEvxA4RX8okB/ZbMfIr0rykZL0RT8l8kYFWb3Qzdx6uOFhCfShJkphR7pNbCDIhyWBbEwso3wvvcijPr4goGxxcTGpQ/DMIGT/sONAvjqMb44b7MdXjCWNQUBnjhFu1Eiss4+bPvzJUv5X+XgJsSz5gPKMZdWL85AnmZRXABpJ45Ol/I7OlNPysEgGSGdgnfHGxDn265figTroQ6Kcgq5Aso4L9VcadJIfZBNL9EvbNQqxXKG8WLb6RdvpOncKsV43dQ2+6uBX+jSMMcYZ/pN9spU+ZkwwGYpAVM4v7OOcw3nqoIkxsTzK3Uk+ki7SMY3ylaR/LxuOapfa0DogU5M2OWdzDlK5uHyiE8tkaw+NTXSmbymr8xD7lHrJi0nnsc2Y4JxI/c3NzeS8NSryY782e+X3Q3J61RtFzp2KfEU6buK24gTyJeeJQcdCTLoMdUnx+NNynNzJ/X6cusWy8av8fVA/HRXaJakvdZ5RXpxiHUdhVBsO047qSG/OdbrP4V5I4x6fjot0m7eivw6D+k763Yk69kL+PU7UBj6CYc+Pxwnjlfa57qOXEvcR9GH6j9KUZT/3GqdPn07qMbmI+zzsGYVRfU55JXTg/MGzEc8iPKfyVSgS69yLoiNleFZi4taFCxfstddesytXriT6kn+nHkci1i2tJ35Af9mg9bgf0nVUblwgL07I5l4S3zJ2uO8jn/6Kn2f1TKvxpj5leaeAHUyYwybGGOd42ck+ksYgS5D+LJXSSIbWVQ776TuWyOxVd9ygN383op+wx3Ecx3Ecx3Ecx3Ecx3Ecx3Ec516A9x7pCVK8F/mGJx6zxbnZ/Zw3Of/wo/Zf/p3/1u5/8AHbXF22zY1V63R4d0L9rpUqZZuembN8rmitZsMaxGdVdy2Xzdvk1LQVCjnLdDu2vrph125s2G9/6Wlb3alZvU3cZDbZh6RWJ2u1es3Wr79hl178ot24+Lx1W7WgW8mKxSlrtDLW6RZscnrO5uYXrVIqWzGft1Y9tNdo2m61FnTI2fREBbWt1W5ZLp+zdqthm9vrls0XrNluWiFvVix1rd7csWsrK/a53/myXV6pW7VpVm+1gz1ToR6x1rxn3PPN3iSova9EhY2wPx903osNpKxls1YPOnQ6QUfyQiO5QsEKQcc//3//f9gP/qE/YYXiW38AELl8tWtxfm4/x5K4tvQ7aMdxHKc3w83AuENQ4APBFVwACBIhkc+FmYsMSwW3kOIL9bAgT4EXBwVWsJ8ADILaCcjgIkS7IBlsU04phm3KKBBn74I5vmAOycJvJOlE4mJJcBM6gwJJ2DcKlJfN+AEZBHKTsItt2pZtlJde0oVtEmXUv9RR/nFAu4wX/MDkFCYhAAFtBLoQlI496CGwB1sZd+xHz0FQl7LI01e6FAAagy6Cddk+iNhvdyr9dCQfXyr4izHINv7kF8sJyGOJr+K6sSz5jG2NG/xGYj0OIiOPfuMcQQCTgpiQoaQxzFJ5R0Wy0v2JvpqExwNFfOMqPQE7ZBf50vm40PiO25Av0vlsx/0R2zcKkkl9taEU+411Ee8fB7IjnUYF/ZXwpZK2dX3SeOVhKB/GKecZzif68hznIMbE8nJ4aAznUQXfkgaBP1ROZcdh11GJ20z3WVq3tP4xvfIOQnK1rqXWAbn4mAlo6Me5p7B/PYxTUjb0n2oqjyUy1MfA+Yd+Vl3kxuUPgjKMC3Q5ysMtekmHo4Ac+T8t66iybyforjEp+yBeP6z/Yp+lkTz2c05QOY0T8nS+6CVDefE+1uNt6oLG4XFxnLLvVLA5TuqndB+MC9rQ2NCSfmWdpdZJgA7q/1E5jB3oMywqK32Ta2HQn/Mn92axL8eF2mRJot3jaOeoSD/pdCfpNgzy83FCG4wX+k99eDvRM4WOQe7ruW7r7wK6nxeU4X6PLzLxHHDt2rXkGVT3DseBxhU6ohfPokyA0pehNBmKfPTn2YwvQb3++utJ4gtRmgyFnrqvvVvQGEmPT/oC4nNBPJ56ja1eeeOGNjS+8Td+5z5QzwLpZ9z0/WbaznEyqmyODSbW8UMxHBeADSTswT70x6bD6C9Z2A+6hiBzGEZpKy7LOuOHdvmbhX4M6E5iFNscx3Ecx3Ecx3Ecx3Ecx3Ecx3HS8E6QONr0e8FHHrrfzp89/XXvIvL5gv25v/yf2x/8Y3/cssYHFVZta2vDVtdv2ObmRpDTtUz4123zDqxhtVp1Ly+btW5zLzam3W3ayvVlu3Jt1Z5/9apttwrWYX/4l8nmrWV5a7bNmvVdq65dtusXvmYrl16ydmPLqo3dZBJWYWLCau2W3dhatyur1235xg1rtBu2sLhozU7bcsX9r0IVCzY1UUkmQtWbW9Zq7triwqJNVIjxLVp1d9NeffVV+8KXnrbnXnzDmtkJa3XzdmNtwwgaKyYTmXhX9eaPL+ZyBT6aZfliMfnKViGXDbbWw35iVIkf7FobO0N54gW/8SMft7/9P/6v9uDj70rqx0xPTtp73vmYVcpvfq2LuDHeHTqO4zjDkftrAVZefvnl5KX+gw8+mOwYBX4V9lbAhVUXV4IRCKQAXWRiFCyh9fiiPChYQPu46Mbt9YJ9Cl6mDQIyCPSgrtpX271k9ZKNTdRJ31wcBoI21K7WQb7Db+hMPtsE2NA242BQ+5TRknIqS0A/ASLIZMIHctS2Akgkn2Wsm5J0HAejysIf3ETQh+iaDjoC1pm8QGDbKPKpLznYrwCnmNgf6h/KpMsBefgdeeP02ThAL3QiyA79NPGpH7JF9gJ+1y+Wyy/ax5JEHvtJGj+s4zv5mnL4Wz6P25AclWE57BiM6ypBXJc87GIpO4AlvmEcEUylSYTAEl1A4w+dkCO/6te3h9FzVHiw4Xwuf8TQHonjm2BO1tFNdop0vX5If8kVcX3W1SfpfNoctr/GCW1Lr3hbfaQUg47SNxmzof+S9ZC4hhAgy3inXzkHacKcgvyAB6RBIA9ZLBVEyXov//TzGfnpNA5iOegE+CzdlvzIMk2vvEFIptB6nCdUlnHPdYzjrrV/LScfnWNfJjawHukkGdI/6eeQYlRGqG97gQ4c67RF4DRjAeL6g1BbJPSQXsP4cVAb6j8YtU/uROQfGNQfvXzSz0/pfG3HS/wo/2mbxDrXgUH9NcjvkiW0jTzZ10/uUaAd0p3Gceglmfg1HjuDxs+oqA21o7GhddqN80H9GifJGBbZoXuSURimHekjGxTAzrlX92ekcaN2lWibNsfZZ0dFfon777Ag614j7jv8xHg5zDgdN+jC1z5Jc3NzduLEiZtfFmaMcS8nPSnL/R4TkrjGX79+PZk4clx24Cv+RkGb3E9oApR+gILjj2OAe3/0YELU2tpacg/KveiddHyMAx0XOtbwj8aRjjeWGmux/Uc5Hkchbie9TkJXnbvi44ElSbqDlhCvH5VRZKEz96+MO55x0n8TwA7013NtbHM/KBcn6gOykM1453mICX3DgIxhUDnaU9vozbHP8XPcL6KG8c0wfPrTn7azZ8/ubzmO4ziO4ziO4ziO4ziO4ziO4/SH9xPEnvFORO9keGMyPTVpM9OTtrG1be129E4xk7H77n/QPv5t325XL1+y69eXk7qNWs0a9ZBqdWu26tbpdiyTzSVfSup2M9Zqhn1MHurspUKhbI1O1jK5UjLJKJRAuHVaHeu0w3qnGWQQ25uxdqNu1Z2dZFJUpZy3nV0+5rButXo9abPValo2lJusTNrq8hXb2VoL8nnPlrVmo2btVi3IDXa0qnZiYcEy7brtbK/b+uq6PfXl5+wrT79mtVbBsqUJy5eL1gn6FQv84GQjiflM3hsF32QTewpWLO3/OGxoN9GhWQ82Bh+F/dkc78Q6tnTqjP3IH/6T9onv+6Hkh7tjkHdqacEeefB84jvBO1z6wnEcx/l6nn322eQ9+OnTp/dz9rhrJkcpCIGkABAuwungNpW5eVEO60BZBRXEwQXaD+mysZxeENhEcBHtcwFCFwXYkBTwoSCKYaActlE31nNUkBMn6cAyuQjvB9eQRwAJ2wSvEBjOxZXt2K+xTdKNMoBM/EAwGHBBRhZl4vaRK5uURzouaOMwYB/6KzAMvQkgw08E9wzzxaheoI9uXJAt/wnpK7/I3/KZYFv7htUD2XE6DqQXCX/hK3QkMJDlIKSTjiG2kcExxlJjloR8tvFlnCjHkrqU0zFJinUDltKJsqwfNB5Vh/LSU4l8JdkSt4G+yicokV/QZozFkx4kF7AbW+JxAPILx9sgXQ8DbegLarRJSkP7+JXJUSAd+pVPQ335IV4H2QppWexTWbXF9rh90I9Em9Cm+jjWM9YnSUEnPsNL/+n4pG+B7WxITIqijzlGFDDIOMD3Cq5DlsaW2hgEsjl/Uy4OPpReh+WmXak0DJSL+yhdP94eZOdBtvdCbUDcTkw6n3boC/yIP/EheRp/StpGqzg//C+RA9jzlrL7Nqgs2/3soo4mzDEmeKCO6w+D2iFhy7DjSPRrRzLTKE/7e5W500BHfK3jVP5Rim1I23OQfdofy4mXtMs+kA7kD3PMK79XmbgN9iEX+cjUmOxVzxke9R9J/tT59qhINksl9aHuCbQf1K/oEI8b9W8s5yBUT+c9yRiFfm2RJ71li85L3FPIf4dpcxikF23Hx9pxtTcq0k1+P6peyLvXUB9yDwy6t79doAvXaP64QmLC0/nz55Mlz4ncR/DcyP06cI/H/R77GXt8GZRrO+s6do8KvkEnJkLxnEGSLvKb7jWZBHXjBr/StnlzAtft9OetQuOIcxDL2P+yn3zQdrzvTgBd0BndOQ5YB84hSrIvjey/laAv447Jg+jMOT/2J/qjs8ao7OmFdI/tkK3qR44zZGlylMqqfC/SZfqVTZfjeOMY43jCruPkMGOwlx0+OcpxHMdxHMdxHMdxHMdxHMdxnFHhPYjiFkSpWLSTiwu2vVu1+n7co+ArUu/7wAftve9/rz3zlS9boxb2d7rWbtSs1W5aN4jhjRBfWioVy9YI8hvtjnUz3VB2N/lC0067bM1Wx+q1TZsqF5KvMFmoG4Qkk6soW+dHx7fWrVvfsWYQWAp5zd3dZLJUPpOxRr1qpaBLhildrbZVtzetXA5b3Zbt7GxZq16zbjuk7q5ZN+hW3bZWbdtWrl6zF559xV5+4aptbrYtUypbK9u01fVQv1SxYmnvB7f1LqZR3/vhczZRs1wuJWl3d+fmO6wi8diFon3fD/1e+8P/yV+2E2fuS+rGMGHriUcftlNLizdlU5f3yoondRzHcb6eu3pylIIQSFxoFVB3UECRLhSqK1Q+vRRsk9L1YgjEIOCJctwESB+S6qOrZPSTE0Md0M2EtkdFbUmOfKZlHExDHkFTBK0wqYk2CeYiqIQyKqcU66R2KKtAFAKuNBmG/bRHYp/aPqxdozKMzweBDdiPb9CbyQwEwGDLKLIpiyytk5BJEsqnP7ROSvtcKE99PAjkHDfoE9uIjwjO49hgoob29YM62KIknamv44vxQx8wPjn+lMinDjrQX5TXuJWftC49lc+SvgXJSaM68XGjJJkqo/W4HjKRDfhlcXHvJpaJSPhG5ZDNOmWwkzLaJyRb43CccNwS3MVS7aTBFsZtPDmK1EvHNOpTkfY123EZ5MTb2k++9qVlHBXpzhKblLqk/XZVRu3v/QJElFI26JzHGGC8lsL5dir0H5NfyMOf+JyxwBhArsZLfL5Eh0FQh3M5+iKTeqwjj3Sr6dUu2+il/MR/+3lKaXrlHUTcbloHofxYFxLt4UeOMdblw5v9u69zkrdfVyRb5MU6h236Ru2A1vvZTLAl44PxEH9ZDmI5g5COQPvJOO7TXi8GtSPZw8q6U8GGuN9j/6TtT29TLp2XJt7PuhLtATJYj4/3fv00THtCY1RoW+eTtGxnNORPlqRRj600yJK8eJ3ENUP5oHY0VpSUz7qQLNXVshdx/fi6Mw5iHRjrJGyiHdkB42wzjXQg6XwY++p2EvtH/XBUkHec/rzVyEeMG/UfY+d2gS58hYnJUOfOnbv5RVfuy+PzOeua6MyzC0vuz5iUdPNXxEIaZSzGvtBzqSZC8SzO3ybQhTLowL0lz+Y8c5D0VSg9c8RQ515H/sNHoHNQv+NlXMfkcYJ+OiY0lhgfOl5I2r5doBvHAMcD449nddCYwwbWpWPa5+o3oW3VwUbZzzHAsajJhzGxjMOg+ujHGGLCF8c0x1i6rXEzrnHok6Mcx3Ecx3Ecx3Ecx3Ecx3EcxzkMvN/RexmRzWbsxMK8lUul5CtS8fsM3qtMTk3bx7/122xpacFee+lF29hYt+2dbet0iJXJW7FU3nuHWq1brVq1bGZvglGr3UkmS/FVqlqrY63q3sceipWctTr1sL9lnXbWWs22dVo163aqtrt9w5q769ZpVJOJUNkO+5pBt6J1G3Xb3VgO+zYt067a9ibrW1bKNKy6cdV2169brlmz2uaqbW3u2msXrtpzL1y265tN61Yq1imUbD3YV681bWJyMokTZOJWJpOzdpcfhA36dPkQgFkhv/eD3OVgW6PeCjq2LBvyPvTRT9h/9jf/rr3nQx9JflQ9zdzMtD352MNWKZf2c/besfF+97jfQzmO49zt3JWToxT0oKTgjjgA5KBAgbQMJRHXZ12JMrQVlxXowcWZfQpCJ8U6Dao/iLiu5I6K6gNL9CWRj470s4JnyCdYBTsIoOJmhjLSXb6O9YhtIvhEwVgEu3BRpo50UNskSMs6LqTjONpCBnpjK/0uX45C7BNAnibGSFa8lO8op74S1CGpj3pBvtJxI31AuhMwRLAgNjIutL8fGiPUZ0l9ximTRqiPD/A/MkkEAxIUiFzK4SctY39JN/J66aB9areXvyiDXFIvGWni9iRX/YnuHCucMxW0FcvGbuzSOOnVHnkcs3G5o4Lv+IVt0kF2co7Q5Cj1N8iPcV22lXoR52s9rs86+SzT62pXeYdF8kjqN6UY2uEBRxqrT5P8kNJQX75k7PLwQ1CgJrbhR8YAY5xytA2Sy/YgfdJQhzaQG0+Ogn46Hhfp9tLbshGGsW1U1FbcZkx6P/pIJ5YcXwQ8qp/oH8rGiXLx9luItmWbxkovYvs5BxB0jXwmRtGXMf1kpIl103ga1de92lIe+kEsr1f5OxH5haR+lH8GkbYvvd2PdFsk2tJ4g/TxHqPjmPxBbapeugztkOLzTLoNZzjiPsSn+PGga6ZQvVhGvM1SY0J5gGyNDyXy4hQTy4Re+0VcP5Yfk64/DGojbRsJNBbV1mHaiIlt6oX0kH/VZ0dt96igU6w7+hxkyzCMQ8adhPzE9ZGlxs/t6D/a517uvvvuszNnziT3XfFxi47AvQP6kadJITwTXb9+/eazssZlP1vYpzIsdR/J/QmToVhHNvuoT5u0gXzuH/RVKO4j9OxPudvhtzsFfEni/g5/9Dt/UwbuVF+hl3QU6lsStpFkL2NE52CNKdVPyzkOpBd/M2KpZ/sY8qVfTC/9Yt1lm/qSY4LEuKedNNRRGkRcTj6L4Tl8aWkpeXbW33SOk8PKT+vtk6Mcx3Ecx3Ecx3Ecx3Ecx3Ecxzkseueo97ZiolJOJknxBalaj/czp8+es499+7cbX1N66YXnrdloWi7IKBSLli8UrN1sWH2XDzq0LZfNWce61k2+EGXWtrxt7TSt1e1aJhdStmnZUC7LdvjXDXp0uxlrhfqNnS1rVLdD2rCdzWVr1bYs32nY1to1u3HtVdtYuWLrK5dsMyw79U3rhnK7a8vW2NqwLBOuWk1bXtm0l15dtqvrNavni9Yplmw72FStNW1qYsqmpqcsNGr1esOavLcOOhJLGP4f9CA+h3fGBSuGlMvl7Yn3fqP9x3/lr9l3/q4fSSaDpSkW8vbQ+XN2/tzpt7wn410XMYXH/Q7KcRznXqDf5KhMOIkmZ9HPfvazyYv9T37yk8mOUdAXFsbJpUuXkl9jhvRLfThKe9QlgEIBTKMS65PWQ9sEYxDENA562coFkIk6vejlL/JiOayrnPbF+wmsIugKerUvqKvEDVC/smpL+wnWYpLIccFY7uX/QbYcBDchCo7hF4Lln2FQu9RlndTPXwpm0k3PUXTuBwF0BIYdhUF6EShEwJBsHFRWYyNGfoqJfcL41HlnkPxB7QrKxDqgM8Q3ncPI6Ydkx/ozPuX/WHasxyCQQ+pXftTjCx2wu9+YjOFh58UXX0yCQgEd0nWG9Zf0p7zWpUPsf9GrrcPAQwRBbYcl1rcX8n9cjmVch329bEmXSYP/+1278JnkpuseJFewj/PDUfxzEPifwEUYpMthGXR97EXsG8CPBFqiW/qYwP/sU53D6j+oHm3SxyyFyqd1HSQnXRYoz9cjmIB1WAaNpaMeWwfBvdugc984GMf1cRDcHzL+jzqGRFw/vncTvdo5bJsak73Oz+NiWP8f1oZ+94ej0O8YGHR+HkS/8Zy2UZNCRh2fwx4vtDfoGD6Mz+O2NfYP23cHMYz/0eew7VMP/3MNOApqP90v5DN5ngkEx4H8f1ykr4/HAcfAIP8fZWwNe+/M+Y9xFp8HZbOW6JHWhWcj3RtCXLYfsS/TbQi1pevjURikCxz2HDcMx/23gfjcNozvR4VrF3KPen4YxKj3J+mxkia2fxzXxkGgO/JpM76/TYPO6X5Jb6ftYhuZJB2b2h4X/DDIqVOn9rf22qSvOe7GMY4G+X8c8nXs8vdV+sJxHMdxHMdxHMdxHMdxHMdxHOew8C6G93rp94a80Vhf37RX3riUvJvoRavVtF//xV+0/+Wf/hOr1hpWmZiyTii7sb5q1d0da3d450y8VGgnz4/GF2xietbmJkt2YipnZ2bydmKuYDOVfDI5qtMhBT1Cc6GotbuNkNrWbNSNLzuVSxNWq9Zta3vb2s2aFfMZK+Q6IXWtmDMrBFsKOd775G272rTnX75kF65u2243b61CKflyVa3Oj/V37PTJEzY9O5NMAtvc3Eq+ChVUSOzuBoW7HWRm7cSJJfvIJz5p3/lDP2ZzSyfC3q9/Z8e7pqWFebv/7OngxzffL/JeiPem/j7HcRxneD7zmc/YBz7wAXvve9+7n7PHWCZHHSXIth8XLlywBx54YH9rvGAygQzHFdwDxx1gMurknFHh16b5ys1xMWrw+qgcd4DVcQYvMja5CTpqgNsgjjuAfWVlJZkcdVwcp/8VSHU3+/+4j6833njDzp8/v781Xjg/0wfHGVx43AHCmrx3HIwaGDkq+H+ck3t7cTdfH29F8Pdx9/Hq6qotLCzsb42X4z62FPx9N/v/OO9PjvPaCH59HMxx6874Jx1nG8d5DB/3vfmtuD4e9/MjE2j4MtBxcNzX3uOcOCOOs43jvHeDo05MPoi7/fp43P4/7vsTfIPvj/MYOM5rzHE/Ox739ZH7E87Rx/X8GP9w03FwK6+PnIscx3Ecx3Ecx3Ecx3Ecx3Ecx3GOCu+ee71/IxD90pVrdvna9eT9TT+Wr16xv/XX/6skzmV7c9M21tes29n7wb2M5azTzVij0bJM2CYGrJLN2txEwZamc3aCSVLzEzaRzyWTlLL5QvKutFGvWbfdtkZtN6Rq8jWobruz/y4PnfNWDHWy2a5lwzbvr3iHwpehLlxZsxdfvW7b7ax1K1O202hYrdW2fLYQZHTt7JkTVpmYsN3qrm1v7ybvpzKZrHX24zhKpbJ93w/+kP3eP/zHLDfgnWqlXLLHHnnQKql3Z8jgnZ3ichzHcZzh6Dc56viiGx3HcRzHcRzHcRzHcRzHcRzHcRzHcRzHcRzHcRzHcRzHcZy7Hn6ckx9ATE+A4qcc7ztzyt735OPJ15GyfX7c8eTpM/Zf/4P/zv7W3/079sM/9nttYXEhyMqEZMmEpUI+G5Y5a+xs2vbmmq3v7tqV7Ya9cK1qX319y169tG3X17es1ty2emvd6s3N5MtU3XbGOq2c5TIVKxYmkglQUxNlm6oUky9FZUJqdzKhjtluo2s3Nqv2+rVVu3B1w7ZbWWtki7ZRb1ot6JItFK0a7Czki9btWDIRq9PZszebzdnk5JR95BPfZn/5b/xN+8c/9XP2+/74n+o7MWqiUrbHHrrf3vPOd3zdxCh+6JEfAveJUY7jOONjLF+OchzHcRzHcRzHcRzHcRzHcRzHcRzHcRzHcRzHcRzHcRzHce59+IIUKdNjIlSt3rBLV6/Z6vrmgZN/vvb0V+w3f+VX7Ctf+rJdX15OJiLt7tat3q5bq8sXooo2UZq2mdKETRY7NjPRtJNzOVsoZq1SmbAMk6vaHWu3WpYL8trtZkgt63baSdtEyXfDv1qzac1WxzqZrNUbTVvb3LHVndBWKxPaylqt27Hp2RlrBTm7G9s2XZm2s2eWQvsZy2Rz9vDjT9gHPvwt9r5v/oiVQ7v9wBuVStnOnFiypcX5vcwI5FerVZ8U5TiOcwT6fTnKJ0c5juM4juM4juM4juM4juM4juM4juM4juM4juM4juM4juM4Q5PNZq1cLidffepFu922V9+4bGsbB0+SYn+tWrWnPv95+8y//Em7dOk129patnq9ZoVsxXK5imUzOStOZK2Sb9uD5ZJNTOaskGtbPtu0bK5r1upYo9kK5fK22+hYNxN0CNtNvv5kWbN8MZkktblbtWqjnXxFqpsJumcLVgx25PIZazbq1mm07L5zD9pHP/Et9qkf+31WmZq2fD4ftOz9RSxgklipVLSHz5+zqcmJr5s0hn1MimJylOM4jnM0fHKU4ziO4ziO4ziO4ziO4ziO4ziO4ziO4ziO4ziO4ziO4ziOMzaYOFSpVJLJUr1otzu2srpuV5aXrdFsJl9zOgjmFq1cX7aXXnjOfuHnfs4uXbpmF9+4bM1O19rNhs3ks1bIdmx+tmwTxaxlrWHddtNyuZwxD6ve6lqXZa1m1ZDyhbKVJqdsu9Gwta1tY6pWNpe1udkFO336Ppubm7N3v/e99p4PfMjO3/+gFUslG0JNywWbZ6an7P5zZ6xcKu7nvglh+vV6PUmO4zjOePDJUY7jOI7jOI7jOI7jOI7jOI7jOI7jOI7jOI7jOI7jOI7jOM7Y4QtSpVIpmaDUCwLWd3Z2bfnGmq1vbFpzxK8oMWFqM9R79dVXQ/11u3H9ul187Q2r7mxbt9mwdqNmnU7dup1WMlErm81YLpsL9fKWyRcsWyzZ4qmTdua++212bt4eeOABO3nqTDK5qzPMjK19kD1ZKduJxQWbn5uxfA97Cc9vNBrJpKj9UH3HcRxnTPjkKMdxHMdxHMdxHMdxHMdxHMdxHMdxHMdxHMdxHMdxHMdxHOfYYLIRk6RY9qPT6dhutWZXlldsc3s7+brUnTyJiAlRfBnq5NKizc9OW7FQ2N/zVrCLCVHN5AtZPinKcRznOOg3Oar39wsdx3Ecx3Ecx3Ecx3Ecx3Ecx3Ecx3Ecx3Ecx3Ecx3Ecx3EcZwRarZbt7OzY1tZW8vWkXjDZaGpywh576H77xm940t7/7ifs/NlTVijkk323m0wmk3wBa2Z6yt71jkfsA0HHb3jiMTu1tNBzYlS73bbd3d2bNvvEKMdxnFuPfznKcRzHcRzHcRzHcRzHcRzHcRzHcRzHcRzHcRzHcRzHcRzHGTtMNCoUClYsFpMJRwfBRKNqrW47u1XbTtKu1etMsuraccw5SiZCZbM2OVFJJmyxnKyUE30HQQg+E6H4ShQ6O47jOLeGfl+O8slRjuM4juM4juM4juM4juM4juM4juM4juM4juM4juM4juM4zrHCV6E0UWqUL0S1Ox1rNJpWq9et0Wwm641mK5mY1Gq3k9Rpd6wTyiWB8d1uMumJRDv5fC6ZmFXI560YUqFYsFLQoVjMJ8tCvhDKJk0NhLB72kzabbX2cx3HcZxbiU+OchzHcRzHcRzHcRzHcRzHcRzHcRzHcRzHcRzHcRzHcRzHcW47+opUuVxO1pnIdFT2JkYlq3sEkUjd2tqy6enpvbwR4atQTIRSchzHcW4v/SZHDT/l1nEcx3Ecx3Ecx3Ecx3Ecx3Ecx3Ecx3Ecx3Ecx3Ecx3Ecx3GOCJOOSDs7O7a5uZks6/V6kndYmAjFHKubaS97JPj6VKPRsN3d3USv7e3t5AMkPjHKcRznzsYnRzmO4ziO4ziO4ziO4ziO4ziO4ziO4ziO4ziO4ziO4ziO4zi3DSYfMQmJyUhMSmJyEpOUmCzV7cafgxofyEV+s9m0arWafGGKxDp5x9Wu4ziOM34y4aSdnLU/+9nPJheUT37yk8kOx3Ecx3Ecx3Ecx3Ecx3Ecx3Ecx3Ecx3Ecx3Ecx3Ecx3Ecx3Ecx3GcO4HPfOYz9oEPfMDe+9737ufs4V+OchzHcRzHcRzHcRzHcRzHcRzHcRzHcRzHcRzHcRzHcRzHcRzHcRznruTrvhz15JNPJjscx3Ecx3Ecx3Ecx3Ecx3Ecx3Ecx3Ecx3Ecx3Ecx3Ecx3Ecx3Ecx3HuBH7lV36l55ej3jI56qmnnkoyHcdxHMdxHMdxHMdxHMdxHMdxHMdxHMdxHMdxHMdxHMdxHMdxHMdx7iS++7u/u//kKMdxHMdxHMdxHMdxHMdxHMdxHMdxHMdxHMdxHMdxHMdxHMdxHMdxnLuJ7P7ScRzHcRzHcRzHcRzHcRzHcRzHcRzHcRzHcRzHcRzHcRzHcRzHcRznrsInRzmO4ziO4ziO4ziO4ziO4ziO4ziO4ziO4ziO4ziO4ziO4ziO4ziOcxdi9v8HXhX/muDoOVUAAAAASUVORK5CYII=)"
      ],
      "metadata": {
        "id": "oJGjIqiucnsl"
      }
    },
    {
      "cell_type": "markdown",
      "source": [
        "# 4.2 Assignment: FashionMNIST Dataset"
      ],
      "metadata": {
        "id": "Gwlf6U7Zb8Z1"
      }
    },
    {
      "cell_type": "markdown",
      "source": [
        "## 1 - Modules"
      ],
      "metadata": {
        "id": "qrn3QCv8a7zu"
      }
    },
    {
      "cell_type": "code",
      "metadata": {
        "id": "DPue4B2vPu2s",
        "colab": {
          "base_uri": "https://localhost:8080/"
        },
        "outputId": "fa2152de-7c4b-4b26-8e10-a3e91e37f972"
      },
      "source": [
        "import numpy as np\n",
        "import torch\n",
        "import torch.nn as nn\n",
        "import torch.nn.functional as F\n",
        "import torch.optim as optim\n",
        "from torch.utils.tensorboard import SummaryWriter # TensorBoard support\n",
        "from torch.utils.data import TensorDataset, DataLoader\n",
        "import matplotlib.pyplot as plt\n",
        "import sklearn.metrics as metrics\n",
        "import time\n",
        "import os\n",
        "import copy\n",
        "import torchvision\n",
        "import torchvision.transforms as transforms\n",
        "import pandas as pd\n",
        "\n",
        "\n",
        "\n",
        "#from collections  import OrderedDict\n",
        "#from collections import namedtuple\n",
        "#from itertools import product\n",
        "\n",
        "\n",
        "# device config (train our model on GPU if it is available which is much faster)\n",
        "device = torch.device('cuda' if torch.cuda.is_available() else 'cpu')\n",
        "device"
      ],
      "execution_count": null,
      "outputs": [
        {
          "output_type": "execute_result",
          "data": {
            "text/plain": [
              "device(type='cpu')"
            ]
          },
          "metadata": {},
          "execution_count": 1
        }
      ]
    },
    {
      "cell_type": "code",
      "source": [
        "\n",
        "# Notice how FashionMNIST is also built into PyTorch!\n",
        "fashion_mnist_train = torchvision.datasets.FashionMNIST(root = './data/FashionMNIST', train=True, download = True, transform = transforms.Compose([ transforms.ToTensor()]))\n",
        "\n",
        "# We will split out train dataset into train and validation!\n",
        "fashion_mnist_train, fashion_mnist_val = torch.utils.data.random_split(fashion_mnist_train, [int(np.floor(len(fashion_mnist_train)*0.75)), int(np.ceil(len(fashion_mnist_train)*0.25))])\n",
        "\n",
        "fashion_mnist_test = torchvision.datasets.FashionMNIST(root = './data/FashionMNIST', train = False, download = True, transform = transforms.Compose([ transforms.ToTensor()]))"
      ],
      "metadata": {
        "id": "GHajaotB22E2",
        "colab": {
          "base_uri": "https://localhost:8080/",
          "height": 431,
          "referenced_widgets": [
            "3a0b504978fc4de288d291baecb37022",
            "ec0b76cc56cf4711a0650b21ad6f701e",
            "b0727c1a2b564048be21264130ad8254",
            "891c46179a4143aebfedfca49e92bf66",
            "a6f435a20b4b404bb7d91e0ae178472f",
            "dcf38331e76145d5835d3c5d928cbfa1",
            "7cd5478cf869420098799c93eb4f397a",
            "32be8b3843ed4aba8ce837f6715b8c4a",
            "504c0e738e84455288f1b682e096d2c9",
            "c66f25f976d14baf9bb08d83648af4eb",
            "0d3dcf26515b43fa82616dd2ea26652e",
            "6ffd133af86f4a6eb0b1a945c0ef94f0",
            "9838a32428c44a718af222d58247ae29",
            "d3058c65276a412c810b3d9cb65342dc",
            "b0737d57ac774b3daf3400624cbdbdc0",
            "37bedd499c4647a3a1fba2d926aaeea7",
            "0e1e014e0f9b402da1cd716ec822b190",
            "1d10de51a557451b8467c4d9a67dc8f3",
            "835768a31d754b4c9c746d909bea6021",
            "0c4b8ff35f194000b256248036fe5f70",
            "68309cf738bf409583d6b46b07470a5c",
            "9ef6b67ac41d499291e39503a14b46df",
            "99149a2a333a447088ba1d7bd73f5e66",
            "84ad017562924790b763ca71e44d6e98",
            "1e9cf26f3b3042809af15d6054e3229c",
            "df6f3f2de9504ba7b23be428fb490d33",
            "4b6a033608fe44efa61e65ae333f2b97",
            "556e17cf3bfa480d9c1b89da0616c4d2",
            "cc038d1981b34b838a1ca44f668c9ec8",
            "49e46a606f304d32b2ddf102e19bf5e0",
            "b5364f888b2844ce88b0653b5a1fde42",
            "b435eb650c754ad281e657ec296ee753",
            "22ae1fa8899c47f29a09c2fec59655ad",
            "dd17f143bd09490aba689d103e172877",
            "f1d2e63599d3422dbe839a54843994eb",
            "32d421f3cb704d3fa091b89e8361caa0",
            "d624ff3e479042f796b6324c3767e190",
            "f3d4a67530364929812abc92691088c9",
            "8d41faaec400433093411f5015d0636c",
            "a445e70bf7eb4d5899e2f515071e6288",
            "48eb6b5e810c4e6e955a9a901b38918e",
            "b22908652bda438ea58f77f9fd34d9c5",
            "0f4d0322118c4cdd87c2d559396e8f6f",
            "6686c8aa771149c6b443912fb154beb1"
          ]
        },
        "outputId": "f1afd701-111c-42a2-e475-b43c88e13bf0"
      },
      "execution_count": null,
      "outputs": [
        {
          "output_type": "stream",
          "name": "stdout",
          "text": [
            "Downloading http://fashion-mnist.s3-website.eu-central-1.amazonaws.com/train-images-idx3-ubyte.gz\n",
            "Downloading http://fashion-mnist.s3-website.eu-central-1.amazonaws.com/train-images-idx3-ubyte.gz to ./data/FashionMNIST/FashionMNIST/raw/train-images-idx3-ubyte.gz\n"
          ]
        },
        {
          "output_type": "display_data",
          "data": {
            "text/plain": [
              "  0%|          | 0/26421880 [00:00<?, ?it/s]"
            ],
            "application/vnd.jupyter.widget-view+json": {
              "version_major": 2,
              "version_minor": 0,
              "model_id": "3a0b504978fc4de288d291baecb37022"
            }
          },
          "metadata": {}
        },
        {
          "output_type": "stream",
          "name": "stdout",
          "text": [
            "Extracting ./data/FashionMNIST/FashionMNIST/raw/train-images-idx3-ubyte.gz to ./data/FashionMNIST/FashionMNIST/raw\n",
            "\n",
            "Downloading http://fashion-mnist.s3-website.eu-central-1.amazonaws.com/train-labels-idx1-ubyte.gz\n",
            "Downloading http://fashion-mnist.s3-website.eu-central-1.amazonaws.com/train-labels-idx1-ubyte.gz to ./data/FashionMNIST/FashionMNIST/raw/train-labels-idx1-ubyte.gz\n"
          ]
        },
        {
          "output_type": "display_data",
          "data": {
            "text/plain": [
              "  0%|          | 0/29515 [00:00<?, ?it/s]"
            ],
            "application/vnd.jupyter.widget-view+json": {
              "version_major": 2,
              "version_minor": 0,
              "model_id": "6ffd133af86f4a6eb0b1a945c0ef94f0"
            }
          },
          "metadata": {}
        },
        {
          "output_type": "stream",
          "name": "stdout",
          "text": [
            "Extracting ./data/FashionMNIST/FashionMNIST/raw/train-labels-idx1-ubyte.gz to ./data/FashionMNIST/FashionMNIST/raw\n",
            "\n",
            "Downloading http://fashion-mnist.s3-website.eu-central-1.amazonaws.com/t10k-images-idx3-ubyte.gz\n",
            "Downloading http://fashion-mnist.s3-website.eu-central-1.amazonaws.com/t10k-images-idx3-ubyte.gz to ./data/FashionMNIST/FashionMNIST/raw/t10k-images-idx3-ubyte.gz\n"
          ]
        },
        {
          "output_type": "display_data",
          "data": {
            "text/plain": [
              "  0%|          | 0/4422102 [00:00<?, ?it/s]"
            ],
            "application/vnd.jupyter.widget-view+json": {
              "version_major": 2,
              "version_minor": 0,
              "model_id": "99149a2a333a447088ba1d7bd73f5e66"
            }
          },
          "metadata": {}
        },
        {
          "output_type": "stream",
          "name": "stdout",
          "text": [
            "Extracting ./data/FashionMNIST/FashionMNIST/raw/t10k-images-idx3-ubyte.gz to ./data/FashionMNIST/FashionMNIST/raw\n",
            "\n",
            "Downloading http://fashion-mnist.s3-website.eu-central-1.amazonaws.com/t10k-labels-idx1-ubyte.gz\n",
            "Downloading http://fashion-mnist.s3-website.eu-central-1.amazonaws.com/t10k-labels-idx1-ubyte.gz to ./data/FashionMNIST/FashionMNIST/raw/t10k-labels-idx1-ubyte.gz\n"
          ]
        },
        {
          "output_type": "display_data",
          "data": {
            "text/plain": [
              "  0%|          | 0/5148 [00:00<?, ?it/s]"
            ],
            "application/vnd.jupyter.widget-view+json": {
              "version_major": 2,
              "version_minor": 0,
              "model_id": "dd17f143bd09490aba689d103e172877"
            }
          },
          "metadata": {}
        },
        {
          "output_type": "stream",
          "name": "stdout",
          "text": [
            "Extracting ./data/FashionMNIST/FashionMNIST/raw/t10k-labels-idx1-ubyte.gz to ./data/FashionMNIST/FashionMNIST/raw\n",
            "\n"
          ]
        }
      ]
    },
    {
      "cell_type": "code",
      "source": [
        "# We will create DataLoaders just like before with a batch size of 100\n",
        "batch_size = 100\n",
        "dataloaders = {'train': DataLoader(fashion_mnist_train, batch_size=batch_size),\n",
        "               'val': DataLoader(fashion_mnist_val, batch_size=batch_size),\n",
        "               'test': DataLoader(fashion_mnist_test, shuffle=True, batch_size=batch_size)}\n",
        "\n",
        "dataset_sizes = {'train': len(fashion_mnist_train),\n",
        "                 'val': len(fashion_mnist_val),\n",
        "                 'test': len(fashion_mnist_test)}\n",
        "print(f'dataset_sizes = {dataset_sizes}')"
      ],
      "metadata": {
        "colab": {
          "base_uri": "https://localhost:8080/"
        },
        "outputId": "16d85f91-d912-4682-b4d8-eb4771bf3716",
        "id": "-GyGGpVPPVV9"
      },
      "execution_count": null,
      "outputs": [
        {
          "output_type": "stream",
          "name": "stdout",
          "text": [
            "dataset_sizes = {'train': 45000, 'val': 15000, 'test': 10000}\n"
          ]
        }
      ]
    },
    {
      "cell_type": "code",
      "source": [
        "xs = fashion_mnist_train.dataset.data"
      ],
      "metadata": {
        "id": "GQveWQ-0X7LG"
      },
      "execution_count": null,
      "outputs": []
    },
    {
      "cell_type": "markdown",
      "metadata": {
        "id": "TrEFKkbEyXfl"
      },
      "source": [
        "## Iterating and Visualizing the Dataset\n",
        "\n",
        "We can index ``Datasets`` manually like a list: ``training_data[index]``.\n",
        "We use ``matplotlib`` to visualize some samples in our training data.\n",
        "\n"
      ]
    },
    {
      "cell_type": "code",
      "execution_count": null,
      "metadata": {
        "id": "4dko1C5EyXfm",
        "colab": {
          "base_uri": "https://localhost:8080/",
          "height": 482
        },
        "outputId": "58c615c1-9cdf-450b-d352-36ff6e028664"
      },
      "outputs": [
        {
          "output_type": "display_data",
          "data": {
            "text/plain": [
              "<Figure size 576x576 with 9 Axes>"
            ],
            "image/png": "[encoded data removed]"
          },
          "metadata": {
            "needs_background": "light"
          }
        }
      ],
      "source": [
        "labels_map = {\n",
        "    0: \"T-Shirt\",\n",
        "    1: \"Trouser\",\n",
        "    2: \"Pullover\",\n",
        "    3: \"Dress\",\n",
        "    4: \"Coat\",\n",
        "    5: \"Sandal\",\n",
        "    6: \"Shirt\",\n",
        "    7: \"Sneaker\",\n",
        "    8: \"Bag\",\n",
        "    9: \"Ankle Boot\",\n",
        "}\n",
        "figure = plt.figure(figsize=(8, 8))\n",
        "cols, rows = 3, 3\n",
        "for i in range(1, cols * rows + 1):\n",
        "    sample_idx = torch.randint(len(fashion_mnist_train), size=(1,)).item()\n",
        "    img, label = fashion_mnist_train[sample_idx]\n",
        "    figure.add_subplot(rows, cols, i)\n",
        "    plt.title(labels_map[label])\n",
        "    plt.axis(\"off\")\n",
        "    plt.imshow(img.squeeze(), cmap=\"gray\")\n",
        "plt.show()"
      ]
    },
    {
      "cell_type": "code",
      "source": [
        "def imshow(inp, title=None):\n",
        "    \"\"\"Imshow for Tensor.\"\"\"\n",
        "    inp = inp.numpy().transpose((1, 2, 0))\n",
        "    mean = np.array([0.485, 0.456, 0.406])\n",
        "    std = np.array([0.229, 0.224, 0.225])\n",
        "    inp = std * inp + mean\n",
        "    inp = np.clip(inp, 0, 1)\n",
        "    plt.imshow(inp)\n",
        "    if title is not None:\n",
        "        plt.title(title)\n",
        "    plt.pause(0.001)  # pause a bit so that plots are updated\n",
        "\n",
        "\n",
        "# Get a batch of training data\n",
        "inputs, classes = next(iter(dataloaders['train']))\n",
        "\n",
        "# Make a grid from batch\n",
        "out = torchvision.utils.make_grid(inputs)\n",
        "\n",
        "imshow(out, title=[class_names[x] for x in classes])"
      ],
      "metadata": {
        "id": "vS1FgpO-0mu6"
      },
      "execution_count": null,
      "outputs": []
    },
    {
      "cell_type": "markdown",
      "metadata": {
        "id": "ZPoknmwpyXfm"
      },
      "source": [
        "--------------\n",
        "\n",
        "\n"
      ]
    },
    {
      "cell_type": "markdown",
      "source": [
        "## Network Model"
      ],
      "metadata": {
        "id": "HbYGWcoaaX-t"
      }
    },
    {
      "cell_type": "code",
      "metadata": {
        "id": "rZPckqWTRXUm"
      },
      "source": [
        "# Build the neural network, expand on top of nn.Module\n",
        "class Network(nn.Module):\n",
        "  def __init__(self):\n",
        "    super().__init__()\n",
        "\n",
        "    # define layers\n",
        "    self.conv1 = nn.Conv2d(in_channels=1, out_channels=6, kernel_size=5)\n",
        "    self.conv2 = nn.Conv2d(in_channels=6, out_channels=12, kernel_size=5)\n",
        "\n",
        "    self.fc1 = nn.Linear(in_features=12*4*4, out_features=120)\n",
        "    self.fc2 = nn.Linear(in_features=120, out_features=60)\n",
        "    self.out = nn.Linear(in_features=60, out_features=10)\n",
        "\n",
        "  # define forward function\n",
        "  def forward(self, x):\n",
        "    # conv 1\n",
        "    x = self.conv1(x)\n",
        "    x = F.relu(x)\n",
        "    x = F.max_pool2d(x, kernel_size=2, stride=2)\n",
        "    # conv 2\n",
        "    x = self.conv2(x)\n",
        "    x = F.relu(x)\n",
        "    x = F.max_pool2d(x, kernel_size=2, stride=2)\n",
        "    # fc1\n",
        "    x = x.reshape(-1, 12*4*4)\n",
        "    x = self.fc1(x)\n",
        "    x = F.relu(x)\n",
        "    # fc2\n",
        "    x = self.fc2(x)\n",
        "    x = F.relu(x)\n",
        "    # output\n",
        "    x = self.out(x)\n",
        "    # don't need softmax here since we'll use cross-entropy as activation.\n",
        "\n",
        "    return x"
      ],
      "execution_count": null,
      "outputs": []
    },
    {
      "cell_type": "code",
      "source": [
        "learning_rate = 0.001\n",
        "num_epochs = 20\n",
        "\n",
        "model = Network().to(device)\n",
        "print(model)"
      ],
      "metadata": {
        "colab": {
          "base_uri": "https://localhost:8080/"
        },
        "id": "GA03MjeWL6uJ",
        "outputId": "07b4f297-fa5b-4bec-c2a1-51ab1e4b7c1d"
      },
      "execution_count": null,
      "outputs": [
        {
          "output_type": "stream",
          "name": "stdout",
          "text": [
            "Network(\n",
            "  (conv1): Conv2d(1, 6, kernel_size=(5, 5), stride=(1, 1))\n",
            "  (conv2): Conv2d(6, 12, kernel_size=(5, 5), stride=(1, 1))\n",
            "  (fc1): Linear(in_features=192, out_features=120, bias=True)\n",
            "  (fc2): Linear(in_features=120, out_features=60, bias=True)\n",
            "  (out): Linear(in_features=60, out_features=10, bias=True)\n",
            ")\n"
          ]
        }
      ]
    },
    {
      "cell_type": "markdown",
      "source": [
        "## Training "
      ],
      "metadata": {
        "id": "PdbQ7oiqaeQ1"
      }
    },
    {
      "cell_type": "code",
      "source": [
        "# From https://pytorch.org/tutorials/beginner/transfer_learning_tutorial.html\n",
        "\n",
        "def train_model(model, dataloaders, dataset_sizes, criterion, optimizer, scheduler, num_epochs=25):\n",
        "    since = time.time()\n",
        "\n",
        "    best_model_wts = copy.deepcopy(model.state_dict()) # keep the best weights stored separately\n",
        "    best_acc = 0.0\n",
        "    best_epoch = 0\n",
        "\n",
        "    # Each epoch has a training, validation, and test phase\n",
        "    phases = ['train', 'val', 'test']\n",
        "    \n",
        "    # Keep track of how loss and accuracy evolves during training\n",
        "    training_curves = {}\n",
        "    for phase in phases:\n",
        "        training_curves[phase+'_loss'] = []\n",
        "        training_curves[phase+'_acc'] = []\n",
        "    \n",
        "    for epoch in range(num_epochs):\n",
        "        print(f'\\nEpoch {epoch+1}/{num_epochs}')\n",
        "        print('-' * 10)\n",
        "\n",
        "        for phase in phases:\n",
        "            if phase == 'train':\n",
        "                model.train()  # Set model to training mode\n",
        "            else:\n",
        "                model.eval()   # Set model to evaluate mode\n",
        "\n",
        "            running_loss = 0.0\n",
        "            running_corrects = 0\n",
        "\n",
        "            # Iterate over data.\n",
        "            for inputs, labels in dataloaders[phase]:\n",
        "                # No need to flatten the inputs!\n",
        "                inputs = inputs.to(device)\n",
        "                labels = labels.to(device)\n",
        "\n",
        "                # zero the parameter gradients\n",
        "                optimizer.zero_grad()\n",
        "\n",
        "                # forward\n",
        "                with torch.set_grad_enabled(phase == 'train'):\n",
        "                    outputs = model(inputs)\n",
        "                    _, predictions = torch.max(outputs, 1)\n",
        "                    loss = criterion(outputs, labels)\n",
        "\n",
        "                    # backward + update weights only if in training phase\n",
        "                    if phase == 'train':\n",
        "                        loss.backward()\n",
        "                        optimizer.step()\n",
        "\n",
        "                # statistics\n",
        "                running_loss += loss.item() * inputs.size(0)\n",
        "                running_corrects += torch.sum(predictions == labels.data)\n",
        " \n",
        "            if phase == 'train':\n",
        "                scheduler.step()\n",
        "\n",
        "            epoch_loss = running_loss / dataset_sizes[phase]\n",
        "            epoch_acc = running_corrects.double() / dataset_sizes[phase]\n",
        "            training_curves[phase+'_loss'].append(epoch_loss)\n",
        "            training_curves[phase+'_acc'].append(epoch_acc)\n",
        "\n",
        "            print(f'{phase:5} Loss: {epoch_loss:.4f} Acc: {epoch_acc:.4f}')\n",
        "\n",
        "            # deep copy the model if it's the best accuracy (bas\n",
        "            if phase == 'val' and epoch_acc > best_acc:\n",
        "              best_epoch = epoch\n",
        "              best_acc = epoch_acc\n",
        "              best_model_wts = copy.deepcopy(model.state_dict())\n",
        "\n",
        "    time_elapsed = time.time() - since\n",
        "    print(f'\\nTraining complete in {time_elapsed // 60:.0f}m {time_elapsed % 60:.0f}s')\n",
        "    print(f'Best val Acc: {best_acc:4f} at epoch {best_epoch}')\n",
        "\n",
        "    # load best model weights\n",
        "    model.load_state_dict(best_model_wts)\n",
        "    \n",
        "    return model, training_curves\n",
        "\n"
      ],
      "metadata": {
        "id": "R-IYOBzW4Kaf"
      },
      "execution_count": null,
      "outputs": []
    },
    {
      "cell_type": "code",
      "source": [
        "# loss and optimizer\n",
        "criterion = nn.CrossEntropyLoss() # CrossEntropyLoss for classification!\n",
        "optimizer = torch.optim.Adam(model.parameters(), lr=learning_rate)\n",
        "scheduler = torch.optim.lr_scheduler.ExponentialLR(optimizer, gamma=0.95)\n",
        "\n",
        "# Train the model. We also will store the results of training to visualize\n",
        "model, training_curves = train_model(model, dataloaders, dataset_sizes, \n",
        "                                     criterion, optimizer, scheduler, num_epochs=num_epochs)"
      ],
      "metadata": {
        "colab": {
          "base_uri": "https://localhost:8080/"
        },
        "id": "Q0hsyMphMSJ7",
        "outputId": "028d0fc8-c9eb-4e21-804d-c321b627f981"
      },
      "execution_count": null,
      "outputs": [
        {
          "output_type": "stream",
          "name": "stdout",
          "text": [
            "\n",
            "Epoch 1/20\n",
            "----------\n",
            "train Loss: 0.8692 Acc: 0.6747\n",
            "val   Loss: 0.6292 Acc: 0.7547\n",
            "test  Loss: 0.6363 Acc: 0.7560\n",
            "\n",
            "Epoch 2/20\n",
            "----------\n",
            "train Loss: 0.5664 Acc: 0.7834\n",
            "val   Loss: 0.5154 Acc: 0.8152\n",
            "test  Loss: 0.5287 Acc: 0.8050\n",
            "\n",
            "Epoch 3/20\n",
            "----------\n",
            "train Loss: 0.4828 Acc: 0.8242\n",
            "val   Loss: 0.4579 Acc: 0.8366\n",
            "test  Loss: 0.4735 Acc: 0.8285\n",
            "\n",
            "Epoch 4/20\n",
            "----------\n",
            "train Loss: 0.4336 Acc: 0.8445\n",
            "val   Loss: 0.4240 Acc: 0.8472\n",
            "test  Loss: 0.4390 Acc: 0.8430\n",
            "\n",
            "Epoch 5/20\n",
            "----------\n",
            "train Loss: 0.4015 Acc: 0.8553\n",
            "val   Loss: 0.3997 Acc: 0.8553\n",
            "test  Loss: 0.4147 Acc: 0.8497\n",
            "\n",
            "Epoch 6/20\n",
            "----------\n",
            "train Loss: 0.3776 Acc: 0.8634\n",
            "val   Loss: 0.3815 Acc: 0.8607\n",
            "test  Loss: 0.3965 Acc: 0.8556\n",
            "\n",
            "Epoch 7/20\n",
            "----------\n",
            "train Loss: 0.3599 Acc: 0.8690\n",
            "val   Loss: 0.3707 Acc: 0.8650\n",
            "test  Loss: 0.3860 Acc: 0.8604\n",
            "\n",
            "Epoch 8/20\n",
            "----------\n",
            "train Loss: 0.3451 Acc: 0.8736\n",
            "val   Loss: 0.3602 Acc: 0.8693\n",
            "test  Loss: 0.3756 Acc: 0.8636\n",
            "\n",
            "Epoch 9/20\n",
            "----------\n",
            "train Loss: 0.3325 Acc: 0.8774\n",
            "val   Loss: 0.3524 Acc: 0.8716\n",
            "test  Loss: 0.3677 Acc: 0.8661\n",
            "\n",
            "Epoch 10/20\n",
            "----------\n",
            "train Loss: 0.3222 Acc: 0.8811\n",
            "val   Loss: 0.3410 Acc: 0.8747\n",
            "test  Loss: 0.3570 Acc: 0.8722\n",
            "\n",
            "Epoch 11/20\n",
            "----------\n",
            "train Loss: 0.3133 Acc: 0.8838\n",
            "val   Loss: 0.3344 Acc: 0.8783\n",
            "test  Loss: 0.3507 Acc: 0.8732\n",
            "\n",
            "Epoch 12/20\n",
            "----------\n",
            "train Loss: 0.3058 Acc: 0.8860\n",
            "val   Loss: 0.3287 Acc: 0.8798\n",
            "test  Loss: 0.3456 Acc: 0.8753\n",
            "\n",
            "Epoch 13/20\n",
            "----------\n",
            "train Loss: 0.2991 Acc: 0.8891\n",
            "val   Loss: 0.3218 Acc: 0.8820\n",
            "test  Loss: 0.3397 Acc: 0.8773\n",
            "\n",
            "Epoch 14/20\n",
            "----------\n",
            "train Loss: 0.2931 Acc: 0.8910\n",
            "val   Loss: 0.3181 Acc: 0.8842\n",
            "test  Loss: 0.3365 Acc: 0.8775\n",
            "\n",
            "Epoch 15/20\n",
            "----------\n",
            "train Loss: 0.2875 Acc: 0.8933\n",
            "val   Loss: 0.3150 Acc: 0.8845\n",
            "test  Loss: 0.3343 Acc: 0.8773\n",
            "\n",
            "Epoch 16/20\n",
            "----------\n",
            "train Loss: 0.2824 Acc: 0.8954\n",
            "val   Loss: 0.3117 Acc: 0.8852\n",
            "test  Loss: 0.3315 Acc: 0.8777\n",
            "\n",
            "Epoch 17/20\n",
            "----------\n",
            "train Loss: 0.2778 Acc: 0.8973\n",
            "val   Loss: 0.3093 Acc: 0.8869\n",
            "test  Loss: 0.3300 Acc: 0.8787\n",
            "\n",
            "Epoch 18/20\n",
            "----------\n",
            "train Loss: 0.2735 Acc: 0.8989\n",
            "val   Loss: 0.3064 Acc: 0.8870\n",
            "test  Loss: 0.3270 Acc: 0.8797\n",
            "\n",
            "Epoch 19/20\n",
            "----------\n",
            "train Loss: 0.2695 Acc: 0.9006\n",
            "val   Loss: 0.3031 Acc: 0.8879\n",
            "test  Loss: 0.3239 Acc: 0.8792\n",
            "\n",
            "Epoch 20/20\n",
            "----------\n",
            "train Loss: 0.2658 Acc: 0.9025\n",
            "val   Loss: 0.3002 Acc: 0.8896\n",
            "test  Loss: 0.3207 Acc: 0.8807\n",
            "\n",
            "Training complete in 5m 14s\n",
            "Best val Acc: 0.889600 at epoch 19\n"
          ]
        }
      ]
    },
    {
      "cell_type": "code",
      "source": [],
      "metadata": {
        "id": "b8S4rz4sMnaI"
      },
      "execution_count": null,
      "outputs": []
    },
    {
      "cell_type": "markdown",
      "source": [
        "Train dataset images"
      ],
      "metadata": {
        "id": "pXtOLU2CMpjX"
      }
    },
    {
      "cell_type": "code",
      "execution_count": null,
      "metadata": {
        "colab": {
          "base_uri": "https://localhost:8080/",
          "height": 482
        },
        "outputId": "f5b906c2-063d-4a6a-c19d-185e9232db73",
        "id": "KGRTDCbAMn0Y"
      },
      "outputs": [
        {
          "output_type": "display_data",
          "data": {
            "text/plain": [
              "<Figure size 576x576 with 9 Axes>"
            ],
            "image/png": "[encoded data removed]"
          },
          "metadata": {
            "needs_background": "light"
          }
        }
      ],
      "source": [
        "labels_map = {\n",
        "    0: \"T-Shirt\",\n",
        "    1: \"Trouser\",\n",
        "    2: \"Pullover\",\n",
        "    3: \"Dress\",\n",
        "    4: \"Coat\",\n",
        "    5: \"Sandal\",\n",
        "    6: \"Shirt\",\n",
        "    7: \"Sneaker\",\n",
        "    8: \"Bag\",\n",
        "    9: \"Ankle Boot\",\n",
        "}\n",
        "figure = plt.figure(figsize=(8, 8))\n",
        "cols, rows = 3, 3\n",
        "for i in range(1, cols * rows + 1):\n",
        "    sample_idx = torch.randint(len(fashion_mnist_train), size=(1,)).item()\n",
        "    img, label = fashion_mnist_train[sample_idx]\n",
        "    figure.add_subplot(rows, cols, i)\n",
        "    plt.title(labels_map[label])\n",
        "    plt.axis(\"off\")\n",
        "    plt.imshow(img.squeeze(), cmap=\"gray\")\n",
        "plt.show()"
      ]
    },
    {
      "cell_type": "markdown",
      "source": [
        "test dataset predictions"
      ],
      "metadata": {
        "id": "2TVS8yYjMtBe"
      }
    },
    {
      "cell_type": "code",
      "source": [
        "def predict_image(img, model):\n",
        "    # Convert to a batch of 1\n",
        "    #xb = to_device(img.unsqueeze(0), device)\n",
        "    xb = img.unsqueeze(0)\n",
        "    # Get predictions from model\n",
        "    yb = model(xb)\n",
        "    # Pick index with highest probability\n",
        "    _, preds  = torch.max(yb, dim=1)\n",
        "    # Retrieve the class label\n",
        "    return fashion_mnist_test.classes[preds[0].item()]"
      ],
      "metadata": {
        "id": "-lwH3KNCXf72"
      },
      "execution_count": null,
      "outputs": []
    },
    {
      "cell_type": "code",
      "source": [
        "i = 10\n",
        "\n",
        "img, label = fashion_mnist_test[i]\n",
        "plt.imshow(img.squeeze(), cmap=\"gray\")\n",
        "print('Label:', fashion_mnist_test.classes[label], ', Predicted:', predict_image(img, model))"
      ],
      "metadata": {
        "colab": {
          "base_uri": "https://localhost:8080/",
          "height": 283
        },
        "id": "rizCzdcUXjeW",
        "outputId": "533ee8fb-75aa-4db7-bbaa-2a1052ce5c5b"
      },
      "execution_count": null,
      "outputs": [
        {
          "output_type": "stream",
          "name": "stdout",
          "text": [
            "Label: Coat , Predicted: Coat\n"
          ]
        },
        {
          "output_type": "display_data",
          "data": {
            "text/plain": [
              "<Figure size 432x288 with 1 Axes>"
            ],
            "image/png": "[encoded data removed]"
          },
          "metadata": {
            "needs_background": "light"
          }
        }
      ]
    },
    {
      "cell_type": "code",
      "source": [
        "torch.save(model.state_dict(), \"model.pth\")\n",
        "print(f\"\\nSaved PyTorch Model State to model.pth\")"
      ],
      "metadata": {
        "colab": {
          "base_uri": "https://localhost:8080/"
        },
        "id": "qgTNTOWUZWcU",
        "outputId": "0d0d0cea-a21a-4c0a-dcb1-5a20ee124f39"
      },
      "execution_count": null,
      "outputs": [
        {
          "output_type": "stream",
          "name": "stdout",
          "text": [
            "\n",
            "Saved PyTorch Model State to model.pth\n"
          ]
        }
      ]
    },
    {
      "cell_type": "markdown",
      "source": [
        "## Visualizing Training Curves and Results\n",
        "\n",
        "Here we have included functions for examining the training curves and confusion matrix. Notice how the confusion matrix contains less missclassified entries than before."
      ],
      "metadata": {
        "id": "pVr2w17g2kVM"
      }
    },
    {
      "cell_type": "code",
      "source": [
        "def plot_training_curves(training_curves, \n",
        "                         phases=['train', 'val', 'test'],\n",
        "                         metrics=['loss','acc']):\n",
        "    epochs = list(range(len(training_curves['train_loss'])))\n",
        "    for metric in metrics:\n",
        "        plt.figure()\n",
        "        plt.title(f'Training curves - {metric}')\n",
        "        for phase in phases:\n",
        "            key = phase+'_'+metric\n",
        "            if key in training_curves:\n",
        "                if metric == 'acc':\n",
        "                    plt.plot(epochs, [item.detach().cpu() for item in training_curves[key]])\n",
        "                else:\n",
        "                    plt.plot(epochs, training_curves[key])\n",
        "        plt.xlabel('epoch')\n",
        "        plt.legend(labels=phases)\n",
        "\n",
        "def classify_predictions(model, device, dataloader):\n",
        "    model.eval()   # Set model to evaluate mode\n",
        "    all_labels = torch.tensor([]).to(device)\n",
        "    all_scores = torch.tensor([]).to(device)\n",
        "    all_preds = torch.tensor([]).to(device)\n",
        "    for inputs, labels in dataloader:\n",
        "        inputs = inputs.to(device)\n",
        "        labels = labels.to(device)\n",
        "        outputs = torch.softmax(model(inputs),dim=1)\n",
        "        _, preds = torch.max(outputs, 1)\n",
        "        scores = outputs[:,1]\n",
        "        all_labels = torch.cat((all_labels, labels), 0)\n",
        "        all_scores = torch.cat((all_scores, scores), 0)\n",
        "        all_preds = torch.cat((all_preds, preds), 0)\n",
        "    return all_preds.detach().cpu(), all_labels.detach().cpu(), all_scores.detach().cpu()\n",
        "\n",
        "def plot_cm(model, device, dataloaders, phase='test'):\n",
        "    class_labels = [0, 1, 2, 3, 4, 5, 6, 7, 8, 9]\n",
        "    preds, labels, scores = classify_predictions(model, device, dataloaders[phase])\n",
        "    \n",
        "    cm = metrics.confusion_matrix(labels, preds)\n",
        "    disp = metrics.ConfusionMatrixDisplay(confusion_matrix=cm, display_labels=class_labels)\n",
        "    ax = disp.plot().ax_\n",
        "    ax.set_title('Confusion Matrix -- counts')\n"
      ],
      "metadata": {
        "id": "bFiFvHou4dOI"
      },
      "execution_count": null,
      "outputs": []
    },
    {
      "cell_type": "code",
      "source": [
        "plot_training_curves(training_curves, phases=['train', 'val', 'test'])"
      ],
      "metadata": {
        "id": "3MQF3p-74fQP",
        "colab": {
          "base_uri": "https://localhost:8080/",
          "height": 573
        },
        "outputId": "8a41fbc8-2eaa-4cfc-d876-2cdbe732a396"
      },
      "execution_count": null,
      "outputs": [
        {
          "output_type": "display_data",
          "data": {
            "text/plain": [
              "<Figure size 432x288 with 1 Axes>"
            ],
            "image/png": "[encoded data removed]"
          },
          "metadata": {
            "needs_background": "light"
          }
        },
        {
          "output_type": "display_data",
          "data": {
            "text/plain": [
              "<Figure size 432x288 with 1 Axes>"
            ],
            "image/png": "[encoded data removed]"
          },
          "metadata": {
            "needs_background": "light"
          }
        }
      ]
    },
    {
      "cell_type": "code",
      "source": [
        "res = plot_cm(model, device, dataloaders, phase='test')"
      ],
      "metadata": {
        "id": "OwqcGBhv4f0C",
        "colab": {
          "base_uri": "https://localhost:8080/",
          "height": 295
        },
        "outputId": "0376a6e7-a06d-4b4d-8586-8a5a2a1968fb"
      },
      "execution_count": null,
      "outputs": [
        {
          "output_type": "display_data",
          "data": {
            "text/plain": [
              "<Figure size 432x288 with 2 Axes>"
            ],
            "image/png": "[encoded data removed]"
          },
          "metadata": {
            "needs_background": "light"
          }
        }
      ]
    }
  ]
}