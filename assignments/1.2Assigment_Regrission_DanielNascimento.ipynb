{
  "cells": [
    {
      "cell_type": "code",
      "execution_count": 1,
      "metadata": {
        "id": "-UDZBcVkYYrF"
      },
      "outputs": [
        {
          "name": "stdout",
          "output_type": "stream",
          "text": [
            "Requirement already satisfied: scikit-learn in ./miniconda3/envs/pytorch/lib/python3.9/site-packages (1.0.2)\n",
            "Collecting scikit-learn\n",
            "  Downloading scikit_learn-1.2.1-cp39-cp39-manylinux_2_17_x86_64.manylinux2014_x86_64.whl (9.6 MB)\n",
            "\u001b[2K     \u001b[90m━━━━━━━━━━━━━━━━━━━━━━━━━━━━━━━━━━━━━━━━\u001b[0m \u001b[32m9.6/9.6 MB\u001b[0m \u001b[31m4.4 MB/s\u001b[0m eta \u001b[36m0:00:00\u001b[0m00:01\u001b[0m00:01\u001b[0m\n",
            "\u001b[?25hRequirement already satisfied: scipy>=1.3.2 in ./miniconda3/envs/pytorch/lib/python3.9/site-packages (from scikit-learn) (1.9.3)\n",
            "Requirement already satisfied: joblib>=1.1.1 in ./miniconda3/envs/pytorch/lib/python3.9/site-packages (from scikit-learn) (1.1.1)\n",
            "Requirement already satisfied: threadpoolctl>=2.0.0 in ./miniconda3/envs/pytorch/lib/python3.9/site-packages (from scikit-learn) (2.2.0)\n",
            "Requirement already satisfied: numpy>=1.17.3 in ./miniconda3/envs/pytorch/lib/python3.9/site-packages (from scikit-learn) (1.24.1)\n",
            "Installing collected packages: scikit-learn\n",
            "  Attempting uninstall: scikit-learn\n",
            "    Found existing installation: scikit-learn 1.0.2\n",
            "    Uninstalling scikit-learn-1.0.2:\n",
            "      Successfully uninstalled scikit-learn-1.0.2\n",
            "Successfully installed scikit-learn-1.2.1\n"
          ]
        }
      ],
      "source": [
        "!pip install --upgrade scikit-learn"
      ]
    },
    {
      "cell_type": "markdown",
      "metadata": {
        "id": "NS1J9QaMi7rT"
      },
      "source": [
        "# Module 1 Assignment - DanielNascimento - Part 1"
      ]
    },
    {
      "cell_type": "code",
      "execution_count": 1,
      "metadata": {
        "id": "aEhE0vbSTm_P"
      },
      "outputs": [],
      "source": [
        "#--------------------------------------------------------------------------------------------------------------\n",
        "#                              Module 1 Assignment - DanielNascimento.ipynb                                   #\n",
        "#--------------------------------------------------------------------------------------------------------------\n",
        "\n",
        "#Modules\n",
        "from sklearn.datasets import load_diabetes\n",
        "from sklearn.linear_model import LinearRegression\n",
        "from sklearn.metrics import mean_squared_error, r2_score\n",
        "from sklearn.metrics import PredictionErrorDisplay\n",
        "from sklearn.model_selection import cross_val_predict\n",
        "import matplotlib.pyplot as plt\n",
        "import numpy as np\n",
        "import pandas as pd"
      ]
    },
    {
      "cell_type": "code",
      "execution_count": 2,
      "metadata": {
        "id": "MM5x8eYnWuxD"
      },
      "outputs": [],
      "source": [
        "#Importing the excel spreadsheet (uploaded in the root folder of the environment)\n",
        "df = pd.read_excel('Module 1 Assignment Spreadsheet.xlsx') \n",
        "X = df['X'].values\n",
        "y = df['Y'].values\n",
        "X = df['X'].values.reshape(-1,1)\n",
        "y = df['Y'].values.reshape(-1,1)"
      ]
    },
    {
      "cell_type": "code",
      "execution_count": null,
      "metadata": {
        "id": "ZCQT3P0RYZkj"
      },
      "outputs": [],
      "source": [
        "# the fitting function     optimization with cost function J(Θ)\n",
        "\n",
        "lr = LinearRegression()\n",
        "\n",
        "# cross_val_predict *** k-fold cross-validation \n",
        "y_pred = cross_val_predict(lr, X, y)  \n",
        "\n",
        "lr.fit(X,y, sample_weight=None) ### fit original"
      ]
    },
    {
      "cell_type": "code",
      "execution_count": 37,
      "metadata": {
        "colab": {
          "base_uri": "https://localhost:8080/"
        },
        "id": "MJWh9N56ketK",
        "outputId": "af55bd61-ee07-4442-d691-3519eb5ad225"
      },
      "outputs": [
        {
          "name": "stdout",
          "output_type": "stream",
          "text": [
            "[[ 3.21      ]\n",
            " [-0.73      ]\n",
            " [ 5.86363636]\n",
            " [ 7.58522727]\n",
            " [ 2.77129472]\n",
            " [-1.51149915]\n",
            " [ 1.86290323]\n",
            " [ 7.42741935]\n",
            " [ 1.08271787]]\n"
          ]
        }
      ],
      "source": [
        "print(y_pred) #y_pred = cross_val_predict(lr, X, y, cv=None) "
      ]
    },
    {
      "cell_type": "code",
      "execution_count": null,
      "metadata": {
        "id": "t8_SwvMbfnOH"
      },
      "outputs": [],
      "source": [
        "lr.fit(X,y, sample_weight=None) ### fit original"
      ]
    },
    {
      "cell_type": "code",
      "execution_count": 5,
      "metadata": {
        "id": "FJ_TfG2Cf434"
      },
      "outputs": [],
      "source": [
        "y_plan_pred=lr.predict(X)  "
      ]
    },
    {
      "cell_type": "code",
      "execution_count": null,
      "metadata": {
        "id": "AFp9FK3xhRaH"
      },
      "outputs": [],
      "source": [
        "print(y_plan_pred)"
      ]
    },
    {
      "cell_type": "code",
      "execution_count": null,
      "metadata": {
        "id": "A_5D8iklgg73"
      },
      "outputs": [],
      "source": [
        "# Mean square Error #y_pred = cross_val_predict(lr, X, y, cv=6)\n",
        "from sklearn.metrics import mean_squared_error\n",
        "\n",
        "mean_squared_error(y, y_pred)"
      ]
    },
    {
      "cell_type": "code",
      "execution_count": null,
      "metadata": {
        "id": "uPU_kjFKU-NR"
      },
      "outputs": [],
      "source": [
        "print(y_pred) #after y_pred = cross_val_predict(lr, X, y)  "
      ]
    },
    {
      "cell_type": "code",
      "execution_count": null,
      "metadata": {
        "id": "O8Rep2LtA6Pa"
      },
      "outputs": [],
      "source": [
        "# Mean square Error #after y_pred = cross_val_predict(lr, X, y) \n",
        "from sklearn.metrics import mean_squared_error\n",
        "\n",
        "mean_squared_error(y, y_pred)"
      ]
    },
    {
      "cell_type": "code",
      "execution_count": null,
      "metadata": {
        "id": "RXVNcs-BBKsb"
      },
      "outputs": [],
      "source": [
        "# R2 Score #y_pred = cross_val_predict(lr, X, y, cv=6)\n",
        "r2_score(y, y_pred, multioutput='variance_weighted')"
      ]
    },
    {
      "cell_type": "code",
      "execution_count": null,
      "metadata": {
        "id": "i4YkcwVLXyzZ"
      },
      "outputs": [],
      "source": [
        "#Printing the coeficients\n",
        "from sklearn.metrics import mean_squared_error\n",
        "#mean_squared_error(y, y_pred_ori)\n",
        "print(\"Coeficientes e scores do modelo da planilha (mínimos quadrados) sem otimização\")\n",
        "print()\n",
        "#print('MSE - mean square error: ', mean_squared_error(y, y_pred_ori))\n",
        "print('R2 score: ', lr.score(X,y))\n",
        "print()\n",
        "print (\"Interceptação de y: \", lr.intercept_[0])\n",
        "print (\"Slope da reta: \", lr.coef_[0])\n",
        "print ()\n",
        "print('Equação da Reta: y = {:.3} + {:.3}X'\n",
        "      .format(lr.intercept_[0],lr.coef_[0] [0]))\n"
      ]
    },
    {
      "cell_type": "code",
      "execution_count": 44,
      "metadata": {
        "colab": {
          "base_uri": "https://localhost:8080/",
          "height": 312
        },
        "id": "VPPaypBVNUsV",
        "outputId": "562b150a-e6df-4e49-9c59-52097c232b5a"
      },
      "outputs": [
        {
          "name": "stderr",
          "output_type": "stream",
          "text": [
            "WARNING:matplotlib.legend:No handles with labels found to put in legend.\n"
          ]
        },
        {
          "data": {
            "image/png": "[encoded data removed]",
            "text/plain": [
              "<Figure size 432x288 with 1 Axes>"
            ]
          },
          "metadata": {
            "needs_background": "light"
          },
          "output_type": "display_data"
        }
      ],
      "source": [
        "#linear curve\n",
        "y_pred1=lr.predict(X)\n",
        "\n",
        "y_pred = cross_val_predict(lr, X, y)  \n",
        "\n",
        "#lr.fit(X,y_pred, sample_weight=None)\n",
        "\n",
        "#y_pred = cross_val_predict(lr, X, y, cv=4)  \n",
        "\n",
        "\n",
        "\n",
        "\n",
        "#ploting the fitting curve\n",
        "plt.plot(X, y_pred, color ='cyan',linewidth=2)\n",
        "#plt.plot(X, y_pred2, color ='red',linewidth=2)\n",
        "plt.scatter(X, y, color='b');\n",
        "plt.xlabel('X (independent variables)');\n",
        "plt.ylabel('Y (dependent  variable)');\n",
        "plt.legend();\n",
        "\n",
        "plt.title(\"Fitting curve of Linear Regression Model\")\n",
        "plt.grid(axis='y')\n",
        "plt.grid(axis='x')\n",
        "plt.show();"
      ]
    },
    {
      "cell_type": "code",
      "execution_count": null,
      "metadata": {
        "colab": {
          "base_uri": "https://localhost:8080/"
        },
        "id": "tbqp6lCDOqsj",
        "outputId": "1b9f5551-2786-4364-a8a9-27c1cef13fe7"
      },
      "outputs": [
        {
          "name": "stdout",
          "output_type": "stream",
          "text": [
            "[[ 3.64457071]\n",
            " [ 0.1104798 ]\n",
            " [ 6.00063131]\n",
            " [ 7.76767677]\n",
            " [ 2.4665404 ]\n",
            " [-2.24558081]\n",
            " [ 1.2885101 ]\n",
            " [ 7.17866162]\n",
            " [ 1.2885101 ]]\n"
          ]
        }
      ],
      "source": [
        "print(y_pred1)"
      ]
    },
    {
      "cell_type": "code",
      "execution_count": null,
      "metadata": {
        "colab": {
          "base_uri": "https://localhost:8080/"
        },
        "id": "vp0bd9gJO2rH",
        "outputId": "d37faf17-168e-4f1e-fb63-41b3ca9c52be"
      },
      "outputs": [
        {
          "name": "stdout",
          "output_type": "stream",
          "text": [
            "LinearRegression()\n"
          ]
        }
      ],
      "source": [
        "print(y_pred2)"
      ]
    },
    {
      "cell_type": "markdown",
      "metadata": {
        "id": "hKb8xZFKyNWe"
      },
      "source": [
        "# PredictionErrorDisplay.\n",
        "\n",
        ">\n",
        "\n"
      ]
    },
    {
      "cell_type": "code",
      "execution_count": 45,
      "metadata": {
        "colab": {
          "base_uri": "https://localhost:8080/",
          "height": 302
        },
        "id": "vQY-uDNj4-gW",
        "outputId": "2c74c5ae-9999-4734-ad7f-f5381d03ed6d"
      },
      "outputs": [
        {
          "data": {
            "image/png": "[encoded data removed]",
            "text/plain": [
              "<Figure size 720x288 with 2 Axes>"
            ]
          },
          "metadata": {
            "needs_background": "light"
          },
          "output_type": "display_data"
        }
      ],
      "source": [
        "# Ploting cross-validated predictions (when predictions are made by: y_pred=lr.predict(X))\n",
        "fig, axs = plt.subplots(ncols=2, figsize=(10, 4)) # figsize(Largura, vs Altura)\n",
        "PredictionErrorDisplay.from_predictions(\n",
        "    y,\n",
        "    y_pred=y_plan_pred,\n",
        "    kind=\"actual_vs_predicted\",\n",
        "    subsample=20,\n",
        "    ax=axs[0],\n",
        "    random_state=0,\n",
        ")\n",
        "axs[0].set_title(\"Actual vs. Predicted values\") #\"Actual vs. Predicted values\"\n",
        "PredictionErrorDisplay.from_predictions(\n",
        "    y,\n",
        "    y_pred=y_plan_pred,\n",
        "    kind=\"residual_vs_predicted\",\n",
        "    subsample=20,\n",
        "    ax=axs[1],\n",
        "    random_state=0,\n",
        ")\n",
        "axs[1].set_title(\"Residuals vs. Predicted Values\")\n",
        "fig.suptitle(\"y_plan_pred\") #Plotting cross-validated predictions\n",
        "plt.tight_layout()\n",
        "plt.show()"
      ]
    },
    {
      "cell_type": "code",
      "execution_count": 35,
      "metadata": {
        "colab": {
          "base_uri": "https://localhost:8080/",
          "height": 302
        },
        "id": "ACnP0KcJQ1F9",
        "outputId": "180aaf1c-e949-4902-aa6c-4da79612f0d6"
      },
      "outputs": [
        {
          "data": {
            "image/png": "[encoded data removed]",
            "text/plain": [
              "<Figure size 720x288 with 2 Axes>"
            ]
          },
          "metadata": {
            "needs_background": "light"
          },
          "output_type": "display_data"
        }
      ],
      "source": [
        "# Ploting cross-validated predictions (when predictions are made by: y_pred=lr.predict(X))\n",
        "fig, axs = plt.subplots(ncols=2, figsize=(10, 4)) # figsize(Largura, vs Altura)\n",
        "PredictionErrorDisplay.from_predictions(\n",
        "    y,\n",
        "    y_pred=y_pred,\n",
        "    kind=\"actual_vs_predicted\",\n",
        "    subsample=20,\n",
        "    ax=axs[0],\n",
        "    random_state=0,\n",
        ")\n",
        "axs[0].set_title(\"Actual vs. Predicted values\") #\"Actual vs. Predicted values\"\n",
        "PredictionErrorDisplay.from_predictions(\n",
        "    y,\n",
        "    y_pred=y_pred,\n",
        "    kind=\"residual_vs_predicted\",\n",
        "    subsample=20,\n",
        "    ax=axs[1],\n",
        "    random_state=0,\n",
        ")\n",
        "axs[1].set_title(\"Residuals vs. Predicted Values\")\n",
        "fig.suptitle(\"y_plan\") #Plotting cross-validated predictions\n",
        "plt.tight_layout()\n",
        "plt.show()"
      ]
    },
    {
      "cell_type": "markdown",
      "metadata": {
        "id": "7mZHrsN7jyuN"
      },
      "source": [
        "#  Scores\n"
      ]
    },
    {
      "cell_type": "code",
      "execution_count": null,
      "metadata": {
        "colab": {
          "base_uri": "https://localhost:8080/"
        },
        "id": "pJewg2cp9aB4",
        "outputId": "b0d1d24f-1dc6-4ee2-92d9-262cf02469e2"
      },
      "outputs": [
        {
          "data": {
            "text/plain": [
              "2.403374017957351"
            ]
          },
          "execution_count": 15,
          "metadata": {},
          "output_type": "execute_result"
        }
      ],
      "source": [
        "# Mean square Error for the original Model (with no split in Y)\n",
        "from sklearn.metrics import mean_squared_error\n",
        "\n",
        "mean_squared_error(y, y_pred_ori)"
      ]
    },
    {
      "cell_type": "code",
      "execution_count": null,
      "metadata": {
        "colab": {
          "base_uri": "https://localhost:8080/"
        },
        "id": "znUaVzBy-pQA",
        "outputId": "534387a3-58c7-4e54-98c8-d1ab967ff63d"
      },
      "outputs": [
        {
          "data": {
            "text/plain": [
              "0.8089565304665894"
            ]
          },
          "execution_count": 16,
          "metadata": {},
          "output_type": "execute_result"
        }
      ],
      "source": [
        "# R2 Score for the original Model (with no split in Y)  \n",
        "r2_score(y, y_pred_ori, multioutput='variance_weighted')"
      ]
    }
  ],
  "metadata": {
    "colab": {
      "provenance": []
    },
    "kernelspec": {
      "display_name": "pytorch",
      "language": "python",
      "name": "python3"
    },
    "language_info": {
      "codemirror_mode": {
        "name": "ipython",
        "version": 3
      },
      "file_extension": ".py",
      "mimetype": "text/x-python",
      "name": "python",
      "nbconvert_exporter": "python",
      "pygments_lexer": "ipython3",
      "version": "3.9.16"
    },
    "vscode": {
      "interpreter": {
        "hash": "eb0cf7c8051a3a22b9fd1ee765ecb0e8c63cd51b1060636cd9fae953080252be"
      }
    }
  },
  "nbformat": 4,
  "nbformat_minor": 0
}
